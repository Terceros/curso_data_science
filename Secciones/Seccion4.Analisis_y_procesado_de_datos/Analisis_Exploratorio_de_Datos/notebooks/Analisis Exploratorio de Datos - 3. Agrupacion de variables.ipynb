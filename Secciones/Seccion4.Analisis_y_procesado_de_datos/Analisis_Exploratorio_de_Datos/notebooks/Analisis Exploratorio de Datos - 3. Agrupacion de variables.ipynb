{
 "cells": [
  {
   "cell_type": "code",
   "execution_count": 1,
   "metadata": {},
   "outputs": [
    {
     "name": "stdout",
     "output_type": "stream",
     "text": [
      "2018-12-10T00:46:50-06:00\n",
      "\n",
      "CPython 3.7.0\n",
      "IPython 6.5.0\n",
      "\n",
      "compiler   : GCC 7.2.0\n",
      "system     : Linux\n",
      "release    : 4.15.0-42-generic\n",
      "machine    : x86_64\n",
      "processor  : x86_64\n",
      "CPU cores  : 4\n",
      "interpreter: 64bit\n"
     ]
    }
   ],
   "source": [
    "%load_ext watermark\n",
    "%watermark"
   ]
  },
  {
   "cell_type": "code",
   "execution_count": 4,
   "metadata": {},
   "outputs": [],
   "source": [
    "import pandas as pd"
   ]
  },
  {
   "cell_type": "code",
   "execution_count": 5,
   "metadata": {},
   "outputs": [],
   "source": [
    "%matplotlib inline\n",
    "import matplotlib.pyplot as plt\n",
    "\n",
    "plt.rcParams['figure.figsize'] = (12,12) # 10 pulgadas de ancho y 10 de alto para todos los plots"
   ]
  },
  {
   "cell_type": "markdown",
   "metadata": {},
   "source": [
    "### Lectura de datos"
   ]
  },
  {
   "cell_type": "code",
   "execution_count": 6,
   "metadata": {},
   "outputs": [],
   "source": [
    "vehiculos = pd.read_csv(\"../../Procesado_de_Datos/data/vehiculos.2.limpio_analisis.csv\")"
   ]
  },
  {
   "cell_type": "code",
   "execution_count": 7,
   "metadata": {},
   "outputs": [
    {
     "data": {
      "text/html": [
       "<div>\n",
       "<style scoped>\n",
       "    .dataframe tbody tr th:only-of-type {\n",
       "        vertical-align: middle;\n",
       "    }\n",
       "\n",
       "    .dataframe tbody tr th {\n",
       "        vertical-align: top;\n",
       "    }\n",
       "\n",
       "    .dataframe thead th {\n",
       "        text-align: right;\n",
       "    }\n",
       "</style>\n",
       "<table border=\"1\" class=\"dataframe\">\n",
       "  <thead>\n",
       "    <tr style=\"text-align: right;\">\n",
       "      <th></th>\n",
       "      <th>fabricante</th>\n",
       "      <th>modelo</th>\n",
       "      <th>year</th>\n",
       "      <th>desplazamiento</th>\n",
       "      <th>cilindros</th>\n",
       "      <th>transmision</th>\n",
       "      <th>traccion</th>\n",
       "      <th>clase</th>\n",
       "      <th>combustible</th>\n",
       "      <th>consumo</th>\n",
       "      <th>co2</th>\n",
       "    </tr>\n",
       "  </thead>\n",
       "  <tbody>\n",
       "    <tr>\n",
       "      <th>0</th>\n",
       "      <td>AM General</td>\n",
       "      <td>DJ Po Vehicle 2WD</td>\n",
       "      <td>1984</td>\n",
       "      <td>2.5</td>\n",
       "      <td>4.0</td>\n",
       "      <td>Automatic 3-spd</td>\n",
       "      <td>2-Wheel Drive</td>\n",
       "      <td>Special Purpose Vehicle 2WD</td>\n",
       "      <td>Regular</td>\n",
       "      <td>17</td>\n",
       "      <td>522.764706</td>\n",
       "    </tr>\n",
       "    <tr>\n",
       "      <th>1</th>\n",
       "      <td>AM General</td>\n",
       "      <td>FJ8c Post Office</td>\n",
       "      <td>1984</td>\n",
       "      <td>4.2</td>\n",
       "      <td>6.0</td>\n",
       "      <td>Automatic 3-spd</td>\n",
       "      <td>2-Wheel Drive</td>\n",
       "      <td>Special Purpose Vehicle 2WD</td>\n",
       "      <td>Regular</td>\n",
       "      <td>13</td>\n",
       "      <td>683.615385</td>\n",
       "    </tr>\n",
       "    <tr>\n",
       "      <th>2</th>\n",
       "      <td>AM General</td>\n",
       "      <td>Post Office DJ5 2WD</td>\n",
       "      <td>1985</td>\n",
       "      <td>2.5</td>\n",
       "      <td>4.0</td>\n",
       "      <td>Automatic 3-spd</td>\n",
       "      <td>Rear-Wheel Drive</td>\n",
       "      <td>Special Purpose Vehicle 2WD</td>\n",
       "      <td>Regular</td>\n",
       "      <td>16</td>\n",
       "      <td>555.437500</td>\n",
       "    </tr>\n",
       "    <tr>\n",
       "      <th>3</th>\n",
       "      <td>AM General</td>\n",
       "      <td>Post Office DJ8 2WD</td>\n",
       "      <td>1985</td>\n",
       "      <td>4.2</td>\n",
       "      <td>6.0</td>\n",
       "      <td>Automatic 3-spd</td>\n",
       "      <td>Rear-Wheel Drive</td>\n",
       "      <td>Special Purpose Vehicle 2WD</td>\n",
       "      <td>Regular</td>\n",
       "      <td>13</td>\n",
       "      <td>683.615385</td>\n",
       "    </tr>\n",
       "    <tr>\n",
       "      <th>4</th>\n",
       "      <td>ASC Incorporated</td>\n",
       "      <td>GNX</td>\n",
       "      <td>1987</td>\n",
       "      <td>3.8</td>\n",
       "      <td>6.0</td>\n",
       "      <td>Automatic 4-spd</td>\n",
       "      <td>Rear-Wheel Drive</td>\n",
       "      <td>Midsize Cars</td>\n",
       "      <td>Premium</td>\n",
       "      <td>16</td>\n",
       "      <td>555.437500</td>\n",
       "    </tr>\n",
       "  </tbody>\n",
       "</table>\n",
       "</div>"
      ],
      "text/plain": [
       "         fabricante               modelo  year  desplazamiento  cilindros  \\\n",
       "0        AM General    DJ Po Vehicle 2WD  1984             2.5        4.0   \n",
       "1        AM General     FJ8c Post Office  1984             4.2        6.0   \n",
       "2        AM General  Post Office DJ5 2WD  1985             2.5        4.0   \n",
       "3        AM General  Post Office DJ8 2WD  1985             4.2        6.0   \n",
       "4  ASC Incorporated                  GNX  1987             3.8        6.0   \n",
       "\n",
       "       transmision          traccion                        clase combustible  \\\n",
       "0  Automatic 3-spd     2-Wheel Drive  Special Purpose Vehicle 2WD     Regular   \n",
       "1  Automatic 3-spd     2-Wheel Drive  Special Purpose Vehicle 2WD     Regular   \n",
       "2  Automatic 3-spd  Rear-Wheel Drive  Special Purpose Vehicle 2WD     Regular   \n",
       "3  Automatic 3-spd  Rear-Wheel Drive  Special Purpose Vehicle 2WD     Regular   \n",
       "4  Automatic 4-spd  Rear-Wheel Drive                 Midsize Cars     Premium   \n",
       "\n",
       "   consumo         co2  \n",
       "0       17  522.764706  \n",
       "1       13  683.615385  \n",
       "2       16  555.437500  \n",
       "3       13  683.615385  \n",
       "4       16  555.437500  "
      ]
     },
     "execution_count": 7,
     "metadata": {},
     "output_type": "execute_result"
    }
   ],
   "source": [
    "vehiculos.head()"
   ]
  },
  {
   "cell_type": "markdown",
   "metadata": {},
   "source": [
    "En este paso vamos a agregar aquellas variables que se puedan agregar en tipos más genéricos. Esto ayuda a analizar los por grupos en vez de por elementos individuales.\n",
    "\n",
    "Para ello podemos ver el numero de valores distintos que cada variable categorica tiene"
   ]
  },
  {
   "cell_type": "code",
   "execution_count": 9,
   "metadata": {},
   "outputs": [
    {
     "name": "stdout",
     "output_type": "stream",
     "text": [
      "fabricante | 129 | object\n",
      "modelo | 3734 | object\n",
      "year | 35 | int64\n",
      "desplazamiento | 66 | float64\n",
      "cilindros | 10 | float64\n",
      "transmision | 38 | object\n",
      "traccion | 8 | object\n",
      "clase | 34 | object\n",
      "combustible | 13 | object\n",
      "consumo | 49 | int64\n",
      "co2 | 596 | float64\n"
     ]
    }
   ],
   "source": [
    "def unique_col_values(df):\n",
    "    for column in df:\n",
    "        print(\"{} | {} | {}\".format(\n",
    "            df[column].name, len(df[column].unique()), df[column].dtype\n",
    "        ))\n",
    "\n",
    "unique_col_values(vehiculos)"
   ]
  },
  {
   "cell_type": "markdown",
   "metadata": {},
   "source": [
    "### Agrupacion de variables categoricas"
   ]
  },
  {
   "cell_type": "markdown",
   "metadata": {},
   "source": [
    "##### Clase de vehiculo"
   ]
  },
  {
   "cell_type": "code",
   "execution_count": 10,
   "metadata": {},
   "outputs": [
    {
     "data": {
      "text/plain": [
       "array(['Special Purpose Vehicle 2WD', 'Midsize Cars', 'Subcompact Cars',\n",
       "       'Compact Cars', 'Sport Utility Vehicle - 4WD',\n",
       "       'Small Sport Utility Vehicle 2WD',\n",
       "       'Small Sport Utility Vehicle 4WD', 'Two Seaters',\n",
       "       'Sport Utility Vehicle - 2WD', 'Special Purpose Vehicles',\n",
       "       'Special Purpose Vehicle 4WD', 'Small Station Wagons',\n",
       "       'Minicompact Cars', 'Midsize-Large Station Wagons',\n",
       "       'Midsize Station Wagons', 'Large Cars',\n",
       "       'Standard Sport Utility Vehicle 4WD',\n",
       "       'Standard Sport Utility Vehicle 2WD', 'Minivan - 4WD',\n",
       "       'Minivan - 2WD', 'Vans', 'Vans, Cargo Type',\n",
       "       'Vans, Passenger Type', 'Standard Pickup Trucks 2WD',\n",
       "       'Standard Pickup Trucks', 'Standard Pickup Trucks/2wd',\n",
       "       'Small Pickup Trucks 2WD', 'Standard Pickup Trucks 4WD',\n",
       "       'Small Pickup Trucks 4WD', 'Small Pickup Trucks', 'Vans Passenger',\n",
       "       'Special Purpose Vehicle', 'Special Purpose Vehicles/2wd',\n",
       "       'Special Purpose Vehicles/4wd'], dtype=object)"
      ]
     },
     "execution_count": 10,
     "metadata": {},
     "output_type": "execute_result"
    }
   ],
   "source": [
    "vehiculos.clase.unique()"
   ]
  },
  {
   "cell_type": "code",
   "execution_count": 12,
   "metadata": {},
   "outputs": [],
   "source": [
    "pequeno = ['Compact Cars','Subcompact Cars','Two Seaters','Minicompact Cars']\n",
    "medio = ['Midsize Cars']\n",
    "grande = ['Large Cars']\n",
    "\n",
    "vehiculos.loc[vehiculos['clase'].isin(pequeno), \n",
    "             'clase_tipo'] = 'Coches pequeños'\n",
    "\n",
    "vehiculos.loc[vehiculos['clase'].isin(medio), \n",
    "             'clase_tipo'] = 'Coches Medianos'\n",
    "\n",
    "vehiculos.loc[vehiculos['clase'].isin(grande), \n",
    "             'clase_tipo'] = 'Coches Grandes'\n",
    "\n",
    "vehiculos.loc[vehiculos['clase'].str.contains('Truck'), \n",
    "             'clase_tipo'] = 'Camionetas'\n",
    "\n",
    "vehiculos.loc[vehiculos['clase'].str.contains('Special Purpose'), \n",
    "             'clase_tipo'] = 'Vehículos Especiales'\n",
    "\n",
    "vehiculos.loc[vehiculos['clase'].str.contains('Sport Utility'), \n",
    "             'clase_tipo'] = 'Deportivos'\n",
    "\n",
    "vehiculos.loc[vehiculos['clase'].str.contains('Station'), \n",
    "             'clase_tipo'] = 'Coche Familiar'\n",
    "\n",
    "vehiculos.loc[(vehiculos['clase'].str.lower().str.contains('van')),\n",
    "             'clase_tipo'] = 'Furgoneta'"
   ]
  },
  {
   "cell_type": "code",
   "execution_count": 13,
   "metadata": {},
   "outputs": [],
   "source": [
    "vehiculos.clase_tipo = vehiculos.clase_tipo.astype(\"category\")"
   ]
  },
  {
   "cell_type": "code",
   "execution_count": 14,
   "metadata": {},
   "outputs": [
    {
     "data": {
      "text/plain": [
       "CategoricalDtype(categories=['Camionetas', 'Coche Familiar', 'Coches Grandes',\n",
       "                  'Coches Medianos', 'Coches pequeños', 'Deportivos',\n",
       "                  'Furgoneta', 'Vehículos Especiales'],\n",
       "                 ordered=False)"
      ]
     },
     "execution_count": 14,
     "metadata": {},
     "output_type": "execute_result"
    }
   ],
   "source": [
    "vehiculos.clase_tipo.dtype"
   ]
  },
  {
   "cell_type": "code",
   "execution_count": 11,
   "metadata": {},
   "outputs": [
    {
     "data": {
      "text/plain": [
       "Coches pequeños         13007\n",
       "Camionetas               5439\n",
       "Deportivos               5289\n",
       "Coches Medianos          4261\n",
       "Coche Familiar           2533\n",
       "Vehículos Especiales     2214\n",
       "Furgoneta                2211\n",
       "Coches Grandes           1837\n",
       "Name: clase_tipo, dtype: int64"
      ]
     },
     "execution_count": 11,
     "metadata": {},
     "output_type": "execute_result"
    }
   ],
   "source": [
    "vehiculos.clase_tipo.value_counts()"
   ]
  },
  {
   "cell_type": "markdown",
   "metadata": {},
   "source": [
    "##### Traccion"
   ]
  },
  {
   "cell_type": "code",
   "execution_count": 15,
   "metadata": {},
   "outputs": [
    {
     "data": {
      "text/plain": [
       "array(['2-Wheel Drive', 'Rear-Wheel Drive', 'Front-Wheel Drive',\n",
       "       '4-Wheel or All-Wheel Drive', 'All-Wheel Drive', nan,\n",
       "       '4-Wheel Drive', 'Part-time 4-Wheel Drive'], dtype=object)"
      ]
     },
     "execution_count": 15,
     "metadata": {},
     "output_type": "execute_result"
    }
   ],
   "source": [
    "vehiculos.traccion.unique()"
   ]
  },
  {
   "cell_type": "markdown",
   "metadata": {},
   "source": [
    "Vemos que las tracciones pueden definirse como 2 o 4 ruedas. las pongo como texto ya que en realidad no son variables numericas, sino categorias"
   ]
  },
  {
   "cell_type": "code",
   "execution_count": 17,
   "metadata": {
    "scrolled": true
   },
   "outputs": [
    {
     "name": "stderr",
     "output_type": "stream",
     "text": [
      "/home/erdvillegas/anaconda3/envs/Datascientist/lib/python3.7/site-packages/ipykernel_launcher.py:5: SettingWithCopyWarning: \n",
      "A value is trying to be set on a copy of a slice from a DataFrame\n",
      "\n",
      "See the caveats in the documentation: http://pandas.pydata.org/pandas-docs/stable/indexing.html#indexing-view-versus-copy\n",
      "  \"\"\"\n"
     ]
    }
   ],
   "source": [
    "vehiculos[\"traccion_tipo\"] = \"dos\"\n",
    "vehiculos[\"traccion_tipo\"][vehiculos.traccion.isin([\n",
    "    \"4-Wheel or All-Wheel Drive\", \"All-Wheel Drive\",\n",
    "    \"4-Wheel Drive\", \"Part-time 4-Wheel Drive\"\n",
    "])] = \"cuatro\""
   ]
  },
  {
   "cell_type": "markdown",
   "metadata": {},
   "source": [
    "Este warning es un warning de que estamos alterando una copia de vehicles (vehicles_year), no vehicles.\n",
    "\n",
    "para deshabilitar hacemos:"
   ]
  },
  {
   "cell_type": "code",
   "execution_count": 18,
   "metadata": {},
   "outputs": [],
   "source": [
    "pd.set_option('chained_assignment',None)"
   ]
  },
  {
   "cell_type": "markdown",
   "metadata": {},
   "source": [
    "o simplemente usar `loc` para asignar valores en pandas"
   ]
  },
  {
   "cell_type": "code",
   "execution_count": 19,
   "metadata": {},
   "outputs": [],
   "source": [
    "vehiculos[\"traccion_tipo\"] = \"dos\"\n",
    "\n",
    "vehiculos.loc[vehiculos.traccion.isin([\n",
    "    \"4-Wheel or All-Wheel Drive\", \"All-Wheel Drive\",\n",
    "    \"4-Wheel Drive\", \"Part-time 4-Wheel Drive\"\n",
    "]), \"traccion_tipo\"] = \"cuatro\""
   ]
  },
  {
   "cell_type": "markdown",
   "metadata": {},
   "source": [
    "Pandas tiene un dtype especial para variables categoricas llamado `category`. El especificar a pandas que un campo es una categoria en vez de un object (un string generalmente) amplia las funcionalidades que podemos usar.Además, las categorias en general ocupan menos espacio en memoria (si su cardinalidad no es muy elevada)."
   ]
  },
  {
   "cell_type": "code",
   "execution_count": 20,
   "metadata": {},
   "outputs": [],
   "source": [
    "vehiculos.traccion_tipo = vehiculos.traccion_tipo.astype(\"category\")"
   ]
  },
  {
   "cell_type": "markdown",
   "metadata": {},
   "source": [
    "##### Transmision"
   ]
  },
  {
   "cell_type": "code",
   "execution_count": 21,
   "metadata": {},
   "outputs": [
    {
     "data": {
      "text/plain": [
       "array(['Automatic 3-spd', 'Automatic 4-spd', 'Manual 5-spd',\n",
       "       'Automatic (S5)', 'Manual 6-spd', 'Automatic 5-spd',\n",
       "       'Automatic (AM8)', 'Automatic (AM-S8)', 'Automatic (AV-S7)',\n",
       "       'Automatic (S6)', 'Automatic (S9)', 'Automatic (AM-S7)',\n",
       "       'Automatic (S4)', 'Automatic (AM-S9)', 'Automatic (S7)',\n",
       "       'Automatic (AM7)', 'Automatic (AM6)', 'Automatic 6-spd',\n",
       "       'Automatic 8-spd', 'Manual 4-spd', 'Automatic (S8)',\n",
       "       'Manual 7-spd', 'Automatic (AM-S6)', 'Auto(AM-S6)',\n",
       "       'Automatic (variable gear ratios)', 'Automatic (AV-S8)',\n",
       "       'Automatic (A1)', 'Automatic (AV-S6)', 'Manual 3-spd',\n",
       "       'Automatic (S10)', 'Automatic 9-spd', 'Manual 4-spd Doubled', nan,\n",
       "       'Automatic (L4)', 'Automatic (L3)', 'Automatic (AV-S10)',\n",
       "       'Automatic 7-spd', 'Automatic (AM5)'], dtype=object)"
      ]
     },
     "execution_count": 21,
     "metadata": {},
     "output_type": "execute_result"
    }
   ],
   "source": [
    "vehiculos.transmision.unique()"
   ]
  },
  {
   "cell_type": "markdown",
   "metadata": {},
   "source": [
    "Vemos que las transmisiones se pueden agregar en manual o automatica"
   ]
  },
  {
   "cell_type": "code",
   "execution_count": 22,
   "metadata": {},
   "outputs": [
    {
     "ename": "ValueError",
     "evalue": "cannot index with vector containing NA / NaN values",
     "output_type": "error",
     "traceback": [
      "\u001b[0;31m---------------------------------------------------------------------------\u001b[0m",
      "\u001b[0;31mValueError\u001b[0m                                Traceback (most recent call last)",
      "\u001b[0;32m<ipython-input-22-81991fde1d14>\u001b[0m in \u001b[0;36m<module>\u001b[0;34m()\u001b[0m\n\u001b[1;32m      2\u001b[0m \u001b[0;34m\u001b[0m\u001b[0m\n\u001b[1;32m      3\u001b[0m vehiculos.loc[vehiculos['transmision'].str.startswith('M'),\n\u001b[0;32m----> 4\u001b[0;31m              'transmision_tipo'] = \"Manual\"\n\u001b[0m",
      "\u001b[0;32m~/anaconda3/envs/Datascientist/lib/python3.7/site-packages/pandas/core/indexing.py\u001b[0m in \u001b[0;36m__setitem__\u001b[0;34m(self, key, value)\u001b[0m\n\u001b[1;32m    186\u001b[0m         \u001b[0;32melse\u001b[0m\u001b[0;34m:\u001b[0m\u001b[0;34m\u001b[0m\u001b[0m\n\u001b[1;32m    187\u001b[0m             \u001b[0mkey\u001b[0m \u001b[0;34m=\u001b[0m \u001b[0mcom\u001b[0m\u001b[0;34m.\u001b[0m\u001b[0m_apply_if_callable\u001b[0m\u001b[0;34m(\u001b[0m\u001b[0mkey\u001b[0m\u001b[0;34m,\u001b[0m \u001b[0mself\u001b[0m\u001b[0;34m.\u001b[0m\u001b[0mobj\u001b[0m\u001b[0;34m)\u001b[0m\u001b[0;34m\u001b[0m\u001b[0m\n\u001b[0;32m--> 188\u001b[0;31m         \u001b[0mindexer\u001b[0m \u001b[0;34m=\u001b[0m \u001b[0mself\u001b[0m\u001b[0;34m.\u001b[0m\u001b[0m_get_setitem_indexer\u001b[0m\u001b[0;34m(\u001b[0m\u001b[0mkey\u001b[0m\u001b[0;34m)\u001b[0m\u001b[0;34m\u001b[0m\u001b[0m\n\u001b[0m\u001b[1;32m    189\u001b[0m         \u001b[0mself\u001b[0m\u001b[0;34m.\u001b[0m\u001b[0m_setitem_with_indexer\u001b[0m\u001b[0;34m(\u001b[0m\u001b[0mindexer\u001b[0m\u001b[0;34m,\u001b[0m \u001b[0mvalue\u001b[0m\u001b[0;34m)\u001b[0m\u001b[0;34m\u001b[0m\u001b[0m\n\u001b[1;32m    190\u001b[0m \u001b[0;34m\u001b[0m\u001b[0m\n",
      "\u001b[0;32m~/anaconda3/envs/Datascientist/lib/python3.7/site-packages/pandas/core/indexing.py\u001b[0m in \u001b[0;36m_get_setitem_indexer\u001b[0;34m(self, key)\u001b[0m\n\u001b[1;32m    164\u001b[0m         \u001b[0;32mif\u001b[0m \u001b[0misinstance\u001b[0m\u001b[0;34m(\u001b[0m\u001b[0mkey\u001b[0m\u001b[0;34m,\u001b[0m \u001b[0mtuple\u001b[0m\u001b[0;34m)\u001b[0m\u001b[0;34m:\u001b[0m\u001b[0;34m\u001b[0m\u001b[0m\n\u001b[1;32m    165\u001b[0m             \u001b[0;32mtry\u001b[0m\u001b[0;34m:\u001b[0m\u001b[0;34m\u001b[0m\u001b[0m\n\u001b[0;32m--> 166\u001b[0;31m                 \u001b[0;32mreturn\u001b[0m \u001b[0mself\u001b[0m\u001b[0;34m.\u001b[0m\u001b[0m_convert_tuple\u001b[0m\u001b[0;34m(\u001b[0m\u001b[0mkey\u001b[0m\u001b[0;34m,\u001b[0m \u001b[0mis_setter\u001b[0m\u001b[0;34m=\u001b[0m\u001b[0;32mTrue\u001b[0m\u001b[0;34m)\u001b[0m\u001b[0;34m\u001b[0m\u001b[0m\n\u001b[0m\u001b[1;32m    167\u001b[0m             \u001b[0;32mexcept\u001b[0m \u001b[0mIndexingError\u001b[0m\u001b[0;34m:\u001b[0m\u001b[0;34m\u001b[0m\u001b[0m\n\u001b[1;32m    168\u001b[0m                 \u001b[0;32mpass\u001b[0m\u001b[0;34m\u001b[0m\u001b[0m\n",
      "\u001b[0;32m~/anaconda3/envs/Datascientist/lib/python3.7/site-packages/pandas/core/indexing.py\u001b[0m in \u001b[0;36m_convert_tuple\u001b[0;34m(self, key, is_setter)\u001b[0m\n\u001b[1;32m    245\u001b[0m                 \u001b[0;32mif\u001b[0m \u001b[0mi\u001b[0m \u001b[0;34m>=\u001b[0m \u001b[0mself\u001b[0m\u001b[0;34m.\u001b[0m\u001b[0mobj\u001b[0m\u001b[0;34m.\u001b[0m\u001b[0mndim\u001b[0m\u001b[0;34m:\u001b[0m\u001b[0;34m\u001b[0m\u001b[0m\n\u001b[1;32m    246\u001b[0m                     \u001b[0;32mraise\u001b[0m \u001b[0mIndexingError\u001b[0m\u001b[0;34m(\u001b[0m\u001b[0;34m'Too many indexers'\u001b[0m\u001b[0;34m)\u001b[0m\u001b[0;34m\u001b[0m\u001b[0m\n\u001b[0;32m--> 247\u001b[0;31m                 \u001b[0midx\u001b[0m \u001b[0;34m=\u001b[0m \u001b[0mself\u001b[0m\u001b[0;34m.\u001b[0m\u001b[0m_convert_to_indexer\u001b[0m\u001b[0;34m(\u001b[0m\u001b[0mk\u001b[0m\u001b[0;34m,\u001b[0m \u001b[0maxis\u001b[0m\u001b[0;34m=\u001b[0m\u001b[0mi\u001b[0m\u001b[0;34m,\u001b[0m \u001b[0mis_setter\u001b[0m\u001b[0;34m=\u001b[0m\u001b[0mis_setter\u001b[0m\u001b[0;34m)\u001b[0m\u001b[0;34m\u001b[0m\u001b[0m\n\u001b[0m\u001b[1;32m    248\u001b[0m                 \u001b[0mkeyidx\u001b[0m\u001b[0;34m.\u001b[0m\u001b[0mappend\u001b[0m\u001b[0;34m(\u001b[0m\u001b[0midx\u001b[0m\u001b[0;34m)\u001b[0m\u001b[0;34m\u001b[0m\u001b[0m\n\u001b[1;32m    249\u001b[0m         \u001b[0;32mreturn\u001b[0m \u001b[0mtuple\u001b[0m\u001b[0;34m(\u001b[0m\u001b[0mkeyidx\u001b[0m\u001b[0;34m)\u001b[0m\u001b[0;34m\u001b[0m\u001b[0m\n",
      "\u001b[0;32m~/anaconda3/envs/Datascientist/lib/python3.7/site-packages/pandas/core/indexing.py\u001b[0m in \u001b[0;36m_convert_to_indexer\u001b[0;34m(self, obj, axis, is_setter)\u001b[0m\n\u001b[1;32m   1297\u001b[0m         \u001b[0;32melif\u001b[0m \u001b[0mis_list_like_indexer\u001b[0m\u001b[0;34m(\u001b[0m\u001b[0mobj\u001b[0m\u001b[0;34m)\u001b[0m\u001b[0;34m:\u001b[0m\u001b[0;34m\u001b[0m\u001b[0m\n\u001b[1;32m   1298\u001b[0m \u001b[0;34m\u001b[0m\u001b[0m\n\u001b[0;32m-> 1299\u001b[0;31m             \u001b[0;32mif\u001b[0m \u001b[0mcom\u001b[0m\u001b[0;34m.\u001b[0m\u001b[0mis_bool_indexer\u001b[0m\u001b[0;34m(\u001b[0m\u001b[0mobj\u001b[0m\u001b[0;34m)\u001b[0m\u001b[0;34m:\u001b[0m\u001b[0;34m\u001b[0m\u001b[0m\n\u001b[0m\u001b[1;32m   1300\u001b[0m                 \u001b[0mobj\u001b[0m \u001b[0;34m=\u001b[0m \u001b[0mcheck_bool_indexer\u001b[0m\u001b[0;34m(\u001b[0m\u001b[0mlabels\u001b[0m\u001b[0;34m,\u001b[0m \u001b[0mobj\u001b[0m\u001b[0;34m)\u001b[0m\u001b[0;34m\u001b[0m\u001b[0m\n\u001b[1;32m   1301\u001b[0m                 \u001b[0minds\u001b[0m\u001b[0;34m,\u001b[0m \u001b[0;34m=\u001b[0m \u001b[0mobj\u001b[0m\u001b[0;34m.\u001b[0m\u001b[0mnonzero\u001b[0m\u001b[0;34m(\u001b[0m\u001b[0;34m)\u001b[0m\u001b[0;34m\u001b[0m\u001b[0m\n",
      "\u001b[0;32m~/anaconda3/envs/Datascientist/lib/python3.7/site-packages/pandas/core/common.py\u001b[0m in \u001b[0;36mis_bool_indexer\u001b[0;34m(key)\u001b[0m\n\u001b[1;32m    105\u001b[0m             \u001b[0;32mif\u001b[0m \u001b[0;32mnot\u001b[0m \u001b[0mlib\u001b[0m\u001b[0;34m.\u001b[0m\u001b[0mis_bool_array\u001b[0m\u001b[0;34m(\u001b[0m\u001b[0mkey\u001b[0m\u001b[0;34m)\u001b[0m\u001b[0;34m:\u001b[0m\u001b[0;34m\u001b[0m\u001b[0m\n\u001b[1;32m    106\u001b[0m                 \u001b[0;32mif\u001b[0m \u001b[0misna\u001b[0m\u001b[0;34m(\u001b[0m\u001b[0mkey\u001b[0m\u001b[0;34m)\u001b[0m\u001b[0;34m.\u001b[0m\u001b[0many\u001b[0m\u001b[0;34m(\u001b[0m\u001b[0;34m)\u001b[0m\u001b[0;34m:\u001b[0m\u001b[0;34m\u001b[0m\u001b[0m\n\u001b[0;32m--> 107\u001b[0;31m                     raise ValueError('cannot index with vector containing '\n\u001b[0m\u001b[1;32m    108\u001b[0m                                      'NA / NaN values')\n\u001b[1;32m    109\u001b[0m                 \u001b[0;32mreturn\u001b[0m \u001b[0;32mFalse\u001b[0m\u001b[0;34m\u001b[0m\u001b[0m\n",
      "\u001b[0;31mValueError\u001b[0m: cannot index with vector containing NA / NaN values"
     ]
    }
   ],
   "source": [
    "vehiculos['transmision_tipo'] = \"Automatica\"\n",
    "\n",
    "vehiculos.loc[vehiculos['transmision'].str.startswith('M'),\n",
    "             'transmision_tipo'] = \"Manual\""
   ]
  },
  {
   "cell_type": "markdown",
   "metadata": {},
   "source": [
    "Vemos que hay un fallo (lo descubrimos en el paso 2 (QA), esto se debe a que hay vehiculos sin datos de la transmission."
   ]
  },
  {
   "cell_type": "code",
   "execution_count": 23,
   "metadata": {},
   "outputs": [
    {
     "data": {
      "text/html": [
       "<div>\n",
       "<style scoped>\n",
       "    .dataframe tbody tr th:only-of-type {\n",
       "        vertical-align: middle;\n",
       "    }\n",
       "\n",
       "    .dataframe tbody tr th {\n",
       "        vertical-align: top;\n",
       "    }\n",
       "\n",
       "    .dataframe thead th {\n",
       "        text-align: right;\n",
       "    }\n",
       "</style>\n",
       "<table border=\"1\" class=\"dataframe\">\n",
       "  <thead>\n",
       "    <tr style=\"text-align: right;\">\n",
       "      <th></th>\n",
       "      <th>fabricante</th>\n",
       "      <th>modelo</th>\n",
       "      <th>year</th>\n",
       "      <th>desplazamiento</th>\n",
       "      <th>cilindros</th>\n",
       "      <th>transmision</th>\n",
       "      <th>traccion</th>\n",
       "      <th>clase</th>\n",
       "      <th>combustible</th>\n",
       "      <th>consumo</th>\n",
       "      <th>co2</th>\n",
       "      <th>clase_tipo</th>\n",
       "      <th>traccion_tipo</th>\n",
       "      <th>transmision_tipo</th>\n",
       "    </tr>\n",
       "  </thead>\n",
       "  <tbody>\n",
       "    <tr>\n",
       "      <th>12835</th>\n",
       "      <td>Ford</td>\n",
       "      <td>F150 Pickup 2WD</td>\n",
       "      <td>1984</td>\n",
       "      <td>5.8</td>\n",
       "      <td>8.0</td>\n",
       "      <td>NaN</td>\n",
       "      <td>2-Wheel Drive</td>\n",
       "      <td>Standard Pickup Trucks 2WD</td>\n",
       "      <td>Regular</td>\n",
       "      <td>11</td>\n",
       "      <td>807.909091</td>\n",
       "      <td>Camionetas</td>\n",
       "      <td>dos</td>\n",
       "      <td>Automatica</td>\n",
       "    </tr>\n",
       "    <tr>\n",
       "      <th>14751</th>\n",
       "      <td>GMC</td>\n",
       "      <td>C25 Pickup 2WD</td>\n",
       "      <td>1984</td>\n",
       "      <td>4.1</td>\n",
       "      <td>6.0</td>\n",
       "      <td>NaN</td>\n",
       "      <td>2-Wheel Drive</td>\n",
       "      <td>Standard Pickup Trucks 2WD</td>\n",
       "      <td>Regular</td>\n",
       "      <td>14</td>\n",
       "      <td>634.785714</td>\n",
       "      <td>Camionetas</td>\n",
       "      <td>dos</td>\n",
       "      <td>Automatica</td>\n",
       "    </tr>\n",
       "  </tbody>\n",
       "</table>\n",
       "</div>"
      ],
      "text/plain": [
       "      fabricante           modelo  year  desplazamiento  cilindros  \\\n",
       "12835       Ford  F150 Pickup 2WD  1984             5.8        8.0   \n",
       "14751        GMC   C25 Pickup 2WD  1984             4.1        6.0   \n",
       "\n",
       "      transmision       traccion                       clase combustible  \\\n",
       "12835         NaN  2-Wheel Drive  Standard Pickup Trucks 2WD     Regular   \n",
       "14751         NaN  2-Wheel Drive  Standard Pickup Trucks 2WD     Regular   \n",
       "\n",
       "       consumo         co2  clase_tipo traccion_tipo transmision_tipo  \n",
       "12835       11  807.909091  Camionetas           dos       Automatica  \n",
       "14751       14  634.785714  Camionetas           dos       Automatica  "
      ]
     },
     "execution_count": 23,
     "metadata": {},
     "output_type": "execute_result"
    }
   ],
   "source": [
    "vehiculos[vehiculos['transmision'].isnull()]"
   ]
  },
  {
   "cell_type": "markdown",
   "metadata": {},
   "source": [
    "Podemos filtrar un dataframes por varias condiciones a la vez. Para ello usamos el operador `&` entre ellas para indicar un `and` o un  `|` para indicar un `or`"
   ]
  },
  {
   "cell_type": "code",
   "execution_count": 24,
   "metadata": {},
   "outputs": [],
   "source": [
    "vehiculos['transmision_tipo'] = \"Automatica\"\n",
    "vehiculos['transmision_tipo'][\n",
    "    (vehiculos['transmision'].notnull()) & (vehiculos['transmision'].str.startswith('M'))\n",
    "] = \"Manual\""
   ]
  },
  {
   "cell_type": "code",
   "execution_count": 25,
   "metadata": {},
   "outputs": [],
   "source": [
    "vehiculos.transmision_tipo = vehiculos.transmision_tipo.astype(\"category\")"
   ]
  },
  {
   "cell_type": "code",
   "execution_count": 26,
   "metadata": {},
   "outputs": [
    {
     "data": {
      "text/plain": [
       "Automatica    24937\n",
       "Manual        11854\n",
       "Name: transmision_tipo, dtype: int64"
      ]
     },
     "execution_count": 26,
     "metadata": {},
     "output_type": "execute_result"
    }
   ],
   "source": [
    "vehiculos.transmision_tipo.value_counts()"
   ]
  },
  {
   "cell_type": "markdown",
   "metadata": {},
   "source": [
    "##### Combustible"
   ]
  },
  {
   "cell_type": "code",
   "execution_count": 27,
   "metadata": {},
   "outputs": [
    {
     "data": {
      "text/plain": [
       "Regular                        24078\n",
       "Premium                        10206\n",
       "Gasoline or E85                 1215\n",
       "Diesel                           933\n",
       "Premium or E85                   124\n",
       "Midgrade                          77\n",
       "CNG                               60\n",
       "Premium and Electricity           30\n",
       "Gasoline or natural gas           20\n",
       "Regular Gas and Electricity       20\n",
       "Premium Gas or Electricity        18\n",
       "Gasoline or propane                8\n",
       "Regular Gas or Electricity         2\n",
       "Name: combustible, dtype: int64"
      ]
     },
     "execution_count": 27,
     "metadata": {},
     "output_type": "execute_result"
    }
   ],
   "source": [
    "vehiculos.combustible.value_counts()"
   ]
  },
  {
   "cell_type": "code",
   "execution_count": 29,
   "metadata": {},
   "outputs": [],
   "source": [
    "vehiculos['combustible_tipo'] = 'Otros tipos de combustible'\n",
    "vehiculos.loc[vehiculos['combustible']=='Regular',\n",
    "             'combustible_tipo'] = 'Normal'\n",
    "vehiculos.loc[vehiculos['combustible']=='Premium',\n",
    "             'combustible_tipo'] = 'Premium'\n",
    "\n",
    "vehiculos.loc[vehiculos['combustible'].str.contains('Electricity'),\n",
    "             'combustible_tipo'] = 'Hibrido'"
   ]
  },
  {
   "cell_type": "code",
   "execution_count": 30,
   "metadata": {},
   "outputs": [],
   "source": [
    "vehiculos.combustible_tipo = vehiculos.combustible_tipo.astype(\"category\")"
   ]
  },
  {
   "cell_type": "code",
   "execution_count": 31,
   "metadata": {},
   "outputs": [
    {
     "data": {
      "text/plain": [
       "Normal                        24078\n",
       "Premium                       10206\n",
       "Otros tipos de combustible     2437\n",
       "Hibrido                          70\n",
       "Name: combustible_tipo, dtype: int64"
      ]
     },
     "execution_count": 31,
     "metadata": {},
     "output_type": "execute_result"
    }
   ],
   "source": [
    "vehiculos.combustible_tipo.value_counts()"
   ]
  },
  {
   "cell_type": "code",
   "execution_count": 32,
   "metadata": {},
   "outputs": [
    {
     "data": {
      "text/html": [
       "<div>\n",
       "<style scoped>\n",
       "    .dataframe tbody tr th:only-of-type {\n",
       "        vertical-align: middle;\n",
       "    }\n",
       "\n",
       "    .dataframe tbody tr th {\n",
       "        vertical-align: top;\n",
       "    }\n",
       "\n",
       "    .dataframe thead th {\n",
       "        text-align: right;\n",
       "    }\n",
       "</style>\n",
       "<table border=\"1\" class=\"dataframe\">\n",
       "  <thead>\n",
       "    <tr style=\"text-align: right;\">\n",
       "      <th></th>\n",
       "      <th>fabricante</th>\n",
       "      <th>modelo</th>\n",
       "      <th>year</th>\n",
       "      <th>desplazamiento</th>\n",
       "      <th>cilindros</th>\n",
       "      <th>transmision</th>\n",
       "      <th>traccion</th>\n",
       "      <th>clase</th>\n",
       "      <th>combustible</th>\n",
       "      <th>consumo</th>\n",
       "      <th>co2</th>\n",
       "      <th>clase_tipo</th>\n",
       "      <th>traccion_tipo</th>\n",
       "      <th>transmision_tipo</th>\n",
       "      <th>combustible_tipo</th>\n",
       "    </tr>\n",
       "  </thead>\n",
       "  <tbody>\n",
       "    <tr>\n",
       "      <th>0</th>\n",
       "      <td>AM General</td>\n",
       "      <td>DJ Po Vehicle 2WD</td>\n",
       "      <td>1984</td>\n",
       "      <td>2.5</td>\n",
       "      <td>4.0</td>\n",
       "      <td>Automatic 3-spd</td>\n",
       "      <td>2-Wheel Drive</td>\n",
       "      <td>Special Purpose Vehicle 2WD</td>\n",
       "      <td>Regular</td>\n",
       "      <td>17</td>\n",
       "      <td>522.764706</td>\n",
       "      <td>Vehículos Especiales</td>\n",
       "      <td>dos</td>\n",
       "      <td>Automatica</td>\n",
       "      <td>Normal</td>\n",
       "    </tr>\n",
       "    <tr>\n",
       "      <th>1</th>\n",
       "      <td>AM General</td>\n",
       "      <td>FJ8c Post Office</td>\n",
       "      <td>1984</td>\n",
       "      <td>4.2</td>\n",
       "      <td>6.0</td>\n",
       "      <td>Automatic 3-spd</td>\n",
       "      <td>2-Wheel Drive</td>\n",
       "      <td>Special Purpose Vehicle 2WD</td>\n",
       "      <td>Regular</td>\n",
       "      <td>13</td>\n",
       "      <td>683.615385</td>\n",
       "      <td>Vehículos Especiales</td>\n",
       "      <td>dos</td>\n",
       "      <td>Automatica</td>\n",
       "      <td>Normal</td>\n",
       "    </tr>\n",
       "    <tr>\n",
       "      <th>2</th>\n",
       "      <td>AM General</td>\n",
       "      <td>Post Office DJ5 2WD</td>\n",
       "      <td>1985</td>\n",
       "      <td>2.5</td>\n",
       "      <td>4.0</td>\n",
       "      <td>Automatic 3-spd</td>\n",
       "      <td>Rear-Wheel Drive</td>\n",
       "      <td>Special Purpose Vehicle 2WD</td>\n",
       "      <td>Regular</td>\n",
       "      <td>16</td>\n",
       "      <td>555.437500</td>\n",
       "      <td>Vehículos Especiales</td>\n",
       "      <td>dos</td>\n",
       "      <td>Automatica</td>\n",
       "      <td>Normal</td>\n",
       "    </tr>\n",
       "    <tr>\n",
       "      <th>3</th>\n",
       "      <td>AM General</td>\n",
       "      <td>Post Office DJ8 2WD</td>\n",
       "      <td>1985</td>\n",
       "      <td>4.2</td>\n",
       "      <td>6.0</td>\n",
       "      <td>Automatic 3-spd</td>\n",
       "      <td>Rear-Wheel Drive</td>\n",
       "      <td>Special Purpose Vehicle 2WD</td>\n",
       "      <td>Regular</td>\n",
       "      <td>13</td>\n",
       "      <td>683.615385</td>\n",
       "      <td>Vehículos Especiales</td>\n",
       "      <td>dos</td>\n",
       "      <td>Automatica</td>\n",
       "      <td>Normal</td>\n",
       "    </tr>\n",
       "    <tr>\n",
       "      <th>4</th>\n",
       "      <td>ASC Incorporated</td>\n",
       "      <td>GNX</td>\n",
       "      <td>1987</td>\n",
       "      <td>3.8</td>\n",
       "      <td>6.0</td>\n",
       "      <td>Automatic 4-spd</td>\n",
       "      <td>Rear-Wheel Drive</td>\n",
       "      <td>Midsize Cars</td>\n",
       "      <td>Premium</td>\n",
       "      <td>16</td>\n",
       "      <td>555.437500</td>\n",
       "      <td>Coches Medianos</td>\n",
       "      <td>dos</td>\n",
       "      <td>Automatica</td>\n",
       "      <td>Premium</td>\n",
       "    </tr>\n",
       "  </tbody>\n",
       "</table>\n",
       "</div>"
      ],
      "text/plain": [
       "         fabricante               modelo  year  desplazamiento  cilindros  \\\n",
       "0        AM General    DJ Po Vehicle 2WD  1984             2.5        4.0   \n",
       "1        AM General     FJ8c Post Office  1984             4.2        6.0   \n",
       "2        AM General  Post Office DJ5 2WD  1985             2.5        4.0   \n",
       "3        AM General  Post Office DJ8 2WD  1985             4.2        6.0   \n",
       "4  ASC Incorporated                  GNX  1987             3.8        6.0   \n",
       "\n",
       "       transmision          traccion                        clase combustible  \\\n",
       "0  Automatic 3-spd     2-Wheel Drive  Special Purpose Vehicle 2WD     Regular   \n",
       "1  Automatic 3-spd     2-Wheel Drive  Special Purpose Vehicle 2WD     Regular   \n",
       "2  Automatic 3-spd  Rear-Wheel Drive  Special Purpose Vehicle 2WD     Regular   \n",
       "3  Automatic 3-spd  Rear-Wheel Drive  Special Purpose Vehicle 2WD     Regular   \n",
       "4  Automatic 4-spd  Rear-Wheel Drive                 Midsize Cars     Premium   \n",
       "\n",
       "   consumo         co2            clase_tipo traccion_tipo transmision_tipo  \\\n",
       "0       17  522.764706  Vehículos Especiales           dos       Automatica   \n",
       "1       13  683.615385  Vehículos Especiales           dos       Automatica   \n",
       "2       16  555.437500  Vehículos Especiales           dos       Automatica   \n",
       "3       13  683.615385  Vehículos Especiales           dos       Automatica   \n",
       "4       16  555.437500       Coches Medianos           dos       Automatica   \n",
       "\n",
       "  combustible_tipo  \n",
       "0           Normal  \n",
       "1           Normal  \n",
       "2           Normal  \n",
       "3           Normal  \n",
       "4          Premium  "
      ]
     },
     "execution_count": 32,
     "metadata": {},
     "output_type": "execute_result"
    }
   ],
   "source": [
    "vehiculos.head()"
   ]
  },
  {
   "cell_type": "markdown",
   "metadata": {},
   "source": [
    "### Agrupar variables continuas.\n",
    "\n",
    "Una manera sencilla de convertir variables continuas en otras categoricas es mediante el uso de quintiles."
   ]
  },
  {
   "cell_type": "code",
   "execution_count": 33,
   "metadata": {},
   "outputs": [],
   "source": [
    "tipos_tamaño_motor = ['muy pequeño',\"pequeño\",  \"mediano\", \"grande\", \"muy grande\"]\n",
    "\n",
    "vehiculos['tamano_motor_tipo'] = pd.qcut(vehiculos['desplazamiento'],\n",
    "                                  5, tipos_tamaño_motor)"
   ]
  },
  {
   "cell_type": "code",
   "execution_count": 34,
   "metadata": {},
   "outputs": [],
   "source": [
    "tipos_consumo = ['muy bajo', 'bajo', 'moderado', 'alto', 'muy alto']\n",
    "\n",
    "vehiculos['consumo_tipo'] = pd.qcut(vehiculos['consumo'],\n",
    "                                  5, tipos_consumo)"
   ]
  },
  {
   "cell_type": "code",
   "execution_count": 35,
   "metadata": {},
   "outputs": [],
   "source": [
    "tipos_co2 = ['muy bajo', 'bajo', 'moderado', 'alto', 'muy alto']\n",
    "\n",
    "vehiculos['co2_tipo'] = pd.qcut(vehiculos['co2'],\n",
    "                                  5, tipos_co2)"
   ]
  },
  {
   "cell_type": "code",
   "execution_count": 36,
   "metadata": {},
   "outputs": [
    {
     "data": {
      "text/html": [
       "<div>\n",
       "<style scoped>\n",
       "    .dataframe tbody tr th:only-of-type {\n",
       "        vertical-align: middle;\n",
       "    }\n",
       "\n",
       "    .dataframe tbody tr th {\n",
       "        vertical-align: top;\n",
       "    }\n",
       "\n",
       "    .dataframe thead th {\n",
       "        text-align: right;\n",
       "    }\n",
       "</style>\n",
       "<table border=\"1\" class=\"dataframe\">\n",
       "  <thead>\n",
       "    <tr style=\"text-align: right;\">\n",
       "      <th></th>\n",
       "      <th>fabricante</th>\n",
       "      <th>modelo</th>\n",
       "      <th>year</th>\n",
       "      <th>desplazamiento</th>\n",
       "      <th>cilindros</th>\n",
       "      <th>transmision</th>\n",
       "      <th>traccion</th>\n",
       "      <th>clase</th>\n",
       "      <th>combustible</th>\n",
       "      <th>consumo</th>\n",
       "      <th>co2</th>\n",
       "      <th>clase_tipo</th>\n",
       "      <th>traccion_tipo</th>\n",
       "      <th>transmision_tipo</th>\n",
       "      <th>combustible_tipo</th>\n",
       "      <th>tamano_motor_tipo</th>\n",
       "      <th>consumo_tipo</th>\n",
       "      <th>co2_tipo</th>\n",
       "    </tr>\n",
       "  </thead>\n",
       "  <tbody>\n",
       "    <tr>\n",
       "      <th>0</th>\n",
       "      <td>AM General</td>\n",
       "      <td>DJ Po Vehicle 2WD</td>\n",
       "      <td>1984</td>\n",
       "      <td>2.5</td>\n",
       "      <td>4.0</td>\n",
       "      <td>Automatic 3-spd</td>\n",
       "      <td>2-Wheel Drive</td>\n",
       "      <td>Special Purpose Vehicle 2WD</td>\n",
       "      <td>Regular</td>\n",
       "      <td>17</td>\n",
       "      <td>522.764706</td>\n",
       "      <td>Vehículos Especiales</td>\n",
       "      <td>dos</td>\n",
       "      <td>Automatica</td>\n",
       "      <td>Normal</td>\n",
       "      <td>pequeño</td>\n",
       "      <td>bajo</td>\n",
       "      <td>alto</td>\n",
       "    </tr>\n",
       "    <tr>\n",
       "      <th>1</th>\n",
       "      <td>AM General</td>\n",
       "      <td>FJ8c Post Office</td>\n",
       "      <td>1984</td>\n",
       "      <td>4.2</td>\n",
       "      <td>6.0</td>\n",
       "      <td>Automatic 3-spd</td>\n",
       "      <td>2-Wheel Drive</td>\n",
       "      <td>Special Purpose Vehicle 2WD</td>\n",
       "      <td>Regular</td>\n",
       "      <td>13</td>\n",
       "      <td>683.615385</td>\n",
       "      <td>Vehículos Especiales</td>\n",
       "      <td>dos</td>\n",
       "      <td>Automatica</td>\n",
       "      <td>Normal</td>\n",
       "      <td>grande</td>\n",
       "      <td>muy bajo</td>\n",
       "      <td>muy alto</td>\n",
       "    </tr>\n",
       "    <tr>\n",
       "      <th>2</th>\n",
       "      <td>AM General</td>\n",
       "      <td>Post Office DJ5 2WD</td>\n",
       "      <td>1985</td>\n",
       "      <td>2.5</td>\n",
       "      <td>4.0</td>\n",
       "      <td>Automatic 3-spd</td>\n",
       "      <td>Rear-Wheel Drive</td>\n",
       "      <td>Special Purpose Vehicle 2WD</td>\n",
       "      <td>Regular</td>\n",
       "      <td>16</td>\n",
       "      <td>555.437500</td>\n",
       "      <td>Vehículos Especiales</td>\n",
       "      <td>dos</td>\n",
       "      <td>Automatica</td>\n",
       "      <td>Normal</td>\n",
       "      <td>pequeño</td>\n",
       "      <td>muy bajo</td>\n",
       "      <td>alto</td>\n",
       "    </tr>\n",
       "    <tr>\n",
       "      <th>3</th>\n",
       "      <td>AM General</td>\n",
       "      <td>Post Office DJ8 2WD</td>\n",
       "      <td>1985</td>\n",
       "      <td>4.2</td>\n",
       "      <td>6.0</td>\n",
       "      <td>Automatic 3-spd</td>\n",
       "      <td>Rear-Wheel Drive</td>\n",
       "      <td>Special Purpose Vehicle 2WD</td>\n",
       "      <td>Regular</td>\n",
       "      <td>13</td>\n",
       "      <td>683.615385</td>\n",
       "      <td>Vehículos Especiales</td>\n",
       "      <td>dos</td>\n",
       "      <td>Automatica</td>\n",
       "      <td>Normal</td>\n",
       "      <td>grande</td>\n",
       "      <td>muy bajo</td>\n",
       "      <td>muy alto</td>\n",
       "    </tr>\n",
       "    <tr>\n",
       "      <th>4</th>\n",
       "      <td>ASC Incorporated</td>\n",
       "      <td>GNX</td>\n",
       "      <td>1987</td>\n",
       "      <td>3.8</td>\n",
       "      <td>6.0</td>\n",
       "      <td>Automatic 4-spd</td>\n",
       "      <td>Rear-Wheel Drive</td>\n",
       "      <td>Midsize Cars</td>\n",
       "      <td>Premium</td>\n",
       "      <td>16</td>\n",
       "      <td>555.437500</td>\n",
       "      <td>Coches Medianos</td>\n",
       "      <td>dos</td>\n",
       "      <td>Automatica</td>\n",
       "      <td>Premium</td>\n",
       "      <td>grande</td>\n",
       "      <td>muy bajo</td>\n",
       "      <td>alto</td>\n",
       "    </tr>\n",
       "  </tbody>\n",
       "</table>\n",
       "</div>"
      ],
      "text/plain": [
       "         fabricante               modelo  year  desplazamiento  cilindros  \\\n",
       "0        AM General    DJ Po Vehicle 2WD  1984             2.5        4.0   \n",
       "1        AM General     FJ8c Post Office  1984             4.2        6.0   \n",
       "2        AM General  Post Office DJ5 2WD  1985             2.5        4.0   \n",
       "3        AM General  Post Office DJ8 2WD  1985             4.2        6.0   \n",
       "4  ASC Incorporated                  GNX  1987             3.8        6.0   \n",
       "\n",
       "       transmision          traccion                        clase combustible  \\\n",
       "0  Automatic 3-spd     2-Wheel Drive  Special Purpose Vehicle 2WD     Regular   \n",
       "1  Automatic 3-spd     2-Wheel Drive  Special Purpose Vehicle 2WD     Regular   \n",
       "2  Automatic 3-spd  Rear-Wheel Drive  Special Purpose Vehicle 2WD     Regular   \n",
       "3  Automatic 3-spd  Rear-Wheel Drive  Special Purpose Vehicle 2WD     Regular   \n",
       "4  Automatic 4-spd  Rear-Wheel Drive                 Midsize Cars     Premium   \n",
       "\n",
       "   consumo         co2            clase_tipo traccion_tipo transmision_tipo  \\\n",
       "0       17  522.764706  Vehículos Especiales           dos       Automatica   \n",
       "1       13  683.615385  Vehículos Especiales           dos       Automatica   \n",
       "2       16  555.437500  Vehículos Especiales           dos       Automatica   \n",
       "3       13  683.615385  Vehículos Especiales           dos       Automatica   \n",
       "4       16  555.437500       Coches Medianos           dos       Automatica   \n",
       "\n",
       "  combustible_tipo tamano_motor_tipo consumo_tipo  co2_tipo  \n",
       "0           Normal           pequeño         bajo      alto  \n",
       "1           Normal            grande     muy bajo  muy alto  \n",
       "2           Normal           pequeño     muy bajo      alto  \n",
       "3           Normal            grande     muy bajo  muy alto  \n",
       "4          Premium            grande     muy bajo      alto  "
      ]
     },
     "execution_count": 36,
     "metadata": {},
     "output_type": "execute_result"
    }
   ],
   "source": [
    "vehiculos.head()"
   ]
  },
  {
   "cell_type": "markdown",
   "metadata": {
    "collapsed": true
   },
   "source": [
    "Al ver las primeras filas veo algo que me parece raro. Veo que tipo_consumo y tipo_co2 estan correlacionadas negativamente. Es decir, para cada coche, aquellos con un consumo bajo tienen un co2 alto y viceversa. Sin ser un experto en coches, la lógica me diria lo contrario, es decir, que aquellos coches que mas gasolina consumen son aquellos que mas contaminan.\n",
    "\n",
    "En este momento lo mejor es visualizar la relacion de dichas variables y ver como están relacionadas. Éste es un ejemplo de como el EDA no es un proceso lineal."
   ]
  },
  {
   "cell_type": "code",
   "execution_count": 38,
   "metadata": {},
   "outputs": [
    {
     "data": {
      "text/plain": [
       "<matplotlib.axes._subplots.AxesSubplot at 0x7f63174dd3c8>"
      ]
     },
     "execution_count": 38,
     "metadata": {},
     "output_type": "execute_result"
    },
    {
     "data": {
      "image/png": "[encoded data removed]",
      "text/plain": [
       "<Figure size 864x864 with 1 Axes>"
      ]
     },
     "metadata": {
      "needs_background": "light"
     },
     "output_type": "display_data"
    }
   ],
   "source": [
    "vehiculos.plot.scatter(x=\"consumo\",y=\"co2\")"
   ]
  },
  {
   "cell_type": "markdown",
   "metadata": {},
   "source": [
    "Que raro es esto no? Nuestra intuicion nos dice que aquellos coches que consumen mas son aquellos que deberian contaminar mas.\n",
    "\n",
    "En la descripción del dataset, se ve que CO2 se mide en gramos por milla, mientras que el consumo se mide en millas por gallon.\n",
    "\n",
    "Lo que debemos hacer es convertir el consumo a galones por milla y asi ambas variables son relativas a la milla y podemos compararlas."
   ]
  },
  {
   "cell_type": "code",
   "execution_count": 39,
   "metadata": {},
   "outputs": [],
   "source": [
    "litros_por_galon =  3.78541\n",
    "\n",
    "vehiculos[\"consumo_litros_milla\"] = litros_por_galon/ vehiculos.consumo"
   ]
  },
  {
   "cell_type": "code",
   "execution_count": 40,
   "metadata": {},
   "outputs": [
    {
     "data": {
      "image/png": "[encoded data removed]",
      "text/plain": [
       "<Figure size 864x864 with 1 Axes>"
      ]
     },
     "metadata": {
      "needs_background": "light"
     },
     "output_type": "display_data"
    }
   ],
   "source": [
    "vehiculos.plot.scatter(x=\"consumo_litros_milla\",y=\"co2\");"
   ]
  },
  {
   "cell_type": "markdown",
   "metadata": {},
   "source": [
    "Volvemos a calcular los niveles de consumo con la nueva variable"
   ]
  },
  {
   "cell_type": "code",
   "execution_count": 41,
   "metadata": {},
   "outputs": [
    {
     "data": {
      "text/plain": [
       "0        alto\n",
       "1    muy alto\n",
       "2        alto\n",
       "3    muy alto\n",
       "4        alto\n",
       "Name: consumo_tipo, dtype: category\n",
       "Categories (5, object): [muy bajo < bajo < moderado < alto < muy alto]"
      ]
     },
     "execution_count": 41,
     "metadata": {},
     "output_type": "execute_result"
    }
   ],
   "source": [
    "tipos_consumo = ['muy bajo', 'bajo', 'moderado', 'alto', 'muy alto']\n",
    "\n",
    "vehiculos['consumo_tipo'] = pd.qcut(vehiculos['consumo_litros_milla'],\n",
    "                                  5, labels=tipos_consumo)\n",
    "\n",
    "vehiculos.consumo_tipo.head()"
   ]
  },
  {
   "cell_type": "code",
   "execution_count": 42,
   "metadata": {},
   "outputs": [
    {
     "data": {
      "text/html": [
       "<div>\n",
       "<style scoped>\n",
       "    .dataframe tbody tr th:only-of-type {\n",
       "        vertical-align: middle;\n",
       "    }\n",
       "\n",
       "    .dataframe tbody tr th {\n",
       "        vertical-align: top;\n",
       "    }\n",
       "\n",
       "    .dataframe thead th {\n",
       "        text-align: right;\n",
       "    }\n",
       "</style>\n",
       "<table border=\"1\" class=\"dataframe\">\n",
       "  <thead>\n",
       "    <tr style=\"text-align: right;\">\n",
       "      <th></th>\n",
       "      <th>fabricante</th>\n",
       "      <th>modelo</th>\n",
       "      <th>year</th>\n",
       "      <th>desplazamiento</th>\n",
       "      <th>cilindros</th>\n",
       "      <th>transmision</th>\n",
       "      <th>traccion</th>\n",
       "      <th>clase</th>\n",
       "      <th>combustible</th>\n",
       "      <th>consumo</th>\n",
       "      <th>co2</th>\n",
       "      <th>clase_tipo</th>\n",
       "      <th>traccion_tipo</th>\n",
       "      <th>transmision_tipo</th>\n",
       "      <th>combustible_tipo</th>\n",
       "      <th>tamano_motor_tipo</th>\n",
       "      <th>consumo_tipo</th>\n",
       "      <th>co2_tipo</th>\n",
       "      <th>consumo_litros_milla</th>\n",
       "    </tr>\n",
       "  </thead>\n",
       "  <tbody>\n",
       "    <tr>\n",
       "      <th>0</th>\n",
       "      <td>AM General</td>\n",
       "      <td>DJ Po Vehicle 2WD</td>\n",
       "      <td>1984</td>\n",
       "      <td>2.5</td>\n",
       "      <td>4.0</td>\n",
       "      <td>Automatic 3-spd</td>\n",
       "      <td>2-Wheel Drive</td>\n",
       "      <td>Special Purpose Vehicle 2WD</td>\n",
       "      <td>Regular</td>\n",
       "      <td>17</td>\n",
       "      <td>522.764706</td>\n",
       "      <td>Vehículos Especiales</td>\n",
       "      <td>dos</td>\n",
       "      <td>Automatica</td>\n",
       "      <td>Normal</td>\n",
       "      <td>pequeño</td>\n",
       "      <td>alto</td>\n",
       "      <td>alto</td>\n",
       "      <td>0.222671</td>\n",
       "    </tr>\n",
       "    <tr>\n",
       "      <th>1</th>\n",
       "      <td>AM General</td>\n",
       "      <td>FJ8c Post Office</td>\n",
       "      <td>1984</td>\n",
       "      <td>4.2</td>\n",
       "      <td>6.0</td>\n",
       "      <td>Automatic 3-spd</td>\n",
       "      <td>2-Wheel Drive</td>\n",
       "      <td>Special Purpose Vehicle 2WD</td>\n",
       "      <td>Regular</td>\n",
       "      <td>13</td>\n",
       "      <td>683.615385</td>\n",
       "      <td>Vehículos Especiales</td>\n",
       "      <td>dos</td>\n",
       "      <td>Automatica</td>\n",
       "      <td>Normal</td>\n",
       "      <td>grande</td>\n",
       "      <td>muy alto</td>\n",
       "      <td>muy alto</td>\n",
       "      <td>0.291185</td>\n",
       "    </tr>\n",
       "    <tr>\n",
       "      <th>2</th>\n",
       "      <td>AM General</td>\n",
       "      <td>Post Office DJ5 2WD</td>\n",
       "      <td>1985</td>\n",
       "      <td>2.5</td>\n",
       "      <td>4.0</td>\n",
       "      <td>Automatic 3-spd</td>\n",
       "      <td>Rear-Wheel Drive</td>\n",
       "      <td>Special Purpose Vehicle 2WD</td>\n",
       "      <td>Regular</td>\n",
       "      <td>16</td>\n",
       "      <td>555.437500</td>\n",
       "      <td>Vehículos Especiales</td>\n",
       "      <td>dos</td>\n",
       "      <td>Automatica</td>\n",
       "      <td>Normal</td>\n",
       "      <td>pequeño</td>\n",
       "      <td>alto</td>\n",
       "      <td>alto</td>\n",
       "      <td>0.236588</td>\n",
       "    </tr>\n",
       "    <tr>\n",
       "      <th>3</th>\n",
       "      <td>AM General</td>\n",
       "      <td>Post Office DJ8 2WD</td>\n",
       "      <td>1985</td>\n",
       "      <td>4.2</td>\n",
       "      <td>6.0</td>\n",
       "      <td>Automatic 3-spd</td>\n",
       "      <td>Rear-Wheel Drive</td>\n",
       "      <td>Special Purpose Vehicle 2WD</td>\n",
       "      <td>Regular</td>\n",
       "      <td>13</td>\n",
       "      <td>683.615385</td>\n",
       "      <td>Vehículos Especiales</td>\n",
       "      <td>dos</td>\n",
       "      <td>Automatica</td>\n",
       "      <td>Normal</td>\n",
       "      <td>grande</td>\n",
       "      <td>muy alto</td>\n",
       "      <td>muy alto</td>\n",
       "      <td>0.291185</td>\n",
       "    </tr>\n",
       "    <tr>\n",
       "      <th>4</th>\n",
       "      <td>ASC Incorporated</td>\n",
       "      <td>GNX</td>\n",
       "      <td>1987</td>\n",
       "      <td>3.8</td>\n",
       "      <td>6.0</td>\n",
       "      <td>Automatic 4-spd</td>\n",
       "      <td>Rear-Wheel Drive</td>\n",
       "      <td>Midsize Cars</td>\n",
       "      <td>Premium</td>\n",
       "      <td>16</td>\n",
       "      <td>555.437500</td>\n",
       "      <td>Coches Medianos</td>\n",
       "      <td>dos</td>\n",
       "      <td>Automatica</td>\n",
       "      <td>Premium</td>\n",
       "      <td>grande</td>\n",
       "      <td>alto</td>\n",
       "      <td>alto</td>\n",
       "      <td>0.236588</td>\n",
       "    </tr>\n",
       "  </tbody>\n",
       "</table>\n",
       "</div>"
      ],
      "text/plain": [
       "         fabricante               modelo  year  desplazamiento  cilindros  \\\n",
       "0        AM General    DJ Po Vehicle 2WD  1984             2.5        4.0   \n",
       "1        AM General     FJ8c Post Office  1984             4.2        6.0   \n",
       "2        AM General  Post Office DJ5 2WD  1985             2.5        4.0   \n",
       "3        AM General  Post Office DJ8 2WD  1985             4.2        6.0   \n",
       "4  ASC Incorporated                  GNX  1987             3.8        6.0   \n",
       "\n",
       "       transmision          traccion                        clase combustible  \\\n",
       "0  Automatic 3-spd     2-Wheel Drive  Special Purpose Vehicle 2WD     Regular   \n",
       "1  Automatic 3-spd     2-Wheel Drive  Special Purpose Vehicle 2WD     Regular   \n",
       "2  Automatic 3-spd  Rear-Wheel Drive  Special Purpose Vehicle 2WD     Regular   \n",
       "3  Automatic 3-spd  Rear-Wheel Drive  Special Purpose Vehicle 2WD     Regular   \n",
       "4  Automatic 4-spd  Rear-Wheel Drive                 Midsize Cars     Premium   \n",
       "\n",
       "   consumo         co2            clase_tipo traccion_tipo transmision_tipo  \\\n",
       "0       17  522.764706  Vehículos Especiales           dos       Automatica   \n",
       "1       13  683.615385  Vehículos Especiales           dos       Automatica   \n",
       "2       16  555.437500  Vehículos Especiales           dos       Automatica   \n",
       "3       13  683.615385  Vehículos Especiales           dos       Automatica   \n",
       "4       16  555.437500       Coches Medianos           dos       Automatica   \n",
       "\n",
       "  combustible_tipo tamano_motor_tipo consumo_tipo  co2_tipo  \\\n",
       "0           Normal           pequeño         alto      alto   \n",
       "1           Normal            grande     muy alto  muy alto   \n",
       "2           Normal           pequeño         alto      alto   \n",
       "3           Normal            grande     muy alto  muy alto   \n",
       "4          Premium            grande         alto      alto   \n",
       "\n",
       "   consumo_litros_milla  \n",
       "0              0.222671  \n",
       "1              0.291185  \n",
       "2              0.236588  \n",
       "3              0.291185  \n",
       "4              0.236588  "
      ]
     },
     "execution_count": 42,
     "metadata": {},
     "output_type": "execute_result"
    }
   ],
   "source": [
    "vehiculos.head()"
   ]
  },
  {
   "cell_type": "markdown",
   "metadata": {},
   "source": [
    "Esto ya tiene más sentido! Ahora que tenemos los grupos guardamos el dataframe"
   ]
  },
  {
   "cell_type": "code",
   "execution_count": 43,
   "metadata": {},
   "outputs": [
    {
     "data": {
      "text/plain": [
       "fabricante                object\n",
       "modelo                    object\n",
       "year                       int64\n",
       "desplazamiento           float64\n",
       "cilindros                float64\n",
       "transmision               object\n",
       "traccion                  object\n",
       "clase                     object\n",
       "combustible               object\n",
       "consumo                    int64\n",
       "co2                      float64\n",
       "clase_tipo              category\n",
       "traccion_tipo           category\n",
       "transmision_tipo        category\n",
       "combustible_tipo        category\n",
       "tamano_motor_tipo       category\n",
       "consumo_tipo            category\n",
       "co2_tipo                category\n",
       "consumo_litros_milla     float64\n",
       "dtype: object"
      ]
     },
     "execution_count": 43,
     "metadata": {},
     "output_type": "execute_result"
    }
   ],
   "source": [
    "vehiculos.dtypes"
   ]
  },
  {
   "cell_type": "markdown",
   "metadata": {},
   "source": [
    "### Conclusion"
   ]
  },
  {
   "cell_type": "markdown",
   "metadata": {},
   "source": [
    "- La variable `consumo` esta definida en millas por galon y la variable `co2` está definida como gramos por milla. Dado que el co2 es la variable principal del dataset, hemos creado la variable `consumo_litros_milla` definida como litros por milla para poder comparar con `co2`"
   ]
  },
  {
   "cell_type": "markdown",
   "metadata": {},
   "source": [
    "### Exportar\n",
    "\n",
    "Generalmente, un formato muy extendido para guardar datos es csv. Esto, que normalmente no es mala idea, no es recomendable entre pasos cuando se está trabajando con python y pandas.\n",
    "\n",
    "CSV (o `Comma Separated Values`, es decir, Valores separados por comma), es un formato muy simple, que en general consiste de un elemento for fila, y cada campo separado por una coma.\n",
    "\n",
    "El principal problema que esto tiene es que al guardar datos en csv se pierden todos los datos que pandas a obtenido sobre el dataframe (por ejemplo, que tipo de variable se guarda en cada columna, o que variables son categóricas).\n",
    "\n",
    "Mi recomendación es usar un formato nativo de python para guardar dataframes entre pasos, y guardar los datos finales a un formato como csv, para que se puedan compartir con otras personas que no usen python.\n",
    "\n",
    "El formato standard de serialización en Python (y serialización significa básicamente guardar un archivo al disco duro) es `pickle`. Pandas puede leer y escribir a pickle sin problemas, y al leer un archivo pickle es como si nunca hubiesemos cerrado el jupyter notebook, el dataframe no habrá perdido ninguna propiedad."
   ]
  },
  {
   "cell_type": "code",
   "execution_count": 44,
   "metadata": {},
   "outputs": [],
   "source": [
    "vehiculos.to_pickle(\"../../Procesado_de_Datos/data/vehiculos.3.variables_agrupadas.pkl\")"
   ]
  },
  {
   "cell_type": "code",
   "execution_count": null,
   "metadata": {
    "collapsed": true
   },
   "outputs": [],
   "source": []
  }
 ],
 "metadata": {
  "kernelspec": {
   "display_name": "Python 3",
   "language": "python",
   "name": "python3"
  },
  "language_info": {
   "codemirror_mode": {
    "name": "ipython",
    "version": 3
   },
   "file_extension": ".py",
   "mimetype": "text/x-python",
   "name": "python",
   "nbconvert_exporter": "python",
   "pygments_lexer": "ipython3",
   "version": "3.7.0"
  }
 },
 "nbformat": 4,
 "nbformat_minor": 2
}
