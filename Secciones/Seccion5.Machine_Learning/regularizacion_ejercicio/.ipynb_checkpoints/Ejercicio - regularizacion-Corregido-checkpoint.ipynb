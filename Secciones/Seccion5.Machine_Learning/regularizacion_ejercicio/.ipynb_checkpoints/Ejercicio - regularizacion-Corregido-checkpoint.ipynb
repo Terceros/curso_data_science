{
 "cells": [
  {
   "cell_type": "markdown",
   "metadata": {},
   "source": [
    "# Ejercicio - Regularización\n",
    "\n",
    "Para este ejercicio vamos a usar el dataset de películas que usamos en el ejercicio de regresión lineal."
   ]
  },
  {
   "cell_type": "markdown",
   "metadata": {},
   "source": [
    "Cargamos los datos, y seleccionamos las columnas numéricas (eliminando los NaN)"
   ]
  },
  {
   "cell_type": "code",
   "execution_count": 2,
   "metadata": {},
   "outputs": [],
   "source": [
    "import pandas as pd\n",
    "import numpy as np\n",
    "from sklearn.linear_model import (LinearRegression, Lasso,\n",
    "                                  Ridge, ElasticNet)\n",
    "\n",
    "from sklearn.model_selection import cross_val_score\n",
    "from sklearn.metrics import mean_squared_error"
   ]
  },
  {
   "cell_type": "markdown",
   "metadata": {},
   "source": [
    "## Configuracion de datos"
   ]
  },
  {
   "cell_type": "code",
   "execution_count": 5,
   "metadata": {},
   "outputs": [],
   "source": [
    "pelis_numerico = pd.read_csv(\"data/movies.csv\").select_dtypes(np.number).fillna(0)\n",
    "variable_objetivo = \"ventas\""
   ]
  },
  {
   "cell_type": "code",
   "execution_count": 7,
   "metadata": {},
   "outputs": [],
   "source": [
    "X = pelis_numerico.drop(columns=variable_objetivo)\n",
    "y = pelis_numerico[variable_objetivo]"
   ]
  },
  {
   "cell_type": "markdown",
   "metadata": {},
   "source": [
    "### Crear modelo de regresión Lineal, de Regularizacion L1, L2 y Elasticnet. Calcular su RMSE (raiz del error cuadrático medio) medio con validación cruzada (5 particiones)"
   ]
  },
  {
   "cell_type": "markdown",
   "metadata": {},
   "source": [
    "###### Crear funciones para evaluar los datos"
   ]
  },
  {
   "cell_type": "code",
   "execution_count": 79,
   "metadata": {},
   "outputs": [],
   "source": [
    "class validador:\n",
    "    def __init__(self,X,y):\n",
    "        self.X = X\n",
    "        self.y = y\n",
    "    def __rmse_cross_val(self,estimator,X,y):\n",
    "        y_pred = estimator.predict(X)\n",
    "        return np.sqrt(mean_squared_error(y, y_pred))\n",
    "\n",
    "    def evaluar_modelo(self,estimador):\n",
    "        return cross_val_score(\n",
    "            estimator=estimador, \n",
    "            X=self.X,\n",
    "            y=self.y,\n",
    "            scoring=self.__rmse_cross_val, \n",
    "            cv=5\n",
    "        ).mean()"
   ]
  },
  {
   "cell_type": "code",
   "execution_count": 80,
   "metadata": {},
   "outputs": [],
   "source": [
    "fun_validar = validador(X=X,y=y)"
   ]
  },
  {
   "cell_type": "code",
   "execution_count": 81,
   "metadata": {},
   "outputs": [],
   "source": [
    "RESULTADOS = {}"
   ]
  },
  {
   "cell_type": "code",
   "execution_count": 82,
   "metadata": {},
   "outputs": [],
   "source": [
    "RESULTADOS['Lineal'] = fun_validar.evaluar_modelo(LinearRegression())\n",
    "RESULTADOS['l1'] = fun_validar.evaluar_modelo(Lasso())\n",
    "RESULTADOS['l2'] = fun_validar.evaluar_modelo(Ridge())\n",
    "RESULTADOS['elasticnet'] = fun_validar.evaluar_modelo(ElasticNet())"
   ]
  },
  {
   "cell_type": "code",
   "execution_count": 83,
   "metadata": {},
   "outputs": [
    {
     "data": {
      "text/plain": [
       "{'Lineal': 38057206.324066505,\n",
       " 'l1': 38057206.30112,\n",
       " 'l2': 38057185.378365085,\n",
       " 'elasticnet': 38047140.169548504}"
      ]
     },
     "execution_count": 83,
     "metadata": {},
     "output_type": "execute_result"
    }
   ],
   "source": [
    "RESULTADOS"
   ]
  }
 ],
 "metadata": {
  "kernelspec": {
   "display_name": "Python 3",
   "language": "python",
   "name": "python3"
  },
  "language_info": {
   "codemirror_mode": {
    "name": "ipython",
    "version": 3
   },
   "file_extension": ".py",
   "mimetype": "text/x-python",
   "name": "python",
   "nbconvert_exporter": "python",
   "pygments_lexer": "ipython3",
   "version": "3.7.1"
  }
 },
 "nbformat": 4,
 "nbformat_minor": 2
}
