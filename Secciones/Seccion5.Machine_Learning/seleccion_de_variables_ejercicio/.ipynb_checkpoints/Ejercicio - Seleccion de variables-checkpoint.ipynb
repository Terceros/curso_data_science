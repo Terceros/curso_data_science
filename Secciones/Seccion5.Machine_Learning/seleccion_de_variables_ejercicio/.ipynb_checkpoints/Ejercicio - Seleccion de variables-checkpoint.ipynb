{
 "cells": [
  {
   "cell_type": "markdown",
   "metadata": {},
   "source": [
    "# Ejercicio - Selección de Variables"
   ]
  },
  {
   "cell_type": "code",
   "execution_count": 2,
   "metadata": {},
   "outputs": [
    {
     "data": {
      "text/html": [
       "<div>\n",
       "<style scoped>\n",
       "    .dataframe tbody tr th:only-of-type {\n",
       "        vertical-align: middle;\n",
       "    }\n",
       "\n",
       "    .dataframe tbody tr th {\n",
       "        vertical-align: top;\n",
       "    }\n",
       "\n",
       "    .dataframe thead th {\n",
       "        text-align: right;\n",
       "    }\n",
       "</style>\n",
       "<table border=\"1\" class=\"dataframe\">\n",
       "  <thead>\n",
       "    <tr style=\"text-align: right;\">\n",
       "      <th></th>\n",
       "      <th>genero_1</th>\n",
       "      <th>genero_2</th>\n",
       "      <th>genero_3</th>\n",
       "      <th>genero_4</th>\n",
       "      <th>genero_5</th>\n",
       "      <th>genero_6</th>\n",
       "      <th>genero_7</th>\n",
       "      <th>genero_8</th>\n",
       "      <th>genero_9</th>\n",
       "      <th>genero_10</th>\n",
       "      <th>...</th>\n",
       "      <th>pais_31</th>\n",
       "      <th>pais_32</th>\n",
       "      <th>pais_33</th>\n",
       "      <th>pais_-1</th>\n",
       "      <th>presupuesto</th>\n",
       "      <th>popularidad</th>\n",
       "      <th>ventas</th>\n",
       "      <th>duracion</th>\n",
       "      <th>puntuacion</th>\n",
       "      <th>n_votos</th>\n",
       "    </tr>\n",
       "  </thead>\n",
       "  <tbody>\n",
       "    <tr>\n",
       "      <th>0</th>\n",
       "      <td>1</td>\n",
       "      <td>0</td>\n",
       "      <td>0</td>\n",
       "      <td>0</td>\n",
       "      <td>0</td>\n",
       "      <td>0</td>\n",
       "      <td>0</td>\n",
       "      <td>0</td>\n",
       "      <td>0</td>\n",
       "      <td>0</td>\n",
       "      <td>...</td>\n",
       "      <td>0</td>\n",
       "      <td>0</td>\n",
       "      <td>0</td>\n",
       "      <td>0</td>\n",
       "      <td>NaN</td>\n",
       "      <td>8.387519</td>\n",
       "      <td>76578911.0</td>\n",
       "      <td>106.0</td>\n",
       "      <td>5.7</td>\n",
       "      <td>173.0</td>\n",
       "    </tr>\n",
       "    <tr>\n",
       "      <th>1</th>\n",
       "      <td>0</td>\n",
       "      <td>1</td>\n",
       "      <td>0</td>\n",
       "      <td>0</td>\n",
       "      <td>0</td>\n",
       "      <td>0</td>\n",
       "      <td>0</td>\n",
       "      <td>0</td>\n",
       "      <td>0</td>\n",
       "      <td>0</td>\n",
       "      <td>...</td>\n",
       "      <td>0</td>\n",
       "      <td>0</td>\n",
       "      <td>0</td>\n",
       "      <td>0</td>\n",
       "      <td>NaN</td>\n",
       "      <td>0.894647</td>\n",
       "      <td>676525.0</td>\n",
       "      <td>106.0</td>\n",
       "      <td>6.7</td>\n",
       "      <td>13.0</td>\n",
       "    </tr>\n",
       "    <tr>\n",
       "      <th>2</th>\n",
       "      <td>1</td>\n",
       "      <td>0</td>\n",
       "      <td>0</td>\n",
       "      <td>0</td>\n",
       "      <td>0</td>\n",
       "      <td>0</td>\n",
       "      <td>0</td>\n",
       "      <td>0</td>\n",
       "      <td>0</td>\n",
       "      <td>0</td>\n",
       "      <td>...</td>\n",
       "      <td>0</td>\n",
       "      <td>0</td>\n",
       "      <td>0</td>\n",
       "      <td>0</td>\n",
       "      <td>3500000.0</td>\n",
       "      <td>14.569650</td>\n",
       "      <td>28215918.0</td>\n",
       "      <td>91.0</td>\n",
       "      <td>7.0</td>\n",
       "      <td>513.0</td>\n",
       "    </tr>\n",
       "    <tr>\n",
       "      <th>3</th>\n",
       "      <td>1</td>\n",
       "      <td>0</td>\n",
       "      <td>0</td>\n",
       "      <td>0</td>\n",
       "      <td>0</td>\n",
       "      <td>0</td>\n",
       "      <td>0</td>\n",
       "      <td>0</td>\n",
       "      <td>0</td>\n",
       "      <td>0</td>\n",
       "      <td>...</td>\n",
       "      <td>0</td>\n",
       "      <td>0</td>\n",
       "      <td>0</td>\n",
       "      <td>0</td>\n",
       "      <td>NaN</td>\n",
       "      <td>8.963037</td>\n",
       "      <td>32.0</td>\n",
       "      <td>87.0</td>\n",
       "      <td>6.0</td>\n",
       "      <td>124.0</td>\n",
       "    </tr>\n",
       "    <tr>\n",
       "      <th>4</th>\n",
       "      <td>1</td>\n",
       "      <td>0</td>\n",
       "      <td>0</td>\n",
       "      <td>0</td>\n",
       "      <td>0</td>\n",
       "      <td>0</td>\n",
       "      <td>0</td>\n",
       "      <td>0</td>\n",
       "      <td>0</td>\n",
       "      <td>0</td>\n",
       "      <td>...</td>\n",
       "      <td>0</td>\n",
       "      <td>0</td>\n",
       "      <td>0</td>\n",
       "      <td>0</td>\n",
       "      <td>12000000.0</td>\n",
       "      <td>9.592265</td>\n",
       "      <td>41205099.0</td>\n",
       "      <td>92.0</td>\n",
       "      <td>6.5</td>\n",
       "      <td>767.0</td>\n",
       "    </tr>\n",
       "  </tbody>\n",
       "</table>\n",
       "<p>5 rows × 645 columns</p>\n",
       "</div>"
      ],
      "text/plain": [
       "   genero_1  genero_2  genero_3  genero_4  genero_5  genero_6  genero_7  \\\n",
       "0         1         0         0         0         0         0         0   \n",
       "1         0         1         0         0         0         0         0   \n",
       "2         1         0         0         0         0         0         0   \n",
       "3         1         0         0         0         0         0         0   \n",
       "4         1         0         0         0         0         0         0   \n",
       "\n",
       "   genero_8  genero_9  genero_10   ...     pais_31  pais_32  pais_33  pais_-1  \\\n",
       "0         0         0          0   ...           0        0        0        0   \n",
       "1         0         0          0   ...           0        0        0        0   \n",
       "2         0         0          0   ...           0        0        0        0   \n",
       "3         0         0          0   ...           0        0        0        0   \n",
       "4         0         0          0   ...           0        0        0        0   \n",
       "\n",
       "   presupuesto  popularidad      ventas  duracion  puntuacion  n_votos  \n",
       "0          NaN     8.387519  76578911.0     106.0         5.7    173.0  \n",
       "1          NaN     0.894647    676525.0     106.0         6.7     13.0  \n",
       "2    3500000.0    14.569650  28215918.0      91.0         7.0    513.0  \n",
       "3          NaN     8.963037        32.0      87.0         6.0    124.0  \n",
       "4   12000000.0     9.592265  41205099.0      92.0         6.5    767.0  \n",
       "\n",
       "[5 rows x 645 columns]"
      ]
     },
     "execution_count": 2,
     "metadata": {},
     "output_type": "execute_result"
    }
   ],
   "source": [
    "import pandas as pd\n",
    "import numpy as np\n",
    "from sklearn.preprocessing import Imputer\n",
    "from category_encoders import OneHotEncoder\n",
    "\n",
    "pelis = pd.read_csv(\"data/movies.csv\").drop(columns=\"titulo\")\n",
    "variable_objetivo = \"ventas\"\n",
    "\n",
    "# eliminamos las peliculas sin ventas\n",
    "pelis = pelis[pelis[variable_objetivo].notnull()]\n",
    "\n",
    "variables_independientes = pelis.drop(variable_objetivo, axis=1).columns\n",
    "pelis = OneHotEncoder().fit_transform(pelis)\n",
    "\n",
    "pelis.head()"
   ]
  },
  {
   "cell_type": "code",
   "execution_count": 3,
   "metadata": {},
   "outputs": [],
   "source": [
    "X = Imputer(strategy=\"mean\").fit_transform(pelis.drop(variable_objetivo, axis=1))\n",
    "y = pelis[variable_objetivo]"
   ]
  },
  {
   "cell_type": "markdown",
   "metadata": {},
   "source": [
    "### Evaluacion de modelos"
   ]
  },
  {
   "cell_type": "code",
   "execution_count": 6,
   "metadata": {},
   "outputs": [],
   "source": [
    "from numpy.core.umath_tests import inner1d\n",
    "from sklearn.model_selection import cross_validate\n",
    "from sklearn.metrics import mean_squared_error\n",
    "from sklearn.svm import SVR\n",
    "from sklearn.ensemble import RandomForestRegressor\n",
    "from sklearn.linear_model import LinearRegression"
   ]
  },
  {
   "cell_type": "code",
   "execution_count": 11,
   "metadata": {},
   "outputs": [],
   "source": [
    "#Funcion para evaluar el modelo\n",
    "def rmse(y_real, y_pred):\n",
    "    return np.sqrt(mean_squared_error(y_real, y_pred))\n",
    "\n",
    "def rmse_cv(estimator, X, y):\n",
    "    y_pred = estimator.predict(X)\n",
    "    return rmse(y, y_pred)\n",
    "\n",
    "def evaluar_modelo(estimador, X, y):\n",
    "    resultados_estimador = cross_validate(estimador, X, y,\n",
    "                     scoring=rmse_cv, n_jobs=-1, cv=10, return_train_score=True)\n",
    "    return resultados_estimador"
   ]
  },
  {
   "cell_type": "code",
   "execution_count": 12,
   "metadata": {},
   "outputs": [],
   "source": [
    "#Funcion para ver el resultado\n",
    "resultados = {}\n",
    "\n",
    "def ver_resultados():\n",
    "    resultados_df  = pd.DataFrame(resultados).T\n",
    "    resultados_cols = resultados_df.columns\n",
    "    for col in resultados_df:\n",
    "        resultados_df[col] = resultados_df[col].apply(np.mean)\n",
    "        resultados_df[col+\"_idx\"] = resultados_df[col] / resultados_df[col].min()\n",
    "    return resultados_df"
   ]
  },
  {
   "cell_type": "markdown",
   "metadata": {},
   "source": [
    "### Crear un Selector KBest con el criterio `f_regression` que seleccione 5 variables , transformar los datos,  y comprobar las dimensiones del nuevo dataset"
   ]
  },
  {
   "cell_type": "code",
   "execution_count": 19,
   "metadata": {},
   "outputs": [],
   "source": [
    "from sklearn.feature_selection import SelectKBest, f_regression"
   ]
  },
  {
   "cell_type": "code",
   "execution_count": 20,
   "metadata": {},
   "outputs": [],
   "source": [
    "selector_kbest_5 = SelectKBest(f_regression,k=5)\n",
    "pelis_x_kbest_5 = selector_kbest_5.fit_transform(X=X,y=y)"
   ]
  },
  {
   "cell_type": "code",
   "execution_count": 31,
   "metadata": {},
   "outputs": [
    {
     "data": {
      "text/plain": [
       "Index(['productores_177', 'pais_1', 'presupuesto', 'popularidad',\n",
       "       'puntuacion'],\n",
       "      dtype='object')"
      ]
     },
     "execution_count": 31,
     "metadata": {},
     "output_type": "execute_result"
    }
   ],
   "source": [
    "pelis.loc[:,selector_kbest_5.get_support()].columns"
   ]
  },
  {
   "cell_type": "markdown",
   "metadata": {},
   "source": [
    "### Crear un Selector RFE y entrenar con un Random Forest con las 20 mejores variables. ¿Que variables son las que se han elegido?"
   ]
  },
  {
   "cell_type": "code",
   "execution_count": 34,
   "metadata": {},
   "outputs": [],
   "source": [
    "from sklearn.ensemble import RandomForestRegressor\n",
    "from sklearn.feature_selection import RFE"
   ]
  },
  {
   "cell_type": "code",
   "execution_count": 37,
   "metadata": {},
   "outputs": [],
   "source": [
    "estimador_rf_20 = RandomForestRegressor()\n",
    "selector_rf20_rf = RFE(estimador_rf_20, n_features_to_select=20)\n",
    "pelis_rf20_rf = selector_rf20_rf.fit_transform(X,y)"
   ]
  },
  {
   "cell_type": "code",
   "execution_count": 39,
   "metadata": {},
   "outputs": [
    {
     "data": {
      "text/plain": [
       "(1203, 20)"
      ]
     },
     "execution_count": 39,
     "metadata": {},
     "output_type": "execute_result"
    }
   ],
   "source": [
    "pelis_rf20_rf.shape"
   ]
  },
  {
   "cell_type": "code",
   "execution_count": 40,
   "metadata": {},
   "outputs": [
    {
     "data": {
      "text/plain": [
       "Index(['genero_1', 'genero_2', 'productores_4', 'productores_5',\n",
       "       'productores_7', 'productores_12', 'productores_20', 'productores_24',\n",
       "       'productores_33', 'productores_36', 'productores_53', 'productores_177',\n",
       "       'productores_414', 'productores_500', 'pais_1', 'presupuesto',\n",
       "       'popularidad', 'ventas', 'duracion', 'puntuacion'],\n",
       "      dtype='object')"
      ]
     },
     "execution_count": 40,
     "metadata": {},
     "output_type": "execute_result"
    }
   ],
   "source": [
    "pelis.loc[:,selector_rf20_rf.support_].columns"
   ]
  },
  {
   "cell_type": "code",
   "execution_count": 43,
   "metadata": {},
   "outputs": [],
   "source": [
    "resultados[\"pelis_rf20_rf\"] = evaluar_modelo(RandomForestRegressor(),pelis_rf20_rf,y)"
   ]
  },
  {
   "cell_type": "code",
   "execution_count": 45,
   "metadata": {},
   "outputs": [],
   "source": [
    "resultados[\"pelis_x_kbest_5\"] = evaluar_modelo(LinearRegression(),pelis_x_kbest_5,y)"
   ]
  },
  {
   "cell_type": "code",
   "execution_count": 46,
   "metadata": {},
   "outputs": [
    {
     "data": {
      "text/html": [
       "<div>\n",
       "<style scoped>\n",
       "    .dataframe tbody tr th:only-of-type {\n",
       "        vertical-align: middle;\n",
       "    }\n",
       "\n",
       "    .dataframe tbody tr th {\n",
       "        vertical-align: top;\n",
       "    }\n",
       "\n",
       "    .dataframe thead th {\n",
       "        text-align: right;\n",
       "    }\n",
       "</style>\n",
       "<table border=\"1\" class=\"dataframe\">\n",
       "  <thead>\n",
       "    <tr style=\"text-align: right;\">\n",
       "      <th></th>\n",
       "      <th>fit_time</th>\n",
       "      <th>score_time</th>\n",
       "      <th>test_score</th>\n",
       "      <th>train_score</th>\n",
       "      <th>fit_time_idx</th>\n",
       "      <th>score_time_idx</th>\n",
       "      <th>test_score_idx</th>\n",
       "      <th>train_score_idx</th>\n",
       "    </tr>\n",
       "  </thead>\n",
       "  <tbody>\n",
       "    <tr>\n",
       "      <th>pelis_rf20_rf</th>\n",
       "      <td>0.095967</td>\n",
       "      <td>0.002739</td>\n",
       "      <td>4.115929e+07</td>\n",
       "      <td>1.760635e+07</td>\n",
       "      <td>2.385165</td>\n",
       "      <td>3.962608</td>\n",
       "      <td>1.015986</td>\n",
       "      <td>1.000000</td>\n",
       "    </tr>\n",
       "    <tr>\n",
       "      <th>pelis_x_kbest_5</th>\n",
       "      <td>0.040235</td>\n",
       "      <td>0.000691</td>\n",
       "      <td>4.051167e+07</td>\n",
       "      <td>3.879946e+07</td>\n",
       "      <td>1.000000</td>\n",
       "      <td>1.000000</td>\n",
       "      <td>1.000000</td>\n",
       "      <td>2.203719</td>\n",
       "    </tr>\n",
       "  </tbody>\n",
       "</table>\n",
       "</div>"
      ],
      "text/plain": [
       "                 fit_time  score_time    test_score   train_score  \\\n",
       "pelis_rf20_rf    0.095967    0.002739  4.115929e+07  1.760635e+07   \n",
       "pelis_x_kbest_5  0.040235    0.000691  4.051167e+07  3.879946e+07   \n",
       "\n",
       "                 fit_time_idx  score_time_idx  test_score_idx  train_score_idx  \n",
       "pelis_rf20_rf        2.385165        3.962608        1.015986         1.000000  \n",
       "pelis_x_kbest_5      1.000000        1.000000        1.000000         2.203719  "
      ]
     },
     "execution_count": 46,
     "metadata": {},
     "output_type": "execute_result"
    }
   ],
   "source": [
    "ver_resultados()"
   ]
  }
 ],
 "metadata": {
  "kernelspec": {
   "display_name": "Python 3",
   "language": "python",
   "name": "python3"
  },
  "language_info": {
   "codemirror_mode": {
    "name": "ipython",
    "version": 3
   },
   "file_extension": ".py",
   "mimetype": "text/x-python",
   "name": "python",
   "nbconvert_exporter": "python",
   "pygments_lexer": "ipython3",
   "version": "3.7.1"
  }
 },
 "nbformat": 4,
 "nbformat_minor": 2
}
