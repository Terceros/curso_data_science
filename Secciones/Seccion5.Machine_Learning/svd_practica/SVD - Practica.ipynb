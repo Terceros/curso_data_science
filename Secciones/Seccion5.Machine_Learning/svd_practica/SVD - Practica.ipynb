{
 "cells": [
  {
   "cell_type": "code",
   "execution_count": 1,
   "metadata": {},
   "outputs": [
    {
     "name": "stdout",
     "output_type": "stream",
     "text": [
      "2019-01-16T21:32:16-06:00\n",
      "\n",
      "CPython 3.7.1\n",
      "IPython 7.2.0\n",
      "\n",
      "compiler   : GCC 7.3.0\n",
      "system     : Linux\n",
      "release    : 4.15.0-43-generic\n",
      "machine    : x86_64\n",
      "processor  : x86_64\n",
      "CPU cores  : 4\n",
      "interpreter: 64bit\n"
     ]
    }
   ],
   "source": [
    "%load_ext watermark\n",
    "%watermark"
   ]
  },
  {
   "cell_type": "code",
   "execution_count": 2,
   "metadata": {},
   "outputs": [],
   "source": [
    "from IPython.display import Image\n",
    "import pandas as pd\n",
    "import numpy as np\n",
    "import matplotlib\n",
    "import matplotlib.pyplot as plt\n",
    "%matplotlib inline\n",
    "\n",
    "matplotlib.rcParams['figure.figsize'] = [12, 12]\n",
    "np.random.seed(42)"
   ]
  },
  {
   "cell_type": "markdown",
   "metadata": {},
   "source": [
    "# Descomposición en Valores Singulares (SVD)\n",
    "\n",
    "En esta sección vamos a ver aplicaciones prácticas de SVD así como su implementación en scipy y en scikit-learn"
   ]
  },
  {
   "cell_type": "markdown",
   "metadata": {},
   "source": [
    "Recordamos que el método SVD descompone una matriz en sus factores singulares: \n",
    "\n",
    "$$\\underset{(n \\times d)}{A} = \\underset{(n \\times n)}{U} \\underset{(n \\times d)}{\\Sigma}\\underset{(d \\times d)}{V^T}$$"
   ]
  },
  {
   "cell_type": "markdown",
   "metadata": {},
   "source": [
    "### Ejemplo. Compresión de datos.\n",
    "\n",
    "SVD puede ser utilizado para comprimir imágenes, extrayendo aquellos componentes que son fundamentales a la hora de representar lo que hay en las imágenes y eliminando el resto (el ruido).\n",
    "\n",
    "Para este ejemplo vamos a usar el dataset [Labeled Faces in the Wild (LFW)](http://vis-www.cs.umass.edu/lfw/) que contiene un conjunto de imágenes de personajes famosos enfocado al reconocimiento facial (y que es un dataset desarrollado por la universidad donde hice mi proyecto final de carrera, **let's go UMASS!**)"
   ]
  },
  {
   "cell_type": "code",
   "execution_count": 3,
   "metadata": {},
   "outputs": [],
   "source": [
    "from sklearn.datasets import fetch_lfw_people"
   ]
  },
  {
   "cell_type": "code",
   "execution_count": 4,
   "metadata": {},
   "outputs": [
    {
     "name": "stderr",
     "output_type": "stream",
     "text": [
      "Downloading LFW metadata: https://ndownloader.figshare.com/files/5976012\n",
      "Downloading LFW metadata: https://ndownloader.figshare.com/files/5976009\n",
      "Downloading LFW metadata: https://ndownloader.figshare.com/files/5976006\n",
      "Downloading LFW data (~200MB): https://ndownloader.figshare.com/files/5976015\n"
     ]
    }
   ],
   "source": [
    "caras = fetch_lfw_people(min_faces_per_person=20, resize=0.7)\n",
    "\n",
    "caras.images = caras.images[:10]\n",
    "caras.target = caras.target[:10]"
   ]
  },
  {
   "cell_type": "code",
   "execution_count": 20,
   "metadata": {},
   "outputs": [
    {
     "data": {
      "text/plain": [
       "array(['Winona Ryder', 'Jean Chretien', 'Carlos Menem', 'Ariel Sharon',\n",
       "       'Alvaro Uribe', 'Colin Powell', 'Recep Tayyip Erdogan',\n",
       "       'Gray Davis', 'George Robertson', 'Silvio Berlusconi'],\n",
       "      dtype='<U25')"
      ]
     },
     "execution_count": 20,
     "metadata": {},
     "output_type": "execute_result"
    }
   ],
   "source": [
    "caras.target_names[caras.target]"
   ]
  },
  {
   "cell_type": "code",
   "execution_count": 7,
   "metadata": {},
   "outputs": [
    {
     "data": {
      "text/plain": [
       "array([61, 25,  9,  5,  1, 10, 48, 17, 13, 54])"
      ]
     },
     "execution_count": 7,
     "metadata": {},
     "output_type": "execute_result"
    }
   ],
   "source": [
    "caras.target"
   ]
  },
  {
   "cell_type": "code",
   "execution_count": 8,
   "metadata": {},
   "outputs": [
    {
     "data": {
      "text/plain": [
       "(10, 87, 65)"
      ]
     },
     "execution_count": 8,
     "metadata": {},
     "output_type": "execute_result"
    }
   ],
   "source": [
    "caras.images.shape"
   ]
  },
  {
   "cell_type": "markdown",
   "metadata": {},
   "source": [
    "El dataset consiste de 3020 imágenes de famosos (los famosos aparecen múltiples veces). La variable objetivo es el nombre del famoso.\n",
    "\n",
    "Las imágenes son básicamente arrays de numeros donde cuanto mayor sea el número más claro es el píxel (son imágenes de tamaño 87 pixeles de anchura por 65 de altura)."
   ]
  },
  {
   "cell_type": "code",
   "execution_count": 9,
   "metadata": {},
   "outputs": [
    {
     "data": {
      "text/plain": [
       "array([[ 57.      ,  60.333332,  78.      , ...,  40.666668,  36.666668,\n",
       "         34.      ],\n",
       "       [ 52.666668,  60.      ,  92.      , ...,  46.666668,  36.      ,\n",
       "         30.      ],\n",
       "       [ 46.      ,  66.      , 113.333336, ...,  51.      ,  43.333332,\n",
       "         37.666668],\n",
       "       ...,\n",
       "       [ 61.      ,  62.666668,  62.333332, ...,  19.      ,  18.333334,\n",
       "         18.666666],\n",
       "       [ 62.666668,  64.666664,  67.      , ...,  17.333334,  18.      ,\n",
       "         22.333334],\n",
       "       [ 65.333336,  68.      ,  67.      , ...,  17.333334,  16.666666,\n",
       "         22.666666]], dtype=float32)"
      ]
     },
     "execution_count": 9,
     "metadata": {},
     "output_type": "execute_result"
    }
   ],
   "source": [
    "caras.images[0]"
   ]
  },
  {
   "cell_type": "code",
   "execution_count": 12,
   "metadata": {},
   "outputs": [
    {
     "data": {
      "image/png": "[encoded data removed]",
      "text/plain": [
       "<Figure size 1080x576 with 10 Axes>"
      ]
     },
     "metadata": {},
     "output_type": "display_data"
    }
   ],
   "source": [
    "image_shape = caras.images[0].shape\n",
    "\n",
    "def dibujar_caras(arrays_caras):\n",
    "    fig, axes = plt.subplots(2, 5, figsize=(15, 8),\n",
    "                         subplot_kw={'xticks': (), 'yticks': ()})\n",
    "    for target, image, ax in zip(caras.target, arrays_caras, axes.ravel()):\n",
    "        ax.imshow(image, cmap=\"gray\")\n",
    "        ax.set_title(caras.target_names[target])\n",
    "        \n",
    "dibujar_caras(caras.images);"
   ]
  },
  {
   "cell_type": "markdown",
   "metadata": {},
   "source": [
    "Creamos una función auxiliar para mostrar imágenes."
   ]
  },
  {
   "cell_type": "code",
   "execution_count": 14,
   "metadata": {},
   "outputs": [],
   "source": [
    "def dibujar_cara(matriz_cara):\n",
    "    plt.figure(figsize=(9,6))\n",
    "    plt.imshow(matriz_cara, cmap='gray');"
   ]
  },
  {
   "cell_type": "code",
   "execution_count": 19,
   "metadata": {},
   "outputs": [
    {
     "data": {
      "image/png": "[encoded data removed]",
      "text/plain": [
       "<Figure size 648x432 with 1 Axes>"
      ]
     },
     "metadata": {
      "needs_background": "light"
     },
     "output_type": "display_data"
    }
   ],
   "source": [
    "dibujar_cara(caras.images[0])"
   ]
  },
  {
   "cell_type": "markdown",
   "metadata": {},
   "source": [
    "Podemos usar `nbytes` en un array de numpy para ver el tamaño en memoria del mismo"
   ]
  },
  {
   "cell_type": "code",
   "execution_count": 20,
   "metadata": {},
   "outputs": [],
   "source": [
    "def kb_totales(*arrays):\n",
    "    return sum(map(lambda a: a.nbytes, arrays)) / 1024"
   ]
  },
  {
   "cell_type": "markdown",
   "metadata": {},
   "source": [
    "Ahora podemos usar esta función para calcular el tamaño en memoria de cualquier número de arrays de numpy"
   ]
  },
  {
   "cell_type": "code",
   "execution_count": 21,
   "metadata": {},
   "outputs": [
    {
     "data": {
      "text/plain": [
       "22.08984375"
      ]
     },
     "execution_count": 21,
     "metadata": {},
     "output_type": "execute_result"
    }
   ],
   "source": [
    "kb_totales(caras.images[0])"
   ]
  },
  {
   "cell_type": "markdown",
   "metadata": {},
   "source": [
    "Vemos que cada imagen tiene un tamaño de 22 kilobytes aproximadamente"
   ]
  },
  {
   "cell_type": "markdown",
   "metadata": {},
   "source": [
    "Para hacer una descomposición SVD completa podemos usar el método [`scipy.linalg.svd`](https://docs.scipy.org/doc/numpy/reference/generated/numpy.linalg.svd.html#numpy.linalg.svd)."
   ]
  },
  {
   "cell_type": "code",
   "execution_count": 22,
   "metadata": {},
   "outputs": [],
   "source": [
    "from scipy.linalg import svd"
   ]
  },
  {
   "cell_type": "code",
   "execution_count": 23,
   "metadata": {},
   "outputs": [],
   "source": [
    "svd?"
   ]
  },
  {
   "cell_type": "code",
   "execution_count": 24,
   "metadata": {},
   "outputs": [],
   "source": [
    "U, s, V = np.linalg.svd(caras.images[0], full_matrices=True)"
   ]
  },
  {
   "cell_type": "code",
   "execution_count": 26,
   "metadata": {},
   "outputs": [
    {
     "data": {
      "text/plain": [
       "((87, 87), (65,), (65, 65))"
      ]
     },
     "execution_count": 26,
     "metadata": {},
     "output_type": "execute_result"
    }
   ],
   "source": [
    " U.shape, s.shape, V.shape"
   ]
  },
  {
   "cell_type": "markdown",
   "metadata": {},
   "source": [
    "Vemos que el método svd no devuelve la matriz de valores singulares Sigma como matriz, sino como vector (el resto de elementos son 0). La convertimos a una matriz diagonal de tamaño $87\\times65$."
   ]
  },
  {
   "cell_type": "code",
   "execution_count": 27,
   "metadata": {},
   "outputs": [
    {
     "data": {
      "text/plain": [
       "(87, 65)"
      ]
     },
     "execution_count": 27,
     "metadata": {},
     "output_type": "execute_result"
    }
   ],
   "source": [
    "S = np.zeros((U.shape[0], V.shape[0]))\n",
    "S[:V.shape[0], :V.shape[0]] = np.diag(s)\n",
    "S.shape"
   ]
  },
  {
   "cell_type": "code",
   "execution_count": 28,
   "metadata": {},
   "outputs": [
    {
     "data": {
      "text/plain": [
       "array([[10847.68457031,     0.        ,     0.        , ...,\n",
       "            0.        ,     0.        ,     0.        ],\n",
       "       [    0.        ,  1495.50854492,     0.        , ...,\n",
       "            0.        ,     0.        ,     0.        ],\n",
       "       [    0.        ,     0.        ,   967.43719482, ...,\n",
       "            0.        ,     0.        ,     0.        ],\n",
       "       ...,\n",
       "       [    0.        ,     0.        ,     0.        , ...,\n",
       "            0.        ,     0.        ,     0.        ],\n",
       "       [    0.        ,     0.        ,     0.        , ...,\n",
       "            0.        ,     0.        ,     0.        ],\n",
       "       [    0.        ,     0.        ,     0.        , ...,\n",
       "            0.        ,     0.        ,     0.        ]])"
      ]
     },
     "execution_count": 28,
     "metadata": {},
     "output_type": "execute_result"
    }
   ],
   "source": [
    "S"
   ]
  },
  {
   "cell_type": "markdown",
   "metadata": {},
   "source": [
    "Podemos recomponer la imagen original haciendo el producto de las matrices U, S y V."
   ]
  },
  {
   "cell_type": "code",
   "execution_count": 29,
   "metadata": {},
   "outputs": [],
   "source": [
    "cara_svd = U @ S @ V"
   ]
  },
  {
   "cell_type": "code",
   "execution_count": 30,
   "metadata": {},
   "outputs": [
    {
     "data": {
      "image/png": "[encoded data removed]",
      "text/plain": [
       "<Figure size 648x432 with 1 Axes>"
      ]
     },
     "metadata": {
      "needs_background": "light"
     },
     "output_type": "display_data"
    }
   ],
   "source": [
    "dibujar_cara(caras.images[0])"
   ]
  },
  {
   "cell_type": "code",
   "execution_count": 31,
   "metadata": {},
   "outputs": [
    {
     "data": {
      "image/png": "[encoded data removed]",
      "text/plain": [
       "<Figure size 648x432 with 1 Axes>"
      ]
     },
     "metadata": {
      "needs_background": "light"
     },
     "output_type": "display_data"
    }
   ],
   "source": [
    "dibujar_cara(cara_svd)"
   ]
  },
  {
   "cell_type": "code",
   "execution_count": 32,
   "metadata": {},
   "outputs": [
    {
     "data": {
      "text/plain": [
       "46.32421875"
      ]
     },
     "execution_count": 32,
     "metadata": {},
     "output_type": "execute_result"
    }
   ],
   "source": [
    "kb_totales(U, s, V)"
   ]
  },
  {
   "cell_type": "markdown",
   "metadata": {},
   "source": [
    "Vemos que las matrices factores de la imagen ocupan más tamaño que la imagen original (47 kb versus 22 kb). Sin embargo, hemos realizado una descomposición total (**Full SVD**).\n",
    "\n",
    "Se puede descomponer usando un número específico de valroes singulares **K** que sea menor que d y utilizarlos para recomponer la imagen a costa de perder algo de información."
   ]
  },
  {
   "cell_type": "code",
   "execution_count": 34,
   "metadata": {},
   "outputs": [
    {
     "data": {
      "application/vnd.jupyter.widget-view+json": {
       "model_id": "245523627f514443810438b1a696bc3a",
       "version_major": 2,
       "version_minor": 0
      },
      "text/plain": [
       "interactive(children=(IntSlider(value=65, description='k', max=65, min=1), Output()), _dom_classes=('widget-in…"
      ]
     },
     "metadata": {},
     "output_type": "display_data"
    }
   ],
   "source": [
    "from ipywidgets import IntSlider, interact\n",
    "\n",
    "@interact(k=IntSlider(65, min=1, max=65))\n",
    "def evaluar_k_imagen(k):\n",
    "    U_k = U[:, :k]\n",
    "    s_k = s[:k]\n",
    "    V_k = V[:k, :]\n",
    "    memoria_k = kb_totales(U_k, s_k, V_k)\n",
    "    # Calculamos la reduccion en tamaño respecto a la imagen original\n",
    "    pct_reduccion = 100 * (1 - (memoria_k / kb_totales(caras.images[0])))\n",
    "    imagen_k_svd =  U_k @ np.diag(s_k) @ V_k\n",
    "    dibujar_cara(imagen_k_svd)\n",
    "    plt.title(\"{} valores singulares, tamaño: {:.1f} kb ({:.1f}% menor)\".format(\n",
    "    k, memoria_k, pct_reduccion), size=20)\n",
    "    plt.show();"
   ]
  },
  {
   "cell_type": "markdown",
   "metadata": {
    "collapsed": true
   },
   "source": [
    "Vemos que podemos seguir reduciendo K y obteniendo una imagen bastante fiel con una reducción de tamaño considerable."
   ]
  },
  {
   "cell_type": "markdown",
   "metadata": {},
   "source": [
    "# Ejemplo. Sistemas de Recomendación.\n",
    "\n",
    "Como hemos visto el Método descompone una matriz en un producto de sus factores, descomponiendola en sus vectores y valores singulares. El resultado no és exactamente igual que la matriz original, ya que al extraer los valores singulares, se ha eliminado aquella información que no es fundamental al dataset.\n",
    "\n",
    "Por ello, una aplicación interesante de SVD es en los Sistemas de recomendación. Dado que al aplicar SVD a una matriz la estamos de alguna forma limpiando, podemos conseguir mostrar información latente de la misma. \n",
    "\n",
    "Por ejemplo, si tenemos datos de películas que han visto usuarios y si les han gustado o no, en general para cada usuario, habrá un gran porcentaje de películas que no han evaluado, y por lo tanto no sabemos si le gustan o no. Si pensamos en dicho dataset como una matriz de N usuarios y d películas, podemos usar SVD para rellenar los huecos de dicha matriz y predecir la puntuación que un usuario le daria a una película que aún no ha visto.\n",
    "\n",
    "Para este ejemplo vamos a usar una versión reducida del dataset [Movielens](https://grouplens.org/datasets/movielens/), que contiene datos de la página **movielens.org**, una página donde se pueden evaluar y comentar películas."
   ]
  },
  {
   "cell_type": "markdown",
   "metadata": {},
   "source": [
    "Cargamos los datos"
   ]
  },
  {
   "cell_type": "code",
   "execution_count": 35,
   "metadata": {},
   "outputs": [
    {
     "data": {
      "text/plain": [
       "(183142, 3)"
      ]
     },
     "execution_count": 35,
     "metadata": {},
     "output_type": "execute_result"
    }
   ],
   "source": [
    "ratings = pd.read_csv(\"data/ratings.csv\")\n",
    "ratings.shape"
   ]
  },
  {
   "cell_type": "code",
   "execution_count": 36,
   "metadata": {},
   "outputs": [
    {
     "data": {
      "text/html": [
       "<div>\n",
       "<style scoped>\n",
       "    .dataframe tbody tr th:only-of-type {\n",
       "        vertical-align: middle;\n",
       "    }\n",
       "\n",
       "    .dataframe tbody tr th {\n",
       "        vertical-align: top;\n",
       "    }\n",
       "\n",
       "    .dataframe thead th {\n",
       "        text-align: right;\n",
       "    }\n",
       "</style>\n",
       "<table border=\"1\" class=\"dataframe\">\n",
       "  <thead>\n",
       "    <tr style=\"text-align: right;\">\n",
       "      <th></th>\n",
       "      <th>usuario</th>\n",
       "      <th>pelicula</th>\n",
       "      <th>rating</th>\n",
       "    </tr>\n",
       "  </thead>\n",
       "  <tbody>\n",
       "    <tr>\n",
       "      <th>0</th>\n",
       "      <td>1</td>\n",
       "      <td>1193</td>\n",
       "      <td>5</td>\n",
       "    </tr>\n",
       "    <tr>\n",
       "      <th>1</th>\n",
       "      <td>1</td>\n",
       "      <td>2355</td>\n",
       "      <td>5</td>\n",
       "    </tr>\n",
       "    <tr>\n",
       "      <th>2</th>\n",
       "      <td>1</td>\n",
       "      <td>1197</td>\n",
       "      <td>3</td>\n",
       "    </tr>\n",
       "    <tr>\n",
       "      <th>3</th>\n",
       "      <td>1</td>\n",
       "      <td>2804</td>\n",
       "      <td>5</td>\n",
       "    </tr>\n",
       "    <tr>\n",
       "      <th>4</th>\n",
       "      <td>1</td>\n",
       "      <td>919</td>\n",
       "      <td>4</td>\n",
       "    </tr>\n",
       "  </tbody>\n",
       "</table>\n",
       "</div>"
      ],
      "text/plain": [
       "   usuario  pelicula  rating\n",
       "0        1      1193       5\n",
       "1        1      2355       5\n",
       "2        1      1197       3\n",
       "3        1      2804       5\n",
       "4        1       919       4"
      ]
     },
     "execution_count": 36,
     "metadata": {},
     "output_type": "execute_result"
    }
   ],
   "source": [
    "ratings.head()"
   ]
  },
  {
   "cell_type": "markdown",
   "metadata": {},
   "source": [
    "Vemos que este dataset tiene una lista de puntuaciones (en una escala del 1 al 5) que cada usuario ha dado a una película.\n",
    "\n",
    "Vamos a convertirlo en una matriz de N usuarios por d películas"
   ]
  },
  {
   "cell_type": "code",
   "execution_count": 38,
   "metadata": {},
   "outputs": [],
   "source": [
    "ratings_mtx_df = ratings.pivot_table(values='rating', index='usuario',\n",
    "                                     columns='pelicula')\n",
    "movie_index = ratings_mtx_df.columns"
   ]
  },
  {
   "cell_type": "code",
   "execution_count": 39,
   "metadata": {},
   "outputs": [
    {
     "data": {
      "text/plain": [
       "(6035, 100)"
      ]
     },
     "execution_count": 39,
     "metadata": {},
     "output_type": "execute_result"
    }
   ],
   "source": [
    "ratings_mtx_df.shape"
   ]
  },
  {
   "cell_type": "code",
   "execution_count": 40,
   "metadata": {},
   "outputs": [
    {
     "data": {
      "text/html": [
       "<div>\n",
       "<style scoped>\n",
       "    .dataframe tbody tr th:only-of-type {\n",
       "        vertical-align: middle;\n",
       "    }\n",
       "\n",
       "    .dataframe tbody tr th {\n",
       "        vertical-align: top;\n",
       "    }\n",
       "\n",
       "    .dataframe thead th {\n",
       "        text-align: right;\n",
       "    }\n",
       "</style>\n",
       "<table border=\"1\" class=\"dataframe\">\n",
       "  <thead>\n",
       "    <tr style=\"text-align: right;\">\n",
       "      <th>pelicula</th>\n",
       "      <th>1</th>\n",
       "      <th>21</th>\n",
       "      <th>32</th>\n",
       "      <th>34</th>\n",
       "      <th>39</th>\n",
       "      <th>50</th>\n",
       "      <th>110</th>\n",
       "      <th>223</th>\n",
       "      <th>260</th>\n",
       "      <th>296</th>\n",
       "      <th>...</th>\n",
       "      <th>2959</th>\n",
       "      <th>2987</th>\n",
       "      <th>2997</th>\n",
       "      <th>3114</th>\n",
       "      <th>3175</th>\n",
       "      <th>3418</th>\n",
       "      <th>3471</th>\n",
       "      <th>3481</th>\n",
       "      <th>3578</th>\n",
       "      <th>3793</th>\n",
       "    </tr>\n",
       "    <tr>\n",
       "      <th>usuario</th>\n",
       "      <th></th>\n",
       "      <th></th>\n",
       "      <th></th>\n",
       "      <th></th>\n",
       "      <th></th>\n",
       "      <th></th>\n",
       "      <th></th>\n",
       "      <th></th>\n",
       "      <th></th>\n",
       "      <th></th>\n",
       "      <th></th>\n",
       "      <th></th>\n",
       "      <th></th>\n",
       "      <th></th>\n",
       "      <th></th>\n",
       "      <th></th>\n",
       "      <th></th>\n",
       "      <th></th>\n",
       "      <th></th>\n",
       "      <th></th>\n",
       "      <th></th>\n",
       "    </tr>\n",
       "  </thead>\n",
       "  <tbody>\n",
       "    <tr>\n",
       "      <th>1</th>\n",
       "      <td>5.0</td>\n",
       "      <td>NaN</td>\n",
       "      <td>NaN</td>\n",
       "      <td>NaN</td>\n",
       "      <td>NaN</td>\n",
       "      <td>NaN</td>\n",
       "      <td>NaN</td>\n",
       "      <td>NaN</td>\n",
       "      <td>4.0</td>\n",
       "      <td>NaN</td>\n",
       "      <td>...</td>\n",
       "      <td>NaN</td>\n",
       "      <td>NaN</td>\n",
       "      <td>NaN</td>\n",
       "      <td>4.0</td>\n",
       "      <td>NaN</td>\n",
       "      <td>NaN</td>\n",
       "      <td>NaN</td>\n",
       "      <td>NaN</td>\n",
       "      <td>NaN</td>\n",
       "      <td>NaN</td>\n",
       "    </tr>\n",
       "    <tr>\n",
       "      <th>2</th>\n",
       "      <td>NaN</td>\n",
       "      <td>1.0</td>\n",
       "      <td>NaN</td>\n",
       "      <td>NaN</td>\n",
       "      <td>NaN</td>\n",
       "      <td>NaN</td>\n",
       "      <td>5.0</td>\n",
       "      <td>NaN</td>\n",
       "      <td>NaN</td>\n",
       "      <td>NaN</td>\n",
       "      <td>...</td>\n",
       "      <td>NaN</td>\n",
       "      <td>NaN</td>\n",
       "      <td>NaN</td>\n",
       "      <td>NaN</td>\n",
       "      <td>NaN</td>\n",
       "      <td>4.0</td>\n",
       "      <td>5.0</td>\n",
       "      <td>NaN</td>\n",
       "      <td>5.0</td>\n",
       "      <td>NaN</td>\n",
       "    </tr>\n",
       "    <tr>\n",
       "      <th>3</th>\n",
       "      <td>NaN</td>\n",
       "      <td>NaN</td>\n",
       "      <td>NaN</td>\n",
       "      <td>NaN</td>\n",
       "      <td>NaN</td>\n",
       "      <td>NaN</td>\n",
       "      <td>NaN</td>\n",
       "      <td>NaN</td>\n",
       "      <td>5.0</td>\n",
       "      <td>NaN</td>\n",
       "      <td>...</td>\n",
       "      <td>NaN</td>\n",
       "      <td>NaN</td>\n",
       "      <td>3.0</td>\n",
       "      <td>3.0</td>\n",
       "      <td>NaN</td>\n",
       "      <td>NaN</td>\n",
       "      <td>NaN</td>\n",
       "      <td>NaN</td>\n",
       "      <td>NaN</td>\n",
       "      <td>NaN</td>\n",
       "    </tr>\n",
       "    <tr>\n",
       "      <th>4</th>\n",
       "      <td>NaN</td>\n",
       "      <td>NaN</td>\n",
       "      <td>NaN</td>\n",
       "      <td>NaN</td>\n",
       "      <td>NaN</td>\n",
       "      <td>NaN</td>\n",
       "      <td>NaN</td>\n",
       "      <td>NaN</td>\n",
       "      <td>5.0</td>\n",
       "      <td>NaN</td>\n",
       "      <td>...</td>\n",
       "      <td>NaN</td>\n",
       "      <td>NaN</td>\n",
       "      <td>NaN</td>\n",
       "      <td>NaN</td>\n",
       "      <td>NaN</td>\n",
       "      <td>4.0</td>\n",
       "      <td>NaN</td>\n",
       "      <td>NaN</td>\n",
       "      <td>NaN</td>\n",
       "      <td>NaN</td>\n",
       "    </tr>\n",
       "    <tr>\n",
       "      <th>5</th>\n",
       "      <td>NaN</td>\n",
       "      <td>NaN</td>\n",
       "      <td>4.0</td>\n",
       "      <td>4.0</td>\n",
       "      <td>3.0</td>\n",
       "      <td>5.0</td>\n",
       "      <td>NaN</td>\n",
       "      <td>NaN</td>\n",
       "      <td>NaN</td>\n",
       "      <td>4.0</td>\n",
       "      <td>...</td>\n",
       "      <td>4.0</td>\n",
       "      <td>4.0</td>\n",
       "      <td>5.0</td>\n",
       "      <td>NaN</td>\n",
       "      <td>NaN</td>\n",
       "      <td>3.0</td>\n",
       "      <td>NaN</td>\n",
       "      <td>NaN</td>\n",
       "      <td>2.0</td>\n",
       "      <td>2.0</td>\n",
       "    </tr>\n",
       "  </tbody>\n",
       "</table>\n",
       "<p>5 rows × 100 columns</p>\n",
       "</div>"
      ],
      "text/plain": [
       "pelicula  1     21    32    34    39    50    110   223   260   296   ...   \\\n",
       "usuario                                                               ...    \n",
       "1          5.0   NaN   NaN   NaN   NaN   NaN   NaN   NaN   4.0   NaN  ...    \n",
       "2          NaN   1.0   NaN   NaN   NaN   NaN   5.0   NaN   NaN   NaN  ...    \n",
       "3          NaN   NaN   NaN   NaN   NaN   NaN   NaN   NaN   5.0   NaN  ...    \n",
       "4          NaN   NaN   NaN   NaN   NaN   NaN   NaN   NaN   5.0   NaN  ...    \n",
       "5          NaN   NaN   4.0   4.0   3.0   5.0   NaN   NaN   NaN   4.0  ...    \n",
       "\n",
       "pelicula  2959  2987  2997  3114  3175  3418  3471  3481  3578  3793  \n",
       "usuario                                                               \n",
       "1          NaN   NaN   NaN   4.0   NaN   NaN   NaN   NaN   NaN   NaN  \n",
       "2          NaN   NaN   NaN   NaN   NaN   4.0   5.0   NaN   5.0   NaN  \n",
       "3          NaN   NaN   3.0   3.0   NaN   NaN   NaN   NaN   NaN   NaN  \n",
       "4          NaN   NaN   NaN   NaN   NaN   4.0   NaN   NaN   NaN   NaN  \n",
       "5          4.0   4.0   5.0   NaN   NaN   3.0   NaN   NaN   2.0   2.0  \n",
       "\n",
       "[5 rows x 100 columns]"
      ]
     },
     "execution_count": 40,
     "metadata": {},
     "output_type": "execute_result"
    }
   ],
   "source": [
    "ratings_mtx_df.head()"
   ]
  },
  {
   "cell_type": "markdown",
   "metadata": {},
   "source": [
    "Tenemos 924 usuarios y 3416 películas. Como vemos en el dataset la mayor parte del mismo está vacía (ya que hay muchas más películas que los usuarios no han evaluado que peliculas que han evaluado)"
   ]
  },
  {
   "cell_type": "markdown",
   "metadata": {},
   "source": [
    "convertimos el dataframe a una matriz de numpy, imputando los ratings no existentes"
   ]
  },
  {
   "cell_type": "code",
   "execution_count": 42,
   "metadata": {},
   "outputs": [
    {
     "name": "stderr",
     "output_type": "stream",
     "text": [
      "/home/erdvillegas/anaconda3/envs/Datascientist/lib/python3.7/site-packages/ipykernel_launcher.py:1: FutureWarning: Method .as_matrix will be removed in a future version. Use .values instead.\n",
      "  \"\"\"Entry point for launching an IPython kernel.\n"
     ]
    }
   ],
   "source": [
    "ratings_mtx = ratings_mtx_df.fillna(0).as_matrix().copy()"
   ]
  },
  {
   "cell_type": "code",
   "execution_count": 46,
   "metadata": {
    "scrolled": true
   },
   "outputs": [
    {
     "data": {
      "text/plain": [
       "array([[5., 0., 0., ..., 0., 0., 0.],\n",
       "       [0., 1., 0., ..., 0., 5., 0.],\n",
       "       [0., 0., 0., ..., 0., 0., 0.],\n",
       "       ...,\n",
       "       [0., 0., 0., ..., 0., 0., 0.],\n",
       "       [0., 0., 0., ..., 0., 0., 0.],\n",
       "       [3., 0., 4., ..., 0., 0., 0.]])"
      ]
     },
     "execution_count": 46,
     "metadata": {},
     "output_type": "execute_result"
    }
   ],
   "source": [
    "ratings_mtx"
   ]
  },
  {
   "cell_type": "code",
   "execution_count": 49,
   "metadata": {},
   "outputs": [],
   "source": [
    "from scipy import sparse\n",
    "ratings_mtx_sparce = sparse.csr_matrix(ratings_mtx)"
   ]
  },
  {
   "cell_type": "code",
   "execution_count": 51,
   "metadata": {},
   "outputs": [
    {
     "data": {
      "text/plain": [
       "<6035x100 sparse matrix of type '<class 'numpy.float64'>'\n",
       "\twith 183142 stored elements in Compressed Sparse Row format>"
      ]
     },
     "execution_count": 51,
     "metadata": {},
     "output_type": "execute_result"
    }
   ],
   "source": [
    "ratings_mtx_sparce"
   ]
  },
  {
   "cell_type": "markdown",
   "metadata": {},
   "source": [
    "Para calcular la descomposición svd, vamos a usar ahora la función de scipy [`svds`](https://docs.scipy.org/doc/scipy/reference/generated/scipy.sparse.linalg.svds.html) que calcula SVD truncado con k valores singulares."
   ]
  },
  {
   "cell_type": "code",
   "execution_count": 52,
   "metadata": {},
   "outputs": [],
   "source": [
    "from scipy.sparse.linalg import svds"
   ]
  },
  {
   "cell_type": "code",
   "execution_count": 53,
   "metadata": {},
   "outputs": [],
   "source": [
    "U,s, V = svds(ratings_mtx,  k=10)"
   ]
  },
  {
   "cell_type": "code",
   "execution_count": 54,
   "metadata": {},
   "outputs": [
    {
     "data": {
      "text/plain": [
       "((6035, 10), (10,), (10, 100))"
      ]
     },
     "execution_count": 54,
     "metadata": {},
     "output_type": "execute_result"
    }
   ],
   "source": [
    "U.shape, s.shape, V.shape"
   ]
  },
  {
   "cell_type": "markdown",
   "metadata": {},
   "source": [
    "Vemos que con `svds`, las matrices **U** y **V** no son cuadradas, sino que son una submatriz conteniendo los *k* primeros vectores singulares izquierdos y derechos. Tambien nos devuelve sigma como vector de valores singulares lo tenemos que convertir a una matriz diagonal"
   ]
  },
  {
   "cell_type": "code",
   "execution_count": 56,
   "metadata": {},
   "outputs": [],
   "source": [
    "s_diag_matrix = np.zeros((s.shape[0], s.shape[0]))\n",
    "\n",
    "for i in range(s.shape[0]):\n",
    "    s_diag_matrix[i,i] = s[i]"
   ]
  },
  {
   "cell_type": "markdown",
   "metadata": {},
   "source": [
    "Si hacemos el producto de u, s y vt obtenemos una matriz de la forma original de la matriz de ratings"
   ]
  },
  {
   "cell_type": "code",
   "execution_count": 57,
   "metadata": {},
   "outputs": [],
   "source": [
    "ratings_svd = U @ s_diag_matrix @ V"
   ]
  },
  {
   "cell_type": "code",
   "execution_count": 59,
   "metadata": {},
   "outputs": [
    {
     "data": {
      "text/plain": [
       "(6035, 100)"
      ]
     },
     "execution_count": 59,
     "metadata": {},
     "output_type": "execute_result"
    }
   ],
   "source": [
    "ratings_svd.shape"
   ]
  },
  {
   "cell_type": "code",
   "execution_count": 61,
   "metadata": {},
   "outputs": [
    {
     "data": {
      "text/plain": [
       "array([[ 2.69741551, -0.42107844, -0.10678392, ..., -0.26837044,\n",
       "        -0.07062393, -0.03607874],\n",
       "       [ 0.4586078 ,  1.13121114,  0.60552692, ...,  0.98104388,\n",
       "         2.44617721,  0.97296977],\n",
       "       [ 2.11194629,  0.51996779, -0.5966718 , ...,  1.21861787,\n",
       "         0.69743444,  0.85914404],\n",
       "       ...,\n",
       "       [ 0.33656183, -0.04525818, -0.18362975, ..., -0.01014997,\n",
       "         0.21265078,  0.12903017],\n",
       "       [ 2.05057021,  0.08789171,  0.2990587 , ...,  0.42525262,\n",
       "        -0.44681095,  0.11289977],\n",
       "       [ 2.26959795,  0.96632394,  2.79499327, ...,  1.51207585,\n",
       "         0.57448459,  0.57109069]])"
      ]
     },
     "execution_count": 61,
     "metadata": {},
     "output_type": "execute_result"
    }
   ],
   "source": [
    "ratings_svd"
   ]
  },
  {
   "cell_type": "markdown",
   "metadata": {},
   "source": [
    "Vemos que pese a que se ha perdido la escala de los datos (no están en una escala de 1 a 5, se ha \"rellenado\" la matriz"
   ]
  },
  {
   "cell_type": "markdown",
   "metadata": {},
   "source": [
    "### Ejemplo. Reducción de dimensionalidad con SVD Truncada en scikit-learn.\n"
   ]
  },
  {
   "cell_type": "code",
   "execution_count": 62,
   "metadata": {},
   "outputs": [],
   "source": [
    "from sklearn.datasets import load_breast_cancer\n",
    "cancer = load_breast_cancer()"
   ]
  },
  {
   "cell_type": "code",
   "execution_count": 63,
   "metadata": {},
   "outputs": [
    {
     "data": {
      "text/plain": [
       "array([[1.799e+01, 1.038e+01, 1.228e+02, ..., 2.654e-01, 4.601e-01,\n",
       "        1.189e-01],\n",
       "       [2.057e+01, 1.777e+01, 1.329e+02, ..., 1.860e-01, 2.750e-01,\n",
       "        8.902e-02],\n",
       "       [1.969e+01, 2.125e+01, 1.300e+02, ..., 2.430e-01, 3.613e-01,\n",
       "        8.758e-02],\n",
       "       ...,\n",
       "       [1.660e+01, 2.808e+01, 1.083e+02, ..., 1.418e-01, 2.218e-01,\n",
       "        7.820e-02],\n",
       "       [2.060e+01, 2.933e+01, 1.401e+02, ..., 2.650e-01, 4.087e-01,\n",
       "        1.240e-01],\n",
       "       [7.760e+00, 2.454e+01, 4.792e+01, ..., 0.000e+00, 2.871e-01,\n",
       "        7.039e-02]])"
      ]
     },
     "execution_count": 63,
     "metadata": {},
     "output_type": "execute_result"
    }
   ],
   "source": [
    "cancer.data"
   ]
  },
  {
   "cell_type": "code",
   "execution_count": 64,
   "metadata": {},
   "outputs": [
    {
     "data": {
      "text/plain": [
       "(569, 30)"
      ]
     },
     "execution_count": 64,
     "metadata": {},
     "output_type": "execute_result"
    }
   ],
   "source": [
    "cancer.data.shape"
   ]
  },
  {
   "cell_type": "code",
   "execution_count": 65,
   "metadata": {
    "scrolled": true
   },
   "outputs": [
    {
     "name": "stdout",
     "output_type": "stream",
     "text": [
      "Dimensionality reduction using truncated SVD (aka LSA).\n",
      "\n",
      "    This transformer performs linear dimensionality reduction by means of\n",
      "    truncated singular value decomposition (SVD). Contrary to PCA, this\n",
      "    estimator does not center the data before computing the singular value\n",
      "    decomposition. This means it can work with scipy.sparse matrices\n",
      "    efficiently.\n",
      "\n",
      "    In particular, truncated SVD works on term count/tf-idf matrices as\n",
      "    returned by the vectorizers in sklearn.feature_extraction.text. In that\n",
      "    context, it is known as latent semantic analysis (LSA).\n",
      "\n",
      "    This estimator supports two algorithms: a fast randomized SVD solver, and\n",
      "    a \"naive\" algorithm that uses ARPACK as an eigensolver on (X * X.T) or\n",
      "    (X.T * X), whichever is more efficient.\n",
      "\n",
      "    Read more in the :ref:`User Guide <LSA>`.\n",
      "\n",
      "    Parameters\n",
      "    ----------\n",
      "    n_components : int, default = 2\n",
      "        Desired dimensionality of output data.\n",
      "        Must be strictly less than the number of features.\n",
      "        The default value is useful for visualisation. For LSA, a value of\n",
      "        100 is recommended.\n",
      "\n",
      "    algorithm : string, default = \"randomized\"\n",
      "        SVD solver to use. Either \"arpack\" for the ARPACK wrapper in SciPy\n",
      "        (scipy.sparse.linalg.svds), or \"randomized\" for the randomized\n",
      "        algorithm due to Halko (2009).\n",
      "\n",
      "    n_iter : int, optional (default 5)\n",
      "        Number of iterations for randomized SVD solver. Not used by ARPACK.\n",
      "        The default is larger than the default in `randomized_svd` to handle\n",
      "        sparse matrices that may have large slowly decaying spectrum.\n",
      "\n",
      "    random_state : int, RandomState instance or None, optional, default = None\n",
      "        If int, random_state is the seed used by the random number generator;\n",
      "        If RandomState instance, random_state is the random number generator;\n",
      "        If None, the random number generator is the RandomState instance used\n",
      "        by `np.random`.\n",
      "\n",
      "    tol : float, optional\n",
      "        Tolerance for ARPACK. 0 means machine precision. Ignored by randomized\n",
      "        SVD solver.\n",
      "\n",
      "    Attributes\n",
      "    ----------\n",
      "    components_ : array, shape (n_components, n_features)\n",
      "\n",
      "    explained_variance_ : array, shape (n_components,)\n",
      "        The variance of the training samples transformed by a projection to\n",
      "        each component.\n",
      "\n",
      "    explained_variance_ratio_ : array, shape (n_components,)\n",
      "        Percentage of variance explained by each of the selected components.\n",
      "\n",
      "    singular_values_ : array, shape (n_components,)\n",
      "        The singular values corresponding to each of the selected components.\n",
      "        The singular values are equal to the 2-norms of the ``n_components``\n",
      "        variables in the lower-dimensional space.\n",
      "\n",
      "    Examples\n",
      "    --------\n",
      "    >>> from sklearn.decomposition import TruncatedSVD\n",
      "    >>> from sklearn.random_projection import sparse_random_matrix\n",
      "    >>> X = sparse_random_matrix(100, 100, density=0.01, random_state=42)\n",
      "    >>> svd = TruncatedSVD(n_components=5, n_iter=7, random_state=42)\n",
      "    >>> svd.fit(X)  # doctest: +NORMALIZE_WHITESPACE\n",
      "    TruncatedSVD(algorithm='randomized', n_components=5, n_iter=7,\n",
      "            random_state=42, tol=0.0)\n",
      "    >>> print(svd.explained_variance_ratio_)  # doctest: +ELLIPSIS\n",
      "    [0.0606... 0.0584... 0.0497... 0.0434... 0.0372...]\n",
      "    >>> print(svd.explained_variance_ratio_.sum())  # doctest: +ELLIPSIS\n",
      "    0.249...\n",
      "    >>> print(svd.singular_values_)  # doctest: +ELLIPSIS\n",
      "    [2.5841... 2.5245... 2.3201... 2.1753... 2.0443...]\n",
      "\n",
      "    See also\n",
      "    --------\n",
      "    PCA\n",
      "\n",
      "    References\n",
      "    ----------\n",
      "    Finding structure with randomness: Stochastic algorithms for constructing\n",
      "    approximate matrix decompositions\n",
      "    Halko, et al., 2009 (arXiv:909) https://arxiv.org/pdf/0909.4061.pdf\n",
      "\n",
      "    Notes\n",
      "    -----\n",
      "    SVD suffers from a problem called \"sign indeterminacy\", which means the\n",
      "    sign of the ``components_`` and the output from transform depend on the\n",
      "    algorithm and random state. To work around this, fit instances of this\n",
      "    class to data once, then keep the instance around to do transformations.\n",
      "\n",
      "    \n"
     ]
    }
   ],
   "source": [
    "from sklearn.decomposition import TruncatedSVD\n",
    "print(TruncatedSVD.__doc__)"
   ]
  },
  {
   "cell_type": "code",
   "execution_count": 67,
   "metadata": {},
   "outputs": [],
   "source": [
    "svd = TruncatedSVD(n_components=2)\n",
    "svd.fit(cancer.data)\n",
    "\n",
    "cancer_svd = svd.transform(cancer.data)"
   ]
  },
  {
   "cell_type": "markdown",
   "metadata": {},
   "source": [
    "Una vez hemos ajustado el transformador el atributo `components` contiene los vectores singulares del dataset original, y el atributo `singular_values_` para ver los valores singulares.\n"
   ]
  },
  {
   "cell_type": "code",
   "execution_count": 68,
   "metadata": {},
   "outputs": [
    {
     "data": {
      "text/plain": [
       "array([[ 1.07417853e-02,  1.34045777e-02,  7.04506088e-02,\n",
       "         5.72522445e-01,  6.51751678e-05,  8.01017182e-05,\n",
       "         8.07639302e-05,  4.51934799e-05,  1.22298430e-04,\n",
       "         4.10463505e-05,  3.52395083e-04,  7.91756415e-04,\n",
       "         2.49763979e-03,  4.15710660e-02,  4.46726431e-06,\n",
       "         1.84034785e-05,  2.35606720e-05,  8.71328141e-06,\n",
       "         1.33301479e-05,  2.50009455e-06,  1.27106222e-02,\n",
       "         1.78787301e-02,  8.44072509e-02,  8.10936848e-01,\n",
       "         8.96729192e-05,  1.95800247e-04,  2.25664038e-04,\n",
       "         9.56995686e-05,  1.97533332e-04,  5.62166955e-05],\n",
       "       [-3.10857421e-02, -4.83124253e-02, -1.97364828e-01,\n",
       "        -7.70224130e-01, -2.62097172e-04, -1.75341873e-04,\n",
       "        -4.07661495e-05, -1.69018436e-05, -4.97684199e-04,\n",
       "        -1.84499403e-04, -8.41315666e-05, -4.03047670e-03,\n",
       "        -1.33910533e-03,  6.79661807e-02, -2.42657052e-05,\n",
       "        -6.56841723e-05, -8.35322707e-05, -3.01365028e-05,\n",
       "        -7.25209655e-05, -1.16619632e-05, -2.41432752e-02,\n",
       "        -5.79087644e-02, -1.54087672e-01,  5.76353692e-01,\n",
       "        -3.22213232e-04, -2.65381775e-04, -1.46636756e-04,\n",
       "        -7.94819348e-05, -7.03619455e-04, -2.08881378e-04]])"
      ]
     },
     "execution_count": 68,
     "metadata": {},
     "output_type": "execute_result"
    }
   ],
   "source": [
    "svd.components_"
   ]
  },
  {
   "cell_type": "code",
   "execution_count": 69,
   "metadata": {},
   "outputs": [
    {
     "data": {
      "text/plain": [
       "(2, 30)"
      ]
     },
     "execution_count": 69,
     "metadata": {},
     "output_type": "execute_result"
    }
   ],
   "source": [
    "svd.components_.shape"
   ]
  },
  {
   "cell_type": "code",
   "execution_count": 70,
   "metadata": {},
   "outputs": [
    {
     "data": {
      "text/plain": [
       "array([30786.44462784,  2480.44578339])"
      ]
     },
     "execution_count": 70,
     "metadata": {},
     "output_type": "execute_result"
    }
   ],
   "source": [
    "svd.singular_values_"
   ]
  },
  {
   "cell_type": "markdown",
   "metadata": {},
   "source": [
    "Una vez hemos ajustado el transformador podemos usar el atributo `explained_variance_ratio` para ver que porcentaje de la varianza inicial de los datos se puede explicar por cada vector singular.\n"
   ]
  },
  {
   "cell_type": "code",
   "execution_count": 71,
   "metadata": {},
   "outputs": [
    {
     "data": {
      "text/plain": [
       "array([0.97440781, 0.02168862])"
      ]
     },
     "execution_count": 71,
     "metadata": {},
     "output_type": "execute_result"
    }
   ],
   "source": [
    "svd.explained_variance_ratio_"
   ]
  },
  {
   "cell_type": "code",
   "execution_count": 72,
   "metadata": {},
   "outputs": [
    {
     "data": {
      "text/plain": [
       "array([[2241.97427647,  347.71556015],\n",
       "       [2372.40840267,   56.90166991],\n",
       "       [2101.8402797 ,   11.94762737],\n",
       "       ...,\n",
       "       [1424.53280954,  -55.0217124 ],\n",
       "       [2231.65579282,   19.99439854],\n",
       "       [ 331.69302638,   -5.29733966]])"
      ]
     },
     "execution_count": 72,
     "metadata": {},
     "output_type": "execute_result"
    }
   ],
   "source": [
    "cancer_svd"
   ]
  },
  {
   "cell_type": "code",
   "execution_count": 73,
   "metadata": {},
   "outputs": [
    {
     "data": {
      "image/png": "[encoded data removed]",
      "text/plain": [
       "<Figure size 864x864 with 1 Axes>"
      ]
     },
     "metadata": {
      "needs_background": "light"
     },
     "output_type": "display_data"
    }
   ],
   "source": [
    "from matplotlib import cm\n",
    "\n",
    "fig = plt.figure(figsize=(12,12))\n",
    "plt.scatter(cancer_svd[:, 0], cancer_svd[:, 1], c=cancer.target, cmap=cm.Set3)\n",
    "plt.title(\"Dataset Cáncer de mama 2 primeros valores singulares\", size=18)\n",
    "plt.xlabel(\"vector singular 1\", size=18)\n",
    "plt.ylabel(\"vector singular 2\", size=18);"
   ]
  },
  {
   "cell_type": "markdown",
   "metadata": {},
   "source": [
    "Vemos como al reducir el dataset a 2 dimensiones se aprecia una separación de la s clases"
   ]
  }
 ],
 "metadata": {
  "kernelspec": {
   "display_name": "Python 3",
   "language": "python",
   "name": "python3"
  },
  "language_info": {
   "codemirror_mode": {
    "name": "ipython",
    "version": 3
   },
   "file_extension": ".py",
   "mimetype": "text/x-python",
   "name": "python",
   "nbconvert_exporter": "python",
   "pygments_lexer": "ipython3",
   "version": "3.7.1"
  }
 },
 "nbformat": 4,
 "nbformat_minor": 2
}
