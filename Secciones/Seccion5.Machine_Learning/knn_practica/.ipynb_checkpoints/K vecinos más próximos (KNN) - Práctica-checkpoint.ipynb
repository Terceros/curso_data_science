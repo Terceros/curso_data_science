{
 "cells": [
  {
   "cell_type": "code",
   "execution_count": 1,
   "metadata": {},
   "outputs": [
    {
     "name": "stdout",
     "output_type": "stream",
     "text": [
      "2019-01-03T23:54:35-06:00\n",
      "\n",
      "CPython 3.7.1\n",
      "IPython 7.2.0\n",
      "\n",
      "compiler   : GCC 4.8.2 20140120 (Red Hat 4.8.2-15)\n",
      "system     : Linux\n",
      "release    : 4.15.0-43-generic\n",
      "machine    : x86_64\n",
      "processor  : x86_64\n",
      "CPU cores  : 4\n",
      "interpreter: 64bit\n"
     ]
    }
   ],
   "source": [
    "%load_ext watermark\n",
    "%watermark"
   ]
  },
  {
   "cell_type": "code",
   "execution_count": 3,
   "metadata": {},
   "outputs": [],
   "source": [
    "import pandas as pd\n",
    "import numpy as np\n",
    "import matplotlib\n",
    "import matplotlib.pyplot as plt\n",
    "\n",
    "%matplotlib inline\n",
    "matplotlib.rcParams['figure.figsize'] = [12, 12]\n",
    "np.random.seed(42)"
   ]
  },
  {
   "cell_type": "markdown",
   "metadata": {
    "collapsed": true
   },
   "source": [
    "# KNN - K vecinos más próximos\n",
    "\n",
    "Vamos a ver como vamos a usar el algoritmo KNN en scikit-learn.\n",
    "\n",
    "El algoritmo KNN se puede usar tanto en problemas de clasificación (con el estimador [KNeighborsClassifier](http://scikit-learn.org/stable/modules/generated/sklearn.neighbors.KNeighborsClassifier.html#sklearn.neighbors.KNeighborsClassifier)) como en problemas de regresión (con el estimador [KNeighborsRegressor](http://scikit-learn.org/stable/modules/generated/sklearn.neighbors.KNeighborsRegressor.html#sklearn.neighbors.KNeighborsRegressor))"
   ]
  },
  {
   "cell_type": "markdown",
   "metadata": {},
   "source": [
    "### Cargamos los datos\n",
    "\n",
    "Para este ejemplo vamos a usar el dataset [CSM (Conventional and Social Media Movies)](https://archive.ics.uci.edu/ml/datasets/CSM+%28Conventional+and+Social+Media+Movies%29+Dataset+2014+and+2015) que contiene información de la popularidad en redes sociales de distintas películas así como las ventas en taquilla."
   ]
  },
  {
   "cell_type": "code",
   "execution_count": 47,
   "metadata": {},
   "outputs": [
    {
     "data": {
      "text/plain": [
       "(231, 12)"
      ]
     },
     "execution_count": 47,
     "metadata": {},
     "output_type": "execute_result"
    }
   ],
   "source": [
    "pelis = pd.read_csv(\"data/datos_peliculas.csv\")\n",
    "pelis.shape"
   ]
  },
  {
   "cell_type": "code",
   "execution_count": 48,
   "metadata": {},
   "outputs": [
    {
     "data": {
      "text/html": [
       "<div>\n",
       "<style scoped>\n",
       "    .dataframe tbody tr th:only-of-type {\n",
       "        vertical-align: middle;\n",
       "    }\n",
       "\n",
       "    .dataframe tbody tr th {\n",
       "        vertical-align: top;\n",
       "    }\n",
       "\n",
       "    .dataframe thead th {\n",
       "        text-align: right;\n",
       "    }\n",
       "</style>\n",
       "<table border=\"1\" class=\"dataframe\">\n",
       "  <thead>\n",
       "    <tr style=\"text-align: right;\">\n",
       "      <th></th>\n",
       "      <th>pelicula</th>\n",
       "      <th>año</th>\n",
       "      <th>ratings</th>\n",
       "      <th>genero</th>\n",
       "      <th>ventas</th>\n",
       "      <th>presupuesto</th>\n",
       "      <th>secuela</th>\n",
       "      <th>vistas_youtube</th>\n",
       "      <th>positivos_youtube</th>\n",
       "      <th>negativos_youtube</th>\n",
       "      <th>comentarios</th>\n",
       "      <th>seguidores_agregados</th>\n",
       "    </tr>\n",
       "  </thead>\n",
       "  <tbody>\n",
       "    <tr>\n",
       "      <th>0</th>\n",
       "      <td>13 Sins</td>\n",
       "      <td>2014</td>\n",
       "      <td>6.3</td>\n",
       "      <td>8</td>\n",
       "      <td>9130</td>\n",
       "      <td>4000000.0</td>\n",
       "      <td>1</td>\n",
       "      <td>3280543</td>\n",
       "      <td>4632</td>\n",
       "      <td>425</td>\n",
       "      <td>636</td>\n",
       "      <td>1120000.0</td>\n",
       "    </tr>\n",
       "    <tr>\n",
       "      <th>1</th>\n",
       "      <td>22 Jump Street</td>\n",
       "      <td>2014</td>\n",
       "      <td>7.1</td>\n",
       "      <td>1</td>\n",
       "      <td>192000000</td>\n",
       "      <td>50000000.0</td>\n",
       "      <td>2</td>\n",
       "      <td>583289</td>\n",
       "      <td>3465</td>\n",
       "      <td>61</td>\n",
       "      <td>186</td>\n",
       "      <td>12350000.0</td>\n",
       "    </tr>\n",
       "    <tr>\n",
       "      <th>2</th>\n",
       "      <td>3 Days to Kill</td>\n",
       "      <td>2014</td>\n",
       "      <td>6.2</td>\n",
       "      <td>1</td>\n",
       "      <td>30700000</td>\n",
       "      <td>28000000.0</td>\n",
       "      <td>1</td>\n",
       "      <td>304861</td>\n",
       "      <td>328</td>\n",
       "      <td>34</td>\n",
       "      <td>47</td>\n",
       "      <td>483000.0</td>\n",
       "    </tr>\n",
       "    <tr>\n",
       "      <th>3</th>\n",
       "      <td>300: Rise of an Empire</td>\n",
       "      <td>2014</td>\n",
       "      <td>6.3</td>\n",
       "      <td>1</td>\n",
       "      <td>106000000</td>\n",
       "      <td>110000000.0</td>\n",
       "      <td>2</td>\n",
       "      <td>452917</td>\n",
       "      <td>2429</td>\n",
       "      <td>132</td>\n",
       "      <td>590</td>\n",
       "      <td>568000.0</td>\n",
       "    </tr>\n",
       "    <tr>\n",
       "      <th>4</th>\n",
       "      <td>A Haunted House 2</td>\n",
       "      <td>2014</td>\n",
       "      <td>4.7</td>\n",
       "      <td>8</td>\n",
       "      <td>17300000</td>\n",
       "      <td>3500000.0</td>\n",
       "      <td>2</td>\n",
       "      <td>3145573</td>\n",
       "      <td>12163</td>\n",
       "      <td>610</td>\n",
       "      <td>1082</td>\n",
       "      <td>1923800.0</td>\n",
       "    </tr>\n",
       "  </tbody>\n",
       "</table>\n",
       "</div>"
      ],
      "text/plain": [
       "                 pelicula   año  ratings  genero     ventas  presupuesto  \\\n",
       "0                 13 Sins  2014      6.3       8       9130    4000000.0   \n",
       "1          22 Jump Street  2014      7.1       1  192000000   50000000.0   \n",
       "2          3 Days to Kill  2014      6.2       1   30700000   28000000.0   \n",
       "3  300: Rise of an Empire  2014      6.3       1  106000000  110000000.0   \n",
       "4       A Haunted House 2  2014      4.7       8   17300000    3500000.0   \n",
       "\n",
       "   secuela  vistas_youtube  positivos_youtube  negativos_youtube  comentarios  \\\n",
       "0        1         3280543               4632                425          636   \n",
       "1        2          583289               3465                 61          186   \n",
       "2        1          304861                328                 34           47   \n",
       "3        2          452917               2429                132          590   \n",
       "4        2         3145573              12163                610         1082   \n",
       "\n",
       "   seguidores_agregados  \n",
       "0             1120000.0  \n",
       "1            12350000.0  \n",
       "2              483000.0  \n",
       "3              568000.0  \n",
       "4             1923800.0  "
      ]
     },
     "execution_count": 48,
     "metadata": {},
     "output_type": "execute_result"
    }
   ],
   "source": [
    "pelis.head()"
   ]
  },
  {
   "cell_type": "markdown",
   "metadata": {},
   "source": [
    "Vamos a eliminar el título de las películas"
   ]
  },
  {
   "cell_type": "code",
   "execution_count": 49,
   "metadata": {},
   "outputs": [],
   "source": [
    "pelis = pelis.drop(\"pelicula\", axis=1)"
   ]
  },
  {
   "cell_type": "markdown",
   "metadata": {},
   "source": [
    "Vamos a usar este dataset para probar KNN en clasificación y en regresión"
   ]
  },
  {
   "cell_type": "code",
   "execution_count": 50,
   "metadata": {},
   "outputs": [],
   "source": [
    "from sklearn.neighbors import KNeighborsClassifier, KNeighborsRegressor\n",
    "from sklearn.model_selection import train_test_split"
   ]
  },
  {
   "cell_type": "markdown",
   "metadata": {},
   "source": [
    "### KNN para problemas de clasificación\n",
    "\n",
    "Probamos KNN para clasificación, en concreto vamos a suponer que queremos predecir el género de una película en función de su popularidad."
   ]
  },
  {
   "cell_type": "code",
   "execution_count": 51,
   "metadata": {},
   "outputs": [],
   "source": [
    "from sklearn.metrics import f1_score\n",
    "\n",
    "variable_objetivo_clasificacion = \"genero\"\n",
    "variables_independientes_clasificacion = pelis.drop(\n",
    "    variable_objetivo_clasificacion, axis=1).columns"
   ]
  },
  {
   "cell_type": "code",
   "execution_count": 52,
   "metadata": {},
   "outputs": [],
   "source": [
    "X_train, X_test, y_train, y_test = train_test_split(\n",
    "    pelis[variables_independientes_clasificacion],\n",
    "    pelis[variable_objetivo_clasificacion], test_size=0.20)"
   ]
  },
  {
   "cell_type": "code",
   "execution_count": 53,
   "metadata": {},
   "outputs": [],
   "source": [
    "KNeighborsClassifier?"
   ]
  },
  {
   "cell_type": "markdown",
   "metadata": {},
   "source": [
    "Los parámetros más importantes a la hora de usar `KNeighborsClasifier` son:\n",
    "\n",
    "- **n_neighbors**: El valor de K, es decir el número de vecinos que considerar a la hora de asignar una clase.\n",
    "- **weights**: A la hora de votar, que importancia dar a los vecinos. Si elegimos `auto` asigna la misma importancia a todos los vecinos. Si elegimos `distance` asigna importancia a los vecinos en función de la distancia de los vecinos al punto a clasificar\n",
    "- **metric**: La métrica a la hora de medir la distancia entre los puntos. Si se usa distancia de Minkowsky se puede elegir p con el parámetro `p`, que por defecto es 2 (lo que computa la distancia euclidiana)."
   ]
  },
  {
   "cell_type": "markdown",
   "metadata": {},
   "source": [
    "En este caso en particular sabemos que valor elegir de K, ya que podemos asumir que el número de categorías del dataset es el total de categorías de películas del dataset de entrenamiento."
   ]
  },
  {
   "cell_type": "code",
   "execution_count": 54,
   "metadata": {},
   "outputs": [
    {
     "data": {
      "text/plain": [
       "10"
      ]
     },
     "execution_count": 54,
     "metadata": {},
     "output_type": "execute_result"
    }
   ],
   "source": [
    "k_categorias = len(y_train.unique())\n",
    "k_categorias"
   ]
  },
  {
   "cell_type": "code",
   "execution_count": 55,
   "metadata": {},
   "outputs": [
    {
     "data": {
      "text/plain": [
       "KNeighborsClassifier(algorithm='auto', leaf_size=30, metric='minkowski',\n",
       "           metric_params=None, n_jobs=1, n_neighbors=5, p=2,\n",
       "           weights='uniform')"
      ]
     },
     "execution_count": 55,
     "metadata": {},
     "output_type": "execute_result"
    }
   ],
   "source": [
    "clasificador_knn = KNeighborsClassifier(n_neighbors=5, \n",
    "                                        weights=\"uniform\")\n",
    "\n",
    "clasificador_knn.fit(X_train, y_train)"
   ]
  },
  {
   "cell_type": "code",
   "execution_count": 56,
   "metadata": {},
   "outputs": [
    {
     "data": {
      "text/plain": [
       "0.3404255319148936"
      ]
     },
     "execution_count": 56,
     "metadata": {},
     "output_type": "execute_result"
    }
   ],
   "source": [
    "preds = clasificador_knn.predict(X_test)\n",
    "f1_score(y_test, preds, average=\"micro\")"
   ]
  },
  {
   "cell_type": "markdown",
   "metadata": {},
   "source": [
    "Si ahora entrenamos el estimador con el argumento de pesos `weights=\"distance\"`, vemos que funciona de forma ligeramente mejor."
   ]
  },
  {
   "cell_type": "code",
   "execution_count": 57,
   "metadata": {},
   "outputs": [
    {
     "data": {
      "text/plain": [
       "0.3617021276595745"
      ]
     },
     "execution_count": 57,
     "metadata": {},
     "output_type": "execute_result"
    }
   ],
   "source": [
    "clasificador_knn = KNeighborsClassifier(n_neighbors=10, \n",
    "                                        weights=\"distance\")\n",
    "\n",
    "clasificador_knn.fit(X_train, y_train)\n",
    "\n",
    "preds = clasificador_knn.predict(X_test)\n",
    "f1_score(y_test, preds, average=\"micro\")"
   ]
  },
  {
   "cell_type": "markdown",
   "metadata": {},
   "source": [
    "Podemos usar el método `kneighbors` para devolver los k vecinos de un punto en concreto"
   ]
  },
  {
   "cell_type": "code",
   "execution_count": 58,
   "metadata": {},
   "outputs": [
    {
     "data": {
      "text/plain": [
       "año                         2014.0\n",
       "ratings                        6.2\n",
       "ventas                  50500000.0\n",
       "presupuesto             60000000.0\n",
       "secuela                        5.0\n",
       "vistas_youtube           3320754.0\n",
       "positivos_youtube           4322.0\n",
       "negativos_youtube            347.0\n",
       "comentarios                 1105.0\n",
       "seguidores_agregados      147000.0\n",
       "Name: 59, dtype: float64"
      ]
     },
     "execution_count": 58,
     "metadata": {},
     "output_type": "execute_result"
    }
   ],
   "source": [
    "X_test.iloc[0]"
   ]
  },
  {
   "cell_type": "code",
   "execution_count": 59,
   "metadata": {},
   "outputs": [
    {
     "data": {
      "text/plain": [
       "(array([[1405048.94660163]]), array([[113]]))"
      ]
     },
     "execution_count": 59,
     "metadata": {},
     "output_type": "execute_result"
    }
   ],
   "source": [
    "distancia, indice = clasificador_knn.kneighbors(\n",
    "    [X_test.iloc[0]], n_neighbors=1)\n",
    "distancia, indice"
   ]
  },
  {
   "cell_type": "code",
   "execution_count": 60,
   "metadata": {},
   "outputs": [
    {
     "data": {
      "text/html": [
       "<div>\n",
       "<style scoped>\n",
       "    .dataframe tbody tr th:only-of-type {\n",
       "        vertical-align: middle;\n",
       "    }\n",
       "\n",
       "    .dataframe tbody tr th {\n",
       "        vertical-align: top;\n",
       "    }\n",
       "\n",
       "    .dataframe thead th {\n",
       "        text-align: right;\n",
       "    }\n",
       "</style>\n",
       "<table border=\"1\" class=\"dataframe\">\n",
       "  <thead>\n",
       "    <tr style=\"text-align: right;\">\n",
       "      <th></th>\n",
       "      <th>año</th>\n",
       "      <th>ratings</th>\n",
       "      <th>ventas</th>\n",
       "      <th>presupuesto</th>\n",
       "      <th>secuela</th>\n",
       "      <th>vistas_youtube</th>\n",
       "      <th>positivos_youtube</th>\n",
       "      <th>negativos_youtube</th>\n",
       "      <th>comentarios</th>\n",
       "      <th>seguidores_agregados</th>\n",
       "    </tr>\n",
       "  </thead>\n",
       "  <tbody>\n",
       "    <tr>\n",
       "      <th>114</th>\n",
       "      <td>2014</td>\n",
       "      <td>6.8</td>\n",
       "      <td>50800000</td>\n",
       "      <td>60000000.0</td>\n",
       "      <td>1</td>\n",
       "      <td>2545852</td>\n",
       "      <td>3964</td>\n",
       "      <td>378</td>\n",
       "      <td>554</td>\n",
       "      <td>1280000.0</td>\n",
       "    </tr>\n",
       "  </tbody>\n",
       "</table>\n",
       "</div>"
      ],
      "text/plain": [
       "      año  ratings    ventas  presupuesto  secuela  vistas_youtube  \\\n",
       "114  2014      6.8  50800000   60000000.0        1         2545852   \n",
       "\n",
       "     positivos_youtube  negativos_youtube  comentarios  seguidores_agregados  \n",
       "114               3964                378          554             1280000.0  "
      ]
     },
     "execution_count": 60,
     "metadata": {},
     "output_type": "execute_result"
    }
   ],
   "source": [
    "X_train.iloc[indice[0]]"
   ]
  },
  {
   "cell_type": "markdown",
   "metadata": {},
   "source": [
    "Vemos que el vecino más cercano es similar."
   ]
  },
  {
   "cell_type": "markdown",
   "metadata": {},
   "source": [
    "### KNN para problemas de regresión\n",
    "\n",
    "Vamos a utilizar ahora el algoritmo KNN para un problema de regresión, KNN funciona igual para hacer regresiones, simplemente que en vez de una votación donde la clase más común entre los vecinos más próximos es la elegida, se hace una interpolación de los valores de la variable numérica objetivo de los vecinos.\n",
    "\n",
    "en concreto vamos a estimar las ventas de entradas en taquilla de una película en función de su popularidad online y presupuesto."
   ]
  },
  {
   "cell_type": "code",
   "execution_count": 61,
   "metadata": {},
   "outputs": [],
   "source": [
    "from sklearn.metrics import mean_squared_error\n",
    "\n",
    "variable_objetivo_regresion = \"ventas\"\n",
    "variables_independientes_regresion = pelis.drop(\n",
    "    variable_objetivo_regresion, axis=1).columns"
   ]
  },
  {
   "cell_type": "code",
   "execution_count": 62,
   "metadata": {},
   "outputs": [],
   "source": [
    "X_train, X_test, y_train, y_test = train_test_split(\n",
    "    pelis[variables_independientes_regresion],\n",
    "    pelis[variable_objetivo_regresion], test_size=0.20)"
   ]
  },
  {
   "cell_type": "markdown",
   "metadata": {},
   "source": [
    "Usamos la implementación en sklearn `KNeighborsRegressor` para problemas de regresión. Tiene los mismos hiperparámetros que `NeighborsClassifier`."
   ]
  },
  {
   "cell_type": "code",
   "execution_count": 26,
   "metadata": {},
   "outputs": [],
   "source": [
    "KNeighborsRegressor?"
   ]
  },
  {
   "cell_type": "code",
   "execution_count": 63,
   "metadata": {},
   "outputs": [
    {
     "data": {
      "text/plain": [
       "KNeighborsRegressor(algorithm='auto', leaf_size=30, metric='minkowski',\n",
       "          metric_params=None, n_jobs=1, n_neighbors=10, p=2,\n",
       "          weights='distance')"
      ]
     },
     "execution_count": 63,
     "metadata": {},
     "output_type": "execute_result"
    }
   ],
   "source": [
    "regresor_knn = KNeighborsRegressor(n_neighbors=10, weights=\"distance\")\n",
    "\n",
    "regresor_knn.fit(X_train, y_train)"
   ]
  },
  {
   "cell_type": "code",
   "execution_count": 64,
   "metadata": {},
   "outputs": [
    {
     "data": {
      "text/plain": [
       "array([1.27165919e+07, 2.61092729e+07, 9.96009544e+07, 8.87430669e+07,\n",
       "       1.35091554e+08, 4.03106692e+07, 1.36246100e+08, 1.77072442e+08,\n",
       "       4.70123782e+07, 2.42447638e+07, 1.15911189e+07, 7.98148771e+07,\n",
       "       9.85475214e+06, 6.01894949e+07, 3.84321187e+07, 8.93856167e+06,\n",
       "       4.24257527e+07, 2.26155080e+08, 3.11403228e+07, 9.54842776e+07,\n",
       "       3.91773230e+07, 9.56558550e+07, 9.31405388e+07, 1.20724601e+08,\n",
       "       6.31634738e+07, 2.01749107e+07, 5.04027022e+07, 3.64992259e+07,\n",
       "       7.43292302e+07, 8.98069307e+07, 2.69466479e+07, 2.59234835e+07,\n",
       "       9.79738880e+06, 3.29277419e+07, 6.06033737e+07, 4.58436357e+07,\n",
       "       2.18923652e+08, 5.74621113e+07, 1.58319986e+08, 2.32477091e+08,\n",
       "       3.41653495e+07, 1.31483670e+07, 1.33858780e+08, 2.92190586e+07,\n",
       "       9.50689200e+06, 5.66691142e+07, 4.08123083e+07])"
      ]
     },
     "execution_count": 64,
     "metadata": {},
     "output_type": "execute_result"
    }
   ],
   "source": [
    "preds = regresor_knn.predict(X_test)\n",
    "preds"
   ]
  },
  {
   "cell_type": "code",
   "execution_count": 65,
   "metadata": {},
   "outputs": [
    {
     "data": {
      "text/plain": [
       "52494085.058179684"
      ]
     },
     "execution_count": 65,
     "metadata": {},
     "output_type": "execute_result"
    }
   ],
   "source": [
    "np.sqrt(np.abs(mean_squared_error(y_test, preds)))"
   ]
  },
  {
   "cell_type": "markdown",
   "metadata": {},
   "source": [
    "Ahora vemos el funcionamiento en validación cruzada tanto del clasificador como el regresor"
   ]
  },
  {
   "cell_type": "code",
   "execution_count": 66,
   "metadata": {},
   "outputs": [],
   "source": [
    "from sklearn.model_selection import cross_val_score"
   ]
  },
  {
   "cell_type": "code",
   "execution_count": 68,
   "metadata": {},
   "outputs": [
    {
     "name": "stdout",
     "output_type": "stream",
     "text": [
      "La puntuación F1 de KNN para clasificacion en este dataset es 0.54\n"
     ]
    },
    {
     "name": "stderr",
     "output_type": "stream",
     "text": [
      "/home/erdvillegas/anaconda3/envs/Datascientist/lib/python3.7/site-packages/sklearn/model_selection/_split.py:605: Warning: The least populated class in y has only 1 members, which is too few. The minimum number of members in any class cannot be less than n_splits=3.\n",
      "  % (min_groups, self.n_splits)), Warning)\n"
     ]
    }
   ],
   "source": [
    "error_validacion_cruzada_clasificacion = np.sqrt(np.abs(\n",
    "    cross_val_score(KNeighborsClassifier(n_neighbors=k_categorias,\n",
    "                                         weights=\"distance\"), \n",
    "                X=pelis[variables_independientes_clasificacion],\n",
    "               y=pelis[variable_objetivo_clasificacion], \n",
    "               scoring=\"f1_micro\"\n",
    "        ).mean()\n",
    "      )\n",
    ")\n",
    "print(\"La puntuación F1 de KNN para clasificacion en este dataset es {:.2f}\".format(\n",
    "    error_validacion_cruzada_clasificacion))"
   ]
  },
  {
   "cell_type": "code",
   "execution_count": 69,
   "metadata": {},
   "outputs": [
    {
     "name": "stdout",
     "output_type": "stream",
     "text": [
      "El error RMSE de KNN para regresión en este dataset es 69488698.28$\n"
     ]
    }
   ],
   "source": [
    "error_validacion_cruzada_regresion = np.sqrt(np.abs(\n",
    "    cross_val_score(KNeighborsRegressor(weights=\"distance\"), \n",
    "                X=pelis[variables_independientes_regresion],\n",
    "               y=pelis[variable_objetivo_regresion], \n",
    "               scoring=\"neg_mean_squared_error\"\n",
    "        ).mean()\n",
    "      )\n",
    ")\n",
    "print(\"El error RMSE de KNN para regresión en este dataset es {:.2f}$\".format(\n",
    "    error_validacion_cruzada_regresion))"
   ]
  }
 ],
 "metadata": {
  "kernelspec": {
   "display_name": "Python 3",
   "language": "python",
   "name": "python3"
  },
  "language_info": {
   "codemirror_mode": {
    "name": "ipython",
    "version": 3
   },
   "file_extension": ".py",
   "mimetype": "text/x-python",
   "name": "python",
   "nbconvert_exporter": "python",
   "pygments_lexer": "ipython3",
   "version": "3.7.1"
  }
 },
 "nbformat": 4,
 "nbformat_minor": 2
}
