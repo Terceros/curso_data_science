{
 "cells": [
  {
   "cell_type": "markdown",
   "metadata": {},
   "source": [
    "# Ejercicio - KMedias\n",
    "\n",
    "** Vamos a usar el Movies dataset**"
   ]
  },
  {
   "cell_type": "code",
   "execution_count": 2,
   "metadata": {},
   "outputs": [
    {
     "data": {
      "text/html": [
       "<div>\n",
       "<style scoped>\n",
       "    .dataframe tbody tr th:only-of-type {\n",
       "        vertical-align: middle;\n",
       "    }\n",
       "\n",
       "    .dataframe tbody tr th {\n",
       "        vertical-align: top;\n",
       "    }\n",
       "\n",
       "    .dataframe thead th {\n",
       "        text-align: right;\n",
       "    }\n",
       "</style>\n",
       "<table border=\"1\" class=\"dataframe\">\n",
       "  <thead>\n",
       "    <tr style=\"text-align: right;\">\n",
       "      <th></th>\n",
       "      <th>lenguaje_1</th>\n",
       "      <th>lenguaje_2</th>\n",
       "      <th>lenguaje_3</th>\n",
       "      <th>lenguaje_4</th>\n",
       "      <th>lenguaje_5</th>\n",
       "      <th>lenguaje_6</th>\n",
       "      <th>lenguaje_7</th>\n",
       "      <th>lenguaje_8</th>\n",
       "      <th>lenguaje_9</th>\n",
       "      <th>lenguaje_10</th>\n",
       "      <th>...</th>\n",
       "      <th>titulo_1276</th>\n",
       "      <th>titulo_1277</th>\n",
       "      <th>titulo_1278</th>\n",
       "      <th>titulo_-1</th>\n",
       "      <th>presupuesto</th>\n",
       "      <th>popularidad</th>\n",
       "      <th>ventas</th>\n",
       "      <th>duracion</th>\n",
       "      <th>puntuacion</th>\n",
       "      <th>n_votos</th>\n",
       "    </tr>\n",
       "  </thead>\n",
       "  <tbody>\n",
       "    <tr>\n",
       "      <th>0</th>\n",
       "      <td>1</td>\n",
       "      <td>0</td>\n",
       "      <td>0</td>\n",
       "      <td>0</td>\n",
       "      <td>0</td>\n",
       "      <td>0</td>\n",
       "      <td>0</td>\n",
       "      <td>0</td>\n",
       "      <td>0</td>\n",
       "      <td>0</td>\n",
       "      <td>...</td>\n",
       "      <td>0</td>\n",
       "      <td>0</td>\n",
       "      <td>0</td>\n",
       "      <td>0</td>\n",
       "      <td>NaN</td>\n",
       "      <td>8.387519</td>\n",
       "      <td>76578911.0</td>\n",
       "      <td>106.0</td>\n",
       "      <td>5.7</td>\n",
       "      <td>173.0</td>\n",
       "    </tr>\n",
       "    <tr>\n",
       "      <th>1</th>\n",
       "      <td>1</td>\n",
       "      <td>0</td>\n",
       "      <td>0</td>\n",
       "      <td>0</td>\n",
       "      <td>0</td>\n",
       "      <td>0</td>\n",
       "      <td>0</td>\n",
       "      <td>0</td>\n",
       "      <td>0</td>\n",
       "      <td>0</td>\n",
       "      <td>...</td>\n",
       "      <td>0</td>\n",
       "      <td>0</td>\n",
       "      <td>0</td>\n",
       "      <td>0</td>\n",
       "      <td>NaN</td>\n",
       "      <td>0.894647</td>\n",
       "      <td>676525.0</td>\n",
       "      <td>106.0</td>\n",
       "      <td>6.7</td>\n",
       "      <td>13.0</td>\n",
       "    </tr>\n",
       "    <tr>\n",
       "      <th>2</th>\n",
       "      <td>1</td>\n",
       "      <td>0</td>\n",
       "      <td>0</td>\n",
       "      <td>0</td>\n",
       "      <td>0</td>\n",
       "      <td>0</td>\n",
       "      <td>0</td>\n",
       "      <td>0</td>\n",
       "      <td>0</td>\n",
       "      <td>0</td>\n",
       "      <td>...</td>\n",
       "      <td>0</td>\n",
       "      <td>0</td>\n",
       "      <td>0</td>\n",
       "      <td>0</td>\n",
       "      <td>3500000.0</td>\n",
       "      <td>14.569650</td>\n",
       "      <td>28215918.0</td>\n",
       "      <td>91.0</td>\n",
       "      <td>7.0</td>\n",
       "      <td>513.0</td>\n",
       "    </tr>\n",
       "    <tr>\n",
       "      <th>3</th>\n",
       "      <td>1</td>\n",
       "      <td>0</td>\n",
       "      <td>0</td>\n",
       "      <td>0</td>\n",
       "      <td>0</td>\n",
       "      <td>0</td>\n",
       "      <td>0</td>\n",
       "      <td>0</td>\n",
       "      <td>0</td>\n",
       "      <td>0</td>\n",
       "      <td>...</td>\n",
       "      <td>0</td>\n",
       "      <td>0</td>\n",
       "      <td>0</td>\n",
       "      <td>0</td>\n",
       "      <td>NaN</td>\n",
       "      <td>8.963037</td>\n",
       "      <td>32.0</td>\n",
       "      <td>87.0</td>\n",
       "      <td>6.0</td>\n",
       "      <td>124.0</td>\n",
       "    </tr>\n",
       "    <tr>\n",
       "      <th>4</th>\n",
       "      <td>1</td>\n",
       "      <td>0</td>\n",
       "      <td>0</td>\n",
       "      <td>0</td>\n",
       "      <td>0</td>\n",
       "      <td>0</td>\n",
       "      <td>0</td>\n",
       "      <td>0</td>\n",
       "      <td>0</td>\n",
       "      <td>0</td>\n",
       "      <td>...</td>\n",
       "      <td>0</td>\n",
       "      <td>0</td>\n",
       "      <td>0</td>\n",
       "      <td>0</td>\n",
       "      <td>12000000.0</td>\n",
       "      <td>9.592265</td>\n",
       "      <td>41205099.0</td>\n",
       "      <td>92.0</td>\n",
       "      <td>6.5</td>\n",
       "      <td>767.0</td>\n",
       "    </tr>\n",
       "  </tbody>\n",
       "</table>\n",
       "<p>5 rows × 1955 columns</p>\n",
       "</div>"
      ],
      "text/plain": [
       "   lenguaje_1  lenguaje_2  lenguaje_3  lenguaje_4  lenguaje_5  lenguaje_6  \\\n",
       "0           1           0           0           0           0           0   \n",
       "1           1           0           0           0           0           0   \n",
       "2           1           0           0           0           0           0   \n",
       "3           1           0           0           0           0           0   \n",
       "4           1           0           0           0           0           0   \n",
       "\n",
       "   lenguaje_7  lenguaje_8  lenguaje_9  lenguaje_10   ...     titulo_1276  \\\n",
       "0           0           0           0            0   ...               0   \n",
       "1           0           0           0            0   ...               0   \n",
       "2           0           0           0            0   ...               0   \n",
       "3           0           0           0            0   ...               0   \n",
       "4           0           0           0            0   ...               0   \n",
       "\n",
       "   titulo_1277  titulo_1278  titulo_-1  presupuesto  popularidad      ventas  \\\n",
       "0            0            0          0          NaN     8.387519  76578911.0   \n",
       "1            0            0          0          NaN     0.894647    676525.0   \n",
       "2            0            0          0    3500000.0    14.569650  28215918.0   \n",
       "3            0            0          0          NaN     8.963037        32.0   \n",
       "4            0            0          0   12000000.0     9.592265  41205099.0   \n",
       "\n",
       "   duracion  puntuacion  n_votos  \n",
       "0     106.0         5.7    173.0  \n",
       "1     106.0         6.7     13.0  \n",
       "2      91.0         7.0    513.0  \n",
       "3      87.0         6.0    124.0  \n",
       "4      92.0         6.5    767.0  \n",
       "\n",
       "[5 rows x 1955 columns]"
      ]
     },
     "execution_count": 2,
     "metadata": {},
     "output_type": "execute_result"
    }
   ],
   "source": [
    "import pandas as pd\n",
    "import numpy as np\n",
    "from sklearn.preprocessing import Imputer\n",
    "from category_encoders import OneHotEncoder\n",
    "\n",
    "pelis = pd.read_csv(\"data/movies.csv\")\n",
    "pelis = pelis[pelis.genero.notnull()]\n",
    "\n",
    "# mantenemos el genero de las peliculas como una lista aparte\n",
    "genero_peliculas = pelis.genero.values\n",
    "n_generos = len(pelis.genero.unique())\n",
    "\n",
    "\n",
    "\n",
    "pelis = pelis.drop(\"genero\", axis=1)\n",
    "pelis = OneHotEncoder().fit_transform(pelis)\n",
    "\n",
    "pelis.head()"
   ]
  },
  {
   "cell_type": "code",
   "execution_count": 5,
   "metadata": {},
   "outputs": [
    {
     "data": {
      "text/plain": [
       "array(['Comedy', 'Drama', 'Comedy', ..., 'Documentary', 'Horror',\n",
       "       'Horror'], dtype=object)"
      ]
     },
     "execution_count": 5,
     "metadata": {},
     "output_type": "execute_result"
    }
   ],
   "source": [
    "genero_peliculas"
   ]
  },
  {
   "cell_type": "code",
   "execution_count": 4,
   "metadata": {},
   "outputs": [
    {
     "data": {
      "text/plain": [
       "17"
      ]
     },
     "execution_count": 4,
     "metadata": {},
     "output_type": "execute_result"
    }
   ],
   "source": [
    "n_generos"
   ]
  },
  {
   "cell_type": "markdown",
   "metadata": {},
   "source": [
    "Vemos que hay 17 géneros de películas"
   ]
  },
  {
   "cell_type": "markdown",
   "metadata": {},
   "source": [
    "Imputamos los valores inexistentes"
   ]
  },
  {
   "cell_type": "code",
   "execution_count": 31,
   "metadata": {},
   "outputs": [],
   "source": [
    "X = Imputer(strategy=\"mean\").fit_transform(pelis)"
   ]
  },
  {
   "cell_type": "markdown",
   "metadata": {},
   "source": [
    "### Hacer un estimador KMedias con número de clusters igual al número de géneros. Entrenar con el dataset pelis y calcular el cluster asignado a cada película"
   ]
  },
  {
   "cell_type": "code",
   "execution_count": 24,
   "metadata": {},
   "outputs": [],
   "source": [
    "from sklearn.cluster import KMeans"
   ]
  },
  {
   "cell_type": "code",
   "execution_count": 18,
   "metadata": {},
   "outputs": [],
   "source": [
    "estimador_kmedias = KMeans(random_state=42,n_clusters=17)"
   ]
  },
  {
   "cell_type": "code",
   "execution_count": 40,
   "metadata": {},
   "outputs": [
    {
     "data": {
      "text/plain": [
       "KMeans(algorithm='auto', copy_x=True, init='k-means++', max_iter=300,\n",
       "    n_clusters=17, n_init=10, n_jobs=1, precompute_distances='auto',\n",
       "    random_state=42, tol=0.0001, verbose=0)"
      ]
     },
     "execution_count": 40,
     "metadata": {},
     "output_type": "execute_result"
    }
   ],
   "source": [
    "estimador_kmedias.fit(X)"
   ]
  },
  {
   "cell_type": "code",
   "execution_count": 43,
   "metadata": {},
   "outputs": [],
   "source": [
    "clusters = estimador_kmedias.labels_"
   ]
  },
  {
   "cell_type": "code",
   "execution_count": 45,
   "metadata": {},
   "outputs": [
    {
     "data": {
      "text/plain": [
       "array([ 2,  9, 12, ..., 12, 12, 12], dtype=int32)"
      ]
     },
     "execution_count": 45,
     "metadata": {},
     "output_type": "execute_result"
    }
   ],
   "source": [
    "estimador_kmedias.predict(X)"
   ]
  },
  {
   "cell_type": "code",
   "execution_count": 47,
   "metadata": {},
   "outputs": [],
   "source": [
    "centroides = estimador_kmedias.cluster_centers_"
   ]
  },
  {
   "cell_type": "code",
   "execution_count": 48,
   "metadata": {},
   "outputs": [
    {
     "data": {
      "text/plain": [
       "(17, 1955)"
      ]
     },
     "execution_count": 48,
     "metadata": {},
     "output_type": "execute_result"
    }
   ],
   "source": [
    "centroides.shape"
   ]
  },
  {
   "cell_type": "code",
   "execution_count": 50,
   "metadata": {},
   "outputs": [],
   "source": [
    "from sklearn.metrics import euclidean_distances"
   ]
  },
  {
   "cell_type": "code",
   "execution_count": 51,
   "metadata": {
    "scrolled": true
   },
   "outputs": [
    {
     "data": {
      "text/plain": [
       "array([[0.00000000e+00, 2.71771071e+08, 2.25865889e+08, 1.50323510e+08,\n",
       "        8.29526900e+07, 6.18704423e+07, 2.87001051e+08, 1.95993234e+08,\n",
       "        2.93782303e+08, 2.88032814e+08, 1.71335603e+08, 2.14663953e+08,\n",
       "        2.53191611e+08, 8.28308518e+07, 2.57114368e+08, 3.22347374e+08,\n",
       "        1.16750897e+08],\n",
       "       [2.71771071e+08, 0.00000000e+00, 4.59267825e+07, 1.21635524e+08,\n",
       "        3.51801794e+08, 2.09905997e+08, 1.86986459e+07, 7.58663936e+07,\n",
       "        5.50388996e+08, 1.66867862e+07, 1.03873608e+08, 8.67906732e+07,\n",
       "        1.85901799e+07, 2.30296778e+08, 3.43741746e+07, 5.93830010e+08,\n",
       "        1.59129785e+08],\n",
       "       [2.25865889e+08, 4.59267825e+07, 0.00000000e+00, 7.58856244e+07,\n",
       "        3.05923000e+08, 1.64008142e+08, 6.21774213e+07, 2.99495492e+07,\n",
       "        5.05598832e+08, 6.21978687e+07, 5.92000751e+07, 5.94063879e+07,\n",
       "        2.73941367e+07, 1.86282685e+08, 4.12828347e+07, 5.47998546e+08,\n",
       "        1.13664918e+08],\n",
       "       [1.50323510e+08, 1.21635524e+08, 7.58856244e+07, 0.00000000e+00,\n",
       "        2.31326672e+08, 8.84782009e+07, 1.36682147e+08, 4.64476292e+07,\n",
       "        4.34912270e+08, 1.38053425e+08, 3.27076489e+07, 8.43542340e+07,\n",
       "        1.03046147e+08, 1.21699192e+08, 1.10839798e+08, 4.72198671e+08,\n",
       "        4.57820592e+07],\n",
       "       [8.29526900e+07, 3.51801794e+08, 3.05923000e+08, 2.31326672e+08,\n",
       "        0.00000000e+00, 1.43313105e+08, 3.67701649e+08, 2.75977656e+08,\n",
       "        2.12315019e+08, 3.67759439e+08, 2.49226929e+08, 2.87827893e+08,\n",
       "        3.33316367e+08, 1.36247827e+08, 3.34533504e+08, 2.46694584e+08,\n",
       "        1.93535175e+08],\n",
       "       [6.18704423e+07, 2.09905997e+08, 1.64008142e+08, 8.84782009e+07,\n",
       "        1.43313105e+08, 0.00000000e+00, 2.25159930e+08, 1.34156862e+08,\n",
       "        3.50460725e+08, 2.26186901e+08, 1.10336021e+08, 1.56212770e+08,\n",
       "        1.91324612e+08, 6.69364774e+07, 1.95922557e+08, 3.84075241e+08,\n",
       "        5.77952487e+07],\n",
       "       [2.87001051e+08, 1.86986459e+07, 6.21774213e+07, 1.36682147e+08,\n",
       "        3.67701649e+08, 2.25159930e+08, 0.00000000e+00, 9.19284379e+07,\n",
       "        5.67678393e+08, 1.50483432e+07, 1.21087446e+08, 1.05432014e+08,\n",
       "        3.52073624e+07, 2.47938509e+08, 5.19397439e+07, 6.08568120e+08,\n",
       "        1.75841801e+08],\n",
       "       [1.95993234e+08, 7.58663936e+07, 2.99495492e+07, 4.64476292e+07,\n",
       "        2.75977656e+08, 1.34156862e+08, 9.19284379e+07, 0.00000000e+00,\n",
       "        4.76281281e+08, 9.20415011e+07, 3.15000804e+07, 5.55070525e+07,\n",
       "        5.73432174e+07, 1.57814727e+08, 6.52511414e+07, 5.18207865e+08,\n",
       "        8.40846526e+07],\n",
       "       [2.93782303e+08, 5.50388996e+08, 5.05598832e+08, 4.34912270e+08,\n",
       "        2.12315019e+08, 3.50460725e+08, 5.67678393e+08, 4.76281281e+08,\n",
       "        0.00000000e+00, 5.65284005e+08, 4.46607162e+08, 4.75261246e+08,\n",
       "        5.32517407e+08, 3.20512766e+08, 5.27821520e+08, 1.62859422e+08,\n",
       "        3.92239990e+08],\n",
       "       [2.88032814e+08, 1.66867862e+07, 6.21978687e+07, 1.38053425e+08,\n",
       "        3.67759439e+08, 2.26186901e+08, 1.50483432e+07, 9.20415011e+07,\n",
       "        5.65284005e+08, 0.00000000e+00, 1.19204186e+08, 9.73509033e+07,\n",
       "        3.51009008e+07, 2.44913904e+08, 4.19654884e+07, 6.10196281e+08,\n",
       "        1.74731631e+08],\n",
       "       [1.71335603e+08, 1.03873608e+08, 5.92000751e+07, 3.27076489e+07,\n",
       "        2.49226929e+08, 1.10336021e+08, 1.21087446e+08, 3.15000804e+07,\n",
       "        4.46607162e+08, 1.19204186e+08, 0.00000000e+00, 5.18373762e+07,\n",
       "        8.59108291e+07, 1.27088168e+08, 8.57857309e+07, 4.93479269e+08,\n",
       "        5.57204241e+07],\n",
       "       [2.14663953e+08, 8.67906732e+07, 5.94063879e+07, 8.43542340e+07,\n",
       "        2.87827893e+08, 1.56212770e+08, 1.05432014e+08, 5.55070525e+07,\n",
       "        4.75261246e+08, 9.73509033e+07, 5.18373762e+07, 0.00000000e+00,\n",
       "        7.43921863e+07, 1.56066746e+08, 5.57115076e+07, 5.34203522e+08,\n",
       "        9.85265727e+07],\n",
       "       [2.53191611e+08, 1.85901799e+07, 2.73941367e+07, 1.03046147e+08,\n",
       "        3.33316367e+08, 1.91324612e+08, 3.52073624e+07, 5.73432174e+07,\n",
       "        5.32517407e+08, 3.51009008e+07, 8.59108291e+07, 7.43921863e+07,\n",
       "        0.00000000e+00, 2.12733032e+08, 3.08743081e+07, 5.75239842e+08,\n",
       "        1.40881368e+08],\n",
       "       [8.28308518e+07, 2.30296778e+08, 1.86282685e+08, 1.21699192e+08,\n",
       "        1.36247827e+08, 6.69364774e+07, 2.47938509e+08, 1.57814727e+08,\n",
       "        3.20512766e+08, 2.44913904e+08, 1.27088168e+08, 1.56066746e+08,\n",
       "        2.12733032e+08, 0.00000000e+00, 2.07400387e+08, 3.82325485e+08,\n",
       "        7.60256807e+07],\n",
       "       [2.57114368e+08, 3.43741746e+07, 4.12828347e+07, 1.10839798e+08,\n",
       "        3.34533504e+08, 1.95922557e+08, 5.19397439e+07, 6.52511414e+07,\n",
       "        5.27821520e+08, 4.19654884e+07, 8.57857309e+07, 5.57115076e+07,\n",
       "        3.08743081e+07, 2.07400387e+08, 0.00000000e+00, 5.79244310e+08,\n",
       "        1.41122066e+08],\n",
       "       [3.22347374e+08, 5.93830010e+08, 5.47998546e+08, 4.72198671e+08,\n",
       "        2.46694584e+08, 3.84075241e+08, 6.08568120e+08, 5.18207865e+08,\n",
       "        1.62859422e+08, 6.10196281e+08, 4.93479269e+08, 5.34203522e+08,\n",
       "        5.75239842e+08, 3.82325485e+08, 5.79244310e+08, 0.00000000e+00,\n",
       "        4.38264788e+08],\n",
       "       [1.16750897e+08, 1.59129785e+08, 1.13664918e+08, 4.57820592e+07,\n",
       "        1.93535175e+08, 5.77952487e+07, 1.75841801e+08, 8.40846526e+07,\n",
       "        3.92239990e+08, 1.74731631e+08, 5.57204241e+07, 9.85265727e+07,\n",
       "        1.40881368e+08, 7.60256807e+07, 1.41122066e+08, 4.38264788e+08,\n",
       "        0.00000000e+00]])"
      ]
     },
     "execution_count": 51,
     "metadata": {},
     "output_type": "execute_result"
    }
   ],
   "source": [
    "distancias_centroides = euclidean_distances(centroides)\n",
    "distancias_centroides"
   ]
  },
  {
   "cell_type": "code",
   "execution_count": 53,
   "metadata": {},
   "outputs": [
    {
     "data": {
      "text/plain": [
       "[(15, 322347373.7138512),\n",
       " (15, 593830009.5284467),\n",
       " (15, 547998546.0179787),\n",
       " (15, 472198671.14147854),\n",
       " (9, 367759438.7087655),\n",
       " (15, 384075240.5217519),\n",
       " (15, 608568119.5677117),\n",
       " (15, 518207865.31450385),\n",
       " (6, 567678392.8619801),\n",
       " (15, 610196281.2748877),\n",
       " (15, 493479269.3852214),\n",
       " (15, 534203521.5364116),\n",
       " (15, 575239842.4776151),\n",
       " (15, 382325484.59848356),\n",
       " (15, 579244309.6822143),\n",
       " (9, 610196281.2748877),\n",
       " (15, 438264788.0133574)]"
      ]
     },
     "execution_count": 53,
     "metadata": {},
     "output_type": "execute_result"
    }
   ],
   "source": [
    "list(zip(np.argmax(distancias_centroides,axis=1),np.max(distancias_centroides,axis=1)))"
   ]
  },
  {
   "cell_type": "code",
   "execution_count": 59,
   "metadata": {},
   "outputs": [],
   "source": [
    "def resumen_cluster(cluster_id):\n",
    "    cluster = pelis[clusters==cluster_id]\n",
    "    resumen_cluster = cluster[pelis.columns].mode().to_dict(orient=\"records\")[0]\n",
    "    resumen_cluster.update(cluster.mean().to_dict())\n",
    "    resumen_cluster[\"cluster_id\"] = cluster_id\n",
    "    return resumen_cluster\n",
    "\n",
    "def comparar_clusters(*cluster_ids):\n",
    "    resumenes = []\n",
    "    for cluster_id in cluster_ids:\n",
    "        resumenes.append(resumen_cluster(cluster_id))\n",
    "    return pd.DataFrame(resumenes).set_index(\"cluster_id\").T"
   ]
  },
  {
   "cell_type": "markdown",
   "metadata": {},
   "source": [
    "### Calcular el coeficiente de silueta"
   ]
  },
  {
   "cell_type": "code",
   "execution_count": 66,
   "metadata": {},
   "outputs": [],
   "source": [
    "from sklearn.metrics import silhouette_score"
   ]
  },
  {
   "cell_type": "code",
   "execution_count": 67,
   "metadata": {},
   "outputs": [
    {
     "data": {
      "text/plain": [
       "0.5381929960809795"
      ]
     },
     "execution_count": 67,
     "metadata": {},
     "output_type": "execute_result"
    }
   ],
   "source": [
    "silhouette_score(X,clusters)"
   ]
  },
  {
   "cell_type": "markdown",
   "metadata": {},
   "source": [
    "### Calcular el Indice de Rand ajustado (`adjusted_rand_score`) usando los generos como clusters naturales"
   ]
  },
  {
   "cell_type": "code",
   "execution_count": 68,
   "metadata": {},
   "outputs": [],
   "source": [
    "from sklearn.metrics import adjusted_rand_score"
   ]
  },
  {
   "cell_type": "code",
   "execution_count": 71,
   "metadata": {},
   "outputs": [
    {
     "data": {
      "text/plain": [
       "0.005636397211379519"
      ]
     },
     "execution_count": 71,
     "metadata": {},
     "output_type": "execute_result"
    }
   ],
   "source": [
    "adjusted_rand_score(genero_peliculas,clusters)"
   ]
  }
 ],
 "metadata": {
  "kernelspec": {
   "display_name": "Python 3",
   "language": "python",
   "name": "python3"
  },
  "language_info": {
   "codemirror_mode": {
    "name": "ipython",
    "version": 3
   },
   "file_extension": ".py",
   "mimetype": "text/x-python",
   "name": "python",
   "nbconvert_exporter": "python",
   "pygments_lexer": "ipython3",
   "version": "3.7.1"
  }
 },
 "nbformat": 4,
 "nbformat_minor": 2
}
