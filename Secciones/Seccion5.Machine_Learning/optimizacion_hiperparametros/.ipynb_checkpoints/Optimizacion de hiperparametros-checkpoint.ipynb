{
 "cells": [
  {
   "cell_type": "code",
   "execution_count": 1,
   "metadata": {},
   "outputs": [
    {
     "name": "stdout",
     "output_type": "stream",
     "text": [
      "2019-01-12T17:13:35-06:00\n",
      "\n",
      "CPython 3.7.1\n",
      "IPython 7.2.0\n",
      "\n",
      "compiler   : GCC 4.8.2 20140120 (Red Hat 4.8.2-15)\n",
      "system     : Linux\n",
      "release    : 4.15.0-43-generic\n",
      "machine    : x86_64\n",
      "processor  : x86_64\n",
      "CPU cores  : 4\n",
      "interpreter: 64bit\n"
     ]
    }
   ],
   "source": [
    "%load_ext watermark\n",
    "%watermark"
   ]
  },
  {
   "cell_type": "code",
   "execution_count": 3,
   "metadata": {},
   "outputs": [],
   "source": [
    "from IPython.display import Image\n",
    "import pandas as pd\n",
    "import numpy as np\n",
    "import matplotlib\n",
    "import matplotlib.pyplot as plt\n",
    "%matplotlib inline\n",
    "\n",
    "matplotlib.rcParams['figure.figsize'] = [10, 10]\n",
    "np.random.seed(42)"
   ]
  },
  {
   "cell_type": "markdown",
   "metadata": {},
   "source": [
    "# Optimización de hiperparámetros\n",
    "\n",
    "Hasta ahora hemos visto una manera relativamente sencilla de ver que valores de los hiperparámetros funcionan mejor, mediante las curvas de validación.\n",
    "\n",
    "Estas curvas son muy útiles para darnos información a los Data Scientists, pero tienen dos problemas:\n",
    "- Son métodos gráficos, esto significa que necesitan un humano para interpretarlas y no nos permiten automatizar el proceso para encontrar los hiperparámetros óptimos.\n",
    "- Solo toman un hiperparámetro a la vez. Esto significa que hacen que sea más dificil el evaluar combinaciones de los hiperparámetros (si quisieramos evaluar multiples hiperparámetros tendriamos que hacer gráficas de planos o hiperplanos).\n",
    "\n",
    "Vamos a ver ahora métodos más robustos para dado un modelo, encontrar el conjunto de hiperparámetros que hace que funcione mejor."
   ]
  },
  {
   "cell_type": "markdown",
   "metadata": {},
   "source": [
    "# Cargamos los datos\n",
    "\n",
    "Vamos a usar un dataset nuevo, el [Census Income Dataset](https://archive.ics.uci.edu/ml/datasets/Census+Income). Es un dataset que tiene datos demográficos sobre 50,000 personas en Estados Unidos y como variable objetivo tiene una variable booleana (Verdadero/Falso) sobre si dicha persona gana más de 50K$ al año o no."
   ]
  },
  {
   "cell_type": "code",
   "execution_count": 6,
   "metadata": {},
   "outputs": [],
   "source": [
    "censo = pd.read_csv(\"data/salario_censo.csv\")"
   ]
  },
  {
   "cell_type": "code",
   "execution_count": 7,
   "metadata": {},
   "outputs": [
    {
     "data": {
      "text/plain": [
       "(32561, 13)"
      ]
     },
     "execution_count": 7,
     "metadata": {},
     "output_type": "execute_result"
    }
   ],
   "source": [
    "censo.shape"
   ]
  },
  {
   "cell_type": "code",
   "execution_count": 8,
   "metadata": {},
   "outputs": [
    {
     "data": {
      "text/html": [
       "<div>\n",
       "<style scoped>\n",
       "    .dataframe tbody tr th:only-of-type {\n",
       "        vertical-align: middle;\n",
       "    }\n",
       "\n",
       "    .dataframe tbody tr th {\n",
       "        vertical-align: top;\n",
       "    }\n",
       "\n",
       "    .dataframe thead th {\n",
       "        text-align: right;\n",
       "    }\n",
       "</style>\n",
       "<table border=\"1\" class=\"dataframe\">\n",
       "  <thead>\n",
       "    <tr style=\"text-align: right;\">\n",
       "      <th></th>\n",
       "      <th>edad</th>\n",
       "      <th>clase_laboral</th>\n",
       "      <th>nivel_educativo</th>\n",
       "      <th>status_matrimonial</th>\n",
       "      <th>ocupacion</th>\n",
       "      <th>relacion</th>\n",
       "      <th>raza</th>\n",
       "      <th>genero</th>\n",
       "      <th>ganancias_capital</th>\n",
       "      <th>perdidas_capital</th>\n",
       "      <th>horas_laborables</th>\n",
       "      <th>pais_origen</th>\n",
       "      <th>objetivo</th>\n",
       "    </tr>\n",
       "  </thead>\n",
       "  <tbody>\n",
       "    <tr>\n",
       "      <th>0</th>\n",
       "      <td>39</td>\n",
       "      <td>State-gov</td>\n",
       "      <td>13</td>\n",
       "      <td>Never-married</td>\n",
       "      <td>Adm-clerical</td>\n",
       "      <td>Not-in-family</td>\n",
       "      <td>White</td>\n",
       "      <td>Male</td>\n",
       "      <td>2174</td>\n",
       "      <td>0</td>\n",
       "      <td>40</td>\n",
       "      <td>United-States</td>\n",
       "      <td>&lt;=50K</td>\n",
       "    </tr>\n",
       "    <tr>\n",
       "      <th>1</th>\n",
       "      <td>50</td>\n",
       "      <td>Self-emp-not-inc</td>\n",
       "      <td>13</td>\n",
       "      <td>Married-civ-spouse</td>\n",
       "      <td>Exec-managerial</td>\n",
       "      <td>Husband</td>\n",
       "      <td>White</td>\n",
       "      <td>Male</td>\n",
       "      <td>0</td>\n",
       "      <td>0</td>\n",
       "      <td>13</td>\n",
       "      <td>United-States</td>\n",
       "      <td>&lt;=50K</td>\n",
       "    </tr>\n",
       "    <tr>\n",
       "      <th>2</th>\n",
       "      <td>38</td>\n",
       "      <td>Private</td>\n",
       "      <td>9</td>\n",
       "      <td>Divorced</td>\n",
       "      <td>Handlers-cleaners</td>\n",
       "      <td>Not-in-family</td>\n",
       "      <td>White</td>\n",
       "      <td>Male</td>\n",
       "      <td>0</td>\n",
       "      <td>0</td>\n",
       "      <td>40</td>\n",
       "      <td>United-States</td>\n",
       "      <td>&lt;=50K</td>\n",
       "    </tr>\n",
       "    <tr>\n",
       "      <th>3</th>\n",
       "      <td>53</td>\n",
       "      <td>Private</td>\n",
       "      <td>7</td>\n",
       "      <td>Married-civ-spouse</td>\n",
       "      <td>Handlers-cleaners</td>\n",
       "      <td>Husband</td>\n",
       "      <td>Black</td>\n",
       "      <td>Male</td>\n",
       "      <td>0</td>\n",
       "      <td>0</td>\n",
       "      <td>40</td>\n",
       "      <td>United-States</td>\n",
       "      <td>&lt;=50K</td>\n",
       "    </tr>\n",
       "    <tr>\n",
       "      <th>4</th>\n",
       "      <td>28</td>\n",
       "      <td>Private</td>\n",
       "      <td>13</td>\n",
       "      <td>Married-civ-spouse</td>\n",
       "      <td>Prof-specialty</td>\n",
       "      <td>Wife</td>\n",
       "      <td>Black</td>\n",
       "      <td>Female</td>\n",
       "      <td>0</td>\n",
       "      <td>0</td>\n",
       "      <td>40</td>\n",
       "      <td>Cuba</td>\n",
       "      <td>&lt;=50K</td>\n",
       "    </tr>\n",
       "  </tbody>\n",
       "</table>\n",
       "</div>"
      ],
      "text/plain": [
       "   edad      clase_laboral  nivel_educativo   status_matrimonial  \\\n",
       "0    39          State-gov               13        Never-married   \n",
       "1    50   Self-emp-not-inc               13   Married-civ-spouse   \n",
       "2    38            Private                9             Divorced   \n",
       "3    53            Private                7   Married-civ-spouse   \n",
       "4    28            Private               13   Married-civ-spouse   \n",
       "\n",
       "            ocupacion        relacion    raza   genero  ganancias_capital  \\\n",
       "0        Adm-clerical   Not-in-family   White     Male               2174   \n",
       "1     Exec-managerial         Husband   White     Male                  0   \n",
       "2   Handlers-cleaners   Not-in-family   White     Male                  0   \n",
       "3   Handlers-cleaners         Husband   Black     Male                  0   \n",
       "4      Prof-specialty            Wife   Black   Female                  0   \n",
       "\n",
       "   perdidas_capital  horas_laborables     pais_origen objetivo  \n",
       "0                 0                40   United-States    <=50K  \n",
       "1                 0                13   United-States    <=50K  \n",
       "2                 0                40   United-States    <=50K  \n",
       "3                 0                40   United-States    <=50K  \n",
       "4                 0                40            Cuba    <=50K  "
      ]
     },
     "execution_count": 8,
     "metadata": {},
     "output_type": "execute_result"
    }
   ],
   "source": [
    "censo.head()"
   ]
  },
  {
   "cell_type": "markdown",
   "metadata": {},
   "source": [
    "# Pipeline de procesamiento de datos"
   ]
  },
  {
   "cell_type": "code",
   "execution_count": 9,
   "metadata": {},
   "outputs": [],
   "source": [
    "variable_dependiente = \"objetivo\"\n",
    "variables_independientes = censo.drop(variable_dependiente, axis=1).columns\n",
    "censo_X = censo[variables_independientes]\n",
    "censo_y = censo[variable_dependiente]"
   ]
  },
  {
   "cell_type": "code",
   "execution_count": 10,
   "metadata": {},
   "outputs": [
    {
     "data": {
      "text/plain": [
       "array([' <=50K', ' >50K'], dtype=object)"
      ]
     },
     "execution_count": 10,
     "metadata": {},
     "output_type": "execute_result"
    }
   ],
   "source": [
    "censo_y.unique()"
   ]
  },
  {
   "cell_type": "markdown",
   "metadata": {},
   "source": [
    "En este caso la variable objetivo está definida como texto, asi que la convertimos a una variable binaria numérica."
   ]
  },
  {
   "cell_type": "code",
   "execution_count": 11,
   "metadata": {},
   "outputs": [],
   "source": [
    "censo_y = censo_y.replace({\" <=50K\":0, \" >50K\":1})"
   ]
  },
  {
   "cell_type": "markdown",
   "metadata": {},
   "source": [
    "Separamos datos en numéricos y no numéricos. Viendo el [diccionario de datos](https://archive.ics.uci.edu/ml/machine-learning-databases/adult/adult.names) del dataset vemos que no hay variables categóricas, solo la variable educacion que ya viene codificada como numérica (*education-num*)."
   ]
  },
  {
   "cell_type": "code",
   "execution_count": 12,
   "metadata": {},
   "outputs": [],
   "source": [
    "datos_numericos = censo_X.select_dtypes([int, float])\n",
    "col_numericas = datos_numericos.columns\n",
    "\n",
    "datos_categoricos = censo_X.select_dtypes([object])\n",
    "col_no_numericas = datos_categoricos.columns"
   ]
  },
  {
   "cell_type": "markdown",
   "metadata": {},
   "source": [
    "Vamos a usar un transformador nuevo `MultiLabelBinarizer`. Es como el LabelBinarizer pero funciona para multiples columnas"
   ]
  },
  {
   "cell_type": "code",
   "execution_count": 14,
   "metadata": {},
   "outputs": [],
   "source": [
    "from sklearn.preprocessing import Imputer, StandardScaler, MultiLabelBinarizer"
   ]
  },
  {
   "cell_type": "code",
   "execution_count": 15,
   "metadata": {},
   "outputs": [
    {
     "data": {
      "text/plain": [
       "array([[0, 0, 1, 1, 0, 1, 0, 0],\n",
       "       [1, 0, 0, 0, 1, 0, 0, 1],\n",
       "       [0, 1, 0, 1, 0, 0, 1, 0],\n",
       "       [0, 0, 1, 1, 0, 1, 0, 0]])"
      ]
     },
     "execution_count": 15,
     "metadata": {},
     "output_type": "execute_result"
    }
   ],
   "source": [
    "b = MultiLabelBinarizer()\n",
    "b.fit_transform(\n",
    " [\n",
    "     [\"gato\", \"patata\", \"rojo\"],\n",
    "     [\"perro\", \"zanahoria\", \"azul\"],\n",
    "     [\"camello\", \"patata\", \"verde\"],\n",
    "     [\"gato\", \"patata\", \"rojo\"]\n",
    " ]\n",
    ")"
   ]
  },
  {
   "cell_type": "markdown",
   "metadata": {},
   "source": [
    "Con `classes_` podemos ver los diferentes valores de las variables categoricas"
   ]
  },
  {
   "cell_type": "code",
   "execution_count": 16,
   "metadata": {},
   "outputs": [
    {
     "data": {
      "text/plain": [
       "array(['azul', 'camello', 'gato', 'patata', 'perro', 'rojo', 'verde',\n",
       "       'zanahoria'], dtype=object)"
      ]
     },
     "execution_count": 16,
     "metadata": {},
     "output_type": "execute_result"
    }
   ],
   "source": [
    "b.classes_"
   ]
  },
  {
   "cell_type": "markdown",
   "metadata": {},
   "source": [
    "Creamos el transformador `BinarizadorMultipleCategorico` que es básicamente el MultiLabelBinarizer pero \"arreglado\" para que funcione en Pipelines (Estoy usando sklearn 0.19.0, este bug se arreglará en el futuro)."
   ]
  },
  {
   "cell_type": "code",
   "execution_count": 17,
   "metadata": {},
   "outputs": [],
   "source": [
    "from sklearn.base import TransformerMixin\n",
    "from sklearn import preprocessing\n",
    "\n",
    "class ColumnExtractor(TransformerMixin):\n",
    "    \"\"\"Transformador que selecciona columnas de un dataframe\"\"\"\n",
    "    def __init__(self, columns):\n",
    "        self.columns = columns\n",
    "        \n",
    "    def transform(self, X, **transform_params):\n",
    "        return X[self.columns].as_matrix()\n",
    "        \n",
    "    def fit(self, X, y=None, **fit_params):\n",
    "        return self\n",
    "    \n",
    "class BinarizadorMultipleCategorico(preprocessing.MultiLabelBinarizer):\n",
    "    def fit(self, X, y=None):\n",
    "        super(BinarizadorMultipleCategorico, self).fit(X)\n",
    "        \n",
    "    def transform(self, X, y=None):\n",
    "        return super(BinarizadorMultipleCategorico, self).transform(X)\n",
    "\n",
    "    def fit_transform(self, X, y=None):\n",
    "        return super(BinarizadorMultipleCategorico, self).fit(X).transform(X)"
   ]
  },
  {
   "cell_type": "code",
   "execution_count": 18,
   "metadata": {},
   "outputs": [],
   "source": [
    "from sklearn.pipeline import Pipeline, FeatureUnion"
   ]
  },
  {
   "cell_type": "code",
   "execution_count": 20,
   "metadata": {},
   "outputs": [],
   "source": [
    "pipeline_numerico = Pipeline([\n",
    "    ('selector_numerico', ColumnExtractor(columns=col_numericas)),\n",
    "    ('imputador', Imputer()),\n",
    "    ('escalador', StandardScaler()),\n",
    "])\n",
    "\n",
    "pipeline_categorico = Pipeline([\n",
    "    ('selector_categorico', ColumnExtractor(columns=col_no_numericas)),\n",
    "    ('codificador_numerico', BinarizadorMultipleCategorico()),\n",
    "])"
   ]
  },
  {
   "cell_type": "code",
   "execution_count": 32,
   "metadata": {},
   "outputs": [
    {
     "name": "stderr",
     "output_type": "stream",
     "text": [
      "/home/erdvillegas/anaconda3/envs/Datascientist/lib/python3.7/site-packages/ipykernel_launcher.py:10: FutureWarning: Method .as_matrix will be removed in a future version. Use .values instead.\n",
      "  # Remove the CWD from sys.path while we load stuff.\n"
     ]
    },
    {
     "data": {
      "text/plain": [
       "(32561, 84)"
      ]
     },
     "execution_count": 32,
     "metadata": {},
     "output_type": "execute_result"
    }
   ],
   "source": [
    "pipeline_categorico.fit_transform(censo_X).shape"
   ]
  },
  {
   "cell_type": "code",
   "execution_count": 33,
   "metadata": {},
   "outputs": [
    {
     "data": {
      "text/plain": [
       "Index(['edad', 'nivel_educativo', 'ganancias_capital', 'perdidas_capital',\n",
       "       'horas_laborables'],\n",
       "      dtype='object')"
      ]
     },
     "execution_count": 33,
     "metadata": {},
     "output_type": "execute_result"
    }
   ],
   "source": [
    "col_numericas"
   ]
  },
  {
   "cell_type": "code",
   "execution_count": 34,
   "metadata": {},
   "outputs": [
    {
     "name": "stderr",
     "output_type": "stream",
     "text": [
      "/home/erdvillegas/anaconda3/envs/Datascientist/lib/python3.7/site-packages/ipykernel_launcher.py:10: FutureWarning: Method .as_matrix will be removed in a future version. Use .values instead.\n",
      "  # Remove the CWD from sys.path while we load stuff.\n"
     ]
    },
    {
     "data": {
      "text/plain": [
       "(32561, 5)"
      ]
     },
     "execution_count": 34,
     "metadata": {},
     "output_type": "execute_result"
    }
   ],
   "source": [
    "pipeline_numerico.fit_transform(censo_X).shape"
   ]
  },
  {
   "cell_type": "code",
   "execution_count": 35,
   "metadata": {},
   "outputs": [],
   "source": [
    "pipeline_procesado = FeatureUnion([\n",
    "    ('transformacion_numericas', pipeline_numerico),\n",
    "    ('transformacion_categorica', pipeline_categorico),\n",
    "])"
   ]
  },
  {
   "cell_type": "code",
   "execution_count": 28,
   "metadata": {},
   "outputs": [
    {
     "data": {
      "text/plain": [
       "FeatureUnion(n_jobs=1,\n",
       "       transformer_list=[('transformacion_numericas', Pipeline(memory=None,\n",
       "     steps=[('selector_numerico', <__main__.ColumnExtractor object at 0x7fa8ed70c2e8>), ('imputador', Imputer(axis=0, copy=True, missing_values='NaN', strategy='mean', verbose=0)), ('escalador', StandardScaler(copy=True, with_mean=...b0>), ('codificador_numerico', BinarizadorMultipleCategorico(classes=None, sparse_output=False))]))],\n",
       "       transformer_weights=None)"
      ]
     },
     "execution_count": 28,
     "metadata": {},
     "output_type": "execute_result"
    }
   ],
   "source": [
    "pipeline_procesado"
   ]
  },
  {
   "cell_type": "code",
   "execution_count": 29,
   "metadata": {},
   "outputs": [
    {
     "name": "stderr",
     "output_type": "stream",
     "text": [
      "/home/erdvillegas/anaconda3/envs/Datascientist/lib/python3.7/site-packages/ipykernel_launcher.py:10: FutureWarning: Method .as_matrix will be removed in a future version. Use .values instead.\n",
      "  # Remove the CWD from sys.path while we load stuff.\n",
      "/home/erdvillegas/anaconda3/envs/Datascientist/lib/python3.7/site-packages/ipykernel_launcher.py:10: FutureWarning: Method .as_matrix will be removed in a future version. Use .values instead.\n",
      "  # Remove the CWD from sys.path while we load stuff.\n"
     ]
    }
   ],
   "source": [
    "censo_X_procesado = pipeline_procesado.fit_transform(censo_X)"
   ]
  },
  {
   "cell_type": "code",
   "execution_count": 30,
   "metadata": {},
   "outputs": [
    {
     "data": {
      "text/plain": [
       "(32561, 89)"
      ]
     },
     "execution_count": 30,
     "metadata": {},
     "output_type": "execute_result"
    }
   ],
   "source": [
    "censo_X_procesado.shape"
   ]
  },
  {
   "cell_type": "markdown",
   "metadata": {},
   "source": [
    "Antes que nada vamos a ver que puntuaciones tienen unos cuantos modelos con sus  hiperparámetro por defecto"
   ]
  },
  {
   "cell_type": "code",
   "execution_count": 31,
   "metadata": {},
   "outputs": [],
   "source": [
    "resultados = {}"
   ]
  },
  {
   "cell_type": "code",
   "execution_count": 36,
   "metadata": {},
   "outputs": [],
   "source": [
    "from sklearn.model_selection import cross_validate\n",
    "\n",
    "def evaluar_modelo(estimador, X, y):\n",
    "    resultados_estimador = cross_validate(estimador, X, y,\n",
    "                     scoring=\"roc_auc\", n_jobs=-1, cv=5, return_train_score=True)\n",
    "    return resultados_estimador\n",
    "\n",
    "def ver_resultados():\n",
    "    resultados_df  = pd.DataFrame(resultados).T\n",
    "    resultados_cols = resultados_df.columns\n",
    "    for col in resultados_df:\n",
    "        resultados_df[col] = resultados_df[col].apply(np.mean)\n",
    "        resultados_df[col+\"_idx\"] = resultados_df[col] / resultados_df[col].max()\n",
    "    return resultados_df"
   ]
  },
  {
   "cell_type": "code",
   "execution_count": 38,
   "metadata": {},
   "outputs": [],
   "source": [
    "from sklearn.linear_model import LogisticRegression\n",
    "from sklearn.naive_bayes import GaussianNB\n",
    "from sklearn.ensemble import RandomForestClassifier\n",
    "from sklearn.svm import SVC"
   ]
  },
  {
   "cell_type": "code",
   "execution_count": 39,
   "metadata": {},
   "outputs": [],
   "source": [
    "resultados[\"reg_logistica\"] = evaluar_modelo(LogisticRegression(), censo_X_procesado, censo_y)\n",
    "resultados[\"naive_bayes\"] = evaluar_modelo(GaussianNB(), censo_X_procesado, censo_y)\n",
    "resultados[\"rf\"] = evaluar_modelo(RandomForestClassifier(), censo_X_procesado, censo_y)\n",
    "resultados[\"svc\"] = evaluar_modelo(SVC(), censo_X_procesado, censo_y)"
   ]
  },
  {
   "cell_type": "code",
   "execution_count": 40,
   "metadata": {},
   "outputs": [
    {
     "data": {
      "text/html": [
       "<div>\n",
       "<style scoped>\n",
       "    .dataframe tbody tr th:only-of-type {\n",
       "        vertical-align: middle;\n",
       "    }\n",
       "\n",
       "    .dataframe tbody tr th {\n",
       "        vertical-align: top;\n",
       "    }\n",
       "\n",
       "    .dataframe thead th {\n",
       "        text-align: right;\n",
       "    }\n",
       "</style>\n",
       "<table border=\"1\" class=\"dataframe\">\n",
       "  <thead>\n",
       "    <tr style=\"text-align: right;\">\n",
       "      <th></th>\n",
       "      <th>fit_time</th>\n",
       "      <th>score_time</th>\n",
       "      <th>test_score</th>\n",
       "      <th>train_score</th>\n",
       "      <th>fit_time_idx</th>\n",
       "      <th>score_time_idx</th>\n",
       "      <th>test_score_idx</th>\n",
       "      <th>train_score_idx</th>\n",
       "    </tr>\n",
       "  </thead>\n",
       "  <tbody>\n",
       "    <tr>\n",
       "      <th>reg_logistica</th>\n",
       "      <td>0.485410</td>\n",
       "      <td>0.024891</td>\n",
       "      <td>0.906715</td>\n",
       "      <td>0.908326</td>\n",
       "      <td>0.007979</td>\n",
       "      <td>0.002187</td>\n",
       "      <td>0.997895</td>\n",
       "      <td>0.912470</td>\n",
       "    </tr>\n",
       "    <tr>\n",
       "      <th>naive_bayes</th>\n",
       "      <td>0.161320</td>\n",
       "      <td>0.038105</td>\n",
       "      <td>0.781202</td>\n",
       "      <td>0.783341</td>\n",
       "      <td>0.002652</td>\n",
       "      <td>0.003347</td>\n",
       "      <td>0.859760</td>\n",
       "      <td>0.786914</td>\n",
       "    </tr>\n",
       "    <tr>\n",
       "      <th>rf</th>\n",
       "      <td>0.719748</td>\n",
       "      <td>0.031647</td>\n",
       "      <td>0.874361</td>\n",
       "      <td>0.995459</td>\n",
       "      <td>0.011831</td>\n",
       "      <td>0.002780</td>\n",
       "      <td>0.962287</td>\n",
       "      <td>1.000000</td>\n",
       "    </tr>\n",
       "    <tr>\n",
       "      <th>svc</th>\n",
       "      <td>60.837784</td>\n",
       "      <td>11.383890</td>\n",
       "      <td>0.908628</td>\n",
       "      <td>0.910540</td>\n",
       "      <td>1.000000</td>\n",
       "      <td>1.000000</td>\n",
       "      <td>1.000000</td>\n",
       "      <td>0.914694</td>\n",
       "    </tr>\n",
       "  </tbody>\n",
       "</table>\n",
       "</div>"
      ],
      "text/plain": [
       "                fit_time  score_time  test_score  train_score  fit_time_idx  \\\n",
       "reg_logistica   0.485410    0.024891    0.906715     0.908326      0.007979   \n",
       "naive_bayes     0.161320    0.038105    0.781202     0.783341      0.002652   \n",
       "rf              0.719748    0.031647    0.874361     0.995459      0.011831   \n",
       "svc            60.837784   11.383890    0.908628     0.910540      1.000000   \n",
       "\n",
       "               score_time_idx  test_score_idx  train_score_idx  \n",
       "reg_logistica        0.002187        0.997895         0.912470  \n",
       "naive_bayes          0.003347        0.859760         0.786914  \n",
       "rf                   0.002780        0.962287         1.000000  \n",
       "svc                  1.000000        1.000000         0.914694  "
      ]
     },
     "execution_count": 40,
     "metadata": {},
     "output_type": "execute_result"
    }
   ],
   "source": [
    "ver_resultados()"
   ]
  },
  {
   "cell_type": "markdown",
   "metadata": {},
   "source": [
    "Vamos a seleccionar un estimador en función de los resultados iniciales y optimizarlo. Elijo el estimador Random Forest por que funciona muy bien en comparación a los demás y es bastánte rápido de entrenar."
   ]
  },
  {
   "cell_type": "code",
   "execution_count": 45,
   "metadata": {},
   "outputs": [],
   "source": [
    "estimador_rf = RandomForestClassifier()"
   ]
  },
  {
   "cell_type": "markdown",
   "metadata": {},
   "source": [
    "Scikit-learn tiene dos métodos de optimización de hiperparámetros, [GridSearchCV](http://scikit-learn.org/stable/modules/generated/sklearn.model_selection.GridSearchCV.html#sklearn.model_selection.GridSearchCV) y [RandomizedSearchCV](http://scikit-learn.org/stable/modules/generated/sklearn.model_selection.RandomizedSearchCV.html#sklearn.model_selection.RandomizedSearchCV).\n",
    "\n",
    "`GridSearchCV` funciona realizando una busqueda en una malla, es decir, pasandole un conjunto de posibles opciones de hiperparámetros evalua de forma completa cada combinación de dichos parámetros (es decir, el valor 1 del hiperparámetro 1 combinado con todos los posibles valores de los demás hiperparámetros, el valor 2 del hiperparámetro 1 combinado con todos los posibles valores de los demás hiperparámetros, etcétera).\n",
    "\n",
    "La ventaja de utilizar una búsqueda de malla es que nos aseguramos de que se han probado todas las combinaciones posibles. El problema es que el proceso requiere mucho tiempo de computación, y según que dataset usemos "
   ]
  },
  {
   "cell_type": "code",
   "execution_count": 41,
   "metadata": {},
   "outputs": [
    {
     "name": "stdout",
     "output_type": "stream",
     "text": [
      "709 ns ± 16.8 ns per loop (mean ± std. dev. of 7 runs, 1000000 loops each)\n"
     ]
    }
   ],
   "source": [
    "%%timeit\n",
    "import time\n",
    "def foo():\n",
    "    time.sleep(1)"
   ]
  },
  {
   "cell_type": "code",
   "execution_count": 42,
   "metadata": {},
   "outputs": [
    {
     "name": "stdout",
     "output_type": "stream",
     "text": [
      "2.54 µs ± 0 ns per loop (mean ± std. dev. of 1 run, 1 loop each)\n"
     ]
    }
   ],
   "source": [
    "%%timeit -n 1 -r 1  #n 1 dice que ejecute esta celda solo una vez, -r 1 que ejecute un solo loop\n",
    "def foo():\n",
    "    time.sleep(1)"
   ]
  },
  {
   "cell_type": "code",
   "execution_count": 43,
   "metadata": {},
   "outputs": [],
   "source": [
    "from sklearn.model_selection import GridSearchCV, RandomizedSearchCV"
   ]
  },
  {
   "cell_type": "code",
   "execution_count": 46,
   "metadata": {},
   "outputs": [
    {
     "name": "stdout",
     "output_type": "stream",
     "text": [
      "A random forest classifier.\n",
      "\n",
      "    A random forest is a meta estimator that fits a number of decision tree\n",
      "    classifiers on various sub-samples of the dataset and use averaging to\n",
      "    improve the predictive accuracy and control over-fitting.\n",
      "    The sub-sample size is always the same as the original\n",
      "    input sample size but the samples are drawn with replacement if\n",
      "    `bootstrap=True` (default).\n",
      "\n",
      "    Read more in the :ref:`User Guide <forest>`.\n",
      "\n",
      "    Parameters\n",
      "    ----------\n",
      "    n_estimators : integer, optional (default=10)\n",
      "        The number of trees in the forest.\n",
      "\n",
      "    criterion : string, optional (default=\"gini\")\n",
      "        The function to measure the quality of a split. Supported criteria are\n",
      "        \"gini\" for the Gini impurity and \"entropy\" for the information gain.\n",
      "        Note: this parameter is tree-specific.\n",
      "\n",
      "    max_features : int, float, string or None, optional (default=\"auto\")\n",
      "        The number of features to consider when looking for the best split:\n",
      "\n",
      "        - If int, then consider `max_features` features at each split.\n",
      "        - If float, then `max_features` is a percentage and\n",
      "          `int(max_features * n_features)` features are considered at each\n",
      "          split.\n",
      "        - If \"auto\", then `max_features=sqrt(n_features)`.\n",
      "        - If \"sqrt\", then `max_features=sqrt(n_features)` (same as \"auto\").\n",
      "        - If \"log2\", then `max_features=log2(n_features)`.\n",
      "        - If None, then `max_features=n_features`.\n",
      "\n",
      "        Note: the search for a split does not stop until at least one\n",
      "        valid partition of the node samples is found, even if it requires to\n",
      "        effectively inspect more than ``max_features`` features.\n",
      "\n",
      "    max_depth : integer or None, optional (default=None)\n",
      "        The maximum depth of the tree. If None, then nodes are expanded until\n",
      "        all leaves are pure or until all leaves contain less than\n",
      "        min_samples_split samples.\n",
      "\n",
      "    min_samples_split : int, float, optional (default=2)\n",
      "        The minimum number of samples required to split an internal node:\n",
      "\n",
      "        - If int, then consider `min_samples_split` as the minimum number.\n",
      "        - If float, then `min_samples_split` is a percentage and\n",
      "          `ceil(min_samples_split * n_samples)` are the minimum\n",
      "          number of samples for each split.\n",
      "\n",
      "        .. versionchanged:: 0.18\n",
      "           Added float values for percentages.\n",
      "\n",
      "    min_samples_leaf : int, float, optional (default=1)\n",
      "        The minimum number of samples required to be at a leaf node:\n",
      "\n",
      "        - If int, then consider `min_samples_leaf` as the minimum number.\n",
      "        - If float, then `min_samples_leaf` is a percentage and\n",
      "          `ceil(min_samples_leaf * n_samples)` are the minimum\n",
      "          number of samples for each node.\n",
      "\n",
      "        .. versionchanged:: 0.18\n",
      "           Added float values for percentages.\n",
      "\n",
      "    min_weight_fraction_leaf : float, optional (default=0.)\n",
      "        The minimum weighted fraction of the sum total of weights (of all\n",
      "        the input samples) required to be at a leaf node. Samples have\n",
      "        equal weight when sample_weight is not provided.\n",
      "\n",
      "    max_leaf_nodes : int or None, optional (default=None)\n",
      "        Grow trees with ``max_leaf_nodes`` in best-first fashion.\n",
      "        Best nodes are defined as relative reduction in impurity.\n",
      "        If None then unlimited number of leaf nodes.\n",
      "\n",
      "    min_impurity_split : float,\n",
      "        Threshold for early stopping in tree growth. A node will split\n",
      "        if its impurity is above the threshold, otherwise it is a leaf.\n",
      "\n",
      "        .. deprecated:: 0.19\n",
      "           ``min_impurity_split`` has been deprecated in favor of\n",
      "           ``min_impurity_decrease`` in 0.19 and will be removed in 0.21.\n",
      "           Use ``min_impurity_decrease`` instead.\n",
      "\n",
      "    min_impurity_decrease : float, optional (default=0.)\n",
      "        A node will be split if this split induces a decrease of the impurity\n",
      "        greater than or equal to this value.\n",
      "\n",
      "        The weighted impurity decrease equation is the following::\n",
      "\n",
      "            N_t / N * (impurity - N_t_R / N_t * right_impurity\n",
      "                                - N_t_L / N_t * left_impurity)\n",
      "\n",
      "        where ``N`` is the total number of samples, ``N_t`` is the number of\n",
      "        samples at the current node, ``N_t_L`` is the number of samples in the\n",
      "        left child, and ``N_t_R`` is the number of samples in the right child.\n",
      "\n",
      "        ``N``, ``N_t``, ``N_t_R`` and ``N_t_L`` all refer to the weighted sum,\n",
      "        if ``sample_weight`` is passed.\n",
      "\n",
      "        .. versionadded:: 0.19\n",
      "\n",
      "    bootstrap : boolean, optional (default=True)\n",
      "        Whether bootstrap samples are used when building trees.\n",
      "\n",
      "    oob_score : bool (default=False)\n",
      "        Whether to use out-of-bag samples to estimate\n",
      "        the generalization accuracy.\n",
      "\n",
      "    n_jobs : integer, optional (default=1)\n",
      "        The number of jobs to run in parallel for both `fit` and `predict`.\n",
      "        If -1, then the number of jobs is set to the number of cores.\n",
      "\n",
      "    random_state : int, RandomState instance or None, optional (default=None)\n",
      "        If int, random_state is the seed used by the random number generator;\n",
      "        If RandomState instance, random_state is the random number generator;\n",
      "        If None, the random number generator is the RandomState instance used\n",
      "        by `np.random`.\n",
      "\n",
      "    verbose : int, optional (default=0)\n",
      "        Controls the verbosity of the tree building process.\n",
      "\n",
      "    warm_start : bool, optional (default=False)\n",
      "        When set to ``True``, reuse the solution of the previous call to fit\n",
      "        and add more estimators to the ensemble, otherwise, just fit a whole\n",
      "        new forest.\n",
      "\n",
      "    class_weight : dict, list of dicts, \"balanced\",\n",
      "        \"balanced_subsample\" or None, optional (default=None)\n",
      "        Weights associated with classes in the form ``{class_label: weight}``.\n",
      "        If not given, all classes are supposed to have weight one. For\n",
      "        multi-output problems, a list of dicts can be provided in the same\n",
      "        order as the columns of y.\n",
      "\n",
      "        Note that for multioutput (including multilabel) weights should be\n",
      "        defined for each class of every column in its own dict. For example,\n",
      "        for four-class multilabel classification weights should be\n",
      "        [{0: 1, 1: 1}, {0: 1, 1: 5}, {0: 1, 1: 1}, {0: 1, 1: 1}] instead of\n",
      "        [{1:1}, {2:5}, {3:1}, {4:1}].\n",
      "\n",
      "        The \"balanced\" mode uses the values of y to automatically adjust\n",
      "        weights inversely proportional to class frequencies in the input data\n",
      "        as ``n_samples / (n_classes * np.bincount(y))``\n",
      "\n",
      "        The \"balanced_subsample\" mode is the same as \"balanced\" except that\n",
      "        weights are computed based on the bootstrap sample for every tree\n",
      "        grown.\n",
      "\n",
      "        For multi-output, the weights of each column of y will be multiplied.\n",
      "\n",
      "        Note that these weights will be multiplied with sample_weight (passed\n",
      "        through the fit method) if sample_weight is specified.\n",
      "\n",
      "    Attributes\n",
      "    ----------\n",
      "    estimators_ : list of DecisionTreeClassifier\n",
      "        The collection of fitted sub-estimators.\n",
      "\n",
      "    classes_ : array of shape = [n_classes] or a list of such arrays\n",
      "        The classes labels (single output problem), or a list of arrays of\n",
      "        class labels (multi-output problem).\n",
      "\n",
      "    n_classes_ : int or list\n",
      "        The number of classes (single output problem), or a list containing the\n",
      "        number of classes for each output (multi-output problem).\n",
      "\n",
      "    n_features_ : int\n",
      "        The number of features when ``fit`` is performed.\n",
      "\n",
      "    n_outputs_ : int\n",
      "        The number of outputs when ``fit`` is performed.\n",
      "\n",
      "    feature_importances_ : array of shape = [n_features]\n",
      "        The feature importances (the higher, the more important the feature).\n",
      "\n",
      "    oob_score_ : float\n",
      "        Score of the training dataset obtained using an out-of-bag estimate.\n",
      "\n",
      "    oob_decision_function_ : array of shape = [n_samples, n_classes]\n",
      "        Decision function computed with out-of-bag estimate on the training\n",
      "        set. If n_estimators is small it might be possible that a data point\n",
      "        was never left out during the bootstrap. In this case,\n",
      "        `oob_decision_function_` might contain NaN.\n",
      "\n",
      "    Examples\n",
      "    --------\n",
      "    >>> from sklearn.ensemble import RandomForestClassifier\n",
      "    >>> from sklearn.datasets import make_classification\n",
      "    >>>\n",
      "    >>> X, y = make_classification(n_samples=1000, n_features=4,\n",
      "    ...                            n_informative=2, n_redundant=0,\n",
      "    ...                            random_state=0, shuffle=False)\n",
      "    >>> clf = RandomForestClassifier(max_depth=2, random_state=0)\n",
      "    >>> clf.fit(X, y)\n",
      "    RandomForestClassifier(bootstrap=True, class_weight=None, criterion='gini',\n",
      "                max_depth=2, max_features='auto', max_leaf_nodes=None,\n",
      "                min_impurity_decrease=0.0, min_impurity_split=None,\n",
      "                min_samples_leaf=1, min_samples_split=2,\n",
      "                min_weight_fraction_leaf=0.0, n_estimators=10, n_jobs=1,\n",
      "                oob_score=False, random_state=0, verbose=0, warm_start=False)\n",
      "    >>> print(clf.feature_importances_)\n",
      "    [ 0.17287856  0.80608704  0.01884792  0.00218648]\n",
      "    >>> print(clf.predict([[0, 0, 0, 0]]))\n",
      "    [1]\n",
      "\n",
      "    Notes\n",
      "    -----\n",
      "    The default values for the parameters controlling the size of the trees\n",
      "    (e.g. ``max_depth``, ``min_samples_leaf``, etc.) lead to fully grown and\n",
      "    unpruned trees which can potentially be very large on some data sets. To\n",
      "    reduce memory consumption, the complexity and size of the trees should be\n",
      "    controlled by setting those parameter values.\n",
      "\n",
      "    The features are always randomly permuted at each split. Therefore,\n",
      "    the best found split may vary, even with the same training data,\n",
      "    ``max_features=n_features`` and ``bootstrap=False``, if the improvement\n",
      "    of the criterion is identical for several splits enumerated during the\n",
      "    search of the best split. To obtain a deterministic behaviour during\n",
      "    fitting, ``random_state`` has to be fixed.\n",
      "\n",
      "    References\n",
      "    ----------\n",
      "\n",
      "    .. [1] L. Breiman, \"Random Forests\", Machine Learning, 45(1), 5-32, 2001.\n",
      "\n",
      "    See also\n",
      "    --------\n",
      "    DecisionTreeClassifier, ExtraTreesClassifier\n",
      "    \n"
     ]
    }
   ],
   "source": [
    "print(estimador_rf.__doc__)"
   ]
  },
  {
   "cell_type": "code",
   "execution_count": 47,
   "metadata": {},
   "outputs": [
    {
     "data": {
      "text/plain": [
       "{'bootstrap': True,\n",
       " 'class_weight': None,\n",
       " 'criterion': 'gini',\n",
       " 'max_depth': None,\n",
       " 'max_features': 'auto',\n",
       " 'max_leaf_nodes': None,\n",
       " 'min_impurity_decrease': 0.0,\n",
       " 'min_impurity_split': None,\n",
       " 'min_samples_leaf': 1,\n",
       " 'min_samples_split': 2,\n",
       " 'min_weight_fraction_leaf': 0.0,\n",
       " 'n_estimators': 10,\n",
       " 'n_jobs': 1,\n",
       " 'oob_score': False,\n",
       " 'random_state': None,\n",
       " 'verbose': 0,\n",
       " 'warm_start': False}"
      ]
     },
     "execution_count": 47,
     "metadata": {},
     "output_type": "execute_result"
    }
   ],
   "source": [
    "estimador_rf.get_params()"
   ]
  },
  {
   "cell_type": "markdown",
   "metadata": {},
   "source": [
    "Vamos a definir los límites de la búsqueda de hiperparámetros."
   ]
  },
  {
   "cell_type": "code",
   "execution_count": 48,
   "metadata": {},
   "outputs": [
    {
     "data": {
      "text/plain": [
       "array([  10,  120,  230,  340,  450,  560,  670,  780,  890, 1000])"
      ]
     },
     "execution_count": 48,
     "metadata": {},
     "output_type": "execute_result"
    }
   ],
   "source": [
    "np.linspace(10,1000,10).astype(int)"
   ]
  },
  {
   "cell_type": "code",
   "execution_count": 49,
   "metadata": {},
   "outputs": [],
   "source": [
    "parametros_busqueda_rf = {\n",
    "    \"criterion\": [\"gini\", \"entropy\"],\n",
    "    \"n_estimators\": np.linspace(10,1000,10).astype(int),\n",
    "    \"class_weight\": [None, \"balanced\"]\n",
    "}"
   ]
  },
  {
   "cell_type": "code",
   "execution_count": 50,
   "metadata": {},
   "outputs": [],
   "source": [
    "grid = GridSearchCV(estimator=estimador_rf, \n",
    "                    param_grid=parametros_busqueda_rf,\n",
    "                    scoring=\"roc_auc\", n_jobs=-1)"
   ]
  },
  {
   "cell_type": "markdown",
   "metadata": {},
   "source": [
    "`GridSearchCV` se comporta como un estimador en cuanto a que tiene un metodo fit que usamos para \"entrenarlo\" y que realize la búsqueda en malla.\n",
    "\n",
    "Para ver cuanto tiempo tarda en realizar la búsqueda usamos la mágia de Jupyter notebook `%%timeit` que evalua el tiempo que tarda una función en ejecutarse\n"
   ]
  },
  {
   "cell_type": "code",
   "execution_count": 51,
   "metadata": {},
   "outputs": [
    {
     "name": "stdout",
     "output_type": "stream",
     "text": [
      "21min 58s ± 0 ns per loop (mean ± std. dev. of 1 run, 1 loop each)\n"
     ]
    }
   ],
   "source": [
    "%%timeit -n 1 -r 1\n",
    "grid.fit(censo_X_procesado, censo_y)"
   ]
  },
  {
   "cell_type": "markdown",
   "metadata": {},
   "source": [
    "En mi ordenador la busqueda en malla ha tardado 7minutos y 49 segundos \n",
    "\n",
    "Ahora podemos ver la puntuación que ha obtenido el mejor estimador así como los parámetros del mismo"
   ]
  },
  {
   "cell_type": "code",
   "execution_count": 52,
   "metadata": {},
   "outputs": [
    {
     "name": "stdout",
     "output_type": "stream",
     "text": [
      "0.8972299736913247\n",
      "RandomForestClassifier(bootstrap=True, class_weight=None, criterion='entropy',\n",
      "            max_depth=None, max_features='auto', max_leaf_nodes=None,\n",
      "            min_impurity_decrease=0.0, min_impurity_split=None,\n",
      "            min_samples_leaf=1, min_samples_split=2,\n",
      "            min_weight_fraction_leaf=0.0, n_estimators=560, n_jobs=1,\n",
      "            oob_score=False, random_state=None, verbose=0,\n",
      "            warm_start=False)\n"
     ]
    }
   ],
   "source": [
    "print(grid.best_score_)\n",
    "print(grid.best_estimator_)"
   ]
  },
  {
   "cell_type": "markdown",
   "metadata": {},
   "source": [
    "Tras haberlo ajustado, Gridsearch nos devuelve el ranking de todas las variantes evaluadas junto con métricas de su funcionamiento con el atributo `cv_results_`"
   ]
  },
  {
   "cell_type": "code",
   "execution_count": 53,
   "metadata": {},
   "outputs": [
    {
     "name": "stderr",
     "output_type": "stream",
     "text": [
      "/home/erdvillegas/anaconda3/envs/Datascientist/lib/python3.7/site-packages/sklearn/utils/deprecation.py:122: FutureWarning: You are accessing a training score ('split0_train_score'), which will not be available by default any more in 0.21. If you need training scores, please set return_train_score=True\n",
      "  warnings.warn(*warn_args, **warn_kwargs)\n",
      "/home/erdvillegas/anaconda3/envs/Datascientist/lib/python3.7/site-packages/sklearn/utils/deprecation.py:122: FutureWarning: You are accessing a training score ('split1_train_score'), which will not be available by default any more in 0.21. If you need training scores, please set return_train_score=True\n",
      "  warnings.warn(*warn_args, **warn_kwargs)\n",
      "/home/erdvillegas/anaconda3/envs/Datascientist/lib/python3.7/site-packages/sklearn/utils/deprecation.py:122: FutureWarning: You are accessing a training score ('split2_train_score'), which will not be available by default any more in 0.21. If you need training scores, please set return_train_score=True\n",
      "  warnings.warn(*warn_args, **warn_kwargs)\n",
      "/home/erdvillegas/anaconda3/envs/Datascientist/lib/python3.7/site-packages/sklearn/utils/deprecation.py:122: FutureWarning: You are accessing a training score ('mean_train_score'), which will not be available by default any more in 0.21. If you need training scores, please set return_train_score=True\n",
      "  warnings.warn(*warn_args, **warn_kwargs)\n",
      "/home/erdvillegas/anaconda3/envs/Datascientist/lib/python3.7/site-packages/sklearn/utils/deprecation.py:122: FutureWarning: You are accessing a training score ('std_train_score'), which will not be available by default any more in 0.21. If you need training scores, please set return_train_score=True\n",
      "  warnings.warn(*warn_args, **warn_kwargs)\n"
     ]
    },
    {
     "data": {
      "text/html": [
       "<div>\n",
       "<style scoped>\n",
       "    .dataframe tbody tr th:only-of-type {\n",
       "        vertical-align: middle;\n",
       "    }\n",
       "\n",
       "    .dataframe tbody tr th {\n",
       "        vertical-align: top;\n",
       "    }\n",
       "\n",
       "    .dataframe thead th {\n",
       "        text-align: right;\n",
       "    }\n",
       "</style>\n",
       "<table border=\"1\" class=\"dataframe\">\n",
       "  <thead>\n",
       "    <tr style=\"text-align: right;\">\n",
       "      <th></th>\n",
       "      <th>mean_fit_time</th>\n",
       "      <th>std_fit_time</th>\n",
       "      <th>mean_score_time</th>\n",
       "      <th>std_score_time</th>\n",
       "      <th>param_class_weight</th>\n",
       "      <th>param_criterion</th>\n",
       "      <th>param_n_estimators</th>\n",
       "      <th>params</th>\n",
       "      <th>split0_test_score</th>\n",
       "      <th>split1_test_score</th>\n",
       "      <th>split2_test_score</th>\n",
       "      <th>mean_test_score</th>\n",
       "      <th>std_test_score</th>\n",
       "      <th>rank_test_score</th>\n",
       "      <th>split0_train_score</th>\n",
       "      <th>split1_train_score</th>\n",
       "      <th>split2_train_score</th>\n",
       "      <th>mean_train_score</th>\n",
       "      <th>std_train_score</th>\n",
       "    </tr>\n",
       "  </thead>\n",
       "  <tbody>\n",
       "    <tr>\n",
       "      <th>15</th>\n",
       "      <td>38.430581</td>\n",
       "      <td>0.629487</td>\n",
       "      <td>2.595793</td>\n",
       "      <td>0.089696</td>\n",
       "      <td>None</td>\n",
       "      <td>entropy</td>\n",
       "      <td>560</td>\n",
       "      <td>{'class_weight': None, 'criterion': 'entropy',...</td>\n",
       "      <td>0.894164</td>\n",
       "      <td>0.896612</td>\n",
       "      <td>0.900914</td>\n",
       "      <td>0.897230</td>\n",
       "      <td>0.002790</td>\n",
       "      <td>1</td>\n",
       "      <td>0.998227</td>\n",
       "      <td>0.998116</td>\n",
       "      <td>0.998035</td>\n",
       "      <td>0.998126</td>\n",
       "      <td>0.000079</td>\n",
       "    </tr>\n",
       "    <tr>\n",
       "      <th>16</th>\n",
       "      <td>46.135655</td>\n",
       "      <td>0.363403</td>\n",
       "      <td>3.025396</td>\n",
       "      <td>0.157933</td>\n",
       "      <td>None</td>\n",
       "      <td>entropy</td>\n",
       "      <td>670</td>\n",
       "      <td>{'class_weight': None, 'criterion': 'entropy',...</td>\n",
       "      <td>0.894382</td>\n",
       "      <td>0.896665</td>\n",
       "      <td>0.900625</td>\n",
       "      <td>0.897224</td>\n",
       "      <td>0.002579</td>\n",
       "      <td>2</td>\n",
       "      <td>0.998242</td>\n",
       "      <td>0.998142</td>\n",
       "      <td>0.998020</td>\n",
       "      <td>0.998135</td>\n",
       "      <td>0.000091</td>\n",
       "    </tr>\n",
       "    <tr>\n",
       "      <th>19</th>\n",
       "      <td>71.466156</td>\n",
       "      <td>1.662540</td>\n",
       "      <td>4.745925</td>\n",
       "      <td>0.056557</td>\n",
       "      <td>None</td>\n",
       "      <td>entropy</td>\n",
       "      <td>1000</td>\n",
       "      <td>{'class_weight': None, 'criterion': 'entropy',...</td>\n",
       "      <td>0.894282</td>\n",
       "      <td>0.896486</td>\n",
       "      <td>0.900597</td>\n",
       "      <td>0.897121</td>\n",
       "      <td>0.002617</td>\n",
       "      <td>3</td>\n",
       "      <td>0.998215</td>\n",
       "      <td>0.998153</td>\n",
       "      <td>0.998056</td>\n",
       "      <td>0.998141</td>\n",
       "      <td>0.000065</td>\n",
       "    </tr>\n",
       "    <tr>\n",
       "      <th>14</th>\n",
       "      <td>31.448641</td>\n",
       "      <td>0.262252</td>\n",
       "      <td>2.215049</td>\n",
       "      <td>0.198458</td>\n",
       "      <td>None</td>\n",
       "      <td>entropy</td>\n",
       "      <td>450</td>\n",
       "      <td>{'class_weight': None, 'criterion': 'entropy',...</td>\n",
       "      <td>0.893777</td>\n",
       "      <td>0.896601</td>\n",
       "      <td>0.900863</td>\n",
       "      <td>0.897080</td>\n",
       "      <td>0.002913</td>\n",
       "      <td>4</td>\n",
       "      <td>0.998203</td>\n",
       "      <td>0.998133</td>\n",
       "      <td>0.998019</td>\n",
       "      <td>0.998118</td>\n",
       "      <td>0.000076</td>\n",
       "    </tr>\n",
       "    <tr>\n",
       "      <th>18</th>\n",
       "      <td>63.377562</td>\n",
       "      <td>0.233171</td>\n",
       "      <td>4.037731</td>\n",
       "      <td>0.242532</td>\n",
       "      <td>None</td>\n",
       "      <td>entropy</td>\n",
       "      <td>890</td>\n",
       "      <td>{'class_weight': None, 'criterion': 'entropy',...</td>\n",
       "      <td>0.894569</td>\n",
       "      <td>0.896344</td>\n",
       "      <td>0.900226</td>\n",
       "      <td>0.897046</td>\n",
       "      <td>0.002362</td>\n",
       "      <td>5</td>\n",
       "      <td>0.998204</td>\n",
       "      <td>0.998134</td>\n",
       "      <td>0.998041</td>\n",
       "      <td>0.998126</td>\n",
       "      <td>0.000067</td>\n",
       "    </tr>\n",
       "    <tr>\n",
       "      <th>17</th>\n",
       "      <td>55.218382</td>\n",
       "      <td>0.693295</td>\n",
       "      <td>3.699728</td>\n",
       "      <td>0.346747</td>\n",
       "      <td>None</td>\n",
       "      <td>entropy</td>\n",
       "      <td>780</td>\n",
       "      <td>{'class_weight': None, 'criterion': 'entropy',...</td>\n",
       "      <td>0.893935</td>\n",
       "      <td>0.896318</td>\n",
       "      <td>0.900504</td>\n",
       "      <td>0.896919</td>\n",
       "      <td>0.002715</td>\n",
       "      <td>6</td>\n",
       "      <td>0.998217</td>\n",
       "      <td>0.998127</td>\n",
       "      <td>0.998018</td>\n",
       "      <td>0.998121</td>\n",
       "      <td>0.000081</td>\n",
       "    </tr>\n",
       "    <tr>\n",
       "      <th>8</th>\n",
       "      <td>56.846195</td>\n",
       "      <td>2.761856</td>\n",
       "      <td>4.402829</td>\n",
       "      <td>0.498030</td>\n",
       "      <td>None</td>\n",
       "      <td>gini</td>\n",
       "      <td>890</td>\n",
       "      <td>{'class_weight': None, 'criterion': 'gini', 'n...</td>\n",
       "      <td>0.893621</td>\n",
       "      <td>0.896255</td>\n",
       "      <td>0.900252</td>\n",
       "      <td>0.896709</td>\n",
       "      <td>0.002726</td>\n",
       "      <td>7</td>\n",
       "      <td>0.998241</td>\n",
       "      <td>0.998155</td>\n",
       "      <td>0.998037</td>\n",
       "      <td>0.998144</td>\n",
       "      <td>0.000084</td>\n",
       "    </tr>\n",
       "    <tr>\n",
       "      <th>36</th>\n",
       "      <td>54.302579</td>\n",
       "      <td>0.799827</td>\n",
       "      <td>3.356339</td>\n",
       "      <td>0.593768</td>\n",
       "      <td>balanced</td>\n",
       "      <td>entropy</td>\n",
       "      <td>670</td>\n",
       "      <td>{'class_weight': 'balanced', 'criterion': 'ent...</td>\n",
       "      <td>0.894184</td>\n",
       "      <td>0.895979</td>\n",
       "      <td>0.899890</td>\n",
       "      <td>0.896684</td>\n",
       "      <td>0.002382</td>\n",
       "      <td>8</td>\n",
       "      <td>0.997594</td>\n",
       "      <td>0.997527</td>\n",
       "      <td>0.997074</td>\n",
       "      <td>0.997398</td>\n",
       "      <td>0.000231</td>\n",
       "    </tr>\n",
       "    <tr>\n",
       "      <th>13</th>\n",
       "      <td>22.901409</td>\n",
       "      <td>0.809050</td>\n",
       "      <td>1.530931</td>\n",
       "      <td>0.225257</td>\n",
       "      <td>None</td>\n",
       "      <td>entropy</td>\n",
       "      <td>340</td>\n",
       "      <td>{'class_weight': None, 'criterion': 'entropy',...</td>\n",
       "      <td>0.893615</td>\n",
       "      <td>0.896422</td>\n",
       "      <td>0.899985</td>\n",
       "      <td>0.896674</td>\n",
       "      <td>0.002606</td>\n",
       "      <td>9</td>\n",
       "      <td>0.998211</td>\n",
       "      <td>0.998138</td>\n",
       "      <td>0.998018</td>\n",
       "      <td>0.998122</td>\n",
       "      <td>0.000079</td>\n",
       "    </tr>\n",
       "    <tr>\n",
       "      <th>9</th>\n",
       "      <td>69.263884</td>\n",
       "      <td>1.579741</td>\n",
       "      <td>4.600206</td>\n",
       "      <td>0.333532</td>\n",
       "      <td>None</td>\n",
       "      <td>gini</td>\n",
       "      <td>1000</td>\n",
       "      <td>{'class_weight': None, 'criterion': 'gini', 'n...</td>\n",
       "      <td>0.893191</td>\n",
       "      <td>0.896181</td>\n",
       "      <td>0.900410</td>\n",
       "      <td>0.896594</td>\n",
       "      <td>0.002962</td>\n",
       "      <td>10</td>\n",
       "      <td>0.998235</td>\n",
       "      <td>0.998158</td>\n",
       "      <td>0.998042</td>\n",
       "      <td>0.998145</td>\n",
       "      <td>0.000079</td>\n",
       "    </tr>\n",
       "    <tr>\n",
       "      <th>7</th>\n",
       "      <td>50.908564</td>\n",
       "      <td>1.619266</td>\n",
       "      <td>3.383581</td>\n",
       "      <td>0.131680</td>\n",
       "      <td>None</td>\n",
       "      <td>gini</td>\n",
       "      <td>780</td>\n",
       "      <td>{'class_weight': None, 'criterion': 'gini', 'n...</td>\n",
       "      <td>0.893459</td>\n",
       "      <td>0.896189</td>\n",
       "      <td>0.900106</td>\n",
       "      <td>0.896584</td>\n",
       "      <td>0.002728</td>\n",
       "      <td>11</td>\n",
       "      <td>0.998224</td>\n",
       "      <td>0.998142</td>\n",
       "      <td>0.998031</td>\n",
       "      <td>0.998132</td>\n",
       "      <td>0.000079</td>\n",
       "    </tr>\n",
       "    <tr>\n",
       "      <th>6</th>\n",
       "      <td>42.630280</td>\n",
       "      <td>1.194465</td>\n",
       "      <td>3.360529</td>\n",
       "      <td>0.304904</td>\n",
       "      <td>None</td>\n",
       "      <td>gini</td>\n",
       "      <td>670</td>\n",
       "      <td>{'class_weight': None, 'criterion': 'gini', 'n...</td>\n",
       "      <td>0.893857</td>\n",
       "      <td>0.895899</td>\n",
       "      <td>0.899980</td>\n",
       "      <td>0.896579</td>\n",
       "      <td>0.002545</td>\n",
       "      <td>12</td>\n",
       "      <td>0.998218</td>\n",
       "      <td>0.998148</td>\n",
       "      <td>0.998029</td>\n",
       "      <td>0.998132</td>\n",
       "      <td>0.000078</td>\n",
       "    </tr>\n",
       "    <tr>\n",
       "      <th>37</th>\n",
       "      <td>65.452408</td>\n",
       "      <td>1.716667</td>\n",
       "      <td>4.127092</td>\n",
       "      <td>0.532535</td>\n",
       "      <td>balanced</td>\n",
       "      <td>entropy</td>\n",
       "      <td>780</td>\n",
       "      <td>{'class_weight': 'balanced', 'criterion': 'ent...</td>\n",
       "      <td>0.893914</td>\n",
       "      <td>0.896050</td>\n",
       "      <td>0.899495</td>\n",
       "      <td>0.896486</td>\n",
       "      <td>0.002299</td>\n",
       "      <td>13</td>\n",
       "      <td>0.997621</td>\n",
       "      <td>0.997550</td>\n",
       "      <td>0.997075</td>\n",
       "      <td>0.997416</td>\n",
       "      <td>0.000242</td>\n",
       "    </tr>\n",
       "    <tr>\n",
       "      <th>39</th>\n",
       "      <td>73.426102</td>\n",
       "      <td>9.992646</td>\n",
       "      <td>4.650966</td>\n",
       "      <td>0.307653</td>\n",
       "      <td>balanced</td>\n",
       "      <td>entropy</td>\n",
       "      <td>1000</td>\n",
       "      <td>{'class_weight': 'balanced', 'criterion': 'ent...</td>\n",
       "      <td>0.893817</td>\n",
       "      <td>0.896029</td>\n",
       "      <td>0.899453</td>\n",
       "      <td>0.896433</td>\n",
       "      <td>0.002319</td>\n",
       "      <td>14</td>\n",
       "      <td>0.997603</td>\n",
       "      <td>0.997572</td>\n",
       "      <td>0.997060</td>\n",
       "      <td>0.997411</td>\n",
       "      <td>0.000249</td>\n",
       "    </tr>\n",
       "    <tr>\n",
       "      <th>35</th>\n",
       "      <td>44.677062</td>\n",
       "      <td>1.649015</td>\n",
       "      <td>2.426994</td>\n",
       "      <td>0.051116</td>\n",
       "      <td>balanced</td>\n",
       "      <td>entropy</td>\n",
       "      <td>560</td>\n",
       "      <td>{'class_weight': 'balanced', 'criterion': 'ent...</td>\n",
       "      <td>0.894054</td>\n",
       "      <td>0.895721</td>\n",
       "      <td>0.899308</td>\n",
       "      <td>0.896361</td>\n",
       "      <td>0.002192</td>\n",
       "      <td>15</td>\n",
       "      <td>0.997584</td>\n",
       "      <td>0.997513</td>\n",
       "      <td>0.997073</td>\n",
       "      <td>0.997390</td>\n",
       "      <td>0.000226</td>\n",
       "    </tr>\n",
       "    <tr>\n",
       "      <th>38</th>\n",
       "      <td>76.349861</td>\n",
       "      <td>2.415226</td>\n",
       "      <td>4.449111</td>\n",
       "      <td>0.670114</td>\n",
       "      <td>balanced</td>\n",
       "      <td>entropy</td>\n",
       "      <td>890</td>\n",
       "      <td>{'class_weight': 'balanced', 'criterion': 'ent...</td>\n",
       "      <td>0.893814</td>\n",
       "      <td>0.895729</td>\n",
       "      <td>0.899469</td>\n",
       "      <td>0.896337</td>\n",
       "      <td>0.002348</td>\n",
       "      <td>16</td>\n",
       "      <td>0.997606</td>\n",
       "      <td>0.997541</td>\n",
       "      <td>0.997072</td>\n",
       "      <td>0.997407</td>\n",
       "      <td>0.000238</td>\n",
       "    </tr>\n",
       "    <tr>\n",
       "      <th>5</th>\n",
       "      <td>33.877346</td>\n",
       "      <td>0.329065</td>\n",
       "      <td>2.532938</td>\n",
       "      <td>0.218052</td>\n",
       "      <td>None</td>\n",
       "      <td>gini</td>\n",
       "      <td>560</td>\n",
       "      <td>{'class_weight': None, 'criterion': 'gini', 'n...</td>\n",
       "      <td>0.893245</td>\n",
       "      <td>0.895506</td>\n",
       "      <td>0.900158</td>\n",
       "      <td>0.896303</td>\n",
       "      <td>0.002878</td>\n",
       "      <td>17</td>\n",
       "      <td>0.998222</td>\n",
       "      <td>0.998120</td>\n",
       "      <td>0.998052</td>\n",
       "      <td>0.998131</td>\n",
       "      <td>0.000070</td>\n",
       "    </tr>\n",
       "    <tr>\n",
       "      <th>3</th>\n",
       "      <td>19.807603</td>\n",
       "      <td>0.418795</td>\n",
       "      <td>1.367531</td>\n",
       "      <td>0.005149</td>\n",
       "      <td>None</td>\n",
       "      <td>gini</td>\n",
       "      <td>340</td>\n",
       "      <td>{'class_weight': None, 'criterion': 'gini', 'n...</td>\n",
       "      <td>0.893776</td>\n",
       "      <td>0.895175</td>\n",
       "      <td>0.899938</td>\n",
       "      <td>0.896296</td>\n",
       "      <td>0.002638</td>\n",
       "      <td>18</td>\n",
       "      <td>0.998219</td>\n",
       "      <td>0.998141</td>\n",
       "      <td>0.998024</td>\n",
       "      <td>0.998128</td>\n",
       "      <td>0.000080</td>\n",
       "    </tr>\n",
       "    <tr>\n",
       "      <th>4</th>\n",
       "      <td>25.912666</td>\n",
       "      <td>0.495386</td>\n",
       "      <td>1.932276</td>\n",
       "      <td>0.192004</td>\n",
       "      <td>None</td>\n",
       "      <td>gini</td>\n",
       "      <td>450</td>\n",
       "      <td>{'class_weight': None, 'criterion': 'gini', 'n...</td>\n",
       "      <td>0.893287</td>\n",
       "      <td>0.895776</td>\n",
       "      <td>0.899727</td>\n",
       "      <td>0.896263</td>\n",
       "      <td>0.002652</td>\n",
       "      <td>19</td>\n",
       "      <td>0.998224</td>\n",
       "      <td>0.998129</td>\n",
       "      <td>0.998030</td>\n",
       "      <td>0.998128</td>\n",
       "      <td>0.000079</td>\n",
       "    </tr>\n",
       "    <tr>\n",
       "      <th>34</th>\n",
       "      <td>36.805346</td>\n",
       "      <td>0.676331</td>\n",
       "      <td>2.339636</td>\n",
       "      <td>0.492555</td>\n",
       "      <td>balanced</td>\n",
       "      <td>entropy</td>\n",
       "      <td>450</td>\n",
       "      <td>{'class_weight': 'balanced', 'criterion': 'ent...</td>\n",
       "      <td>0.893248</td>\n",
       "      <td>0.896000</td>\n",
       "      <td>0.899490</td>\n",
       "      <td>0.896246</td>\n",
       "      <td>0.002554</td>\n",
       "      <td>20</td>\n",
       "      <td>0.997546</td>\n",
       "      <td>0.997488</td>\n",
       "      <td>0.997039</td>\n",
       "      <td>0.997357</td>\n",
       "      <td>0.000227</td>\n",
       "    </tr>\n",
       "    <tr>\n",
       "      <th>33</th>\n",
       "      <td>26.300315</td>\n",
       "      <td>0.486478</td>\n",
       "      <td>1.472844</td>\n",
       "      <td>0.031871</td>\n",
       "      <td>balanced</td>\n",
       "      <td>entropy</td>\n",
       "      <td>340</td>\n",
       "      <td>{'class_weight': 'balanced', 'criterion': 'ent...</td>\n",
       "      <td>0.893570</td>\n",
       "      <td>0.895646</td>\n",
       "      <td>0.899141</td>\n",
       "      <td>0.896119</td>\n",
       "      <td>0.002299</td>\n",
       "      <td>21</td>\n",
       "      <td>0.997599</td>\n",
       "      <td>0.997517</td>\n",
       "      <td>0.997049</td>\n",
       "      <td>0.997388</td>\n",
       "      <td>0.000242</td>\n",
       "    </tr>\n",
       "    <tr>\n",
       "      <th>2</th>\n",
       "      <td>13.193063</td>\n",
       "      <td>0.177230</td>\n",
       "      <td>0.927256</td>\n",
       "      <td>0.001125</td>\n",
       "      <td>None</td>\n",
       "      <td>gini</td>\n",
       "      <td>230</td>\n",
       "      <td>{'class_weight': None, 'criterion': 'gini', 'n...</td>\n",
       "      <td>0.893596</td>\n",
       "      <td>0.895305</td>\n",
       "      <td>0.899216</td>\n",
       "      <td>0.896039</td>\n",
       "      <td>0.002352</td>\n",
       "      <td>22</td>\n",
       "      <td>0.998163</td>\n",
       "      <td>0.998119</td>\n",
       "      <td>0.997979</td>\n",
       "      <td>0.998087</td>\n",
       "      <td>0.000079</td>\n",
       "    </tr>\n",
       "    <tr>\n",
       "      <th>28</th>\n",
       "      <td>58.963993</td>\n",
       "      <td>0.140098</td>\n",
       "      <td>4.147538</td>\n",
       "      <td>0.111099</td>\n",
       "      <td>balanced</td>\n",
       "      <td>gini</td>\n",
       "      <td>890</td>\n",
       "      <td>{'class_weight': 'balanced', 'criterion': 'gin...</td>\n",
       "      <td>0.893142</td>\n",
       "      <td>0.895311</td>\n",
       "      <td>0.899203</td>\n",
       "      <td>0.895885</td>\n",
       "      <td>0.002507</td>\n",
       "      <td>23</td>\n",
       "      <td>0.997589</td>\n",
       "      <td>0.997551</td>\n",
       "      <td>0.997065</td>\n",
       "      <td>0.997402</td>\n",
       "      <td>0.000239</td>\n",
       "    </tr>\n",
       "    <tr>\n",
       "      <th>27</th>\n",
       "      <td>52.872248</td>\n",
       "      <td>0.218836</td>\n",
       "      <td>3.618677</td>\n",
       "      <td>0.077518</td>\n",
       "      <td>balanced</td>\n",
       "      <td>gini</td>\n",
       "      <td>780</td>\n",
       "      <td>{'class_weight': 'balanced', 'criterion': 'gin...</td>\n",
       "      <td>0.892896</td>\n",
       "      <td>0.895604</td>\n",
       "      <td>0.899136</td>\n",
       "      <td>0.895879</td>\n",
       "      <td>0.002555</td>\n",
       "      <td>24</td>\n",
       "      <td>0.997602</td>\n",
       "      <td>0.997548</td>\n",
       "      <td>0.997070</td>\n",
       "      <td>0.997407</td>\n",
       "      <td>0.000239</td>\n",
       "    </tr>\n",
       "    <tr>\n",
       "      <th>12</th>\n",
       "      <td>16.300300</td>\n",
       "      <td>0.370552</td>\n",
       "      <td>0.932310</td>\n",
       "      <td>0.064539</td>\n",
       "      <td>None</td>\n",
       "      <td>entropy</td>\n",
       "      <td>230</td>\n",
       "      <td>{'class_weight': None, 'criterion': 'entropy',...</td>\n",
       "      <td>0.892734</td>\n",
       "      <td>0.895140</td>\n",
       "      <td>0.899736</td>\n",
       "      <td>0.895870</td>\n",
       "      <td>0.002905</td>\n",
       "      <td>25</td>\n",
       "      <td>0.998196</td>\n",
       "      <td>0.998071</td>\n",
       "      <td>0.997985</td>\n",
       "      <td>0.998084</td>\n",
       "      <td>0.000087</td>\n",
       "    </tr>\n",
       "    <tr>\n",
       "      <th>29</th>\n",
       "      <td>67.174967</td>\n",
       "      <td>0.609636</td>\n",
       "      <td>4.653266</td>\n",
       "      <td>0.194317</td>\n",
       "      <td>balanced</td>\n",
       "      <td>gini</td>\n",
       "      <td>1000</td>\n",
       "      <td>{'class_weight': 'balanced', 'criterion': 'gin...</td>\n",
       "      <td>0.893205</td>\n",
       "      <td>0.895128</td>\n",
       "      <td>0.899140</td>\n",
       "      <td>0.895824</td>\n",
       "      <td>0.002473</td>\n",
       "      <td>26</td>\n",
       "      <td>0.997609</td>\n",
       "      <td>0.997557</td>\n",
       "      <td>0.997055</td>\n",
       "      <td>0.997407</td>\n",
       "      <td>0.000250</td>\n",
       "    </tr>\n",
       "    <tr>\n",
       "      <th>26</th>\n",
       "      <td>45.436489</td>\n",
       "      <td>0.804969</td>\n",
       "      <td>3.158596</td>\n",
       "      <td>0.100019</td>\n",
       "      <td>balanced</td>\n",
       "      <td>gini</td>\n",
       "      <td>670</td>\n",
       "      <td>{'class_weight': 'balanced', 'criterion': 'gin...</td>\n",
       "      <td>0.892897</td>\n",
       "      <td>0.895448</td>\n",
       "      <td>0.898768</td>\n",
       "      <td>0.895704</td>\n",
       "      <td>0.002404</td>\n",
       "      <td>27</td>\n",
       "      <td>0.997589</td>\n",
       "      <td>0.997565</td>\n",
       "      <td>0.997073</td>\n",
       "      <td>0.997409</td>\n",
       "      <td>0.000238</td>\n",
       "    </tr>\n",
       "    <tr>\n",
       "      <th>25</th>\n",
       "      <td>38.629386</td>\n",
       "      <td>0.867098</td>\n",
       "      <td>2.649996</td>\n",
       "      <td>0.179573</td>\n",
       "      <td>balanced</td>\n",
       "      <td>gini</td>\n",
       "      <td>560</td>\n",
       "      <td>{'class_weight': 'balanced', 'criterion': 'gin...</td>\n",
       "      <td>0.892856</td>\n",
       "      <td>0.895296</td>\n",
       "      <td>0.898617</td>\n",
       "      <td>0.895590</td>\n",
       "      <td>0.002361</td>\n",
       "      <td>28</td>\n",
       "      <td>0.997575</td>\n",
       "      <td>0.997566</td>\n",
       "      <td>0.997052</td>\n",
       "      <td>0.997398</td>\n",
       "      <td>0.000244</td>\n",
       "    </tr>\n",
       "    <tr>\n",
       "      <th>11</th>\n",
       "      <td>8.192105</td>\n",
       "      <td>0.718503</td>\n",
       "      <td>0.518702</td>\n",
       "      <td>0.021450</td>\n",
       "      <td>None</td>\n",
       "      <td>entropy</td>\n",
       "      <td>120</td>\n",
       "      <td>{'class_weight': None, 'criterion': 'entropy',...</td>\n",
       "      <td>0.892188</td>\n",
       "      <td>0.894829</td>\n",
       "      <td>0.899193</td>\n",
       "      <td>0.895403</td>\n",
       "      <td>0.002889</td>\n",
       "      <td>29</td>\n",
       "      <td>0.998160</td>\n",
       "      <td>0.998037</td>\n",
       "      <td>0.997916</td>\n",
       "      <td>0.998038</td>\n",
       "      <td>0.000099</td>\n",
       "    </tr>\n",
       "    <tr>\n",
       "      <th>23</th>\n",
       "      <td>23.386674</td>\n",
       "      <td>0.431098</td>\n",
       "      <td>1.599573</td>\n",
       "      <td>0.057900</td>\n",
       "      <td>balanced</td>\n",
       "      <td>gini</td>\n",
       "      <td>340</td>\n",
       "      <td>{'class_weight': 'balanced', 'criterion': 'gin...</td>\n",
       "      <td>0.892755</td>\n",
       "      <td>0.894426</td>\n",
       "      <td>0.898655</td>\n",
       "      <td>0.895279</td>\n",
       "      <td>0.002483</td>\n",
       "      <td>30</td>\n",
       "      <td>0.997540</td>\n",
       "      <td>0.997496</td>\n",
       "      <td>0.996958</td>\n",
       "      <td>0.997331</td>\n",
       "      <td>0.000265</td>\n",
       "    </tr>\n",
       "    <tr>\n",
       "      <th>24</th>\n",
       "      <td>30.060540</td>\n",
       "      <td>0.186125</td>\n",
       "      <td>2.062883</td>\n",
       "      <td>0.146421</td>\n",
       "      <td>balanced</td>\n",
       "      <td>gini</td>\n",
       "      <td>450</td>\n",
       "      <td>{'class_weight': 'balanced', 'criterion': 'gin...</td>\n",
       "      <td>0.892563</td>\n",
       "      <td>0.894663</td>\n",
       "      <td>0.898568</td>\n",
       "      <td>0.895265</td>\n",
       "      <td>0.002488</td>\n",
       "      <td>31</td>\n",
       "      <td>0.997557</td>\n",
       "      <td>0.997521</td>\n",
       "      <td>0.996997</td>\n",
       "      <td>0.997358</td>\n",
       "      <td>0.000256</td>\n",
       "    </tr>\n",
       "    <tr>\n",
       "      <th>32</th>\n",
       "      <td>18.051209</td>\n",
       "      <td>0.399194</td>\n",
       "      <td>1.024980</td>\n",
       "      <td>0.050091</td>\n",
       "      <td>balanced</td>\n",
       "      <td>entropy</td>\n",
       "      <td>230</td>\n",
       "      <td>{'class_weight': 'balanced', 'criterion': 'ent...</td>\n",
       "      <td>0.892831</td>\n",
       "      <td>0.893876</td>\n",
       "      <td>0.898988</td>\n",
       "      <td>0.895232</td>\n",
       "      <td>0.002690</td>\n",
       "      <td>32</td>\n",
       "      <td>0.997439</td>\n",
       "      <td>0.997425</td>\n",
       "      <td>0.997000</td>\n",
       "      <td>0.997288</td>\n",
       "      <td>0.000204</td>\n",
       "    </tr>\n",
       "    <tr>\n",
       "      <th>1</th>\n",
       "      <td>6.959955</td>\n",
       "      <td>0.055859</td>\n",
       "      <td>0.479618</td>\n",
       "      <td>0.023369</td>\n",
       "      <td>None</td>\n",
       "      <td>gini</td>\n",
       "      <td>120</td>\n",
       "      <td>{'class_weight': None, 'criterion': 'gini', 'n...</td>\n",
       "      <td>0.891822</td>\n",
       "      <td>0.894476</td>\n",
       "      <td>0.899139</td>\n",
       "      <td>0.895145</td>\n",
       "      <td>0.003024</td>\n",
       "      <td>33</td>\n",
       "      <td>0.998080</td>\n",
       "      <td>0.998063</td>\n",
       "      <td>0.997955</td>\n",
       "      <td>0.998033</td>\n",
       "      <td>0.000055</td>\n",
       "    </tr>\n",
       "    <tr>\n",
       "      <th>31</th>\n",
       "      <td>10.247239</td>\n",
       "      <td>0.756246</td>\n",
       "      <td>0.554152</td>\n",
       "      <td>0.013432</td>\n",
       "      <td>balanced</td>\n",
       "      <td>entropy</td>\n",
       "      <td>120</td>\n",
       "      <td>{'class_weight': 'balanced', 'criterion': 'ent...</td>\n",
       "      <td>0.892415</td>\n",
       "      <td>0.894389</td>\n",
       "      <td>0.897688</td>\n",
       "      <td>0.894831</td>\n",
       "      <td>0.002175</td>\n",
       "      <td>34</td>\n",
       "      <td>0.997412</td>\n",
       "      <td>0.997424</td>\n",
       "      <td>0.996919</td>\n",
       "      <td>0.997251</td>\n",
       "      <td>0.000235</td>\n",
       "    </tr>\n",
       "    <tr>\n",
       "      <th>22</th>\n",
       "      <td>14.767479</td>\n",
       "      <td>0.609282</td>\n",
       "      <td>0.928784</td>\n",
       "      <td>0.047491</td>\n",
       "      <td>balanced</td>\n",
       "      <td>gini</td>\n",
       "      <td>230</td>\n",
       "      <td>{'class_weight': 'balanced', 'criterion': 'gin...</td>\n",
       "      <td>0.891527</td>\n",
       "      <td>0.893837</td>\n",
       "      <td>0.897804</td>\n",
       "      <td>0.894389</td>\n",
       "      <td>0.002592</td>\n",
       "      <td>35</td>\n",
       "      <td>0.997506</td>\n",
       "      <td>0.997481</td>\n",
       "      <td>0.997002</td>\n",
       "      <td>0.997330</td>\n",
       "      <td>0.000232</td>\n",
       "    </tr>\n",
       "    <tr>\n",
       "      <th>21</th>\n",
       "      <td>8.280600</td>\n",
       "      <td>0.109184</td>\n",
       "      <td>0.615937</td>\n",
       "      <td>0.039771</td>\n",
       "      <td>balanced</td>\n",
       "      <td>gini</td>\n",
       "      <td>120</td>\n",
       "      <td>{'class_weight': 'balanced', 'criterion': 'gin...</td>\n",
       "      <td>0.890310</td>\n",
       "      <td>0.893873</td>\n",
       "      <td>0.896317</td>\n",
       "      <td>0.893500</td>\n",
       "      <td>0.002467</td>\n",
       "      <td>36</td>\n",
       "      <td>0.997436</td>\n",
       "      <td>0.997378</td>\n",
       "      <td>0.996932</td>\n",
       "      <td>0.997249</td>\n",
       "      <td>0.000225</td>\n",
       "    </tr>\n",
       "    <tr>\n",
       "      <th>10</th>\n",
       "      <td>0.741079</td>\n",
       "      <td>0.063068</td>\n",
       "      <td>0.055875</td>\n",
       "      <td>0.007984</td>\n",
       "      <td>None</td>\n",
       "      <td>entropy</td>\n",
       "      <td>10</td>\n",
       "      <td>{'class_weight': None, 'criterion': 'entropy',...</td>\n",
       "      <td>0.869558</td>\n",
       "      <td>0.874877</td>\n",
       "      <td>0.879783</td>\n",
       "      <td>0.874739</td>\n",
       "      <td>0.004175</td>\n",
       "      <td>37</td>\n",
       "      <td>0.996020</td>\n",
       "      <td>0.996143</td>\n",
       "      <td>0.995510</td>\n",
       "      <td>0.995891</td>\n",
       "      <td>0.000274</td>\n",
       "    </tr>\n",
       "    <tr>\n",
       "      <th>30</th>\n",
       "      <td>0.884612</td>\n",
       "      <td>0.054504</td>\n",
       "      <td>0.055537</td>\n",
       "      <td>0.003098</td>\n",
       "      <td>balanced</td>\n",
       "      <td>entropy</td>\n",
       "      <td>10</td>\n",
       "      <td>{'class_weight': 'balanced', 'criterion': 'ent...</td>\n",
       "      <td>0.873278</td>\n",
       "      <td>0.869211</td>\n",
       "      <td>0.879059</td>\n",
       "      <td>0.873849</td>\n",
       "      <td>0.004041</td>\n",
       "      <td>38</td>\n",
       "      <td>0.995319</td>\n",
       "      <td>0.994917</td>\n",
       "      <td>0.994567</td>\n",
       "      <td>0.994934</td>\n",
       "      <td>0.000307</td>\n",
       "    </tr>\n",
       "    <tr>\n",
       "      <th>0</th>\n",
       "      <td>0.615964</td>\n",
       "      <td>0.020232</td>\n",
       "      <td>0.046234</td>\n",
       "      <td>0.002427</td>\n",
       "      <td>None</td>\n",
       "      <td>gini</td>\n",
       "      <td>10</td>\n",
       "      <td>{'class_weight': None, 'criterion': 'gini', 'n...</td>\n",
       "      <td>0.869026</td>\n",
       "      <td>0.872175</td>\n",
       "      <td>0.877731</td>\n",
       "      <td>0.872977</td>\n",
       "      <td>0.003599</td>\n",
       "      <td>39</td>\n",
       "      <td>0.996015</td>\n",
       "      <td>0.995868</td>\n",
       "      <td>0.995849</td>\n",
       "      <td>0.995910</td>\n",
       "      <td>0.000074</td>\n",
       "    </tr>\n",
       "    <tr>\n",
       "      <th>20</th>\n",
       "      <td>0.686712</td>\n",
       "      <td>0.030631</td>\n",
       "      <td>0.050737</td>\n",
       "      <td>0.002511</td>\n",
       "      <td>balanced</td>\n",
       "      <td>gini</td>\n",
       "      <td>10</td>\n",
       "      <td>{'class_weight': 'balanced', 'criterion': 'gin...</td>\n",
       "      <td>0.870454</td>\n",
       "      <td>0.868943</td>\n",
       "      <td>0.874633</td>\n",
       "      <td>0.871343</td>\n",
       "      <td>0.002406</td>\n",
       "      <td>40</td>\n",
       "      <td>0.995194</td>\n",
       "      <td>0.995014</td>\n",
       "      <td>0.994852</td>\n",
       "      <td>0.995020</td>\n",
       "      <td>0.000140</td>\n",
       "    </tr>\n",
       "  </tbody>\n",
       "</table>\n",
       "</div>"
      ],
      "text/plain": [
       "    mean_fit_time  std_fit_time  mean_score_time  std_score_time  \\\n",
       "15      38.430581      0.629487         2.595793        0.089696   \n",
       "16      46.135655      0.363403         3.025396        0.157933   \n",
       "19      71.466156      1.662540         4.745925        0.056557   \n",
       "14      31.448641      0.262252         2.215049        0.198458   \n",
       "18      63.377562      0.233171         4.037731        0.242532   \n",
       "17      55.218382      0.693295         3.699728        0.346747   \n",
       "8       56.846195      2.761856         4.402829        0.498030   \n",
       "36      54.302579      0.799827         3.356339        0.593768   \n",
       "13      22.901409      0.809050         1.530931        0.225257   \n",
       "9       69.263884      1.579741         4.600206        0.333532   \n",
       "7       50.908564      1.619266         3.383581        0.131680   \n",
       "6       42.630280      1.194465         3.360529        0.304904   \n",
       "37      65.452408      1.716667         4.127092        0.532535   \n",
       "39      73.426102      9.992646         4.650966        0.307653   \n",
       "35      44.677062      1.649015         2.426994        0.051116   \n",
       "38      76.349861      2.415226         4.449111        0.670114   \n",
       "5       33.877346      0.329065         2.532938        0.218052   \n",
       "3       19.807603      0.418795         1.367531        0.005149   \n",
       "4       25.912666      0.495386         1.932276        0.192004   \n",
       "34      36.805346      0.676331         2.339636        0.492555   \n",
       "33      26.300315      0.486478         1.472844        0.031871   \n",
       "2       13.193063      0.177230         0.927256        0.001125   \n",
       "28      58.963993      0.140098         4.147538        0.111099   \n",
       "27      52.872248      0.218836         3.618677        0.077518   \n",
       "12      16.300300      0.370552         0.932310        0.064539   \n",
       "29      67.174967      0.609636         4.653266        0.194317   \n",
       "26      45.436489      0.804969         3.158596        0.100019   \n",
       "25      38.629386      0.867098         2.649996        0.179573   \n",
       "11       8.192105      0.718503         0.518702        0.021450   \n",
       "23      23.386674      0.431098         1.599573        0.057900   \n",
       "24      30.060540      0.186125         2.062883        0.146421   \n",
       "32      18.051209      0.399194         1.024980        0.050091   \n",
       "1        6.959955      0.055859         0.479618        0.023369   \n",
       "31      10.247239      0.756246         0.554152        0.013432   \n",
       "22      14.767479      0.609282         0.928784        0.047491   \n",
       "21       8.280600      0.109184         0.615937        0.039771   \n",
       "10       0.741079      0.063068         0.055875        0.007984   \n",
       "30       0.884612      0.054504         0.055537        0.003098   \n",
       "0        0.615964      0.020232         0.046234        0.002427   \n",
       "20       0.686712      0.030631         0.050737        0.002511   \n",
       "\n",
       "   param_class_weight param_criterion param_n_estimators  \\\n",
       "15               None         entropy                560   \n",
       "16               None         entropy                670   \n",
       "19               None         entropy               1000   \n",
       "14               None         entropy                450   \n",
       "18               None         entropy                890   \n",
       "17               None         entropy                780   \n",
       "8                None            gini                890   \n",
       "36           balanced         entropy                670   \n",
       "13               None         entropy                340   \n",
       "9                None            gini               1000   \n",
       "7                None            gini                780   \n",
       "6                None            gini                670   \n",
       "37           balanced         entropy                780   \n",
       "39           balanced         entropy               1000   \n",
       "35           balanced         entropy                560   \n",
       "38           balanced         entropy                890   \n",
       "5                None            gini                560   \n",
       "3                None            gini                340   \n",
       "4                None            gini                450   \n",
       "34           balanced         entropy                450   \n",
       "33           balanced         entropy                340   \n",
       "2                None            gini                230   \n",
       "28           balanced            gini                890   \n",
       "27           balanced            gini                780   \n",
       "12               None         entropy                230   \n",
       "29           balanced            gini               1000   \n",
       "26           balanced            gini                670   \n",
       "25           balanced            gini                560   \n",
       "11               None         entropy                120   \n",
       "23           balanced            gini                340   \n",
       "24           balanced            gini                450   \n",
       "32           balanced         entropy                230   \n",
       "1                None            gini                120   \n",
       "31           balanced         entropy                120   \n",
       "22           balanced            gini                230   \n",
       "21           balanced            gini                120   \n",
       "10               None         entropy                 10   \n",
       "30           balanced         entropy                 10   \n",
       "0                None            gini                 10   \n",
       "20           balanced            gini                 10   \n",
       "\n",
       "                                               params  split0_test_score  \\\n",
       "15  {'class_weight': None, 'criterion': 'entropy',...           0.894164   \n",
       "16  {'class_weight': None, 'criterion': 'entropy',...           0.894382   \n",
       "19  {'class_weight': None, 'criterion': 'entropy',...           0.894282   \n",
       "14  {'class_weight': None, 'criterion': 'entropy',...           0.893777   \n",
       "18  {'class_weight': None, 'criterion': 'entropy',...           0.894569   \n",
       "17  {'class_weight': None, 'criterion': 'entropy',...           0.893935   \n",
       "8   {'class_weight': None, 'criterion': 'gini', 'n...           0.893621   \n",
       "36  {'class_weight': 'balanced', 'criterion': 'ent...           0.894184   \n",
       "13  {'class_weight': None, 'criterion': 'entropy',...           0.893615   \n",
       "9   {'class_weight': None, 'criterion': 'gini', 'n...           0.893191   \n",
       "7   {'class_weight': None, 'criterion': 'gini', 'n...           0.893459   \n",
       "6   {'class_weight': None, 'criterion': 'gini', 'n...           0.893857   \n",
       "37  {'class_weight': 'balanced', 'criterion': 'ent...           0.893914   \n",
       "39  {'class_weight': 'balanced', 'criterion': 'ent...           0.893817   \n",
       "35  {'class_weight': 'balanced', 'criterion': 'ent...           0.894054   \n",
       "38  {'class_weight': 'balanced', 'criterion': 'ent...           0.893814   \n",
       "5   {'class_weight': None, 'criterion': 'gini', 'n...           0.893245   \n",
       "3   {'class_weight': None, 'criterion': 'gini', 'n...           0.893776   \n",
       "4   {'class_weight': None, 'criterion': 'gini', 'n...           0.893287   \n",
       "34  {'class_weight': 'balanced', 'criterion': 'ent...           0.893248   \n",
       "33  {'class_weight': 'balanced', 'criterion': 'ent...           0.893570   \n",
       "2   {'class_weight': None, 'criterion': 'gini', 'n...           0.893596   \n",
       "28  {'class_weight': 'balanced', 'criterion': 'gin...           0.893142   \n",
       "27  {'class_weight': 'balanced', 'criterion': 'gin...           0.892896   \n",
       "12  {'class_weight': None, 'criterion': 'entropy',...           0.892734   \n",
       "29  {'class_weight': 'balanced', 'criterion': 'gin...           0.893205   \n",
       "26  {'class_weight': 'balanced', 'criterion': 'gin...           0.892897   \n",
       "25  {'class_weight': 'balanced', 'criterion': 'gin...           0.892856   \n",
       "11  {'class_weight': None, 'criterion': 'entropy',...           0.892188   \n",
       "23  {'class_weight': 'balanced', 'criterion': 'gin...           0.892755   \n",
       "24  {'class_weight': 'balanced', 'criterion': 'gin...           0.892563   \n",
       "32  {'class_weight': 'balanced', 'criterion': 'ent...           0.892831   \n",
       "1   {'class_weight': None, 'criterion': 'gini', 'n...           0.891822   \n",
       "31  {'class_weight': 'balanced', 'criterion': 'ent...           0.892415   \n",
       "22  {'class_weight': 'balanced', 'criterion': 'gin...           0.891527   \n",
       "21  {'class_weight': 'balanced', 'criterion': 'gin...           0.890310   \n",
       "10  {'class_weight': None, 'criterion': 'entropy',...           0.869558   \n",
       "30  {'class_weight': 'balanced', 'criterion': 'ent...           0.873278   \n",
       "0   {'class_weight': None, 'criterion': 'gini', 'n...           0.869026   \n",
       "20  {'class_weight': 'balanced', 'criterion': 'gin...           0.870454   \n",
       "\n",
       "    split1_test_score  split2_test_score  mean_test_score  std_test_score  \\\n",
       "15           0.896612           0.900914         0.897230        0.002790   \n",
       "16           0.896665           0.900625         0.897224        0.002579   \n",
       "19           0.896486           0.900597         0.897121        0.002617   \n",
       "14           0.896601           0.900863         0.897080        0.002913   \n",
       "18           0.896344           0.900226         0.897046        0.002362   \n",
       "17           0.896318           0.900504         0.896919        0.002715   \n",
       "8            0.896255           0.900252         0.896709        0.002726   \n",
       "36           0.895979           0.899890         0.896684        0.002382   \n",
       "13           0.896422           0.899985         0.896674        0.002606   \n",
       "9            0.896181           0.900410         0.896594        0.002962   \n",
       "7            0.896189           0.900106         0.896584        0.002728   \n",
       "6            0.895899           0.899980         0.896579        0.002545   \n",
       "37           0.896050           0.899495         0.896486        0.002299   \n",
       "39           0.896029           0.899453         0.896433        0.002319   \n",
       "35           0.895721           0.899308         0.896361        0.002192   \n",
       "38           0.895729           0.899469         0.896337        0.002348   \n",
       "5            0.895506           0.900158         0.896303        0.002878   \n",
       "3            0.895175           0.899938         0.896296        0.002638   \n",
       "4            0.895776           0.899727         0.896263        0.002652   \n",
       "34           0.896000           0.899490         0.896246        0.002554   \n",
       "33           0.895646           0.899141         0.896119        0.002299   \n",
       "2            0.895305           0.899216         0.896039        0.002352   \n",
       "28           0.895311           0.899203         0.895885        0.002507   \n",
       "27           0.895604           0.899136         0.895879        0.002555   \n",
       "12           0.895140           0.899736         0.895870        0.002905   \n",
       "29           0.895128           0.899140         0.895824        0.002473   \n",
       "26           0.895448           0.898768         0.895704        0.002404   \n",
       "25           0.895296           0.898617         0.895590        0.002361   \n",
       "11           0.894829           0.899193         0.895403        0.002889   \n",
       "23           0.894426           0.898655         0.895279        0.002483   \n",
       "24           0.894663           0.898568         0.895265        0.002488   \n",
       "32           0.893876           0.898988         0.895232        0.002690   \n",
       "1            0.894476           0.899139         0.895145        0.003024   \n",
       "31           0.894389           0.897688         0.894831        0.002175   \n",
       "22           0.893837           0.897804         0.894389        0.002592   \n",
       "21           0.893873           0.896317         0.893500        0.002467   \n",
       "10           0.874877           0.879783         0.874739        0.004175   \n",
       "30           0.869211           0.879059         0.873849        0.004041   \n",
       "0            0.872175           0.877731         0.872977        0.003599   \n",
       "20           0.868943           0.874633         0.871343        0.002406   \n",
       "\n",
       "    rank_test_score  split0_train_score  split1_train_score  \\\n",
       "15                1            0.998227            0.998116   \n",
       "16                2            0.998242            0.998142   \n",
       "19                3            0.998215            0.998153   \n",
       "14                4            0.998203            0.998133   \n",
       "18                5            0.998204            0.998134   \n",
       "17                6            0.998217            0.998127   \n",
       "8                 7            0.998241            0.998155   \n",
       "36                8            0.997594            0.997527   \n",
       "13                9            0.998211            0.998138   \n",
       "9                10            0.998235            0.998158   \n",
       "7                11            0.998224            0.998142   \n",
       "6                12            0.998218            0.998148   \n",
       "37               13            0.997621            0.997550   \n",
       "39               14            0.997603            0.997572   \n",
       "35               15            0.997584            0.997513   \n",
       "38               16            0.997606            0.997541   \n",
       "5                17            0.998222            0.998120   \n",
       "3                18            0.998219            0.998141   \n",
       "4                19            0.998224            0.998129   \n",
       "34               20            0.997546            0.997488   \n",
       "33               21            0.997599            0.997517   \n",
       "2                22            0.998163            0.998119   \n",
       "28               23            0.997589            0.997551   \n",
       "27               24            0.997602            0.997548   \n",
       "12               25            0.998196            0.998071   \n",
       "29               26            0.997609            0.997557   \n",
       "26               27            0.997589            0.997565   \n",
       "25               28            0.997575            0.997566   \n",
       "11               29            0.998160            0.998037   \n",
       "23               30            0.997540            0.997496   \n",
       "24               31            0.997557            0.997521   \n",
       "32               32            0.997439            0.997425   \n",
       "1                33            0.998080            0.998063   \n",
       "31               34            0.997412            0.997424   \n",
       "22               35            0.997506            0.997481   \n",
       "21               36            0.997436            0.997378   \n",
       "10               37            0.996020            0.996143   \n",
       "30               38            0.995319            0.994917   \n",
       "0                39            0.996015            0.995868   \n",
       "20               40            0.995194            0.995014   \n",
       "\n",
       "    split2_train_score  mean_train_score  std_train_score  \n",
       "15            0.998035          0.998126         0.000079  \n",
       "16            0.998020          0.998135         0.000091  \n",
       "19            0.998056          0.998141         0.000065  \n",
       "14            0.998019          0.998118         0.000076  \n",
       "18            0.998041          0.998126         0.000067  \n",
       "17            0.998018          0.998121         0.000081  \n",
       "8             0.998037          0.998144         0.000084  \n",
       "36            0.997074          0.997398         0.000231  \n",
       "13            0.998018          0.998122         0.000079  \n",
       "9             0.998042          0.998145         0.000079  \n",
       "7             0.998031          0.998132         0.000079  \n",
       "6             0.998029          0.998132         0.000078  \n",
       "37            0.997075          0.997416         0.000242  \n",
       "39            0.997060          0.997411         0.000249  \n",
       "35            0.997073          0.997390         0.000226  \n",
       "38            0.997072          0.997407         0.000238  \n",
       "5             0.998052          0.998131         0.000070  \n",
       "3             0.998024          0.998128         0.000080  \n",
       "4             0.998030          0.998128         0.000079  \n",
       "34            0.997039          0.997357         0.000227  \n",
       "33            0.997049          0.997388         0.000242  \n",
       "2             0.997979          0.998087         0.000079  \n",
       "28            0.997065          0.997402         0.000239  \n",
       "27            0.997070          0.997407         0.000239  \n",
       "12            0.997985          0.998084         0.000087  \n",
       "29            0.997055          0.997407         0.000250  \n",
       "26            0.997073          0.997409         0.000238  \n",
       "25            0.997052          0.997398         0.000244  \n",
       "11            0.997916          0.998038         0.000099  \n",
       "23            0.996958          0.997331         0.000265  \n",
       "24            0.996997          0.997358         0.000256  \n",
       "32            0.997000          0.997288         0.000204  \n",
       "1             0.997955          0.998033         0.000055  \n",
       "31            0.996919          0.997251         0.000235  \n",
       "22            0.997002          0.997330         0.000232  \n",
       "21            0.996932          0.997249         0.000225  \n",
       "10            0.995510          0.995891         0.000274  \n",
       "30            0.994567          0.994934         0.000307  \n",
       "0             0.995849          0.995910         0.000074  \n",
       "20            0.994852          0.995020         0.000140  "
      ]
     },
     "execution_count": 53,
     "metadata": {},
     "output_type": "execute_result"
    }
   ],
   "source": [
    "pd.DataFrame(grid.cv_results_).sort_values(by=\"rank_test_score\")"
   ]
  },
  {
   "cell_type": "markdown",
   "metadata": {},
   "source": [
    "`GridSearchCV` al estar ajustado se convierte en un estimador, por lo cual podemos usar el método predict, por debajo simplemente se usará el mejor estimador `grid.best_estimator_`. \n",
    "\n",
    "Para añadir el funcionamiento del mejor estimador obtenido por el modelo con nuestra funcion `evaluar_modelo` no usamos el objeto grid en si, ya que la funcion `cross_validate` hace multiples ajustes y evaluaciones (volveriamos a esperar los 8 minutos que a tardado un ajuste multiplicado por el número de validaciones cruzadas!).\n",
    "\n",
    "Para evaluar el funcionamiento del mejor estimador simplemente usamos la funcion con el mejor estimador directamente."
   ]
  },
  {
   "cell_type": "code",
   "execution_count": 55,
   "metadata": {
    "scrolled": true
   },
   "outputs": [
    {
     "ename": "KeyboardInterrupt",
     "evalue": "",
     "output_type": "error",
     "traceback": [
      "\u001b[0;31m---------------------------------------------------------------------------\u001b[0m",
      "\u001b[0;31mKeyboardInterrupt\u001b[0m                         Traceback (most recent call last)",
      "\u001b[0;32m<ipython-input-55-33ec7a0be32a>\u001b[0m in \u001b[0;36m<module>\u001b[0;34m\u001b[0m\n\u001b[0;32m----> 1\u001b[0;31m \u001b[0mresultados\u001b[0m\u001b[0;34m[\u001b[0m\u001b[0;34m\"rf_gridsearch\"\u001b[0m\u001b[0;34m]\u001b[0m \u001b[0;34m=\u001b[0m \u001b[0mevaluar_modelo\u001b[0m\u001b[0;34m(\u001b[0m\u001b[0mgrid\u001b[0m\u001b[0;34m.\u001b[0m\u001b[0mbest_estimator_\u001b[0m\u001b[0;34m,\u001b[0m \u001b[0mcenso_X_procesado\u001b[0m\u001b[0;34m,\u001b[0m \u001b[0mcenso_y\u001b[0m\u001b[0;34m)\u001b[0m\u001b[0;34m\u001b[0m\u001b[0;34m\u001b[0m\u001b[0m\n\u001b[0m",
      "\u001b[0;32m<ipython-input-36-3a1b3a321d30>\u001b[0m in \u001b[0;36mevaluar_modelo\u001b[0;34m(estimador, X, y)\u001b[0m\n\u001b[1;32m      3\u001b[0m \u001b[0;32mdef\u001b[0m \u001b[0mevaluar_modelo\u001b[0m\u001b[0;34m(\u001b[0m\u001b[0mestimador\u001b[0m\u001b[0;34m,\u001b[0m \u001b[0mX\u001b[0m\u001b[0;34m,\u001b[0m \u001b[0my\u001b[0m\u001b[0;34m)\u001b[0m\u001b[0;34m:\u001b[0m\u001b[0;34m\u001b[0m\u001b[0;34m\u001b[0m\u001b[0m\n\u001b[1;32m      4\u001b[0m     resultados_estimador = cross_validate(estimador, X, y,\n\u001b[0;32m----> 5\u001b[0;31m                      scoring=\"roc_auc\", n_jobs=-1, cv=5, return_train_score=True)\n\u001b[0m\u001b[1;32m      6\u001b[0m     \u001b[0;32mreturn\u001b[0m \u001b[0mresultados_estimador\u001b[0m\u001b[0;34m\u001b[0m\u001b[0;34m\u001b[0m\u001b[0m\n\u001b[1;32m      7\u001b[0m \u001b[0;34m\u001b[0m\u001b[0m\n",
      "\u001b[0;32m~/anaconda3/envs/Datascientist/lib/python3.7/site-packages/sklearn/model_selection/_validation.py\u001b[0m in \u001b[0;36mcross_validate\u001b[0;34m(estimator, X, y, groups, scoring, cv, n_jobs, verbose, fit_params, pre_dispatch, return_train_score)\u001b[0m\n\u001b[1;32m    204\u001b[0m             \u001b[0mfit_params\u001b[0m\u001b[0;34m,\u001b[0m \u001b[0mreturn_train_score\u001b[0m\u001b[0;34m=\u001b[0m\u001b[0mreturn_train_score\u001b[0m\u001b[0;34m,\u001b[0m\u001b[0;34m\u001b[0m\u001b[0;34m\u001b[0m\u001b[0m\n\u001b[1;32m    205\u001b[0m             return_times=True)\n\u001b[0;32m--> 206\u001b[0;31m         for train, test in cv.split(X, y, groups))\n\u001b[0m\u001b[1;32m    207\u001b[0m \u001b[0;34m\u001b[0m\u001b[0m\n\u001b[1;32m    208\u001b[0m     \u001b[0;32mif\u001b[0m \u001b[0mreturn_train_score\u001b[0m\u001b[0;34m:\u001b[0m\u001b[0;34m\u001b[0m\u001b[0;34m\u001b[0m\u001b[0m\n",
      "\u001b[0;32m~/anaconda3/envs/Datascientist/lib/python3.7/site-packages/sklearn/externals/joblib/parallel.py\u001b[0m in \u001b[0;36m__call__\u001b[0;34m(self, iterable)\u001b[0m\n\u001b[1;32m    787\u001b[0m                 \u001b[0;31m# consumption.\u001b[0m\u001b[0;34m\u001b[0m\u001b[0;34m\u001b[0m\u001b[0;34m\u001b[0m\u001b[0m\n\u001b[1;32m    788\u001b[0m                 \u001b[0mself\u001b[0m\u001b[0;34m.\u001b[0m\u001b[0m_iterating\u001b[0m \u001b[0;34m=\u001b[0m \u001b[0;32mFalse\u001b[0m\u001b[0;34m\u001b[0m\u001b[0;34m\u001b[0m\u001b[0m\n\u001b[0;32m--> 789\u001b[0;31m             \u001b[0mself\u001b[0m\u001b[0;34m.\u001b[0m\u001b[0mretrieve\u001b[0m\u001b[0;34m(\u001b[0m\u001b[0;34m)\u001b[0m\u001b[0;34m\u001b[0m\u001b[0;34m\u001b[0m\u001b[0m\n\u001b[0m\u001b[1;32m    790\u001b[0m             \u001b[0;31m# Make sure that we get a last message telling us we are done\u001b[0m\u001b[0;34m\u001b[0m\u001b[0;34m\u001b[0m\u001b[0;34m\u001b[0m\u001b[0m\n\u001b[1;32m    791\u001b[0m             \u001b[0melapsed_time\u001b[0m \u001b[0;34m=\u001b[0m \u001b[0mtime\u001b[0m\u001b[0;34m.\u001b[0m\u001b[0mtime\u001b[0m\u001b[0;34m(\u001b[0m\u001b[0;34m)\u001b[0m \u001b[0;34m-\u001b[0m \u001b[0mself\u001b[0m\u001b[0;34m.\u001b[0m\u001b[0m_start_time\u001b[0m\u001b[0;34m\u001b[0m\u001b[0;34m\u001b[0m\u001b[0m\n",
      "\u001b[0;32m~/anaconda3/envs/Datascientist/lib/python3.7/site-packages/sklearn/externals/joblib/parallel.py\u001b[0m in \u001b[0;36mretrieve\u001b[0;34m(self)\u001b[0m\n\u001b[1;32m    697\u001b[0m             \u001b[0;32mtry\u001b[0m\u001b[0;34m:\u001b[0m\u001b[0;34m\u001b[0m\u001b[0;34m\u001b[0m\u001b[0m\n\u001b[1;32m    698\u001b[0m                 \u001b[0;32mif\u001b[0m \u001b[0mgetattr\u001b[0m\u001b[0;34m(\u001b[0m\u001b[0mself\u001b[0m\u001b[0;34m.\u001b[0m\u001b[0m_backend\u001b[0m\u001b[0;34m,\u001b[0m \u001b[0;34m'supports_timeout'\u001b[0m\u001b[0;34m,\u001b[0m \u001b[0;32mFalse\u001b[0m\u001b[0;34m)\u001b[0m\u001b[0;34m:\u001b[0m\u001b[0;34m\u001b[0m\u001b[0;34m\u001b[0m\u001b[0m\n\u001b[0;32m--> 699\u001b[0;31m                     \u001b[0mself\u001b[0m\u001b[0;34m.\u001b[0m\u001b[0m_output\u001b[0m\u001b[0;34m.\u001b[0m\u001b[0mextend\u001b[0m\u001b[0;34m(\u001b[0m\u001b[0mjob\u001b[0m\u001b[0;34m.\u001b[0m\u001b[0mget\u001b[0m\u001b[0;34m(\u001b[0m\u001b[0mtimeout\u001b[0m\u001b[0;34m=\u001b[0m\u001b[0mself\u001b[0m\u001b[0;34m.\u001b[0m\u001b[0mtimeout\u001b[0m\u001b[0;34m)\u001b[0m\u001b[0;34m)\u001b[0m\u001b[0;34m\u001b[0m\u001b[0;34m\u001b[0m\u001b[0m\n\u001b[0m\u001b[1;32m    700\u001b[0m                 \u001b[0;32melse\u001b[0m\u001b[0;34m:\u001b[0m\u001b[0;34m\u001b[0m\u001b[0;34m\u001b[0m\u001b[0m\n\u001b[1;32m    701\u001b[0m                     \u001b[0mself\u001b[0m\u001b[0;34m.\u001b[0m\u001b[0m_output\u001b[0m\u001b[0;34m.\u001b[0m\u001b[0mextend\u001b[0m\u001b[0;34m(\u001b[0m\u001b[0mjob\u001b[0m\u001b[0;34m.\u001b[0m\u001b[0mget\u001b[0m\u001b[0;34m(\u001b[0m\u001b[0;34m)\u001b[0m\u001b[0;34m)\u001b[0m\u001b[0;34m\u001b[0m\u001b[0;34m\u001b[0m\u001b[0m\n",
      "\u001b[0;32m~/anaconda3/envs/Datascientist/lib/python3.7/multiprocessing/pool.py\u001b[0m in \u001b[0;36mget\u001b[0;34m(self, timeout)\u001b[0m\n\u001b[1;32m    675\u001b[0m \u001b[0;34m\u001b[0m\u001b[0m\n\u001b[1;32m    676\u001b[0m     \u001b[0;32mdef\u001b[0m \u001b[0mget\u001b[0m\u001b[0;34m(\u001b[0m\u001b[0mself\u001b[0m\u001b[0;34m,\u001b[0m \u001b[0mtimeout\u001b[0m\u001b[0;34m=\u001b[0m\u001b[0;32mNone\u001b[0m\u001b[0;34m)\u001b[0m\u001b[0;34m:\u001b[0m\u001b[0;34m\u001b[0m\u001b[0;34m\u001b[0m\u001b[0m\n\u001b[0;32m--> 677\u001b[0;31m         \u001b[0mself\u001b[0m\u001b[0;34m.\u001b[0m\u001b[0mwait\u001b[0m\u001b[0;34m(\u001b[0m\u001b[0mtimeout\u001b[0m\u001b[0;34m)\u001b[0m\u001b[0;34m\u001b[0m\u001b[0;34m\u001b[0m\u001b[0m\n\u001b[0m\u001b[1;32m    678\u001b[0m         \u001b[0;32mif\u001b[0m \u001b[0;32mnot\u001b[0m \u001b[0mself\u001b[0m\u001b[0;34m.\u001b[0m\u001b[0mready\u001b[0m\u001b[0;34m(\u001b[0m\u001b[0;34m)\u001b[0m\u001b[0;34m:\u001b[0m\u001b[0;34m\u001b[0m\u001b[0;34m\u001b[0m\u001b[0m\n\u001b[1;32m    679\u001b[0m             \u001b[0;32mraise\u001b[0m \u001b[0mTimeoutError\u001b[0m\u001b[0;34m\u001b[0m\u001b[0;34m\u001b[0m\u001b[0m\n",
      "\u001b[0;32m~/anaconda3/envs/Datascientist/lib/python3.7/multiprocessing/pool.py\u001b[0m in \u001b[0;36mwait\u001b[0;34m(self, timeout)\u001b[0m\n\u001b[1;32m    672\u001b[0m \u001b[0;34m\u001b[0m\u001b[0m\n\u001b[1;32m    673\u001b[0m     \u001b[0;32mdef\u001b[0m \u001b[0mwait\u001b[0m\u001b[0;34m(\u001b[0m\u001b[0mself\u001b[0m\u001b[0;34m,\u001b[0m \u001b[0mtimeout\u001b[0m\u001b[0;34m=\u001b[0m\u001b[0;32mNone\u001b[0m\u001b[0;34m)\u001b[0m\u001b[0;34m:\u001b[0m\u001b[0;34m\u001b[0m\u001b[0;34m\u001b[0m\u001b[0m\n\u001b[0;32m--> 674\u001b[0;31m         \u001b[0mself\u001b[0m\u001b[0;34m.\u001b[0m\u001b[0m_event\u001b[0m\u001b[0;34m.\u001b[0m\u001b[0mwait\u001b[0m\u001b[0;34m(\u001b[0m\u001b[0mtimeout\u001b[0m\u001b[0;34m)\u001b[0m\u001b[0;34m\u001b[0m\u001b[0;34m\u001b[0m\u001b[0m\n\u001b[0m\u001b[1;32m    675\u001b[0m \u001b[0;34m\u001b[0m\u001b[0m\n\u001b[1;32m    676\u001b[0m     \u001b[0;32mdef\u001b[0m \u001b[0mget\u001b[0m\u001b[0;34m(\u001b[0m\u001b[0mself\u001b[0m\u001b[0;34m,\u001b[0m \u001b[0mtimeout\u001b[0m\u001b[0;34m=\u001b[0m\u001b[0;32mNone\u001b[0m\u001b[0;34m)\u001b[0m\u001b[0;34m:\u001b[0m\u001b[0;34m\u001b[0m\u001b[0;34m\u001b[0m\u001b[0m\n",
      "\u001b[0;32m~/anaconda3/envs/Datascientist/lib/python3.7/threading.py\u001b[0m in \u001b[0;36mwait\u001b[0;34m(self, timeout)\u001b[0m\n\u001b[1;32m    550\u001b[0m             \u001b[0msignaled\u001b[0m \u001b[0;34m=\u001b[0m \u001b[0mself\u001b[0m\u001b[0;34m.\u001b[0m\u001b[0m_flag\u001b[0m\u001b[0;34m\u001b[0m\u001b[0;34m\u001b[0m\u001b[0m\n\u001b[1;32m    551\u001b[0m             \u001b[0;32mif\u001b[0m \u001b[0;32mnot\u001b[0m \u001b[0msignaled\u001b[0m\u001b[0;34m:\u001b[0m\u001b[0;34m\u001b[0m\u001b[0;34m\u001b[0m\u001b[0m\n\u001b[0;32m--> 552\u001b[0;31m                 \u001b[0msignaled\u001b[0m \u001b[0;34m=\u001b[0m \u001b[0mself\u001b[0m\u001b[0;34m.\u001b[0m\u001b[0m_cond\u001b[0m\u001b[0;34m.\u001b[0m\u001b[0mwait\u001b[0m\u001b[0;34m(\u001b[0m\u001b[0mtimeout\u001b[0m\u001b[0;34m)\u001b[0m\u001b[0;34m\u001b[0m\u001b[0;34m\u001b[0m\u001b[0m\n\u001b[0m\u001b[1;32m    553\u001b[0m             \u001b[0;32mreturn\u001b[0m \u001b[0msignaled\u001b[0m\u001b[0;34m\u001b[0m\u001b[0;34m\u001b[0m\u001b[0m\n\u001b[1;32m    554\u001b[0m \u001b[0;34m\u001b[0m\u001b[0m\n",
      "\u001b[0;32m~/anaconda3/envs/Datascientist/lib/python3.7/threading.py\u001b[0m in \u001b[0;36mwait\u001b[0;34m(self, timeout)\u001b[0m\n\u001b[1;32m    294\u001b[0m         \u001b[0;32mtry\u001b[0m\u001b[0;34m:\u001b[0m    \u001b[0;31m# restore state no matter what (e.g., KeyboardInterrupt)\u001b[0m\u001b[0;34m\u001b[0m\u001b[0;34m\u001b[0m\u001b[0m\n\u001b[1;32m    295\u001b[0m             \u001b[0;32mif\u001b[0m \u001b[0mtimeout\u001b[0m \u001b[0;32mis\u001b[0m \u001b[0;32mNone\u001b[0m\u001b[0;34m:\u001b[0m\u001b[0;34m\u001b[0m\u001b[0;34m\u001b[0m\u001b[0m\n\u001b[0;32m--> 296\u001b[0;31m                 \u001b[0mwaiter\u001b[0m\u001b[0;34m.\u001b[0m\u001b[0macquire\u001b[0m\u001b[0;34m(\u001b[0m\u001b[0;34m)\u001b[0m\u001b[0;34m\u001b[0m\u001b[0;34m\u001b[0m\u001b[0m\n\u001b[0m\u001b[1;32m    297\u001b[0m                 \u001b[0mgotit\u001b[0m \u001b[0;34m=\u001b[0m \u001b[0;32mTrue\u001b[0m\u001b[0;34m\u001b[0m\u001b[0;34m\u001b[0m\u001b[0m\n\u001b[1;32m    298\u001b[0m             \u001b[0;32melse\u001b[0m\u001b[0;34m:\u001b[0m\u001b[0;34m\u001b[0m\u001b[0;34m\u001b[0m\u001b[0m\n",
      "\u001b[0;31mKeyboardInterrupt\u001b[0m: "
     ]
    }
   ],
   "source": [
    "resultados[\"rf_gridsearch\"] = evaluar_modelo(grid.best_estimator_, censo_X_procesado, censo_y)"
   ]
  },
  {
   "cell_type": "markdown",
   "metadata": {
    "collapsed": true
   },
   "source": [
    "Ahora vamos a realizar la misma optimización de parámetros pero usando `RandomizedSearchCV`. RandomizedSearchCV funciona de forma similar a GridSearchCV, pero en vez de evaluar todas las combinaciones posibles de hiperparámetros, se toman n muestras de hiperparámetros de dichas distribuciones.\n",
    "\n",
    "Se recomienda usar distribuciones en vez de valores fijos para hiperparámetros continuos."
   ]
  },
  {
   "cell_type": "markdown",
   "metadata": {},
   "source": [
    "Primero vamos a evaluar el funcionamiento de la busqueda aleatoria con los mísmos hiperparámetros que hemos usado en la busqueda en malla. Para `RandomizedSearchCV` tenemos que indicarle cuantas variantes de hiperparámetros utilizar (definidas por el parámetro n_iter, por defecto toma 10 variantes). Dado que dicha búsqueda toma muestreos el parámetro ya no se llama `param_grid` sino `param_distributions`."
   ]
  },
  {
   "cell_type": "code",
   "execution_count": 57,
   "metadata": {},
   "outputs": [],
   "source": [
    "busqueda_random = RandomizedSearchCV(estimator=estimador_rf, \n",
    "                    param_distributions=parametros_busqueda_rf,\n",
    "                   scoring=\"roc_auc\", n_jobs=-1, n_iter=10)"
   ]
  },
  {
   "cell_type": "code",
   "execution_count": 58,
   "metadata": {},
   "outputs": [
    {
     "ename": "KeyboardInterrupt",
     "evalue": "",
     "output_type": "error",
     "traceback": [
      "\u001b[0;31m---------------------------------------------------------------------------\u001b[0m",
      "\u001b[0;31mKeyboardInterrupt\u001b[0m                         Traceback (most recent call last)",
      "\u001b[0;32m<ipython-input-58-6806a25f442f>\u001b[0m in \u001b[0;36m<module>\u001b[0;34m\u001b[0m\n\u001b[0;32m----> 1\u001b[0;31m \u001b[0mget_ipython\u001b[0m\u001b[0;34m(\u001b[0m\u001b[0;34m)\u001b[0m\u001b[0;34m.\u001b[0m\u001b[0mrun_cell_magic\u001b[0m\u001b[0;34m(\u001b[0m\u001b[0;34m'timeit'\u001b[0m\u001b[0;34m,\u001b[0m \u001b[0;34m'-n 1 -r 1'\u001b[0m\u001b[0;34m,\u001b[0m \u001b[0;34m'busqueda_random.fit(censo_X_procesado, censo_y)\\n'\u001b[0m\u001b[0;34m)\u001b[0m\u001b[0;34m\u001b[0m\u001b[0;34m\u001b[0m\u001b[0m\n\u001b[0m",
      "\u001b[0;32m~/anaconda3/envs/Datascientist/lib/python3.7/site-packages/IPython/core/interactiveshell.py\u001b[0m in \u001b[0;36mrun_cell_magic\u001b[0;34m(self, magic_name, line, cell)\u001b[0m\n\u001b[1;32m   2321\u001b[0m             \u001b[0mmagic_arg_s\u001b[0m \u001b[0;34m=\u001b[0m \u001b[0mself\u001b[0m\u001b[0;34m.\u001b[0m\u001b[0mvar_expand\u001b[0m\u001b[0;34m(\u001b[0m\u001b[0mline\u001b[0m\u001b[0;34m,\u001b[0m \u001b[0mstack_depth\u001b[0m\u001b[0;34m)\u001b[0m\u001b[0;34m\u001b[0m\u001b[0;34m\u001b[0m\u001b[0m\n\u001b[1;32m   2322\u001b[0m             \u001b[0;32mwith\u001b[0m \u001b[0mself\u001b[0m\u001b[0;34m.\u001b[0m\u001b[0mbuiltin_trap\u001b[0m\u001b[0;34m:\u001b[0m\u001b[0;34m\u001b[0m\u001b[0;34m\u001b[0m\u001b[0m\n\u001b[0;32m-> 2323\u001b[0;31m                 \u001b[0mresult\u001b[0m \u001b[0;34m=\u001b[0m \u001b[0mfn\u001b[0m\u001b[0;34m(\u001b[0m\u001b[0mmagic_arg_s\u001b[0m\u001b[0;34m,\u001b[0m \u001b[0mcell\u001b[0m\u001b[0;34m)\u001b[0m\u001b[0;34m\u001b[0m\u001b[0;34m\u001b[0m\u001b[0m\n\u001b[0m\u001b[1;32m   2324\u001b[0m             \u001b[0;32mreturn\u001b[0m \u001b[0mresult\u001b[0m\u001b[0;34m\u001b[0m\u001b[0;34m\u001b[0m\u001b[0m\n\u001b[1;32m   2325\u001b[0m \u001b[0;34m\u001b[0m\u001b[0m\n",
      "\u001b[0;32m<decorator-gen-61>\u001b[0m in \u001b[0;36mtimeit\u001b[0;34m(self, line, cell, local_ns)\u001b[0m\n",
      "\u001b[0;32m~/anaconda3/envs/Datascientist/lib/python3.7/site-packages/IPython/core/magic.py\u001b[0m in \u001b[0;36m<lambda>\u001b[0;34m(f, *a, **k)\u001b[0m\n\u001b[1;32m    185\u001b[0m     \u001b[0;31m# but it's overkill for just that one bit of state.\u001b[0m\u001b[0;34m\u001b[0m\u001b[0;34m\u001b[0m\u001b[0;34m\u001b[0m\u001b[0m\n\u001b[1;32m    186\u001b[0m     \u001b[0;32mdef\u001b[0m \u001b[0mmagic_deco\u001b[0m\u001b[0;34m(\u001b[0m\u001b[0marg\u001b[0m\u001b[0;34m)\u001b[0m\u001b[0;34m:\u001b[0m\u001b[0;34m\u001b[0m\u001b[0;34m\u001b[0m\u001b[0m\n\u001b[0;32m--> 187\u001b[0;31m         \u001b[0mcall\u001b[0m \u001b[0;34m=\u001b[0m \u001b[0;32mlambda\u001b[0m \u001b[0mf\u001b[0m\u001b[0;34m,\u001b[0m \u001b[0;34m*\u001b[0m\u001b[0ma\u001b[0m\u001b[0;34m,\u001b[0m \u001b[0;34m**\u001b[0m\u001b[0mk\u001b[0m\u001b[0;34m:\u001b[0m \u001b[0mf\u001b[0m\u001b[0;34m(\u001b[0m\u001b[0;34m*\u001b[0m\u001b[0ma\u001b[0m\u001b[0;34m,\u001b[0m \u001b[0;34m**\u001b[0m\u001b[0mk\u001b[0m\u001b[0;34m)\u001b[0m\u001b[0;34m\u001b[0m\u001b[0;34m\u001b[0m\u001b[0m\n\u001b[0m\u001b[1;32m    188\u001b[0m \u001b[0;34m\u001b[0m\u001b[0m\n\u001b[1;32m    189\u001b[0m         \u001b[0;32mif\u001b[0m \u001b[0mcallable\u001b[0m\u001b[0;34m(\u001b[0m\u001b[0marg\u001b[0m\u001b[0;34m)\u001b[0m\u001b[0;34m:\u001b[0m\u001b[0;34m\u001b[0m\u001b[0;34m\u001b[0m\u001b[0m\n",
      "\u001b[0;32m~/anaconda3/envs/Datascientist/lib/python3.7/site-packages/IPython/core/magics/execution.py\u001b[0m in \u001b[0;36mtimeit\u001b[0;34m(self, line, cell, local_ns)\u001b[0m\n\u001b[1;32m   1133\u001b[0m                     \u001b[0;32mbreak\u001b[0m\u001b[0;34m\u001b[0m\u001b[0;34m\u001b[0m\u001b[0m\n\u001b[1;32m   1134\u001b[0m \u001b[0;34m\u001b[0m\u001b[0m\n\u001b[0;32m-> 1135\u001b[0;31m         \u001b[0mall_runs\u001b[0m \u001b[0;34m=\u001b[0m \u001b[0mtimer\u001b[0m\u001b[0;34m.\u001b[0m\u001b[0mrepeat\u001b[0m\u001b[0;34m(\u001b[0m\u001b[0mrepeat\u001b[0m\u001b[0;34m,\u001b[0m \u001b[0mnumber\u001b[0m\u001b[0;34m)\u001b[0m\u001b[0;34m\u001b[0m\u001b[0;34m\u001b[0m\u001b[0m\n\u001b[0m\u001b[1;32m   1136\u001b[0m         \u001b[0mbest\u001b[0m \u001b[0;34m=\u001b[0m \u001b[0mmin\u001b[0m\u001b[0;34m(\u001b[0m\u001b[0mall_runs\u001b[0m\u001b[0;34m)\u001b[0m \u001b[0;34m/\u001b[0m \u001b[0mnumber\u001b[0m\u001b[0;34m\u001b[0m\u001b[0;34m\u001b[0m\u001b[0m\n\u001b[1;32m   1137\u001b[0m         \u001b[0mworst\u001b[0m \u001b[0;34m=\u001b[0m \u001b[0mmax\u001b[0m\u001b[0;34m(\u001b[0m\u001b[0mall_runs\u001b[0m\u001b[0;34m)\u001b[0m \u001b[0;34m/\u001b[0m \u001b[0mnumber\u001b[0m\u001b[0;34m\u001b[0m\u001b[0;34m\u001b[0m\u001b[0m\n",
      "\u001b[0;32m~/anaconda3/envs/Datascientist/lib/python3.7/timeit.py\u001b[0m in \u001b[0;36mrepeat\u001b[0;34m(self, repeat, number)\u001b[0m\n\u001b[1;32m    202\u001b[0m         \u001b[0mr\u001b[0m \u001b[0;34m=\u001b[0m \u001b[0;34m[\u001b[0m\u001b[0;34m]\u001b[0m\u001b[0;34m\u001b[0m\u001b[0;34m\u001b[0m\u001b[0m\n\u001b[1;32m    203\u001b[0m         \u001b[0;32mfor\u001b[0m \u001b[0mi\u001b[0m \u001b[0;32min\u001b[0m \u001b[0mrange\u001b[0m\u001b[0;34m(\u001b[0m\u001b[0mrepeat\u001b[0m\u001b[0;34m)\u001b[0m\u001b[0;34m:\u001b[0m\u001b[0;34m\u001b[0m\u001b[0;34m\u001b[0m\u001b[0m\n\u001b[0;32m--> 204\u001b[0;31m             \u001b[0mt\u001b[0m \u001b[0;34m=\u001b[0m \u001b[0mself\u001b[0m\u001b[0;34m.\u001b[0m\u001b[0mtimeit\u001b[0m\u001b[0;34m(\u001b[0m\u001b[0mnumber\u001b[0m\u001b[0;34m)\u001b[0m\u001b[0;34m\u001b[0m\u001b[0;34m\u001b[0m\u001b[0m\n\u001b[0m\u001b[1;32m    205\u001b[0m             \u001b[0mr\u001b[0m\u001b[0;34m.\u001b[0m\u001b[0mappend\u001b[0m\u001b[0;34m(\u001b[0m\u001b[0mt\u001b[0m\u001b[0;34m)\u001b[0m\u001b[0;34m\u001b[0m\u001b[0;34m\u001b[0m\u001b[0m\n\u001b[1;32m    206\u001b[0m         \u001b[0;32mreturn\u001b[0m \u001b[0mr\u001b[0m\u001b[0;34m\u001b[0m\u001b[0;34m\u001b[0m\u001b[0m\n",
      "\u001b[0;32m~/anaconda3/envs/Datascientist/lib/python3.7/site-packages/IPython/core/magics/execution.py\u001b[0m in \u001b[0;36mtimeit\u001b[0;34m(self, number)\u001b[0m\n\u001b[1;32m    158\u001b[0m         \u001b[0mgc\u001b[0m\u001b[0;34m.\u001b[0m\u001b[0mdisable\u001b[0m\u001b[0;34m(\u001b[0m\u001b[0;34m)\u001b[0m\u001b[0;34m\u001b[0m\u001b[0;34m\u001b[0m\u001b[0m\n\u001b[1;32m    159\u001b[0m         \u001b[0;32mtry\u001b[0m\u001b[0;34m:\u001b[0m\u001b[0;34m\u001b[0m\u001b[0;34m\u001b[0m\u001b[0m\n\u001b[0;32m--> 160\u001b[0;31m             \u001b[0mtiming\u001b[0m \u001b[0;34m=\u001b[0m \u001b[0mself\u001b[0m\u001b[0;34m.\u001b[0m\u001b[0minner\u001b[0m\u001b[0;34m(\u001b[0m\u001b[0mit\u001b[0m\u001b[0;34m,\u001b[0m \u001b[0mself\u001b[0m\u001b[0;34m.\u001b[0m\u001b[0mtimer\u001b[0m\u001b[0;34m)\u001b[0m\u001b[0;34m\u001b[0m\u001b[0;34m\u001b[0m\u001b[0m\n\u001b[0m\u001b[1;32m    161\u001b[0m         \u001b[0;32mfinally\u001b[0m\u001b[0;34m:\u001b[0m\u001b[0;34m\u001b[0m\u001b[0;34m\u001b[0m\u001b[0m\n\u001b[1;32m    162\u001b[0m             \u001b[0;32mif\u001b[0m \u001b[0mgcold\u001b[0m\u001b[0;34m:\u001b[0m\u001b[0;34m\u001b[0m\u001b[0;34m\u001b[0m\u001b[0m\n",
      "\u001b[0;32m<magic-timeit>\u001b[0m in \u001b[0;36minner\u001b[0;34m(_it, _timer)\u001b[0m\n",
      "\u001b[0;32m~/anaconda3/envs/Datascientist/lib/python3.7/site-packages/sklearn/model_selection/_search.py\u001b[0m in \u001b[0;36mfit\u001b[0;34m(self, X, y, groups, **fit_params)\u001b[0m\n\u001b[1;32m    637\u001b[0m                                   error_score=self.error_score)\n\u001b[1;32m    638\u001b[0m           for parameters, (train, test) in product(candidate_params,\n\u001b[0;32m--> 639\u001b[0;31m                                                    cv.split(X, y, groups)))\n\u001b[0m\u001b[1;32m    640\u001b[0m \u001b[0;34m\u001b[0m\u001b[0m\n\u001b[1;32m    641\u001b[0m         \u001b[0;31m# if one choose to see train score, \"out\" will contain train score info\u001b[0m\u001b[0;34m\u001b[0m\u001b[0;34m\u001b[0m\u001b[0;34m\u001b[0m\u001b[0m\n",
      "\u001b[0;32m~/anaconda3/envs/Datascientist/lib/python3.7/site-packages/sklearn/externals/joblib/parallel.py\u001b[0m in \u001b[0;36m__call__\u001b[0;34m(self, iterable)\u001b[0m\n\u001b[1;32m    787\u001b[0m                 \u001b[0;31m# consumption.\u001b[0m\u001b[0;34m\u001b[0m\u001b[0;34m\u001b[0m\u001b[0;34m\u001b[0m\u001b[0m\n\u001b[1;32m    788\u001b[0m                 \u001b[0mself\u001b[0m\u001b[0;34m.\u001b[0m\u001b[0m_iterating\u001b[0m \u001b[0;34m=\u001b[0m \u001b[0;32mFalse\u001b[0m\u001b[0;34m\u001b[0m\u001b[0;34m\u001b[0m\u001b[0m\n\u001b[0;32m--> 789\u001b[0;31m             \u001b[0mself\u001b[0m\u001b[0;34m.\u001b[0m\u001b[0mretrieve\u001b[0m\u001b[0;34m(\u001b[0m\u001b[0;34m)\u001b[0m\u001b[0;34m\u001b[0m\u001b[0;34m\u001b[0m\u001b[0m\n\u001b[0m\u001b[1;32m    790\u001b[0m             \u001b[0;31m# Make sure that we get a last message telling us we are done\u001b[0m\u001b[0;34m\u001b[0m\u001b[0;34m\u001b[0m\u001b[0;34m\u001b[0m\u001b[0m\n\u001b[1;32m    791\u001b[0m             \u001b[0melapsed_time\u001b[0m \u001b[0;34m=\u001b[0m \u001b[0mtime\u001b[0m\u001b[0;34m.\u001b[0m\u001b[0mtime\u001b[0m\u001b[0;34m(\u001b[0m\u001b[0;34m)\u001b[0m \u001b[0;34m-\u001b[0m \u001b[0mself\u001b[0m\u001b[0;34m.\u001b[0m\u001b[0m_start_time\u001b[0m\u001b[0;34m\u001b[0m\u001b[0;34m\u001b[0m\u001b[0m\n",
      "\u001b[0;32m~/anaconda3/envs/Datascientist/lib/python3.7/site-packages/sklearn/externals/joblib/parallel.py\u001b[0m in \u001b[0;36mretrieve\u001b[0;34m(self)\u001b[0m\n\u001b[1;32m    697\u001b[0m             \u001b[0;32mtry\u001b[0m\u001b[0;34m:\u001b[0m\u001b[0;34m\u001b[0m\u001b[0;34m\u001b[0m\u001b[0m\n\u001b[1;32m    698\u001b[0m                 \u001b[0;32mif\u001b[0m \u001b[0mgetattr\u001b[0m\u001b[0;34m(\u001b[0m\u001b[0mself\u001b[0m\u001b[0;34m.\u001b[0m\u001b[0m_backend\u001b[0m\u001b[0;34m,\u001b[0m \u001b[0;34m'supports_timeout'\u001b[0m\u001b[0;34m,\u001b[0m \u001b[0;32mFalse\u001b[0m\u001b[0;34m)\u001b[0m\u001b[0;34m:\u001b[0m\u001b[0;34m\u001b[0m\u001b[0;34m\u001b[0m\u001b[0m\n\u001b[0;32m--> 699\u001b[0;31m                     \u001b[0mself\u001b[0m\u001b[0;34m.\u001b[0m\u001b[0m_output\u001b[0m\u001b[0;34m.\u001b[0m\u001b[0mextend\u001b[0m\u001b[0;34m(\u001b[0m\u001b[0mjob\u001b[0m\u001b[0;34m.\u001b[0m\u001b[0mget\u001b[0m\u001b[0;34m(\u001b[0m\u001b[0mtimeout\u001b[0m\u001b[0;34m=\u001b[0m\u001b[0mself\u001b[0m\u001b[0;34m.\u001b[0m\u001b[0mtimeout\u001b[0m\u001b[0;34m)\u001b[0m\u001b[0;34m)\u001b[0m\u001b[0;34m\u001b[0m\u001b[0;34m\u001b[0m\u001b[0m\n\u001b[0m\u001b[1;32m    700\u001b[0m                 \u001b[0;32melse\u001b[0m\u001b[0;34m:\u001b[0m\u001b[0;34m\u001b[0m\u001b[0;34m\u001b[0m\u001b[0m\n\u001b[1;32m    701\u001b[0m                     \u001b[0mself\u001b[0m\u001b[0;34m.\u001b[0m\u001b[0m_output\u001b[0m\u001b[0;34m.\u001b[0m\u001b[0mextend\u001b[0m\u001b[0;34m(\u001b[0m\u001b[0mjob\u001b[0m\u001b[0;34m.\u001b[0m\u001b[0mget\u001b[0m\u001b[0;34m(\u001b[0m\u001b[0;34m)\u001b[0m\u001b[0;34m)\u001b[0m\u001b[0;34m\u001b[0m\u001b[0;34m\u001b[0m\u001b[0m\n",
      "\u001b[0;32m~/anaconda3/envs/Datascientist/lib/python3.7/multiprocessing/pool.py\u001b[0m in \u001b[0;36mget\u001b[0;34m(self, timeout)\u001b[0m\n\u001b[1;32m    675\u001b[0m \u001b[0;34m\u001b[0m\u001b[0m\n\u001b[1;32m    676\u001b[0m     \u001b[0;32mdef\u001b[0m \u001b[0mget\u001b[0m\u001b[0;34m(\u001b[0m\u001b[0mself\u001b[0m\u001b[0;34m,\u001b[0m \u001b[0mtimeout\u001b[0m\u001b[0;34m=\u001b[0m\u001b[0;32mNone\u001b[0m\u001b[0;34m)\u001b[0m\u001b[0;34m:\u001b[0m\u001b[0;34m\u001b[0m\u001b[0;34m\u001b[0m\u001b[0m\n\u001b[0;32m--> 677\u001b[0;31m         \u001b[0mself\u001b[0m\u001b[0;34m.\u001b[0m\u001b[0mwait\u001b[0m\u001b[0;34m(\u001b[0m\u001b[0mtimeout\u001b[0m\u001b[0;34m)\u001b[0m\u001b[0;34m\u001b[0m\u001b[0;34m\u001b[0m\u001b[0m\n\u001b[0m\u001b[1;32m    678\u001b[0m         \u001b[0;32mif\u001b[0m \u001b[0;32mnot\u001b[0m \u001b[0mself\u001b[0m\u001b[0;34m.\u001b[0m\u001b[0mready\u001b[0m\u001b[0;34m(\u001b[0m\u001b[0;34m)\u001b[0m\u001b[0;34m:\u001b[0m\u001b[0;34m\u001b[0m\u001b[0;34m\u001b[0m\u001b[0m\n\u001b[1;32m    679\u001b[0m             \u001b[0;32mraise\u001b[0m \u001b[0mTimeoutError\u001b[0m\u001b[0;34m\u001b[0m\u001b[0;34m\u001b[0m\u001b[0m\n",
      "\u001b[0;32m~/anaconda3/envs/Datascientist/lib/python3.7/multiprocessing/pool.py\u001b[0m in \u001b[0;36mwait\u001b[0;34m(self, timeout)\u001b[0m\n\u001b[1;32m    672\u001b[0m \u001b[0;34m\u001b[0m\u001b[0m\n\u001b[1;32m    673\u001b[0m     \u001b[0;32mdef\u001b[0m \u001b[0mwait\u001b[0m\u001b[0;34m(\u001b[0m\u001b[0mself\u001b[0m\u001b[0;34m,\u001b[0m \u001b[0mtimeout\u001b[0m\u001b[0;34m=\u001b[0m\u001b[0;32mNone\u001b[0m\u001b[0;34m)\u001b[0m\u001b[0;34m:\u001b[0m\u001b[0;34m\u001b[0m\u001b[0;34m\u001b[0m\u001b[0m\n\u001b[0;32m--> 674\u001b[0;31m         \u001b[0mself\u001b[0m\u001b[0;34m.\u001b[0m\u001b[0m_event\u001b[0m\u001b[0;34m.\u001b[0m\u001b[0mwait\u001b[0m\u001b[0;34m(\u001b[0m\u001b[0mtimeout\u001b[0m\u001b[0;34m)\u001b[0m\u001b[0;34m\u001b[0m\u001b[0;34m\u001b[0m\u001b[0m\n\u001b[0m\u001b[1;32m    675\u001b[0m \u001b[0;34m\u001b[0m\u001b[0m\n\u001b[1;32m    676\u001b[0m     \u001b[0;32mdef\u001b[0m \u001b[0mget\u001b[0m\u001b[0;34m(\u001b[0m\u001b[0mself\u001b[0m\u001b[0;34m,\u001b[0m \u001b[0mtimeout\u001b[0m\u001b[0;34m=\u001b[0m\u001b[0;32mNone\u001b[0m\u001b[0;34m)\u001b[0m\u001b[0;34m:\u001b[0m\u001b[0;34m\u001b[0m\u001b[0;34m\u001b[0m\u001b[0m\n",
      "\u001b[0;32m~/anaconda3/envs/Datascientist/lib/python3.7/threading.py\u001b[0m in \u001b[0;36mwait\u001b[0;34m(self, timeout)\u001b[0m\n\u001b[1;32m    550\u001b[0m             \u001b[0msignaled\u001b[0m \u001b[0;34m=\u001b[0m \u001b[0mself\u001b[0m\u001b[0;34m.\u001b[0m\u001b[0m_flag\u001b[0m\u001b[0;34m\u001b[0m\u001b[0;34m\u001b[0m\u001b[0m\n\u001b[1;32m    551\u001b[0m             \u001b[0;32mif\u001b[0m \u001b[0;32mnot\u001b[0m \u001b[0msignaled\u001b[0m\u001b[0;34m:\u001b[0m\u001b[0;34m\u001b[0m\u001b[0;34m\u001b[0m\u001b[0m\n\u001b[0;32m--> 552\u001b[0;31m                 \u001b[0msignaled\u001b[0m \u001b[0;34m=\u001b[0m \u001b[0mself\u001b[0m\u001b[0;34m.\u001b[0m\u001b[0m_cond\u001b[0m\u001b[0;34m.\u001b[0m\u001b[0mwait\u001b[0m\u001b[0;34m(\u001b[0m\u001b[0mtimeout\u001b[0m\u001b[0;34m)\u001b[0m\u001b[0;34m\u001b[0m\u001b[0;34m\u001b[0m\u001b[0m\n\u001b[0m\u001b[1;32m    553\u001b[0m             \u001b[0;32mreturn\u001b[0m \u001b[0msignaled\u001b[0m\u001b[0;34m\u001b[0m\u001b[0;34m\u001b[0m\u001b[0m\n\u001b[1;32m    554\u001b[0m \u001b[0;34m\u001b[0m\u001b[0m\n",
      "\u001b[0;32m~/anaconda3/envs/Datascientist/lib/python3.7/threading.py\u001b[0m in \u001b[0;36mwait\u001b[0;34m(self, timeout)\u001b[0m\n\u001b[1;32m    294\u001b[0m         \u001b[0;32mtry\u001b[0m\u001b[0;34m:\u001b[0m    \u001b[0;31m# restore state no matter what (e.g., KeyboardInterrupt)\u001b[0m\u001b[0;34m\u001b[0m\u001b[0;34m\u001b[0m\u001b[0m\n\u001b[1;32m    295\u001b[0m             \u001b[0;32mif\u001b[0m \u001b[0mtimeout\u001b[0m \u001b[0;32mis\u001b[0m \u001b[0;32mNone\u001b[0m\u001b[0;34m:\u001b[0m\u001b[0;34m\u001b[0m\u001b[0;34m\u001b[0m\u001b[0m\n\u001b[0;32m--> 296\u001b[0;31m                 \u001b[0mwaiter\u001b[0m\u001b[0;34m.\u001b[0m\u001b[0macquire\u001b[0m\u001b[0;34m(\u001b[0m\u001b[0;34m)\u001b[0m\u001b[0;34m\u001b[0m\u001b[0;34m\u001b[0m\u001b[0m\n\u001b[0m\u001b[1;32m    297\u001b[0m                 \u001b[0mgotit\u001b[0m \u001b[0;34m=\u001b[0m \u001b[0;32mTrue\u001b[0m\u001b[0;34m\u001b[0m\u001b[0;34m\u001b[0m\u001b[0m\n\u001b[1;32m    298\u001b[0m             \u001b[0;32melse\u001b[0m\u001b[0;34m:\u001b[0m\u001b[0;34m\u001b[0m\u001b[0;34m\u001b[0m\u001b[0m\n",
      "\u001b[0;31mKeyboardInterrupt\u001b[0m: "
     ]
    }
   ],
   "source": [
    "%%timeit -n 1 -r 1\n",
    "busqueda_random.fit(censo_X_procesado, censo_y)"
   ]
  },
  {
   "cell_type": "markdown",
   "metadata": {},
   "source": [
    "La búsqueda con 10 iteraciones ha tardado 1min 25s en mi máquina. Veamos como ha funcionado."
   ]
  },
  {
   "cell_type": "code",
   "execution_count": 59,
   "metadata": {},
   "outputs": [
    {
     "ename": "AttributeError",
     "evalue": "'RandomizedSearchCV' object has no attribute 'best_score_'",
     "output_type": "error",
     "traceback": [
      "\u001b[0;31m---------------------------------------------------------------------------\u001b[0m",
      "\u001b[0;31mAttributeError\u001b[0m                            Traceback (most recent call last)",
      "\u001b[0;32m<ipython-input-59-74c6c31aabc2>\u001b[0m in \u001b[0;36m<module>\u001b[0;34m\u001b[0m\n\u001b[0;32m----> 1\u001b[0;31m \u001b[0mprint\u001b[0m\u001b[0;34m(\u001b[0m\u001b[0mbusqueda_random\u001b[0m\u001b[0;34m.\u001b[0m\u001b[0mbest_score_\u001b[0m\u001b[0;34m)\u001b[0m\u001b[0;34m\u001b[0m\u001b[0;34m\u001b[0m\u001b[0m\n\u001b[0m\u001b[1;32m      2\u001b[0m \u001b[0mprint\u001b[0m\u001b[0;34m(\u001b[0m\u001b[0mbusqueda_random\u001b[0m\u001b[0;34m.\u001b[0m\u001b[0mbest_estimator_\u001b[0m\u001b[0;34m)\u001b[0m\u001b[0;34m\u001b[0m\u001b[0;34m\u001b[0m\u001b[0m\n",
      "\u001b[0;31mAttributeError\u001b[0m: 'RandomizedSearchCV' object has no attribute 'best_score_'"
     ]
    }
   ],
   "source": [
    "print(busqueda_random.best_score_)\n",
    "print(busqueda_random.best_estimator_)"
   ]
  },
  {
   "cell_type": "markdown",
   "metadata": {},
   "source": [
    "La búsqueda de malla obtuvo un ROC AUC máximo de 0.89726431782 versus 0.896926092788 obtenido por la búsqueda aleatoria. Sin embargo la busqueda aleatoria ha tardado 8 veces menos!"
   ]
  },
  {
   "cell_type": "code",
   "execution_count": 60,
   "metadata": {},
   "outputs": [
    {
     "ename": "KeyboardInterrupt",
     "evalue": "",
     "output_type": "error",
     "traceback": [
      "\u001b[0;31m---------------------------------------------------------------------------\u001b[0m",
      "\u001b[0;31mKeyboardInterrupt\u001b[0m                         Traceback (most recent call last)",
      "\u001b[0;32m<ipython-input-60-5807c8cf56e8>\u001b[0m in \u001b[0;36m<module>\u001b[0;34m\u001b[0m\n\u001b[0;32m----> 1\u001b[0;31m \u001b[0mresultados\u001b[0m\u001b[0;34m[\u001b[0m\u001b[0;34m\"rf_randomizedsearch\"\u001b[0m\u001b[0;34m]\u001b[0m \u001b[0;34m=\u001b[0m \u001b[0mevaluar_modelo\u001b[0m\u001b[0;34m(\u001b[0m\u001b[0mgrid\u001b[0m\u001b[0;34m.\u001b[0m\u001b[0mbest_estimator_\u001b[0m\u001b[0;34m,\u001b[0m \u001b[0mcenso_X_procesado\u001b[0m\u001b[0;34m,\u001b[0m \u001b[0mcenso_y\u001b[0m\u001b[0;34m)\u001b[0m\u001b[0;34m\u001b[0m\u001b[0;34m\u001b[0m\u001b[0m\n\u001b[0m",
      "\u001b[0;32m<ipython-input-36-3a1b3a321d30>\u001b[0m in \u001b[0;36mevaluar_modelo\u001b[0;34m(estimador, X, y)\u001b[0m\n\u001b[1;32m      3\u001b[0m \u001b[0;32mdef\u001b[0m \u001b[0mevaluar_modelo\u001b[0m\u001b[0;34m(\u001b[0m\u001b[0mestimador\u001b[0m\u001b[0;34m,\u001b[0m \u001b[0mX\u001b[0m\u001b[0;34m,\u001b[0m \u001b[0my\u001b[0m\u001b[0;34m)\u001b[0m\u001b[0;34m:\u001b[0m\u001b[0;34m\u001b[0m\u001b[0;34m\u001b[0m\u001b[0m\n\u001b[1;32m      4\u001b[0m     resultados_estimador = cross_validate(estimador, X, y,\n\u001b[0;32m----> 5\u001b[0;31m                      scoring=\"roc_auc\", n_jobs=-1, cv=5, return_train_score=True)\n\u001b[0m\u001b[1;32m      6\u001b[0m     \u001b[0;32mreturn\u001b[0m \u001b[0mresultados_estimador\u001b[0m\u001b[0;34m\u001b[0m\u001b[0;34m\u001b[0m\u001b[0m\n\u001b[1;32m      7\u001b[0m \u001b[0;34m\u001b[0m\u001b[0m\n",
      "\u001b[0;32m~/anaconda3/envs/Datascientist/lib/python3.7/site-packages/sklearn/model_selection/_validation.py\u001b[0m in \u001b[0;36mcross_validate\u001b[0;34m(estimator, X, y, groups, scoring, cv, n_jobs, verbose, fit_params, pre_dispatch, return_train_score)\u001b[0m\n\u001b[1;32m    204\u001b[0m             \u001b[0mfit_params\u001b[0m\u001b[0;34m,\u001b[0m \u001b[0mreturn_train_score\u001b[0m\u001b[0;34m=\u001b[0m\u001b[0mreturn_train_score\u001b[0m\u001b[0;34m,\u001b[0m\u001b[0;34m\u001b[0m\u001b[0;34m\u001b[0m\u001b[0m\n\u001b[1;32m    205\u001b[0m             return_times=True)\n\u001b[0;32m--> 206\u001b[0;31m         for train, test in cv.split(X, y, groups))\n\u001b[0m\u001b[1;32m    207\u001b[0m \u001b[0;34m\u001b[0m\u001b[0m\n\u001b[1;32m    208\u001b[0m     \u001b[0;32mif\u001b[0m \u001b[0mreturn_train_score\u001b[0m\u001b[0;34m:\u001b[0m\u001b[0;34m\u001b[0m\u001b[0;34m\u001b[0m\u001b[0m\n",
      "\u001b[0;32m~/anaconda3/envs/Datascientist/lib/python3.7/site-packages/sklearn/externals/joblib/parallel.py\u001b[0m in \u001b[0;36m__call__\u001b[0;34m(self, iterable)\u001b[0m\n\u001b[1;32m    787\u001b[0m                 \u001b[0;31m# consumption.\u001b[0m\u001b[0;34m\u001b[0m\u001b[0;34m\u001b[0m\u001b[0;34m\u001b[0m\u001b[0m\n\u001b[1;32m    788\u001b[0m                 \u001b[0mself\u001b[0m\u001b[0;34m.\u001b[0m\u001b[0m_iterating\u001b[0m \u001b[0;34m=\u001b[0m \u001b[0;32mFalse\u001b[0m\u001b[0;34m\u001b[0m\u001b[0;34m\u001b[0m\u001b[0m\n\u001b[0;32m--> 789\u001b[0;31m             \u001b[0mself\u001b[0m\u001b[0;34m.\u001b[0m\u001b[0mretrieve\u001b[0m\u001b[0;34m(\u001b[0m\u001b[0;34m)\u001b[0m\u001b[0;34m\u001b[0m\u001b[0;34m\u001b[0m\u001b[0m\n\u001b[0m\u001b[1;32m    790\u001b[0m             \u001b[0;31m# Make sure that we get a last message telling us we are done\u001b[0m\u001b[0;34m\u001b[0m\u001b[0;34m\u001b[0m\u001b[0;34m\u001b[0m\u001b[0m\n\u001b[1;32m    791\u001b[0m             \u001b[0melapsed_time\u001b[0m \u001b[0;34m=\u001b[0m \u001b[0mtime\u001b[0m\u001b[0;34m.\u001b[0m\u001b[0mtime\u001b[0m\u001b[0;34m(\u001b[0m\u001b[0;34m)\u001b[0m \u001b[0;34m-\u001b[0m \u001b[0mself\u001b[0m\u001b[0;34m.\u001b[0m\u001b[0m_start_time\u001b[0m\u001b[0;34m\u001b[0m\u001b[0;34m\u001b[0m\u001b[0m\n",
      "\u001b[0;32m~/anaconda3/envs/Datascientist/lib/python3.7/site-packages/sklearn/externals/joblib/parallel.py\u001b[0m in \u001b[0;36mretrieve\u001b[0;34m(self)\u001b[0m\n\u001b[1;32m    697\u001b[0m             \u001b[0;32mtry\u001b[0m\u001b[0;34m:\u001b[0m\u001b[0;34m\u001b[0m\u001b[0;34m\u001b[0m\u001b[0m\n\u001b[1;32m    698\u001b[0m                 \u001b[0;32mif\u001b[0m \u001b[0mgetattr\u001b[0m\u001b[0;34m(\u001b[0m\u001b[0mself\u001b[0m\u001b[0;34m.\u001b[0m\u001b[0m_backend\u001b[0m\u001b[0;34m,\u001b[0m \u001b[0;34m'supports_timeout'\u001b[0m\u001b[0;34m,\u001b[0m \u001b[0;32mFalse\u001b[0m\u001b[0;34m)\u001b[0m\u001b[0;34m:\u001b[0m\u001b[0;34m\u001b[0m\u001b[0;34m\u001b[0m\u001b[0m\n\u001b[0;32m--> 699\u001b[0;31m                     \u001b[0mself\u001b[0m\u001b[0;34m.\u001b[0m\u001b[0m_output\u001b[0m\u001b[0;34m.\u001b[0m\u001b[0mextend\u001b[0m\u001b[0;34m(\u001b[0m\u001b[0mjob\u001b[0m\u001b[0;34m.\u001b[0m\u001b[0mget\u001b[0m\u001b[0;34m(\u001b[0m\u001b[0mtimeout\u001b[0m\u001b[0;34m=\u001b[0m\u001b[0mself\u001b[0m\u001b[0;34m.\u001b[0m\u001b[0mtimeout\u001b[0m\u001b[0;34m)\u001b[0m\u001b[0;34m)\u001b[0m\u001b[0;34m\u001b[0m\u001b[0;34m\u001b[0m\u001b[0m\n\u001b[0m\u001b[1;32m    700\u001b[0m                 \u001b[0;32melse\u001b[0m\u001b[0;34m:\u001b[0m\u001b[0;34m\u001b[0m\u001b[0;34m\u001b[0m\u001b[0m\n\u001b[1;32m    701\u001b[0m                     \u001b[0mself\u001b[0m\u001b[0;34m.\u001b[0m\u001b[0m_output\u001b[0m\u001b[0;34m.\u001b[0m\u001b[0mextend\u001b[0m\u001b[0;34m(\u001b[0m\u001b[0mjob\u001b[0m\u001b[0;34m.\u001b[0m\u001b[0mget\u001b[0m\u001b[0;34m(\u001b[0m\u001b[0;34m)\u001b[0m\u001b[0;34m)\u001b[0m\u001b[0;34m\u001b[0m\u001b[0;34m\u001b[0m\u001b[0m\n",
      "\u001b[0;32m~/anaconda3/envs/Datascientist/lib/python3.7/multiprocessing/pool.py\u001b[0m in \u001b[0;36mget\u001b[0;34m(self, timeout)\u001b[0m\n\u001b[1;32m    675\u001b[0m \u001b[0;34m\u001b[0m\u001b[0m\n\u001b[1;32m    676\u001b[0m     \u001b[0;32mdef\u001b[0m \u001b[0mget\u001b[0m\u001b[0;34m(\u001b[0m\u001b[0mself\u001b[0m\u001b[0;34m,\u001b[0m \u001b[0mtimeout\u001b[0m\u001b[0;34m=\u001b[0m\u001b[0;32mNone\u001b[0m\u001b[0;34m)\u001b[0m\u001b[0;34m:\u001b[0m\u001b[0;34m\u001b[0m\u001b[0;34m\u001b[0m\u001b[0m\n\u001b[0;32m--> 677\u001b[0;31m         \u001b[0mself\u001b[0m\u001b[0;34m.\u001b[0m\u001b[0mwait\u001b[0m\u001b[0;34m(\u001b[0m\u001b[0mtimeout\u001b[0m\u001b[0;34m)\u001b[0m\u001b[0;34m\u001b[0m\u001b[0;34m\u001b[0m\u001b[0m\n\u001b[0m\u001b[1;32m    678\u001b[0m         \u001b[0;32mif\u001b[0m \u001b[0;32mnot\u001b[0m \u001b[0mself\u001b[0m\u001b[0;34m.\u001b[0m\u001b[0mready\u001b[0m\u001b[0;34m(\u001b[0m\u001b[0;34m)\u001b[0m\u001b[0;34m:\u001b[0m\u001b[0;34m\u001b[0m\u001b[0;34m\u001b[0m\u001b[0m\n\u001b[1;32m    679\u001b[0m             \u001b[0;32mraise\u001b[0m \u001b[0mTimeoutError\u001b[0m\u001b[0;34m\u001b[0m\u001b[0;34m\u001b[0m\u001b[0m\n",
      "\u001b[0;32m~/anaconda3/envs/Datascientist/lib/python3.7/multiprocessing/pool.py\u001b[0m in \u001b[0;36mwait\u001b[0;34m(self, timeout)\u001b[0m\n\u001b[1;32m    672\u001b[0m \u001b[0;34m\u001b[0m\u001b[0m\n\u001b[1;32m    673\u001b[0m     \u001b[0;32mdef\u001b[0m \u001b[0mwait\u001b[0m\u001b[0;34m(\u001b[0m\u001b[0mself\u001b[0m\u001b[0;34m,\u001b[0m \u001b[0mtimeout\u001b[0m\u001b[0;34m=\u001b[0m\u001b[0;32mNone\u001b[0m\u001b[0;34m)\u001b[0m\u001b[0;34m:\u001b[0m\u001b[0;34m\u001b[0m\u001b[0;34m\u001b[0m\u001b[0m\n\u001b[0;32m--> 674\u001b[0;31m         \u001b[0mself\u001b[0m\u001b[0;34m.\u001b[0m\u001b[0m_event\u001b[0m\u001b[0;34m.\u001b[0m\u001b[0mwait\u001b[0m\u001b[0;34m(\u001b[0m\u001b[0mtimeout\u001b[0m\u001b[0;34m)\u001b[0m\u001b[0;34m\u001b[0m\u001b[0;34m\u001b[0m\u001b[0m\n\u001b[0m\u001b[1;32m    675\u001b[0m \u001b[0;34m\u001b[0m\u001b[0m\n\u001b[1;32m    676\u001b[0m     \u001b[0;32mdef\u001b[0m \u001b[0mget\u001b[0m\u001b[0;34m(\u001b[0m\u001b[0mself\u001b[0m\u001b[0;34m,\u001b[0m \u001b[0mtimeout\u001b[0m\u001b[0;34m=\u001b[0m\u001b[0;32mNone\u001b[0m\u001b[0;34m)\u001b[0m\u001b[0;34m:\u001b[0m\u001b[0;34m\u001b[0m\u001b[0;34m\u001b[0m\u001b[0m\n",
      "\u001b[0;32m~/anaconda3/envs/Datascientist/lib/python3.7/threading.py\u001b[0m in \u001b[0;36mwait\u001b[0;34m(self, timeout)\u001b[0m\n\u001b[1;32m    550\u001b[0m             \u001b[0msignaled\u001b[0m \u001b[0;34m=\u001b[0m \u001b[0mself\u001b[0m\u001b[0;34m.\u001b[0m\u001b[0m_flag\u001b[0m\u001b[0;34m\u001b[0m\u001b[0;34m\u001b[0m\u001b[0m\n\u001b[1;32m    551\u001b[0m             \u001b[0;32mif\u001b[0m \u001b[0;32mnot\u001b[0m \u001b[0msignaled\u001b[0m\u001b[0;34m:\u001b[0m\u001b[0;34m\u001b[0m\u001b[0;34m\u001b[0m\u001b[0m\n\u001b[0;32m--> 552\u001b[0;31m                 \u001b[0msignaled\u001b[0m \u001b[0;34m=\u001b[0m \u001b[0mself\u001b[0m\u001b[0;34m.\u001b[0m\u001b[0m_cond\u001b[0m\u001b[0;34m.\u001b[0m\u001b[0mwait\u001b[0m\u001b[0;34m(\u001b[0m\u001b[0mtimeout\u001b[0m\u001b[0;34m)\u001b[0m\u001b[0;34m\u001b[0m\u001b[0;34m\u001b[0m\u001b[0m\n\u001b[0m\u001b[1;32m    553\u001b[0m             \u001b[0;32mreturn\u001b[0m \u001b[0msignaled\u001b[0m\u001b[0;34m\u001b[0m\u001b[0;34m\u001b[0m\u001b[0m\n\u001b[1;32m    554\u001b[0m \u001b[0;34m\u001b[0m\u001b[0m\n",
      "\u001b[0;32m~/anaconda3/envs/Datascientist/lib/python3.7/threading.py\u001b[0m in \u001b[0;36mwait\u001b[0;34m(self, timeout)\u001b[0m\n\u001b[1;32m    294\u001b[0m         \u001b[0;32mtry\u001b[0m\u001b[0;34m:\u001b[0m    \u001b[0;31m# restore state no matter what (e.g., KeyboardInterrupt)\u001b[0m\u001b[0;34m\u001b[0m\u001b[0;34m\u001b[0m\u001b[0m\n\u001b[1;32m    295\u001b[0m             \u001b[0;32mif\u001b[0m \u001b[0mtimeout\u001b[0m \u001b[0;32mis\u001b[0m \u001b[0;32mNone\u001b[0m\u001b[0;34m:\u001b[0m\u001b[0;34m\u001b[0m\u001b[0;34m\u001b[0m\u001b[0m\n\u001b[0;32m--> 296\u001b[0;31m                 \u001b[0mwaiter\u001b[0m\u001b[0;34m.\u001b[0m\u001b[0macquire\u001b[0m\u001b[0;34m(\u001b[0m\u001b[0;34m)\u001b[0m\u001b[0;34m\u001b[0m\u001b[0;34m\u001b[0m\u001b[0m\n\u001b[0m\u001b[1;32m    297\u001b[0m                 \u001b[0mgotit\u001b[0m \u001b[0;34m=\u001b[0m \u001b[0;32mTrue\u001b[0m\u001b[0;34m\u001b[0m\u001b[0;34m\u001b[0m\u001b[0m\n\u001b[1;32m    298\u001b[0m             \u001b[0;32melse\u001b[0m\u001b[0;34m:\u001b[0m\u001b[0;34m\u001b[0m\u001b[0;34m\u001b[0m\u001b[0m\n",
      "\u001b[0;31mKeyboardInterrupt\u001b[0m: "
     ]
    }
   ],
   "source": [
    "resultados[\"rf_randomizedsearch\"] = evaluar_modelo(grid.best_estimator_, censo_X_procesado, censo_y)"
   ]
  },
  {
   "cell_type": "markdown",
   "metadata": {},
   "source": [
    "Una ventaja del Randomized Search es que nos permite evaluar un espacio de hiperparámetros más amplio para un tiempo de computación similar."
   ]
  },
  {
   "cell_type": "markdown",
   "metadata": {},
   "source": [
    "Para ver esto vamos a ampliar el espacio de búsqueda de hiperparámetros y hacer 100 muestreos."
   ]
  },
  {
   "cell_type": "code",
   "execution_count": 40,
   "metadata": {
    "collapsed": true
   },
   "outputs": [],
   "source": [
    "from scipy.stats import randint as sp_randint\n",
    "\n",
    "param_dist_random = {\n",
    "    \"max_depth\": [3, None],\n",
    "    \"max_features\": sp_randint(1, 11),\n",
    "    \"min_samples_split\": sp_randint(2, 11),\n",
    "    \"min_samples_leaf\": sp_randint(1, 11),\n",
    "    \"bootstrap\": [True, False],\n",
    "    \"criterion\": [\"gini\", \"entropy\"],\n",
    "    \"n_estimators\": np.linspace(10,1000,10).astype(int),\n",
    "}"
   ]
  },
  {
   "cell_type": "code",
   "execution_count": 41,
   "metadata": {
    "collapsed": true
   },
   "outputs": [],
   "source": [
    "busqueda_random_100 = RandomizedSearchCV(estimator=estimador_rf, \n",
    "                    param_distributions=param_dist_random,\n",
    "                   scoring=\"roc_auc\", n_jobs=-1, n_iter=100)"
   ]
  },
  {
   "cell_type": "code",
   "execution_count": 109,
   "metadata": {},
   "outputs": [
    {
     "name": "stdout",
     "output_type": "stream",
     "text": [
      "14min 55s ± 0 ns per loop (mean ± std. dev. of 1 run, 1 loop each)\n"
     ]
    }
   ],
   "source": [
    "%%timeit -n 1 -r 1\n",
    "busqueda_random_100.fit(censo_X_procesado, censo_y)"
   ]
  },
  {
   "cell_type": "markdown",
   "metadata": {},
   "source": [
    "En mi máquina esta búsqueda ha tardado 8 minutos 54 segundos, un poco más que el grid search"
   ]
  },
  {
   "cell_type": "code",
   "execution_count": 61,
   "metadata": {},
   "outputs": [
    {
     "ename": "NameError",
     "evalue": "name 'busqueda_random_100' is not defined",
     "output_type": "error",
     "traceback": [
      "\u001b[0;31m---------------------------------------------------------------------------\u001b[0m",
      "\u001b[0;31mNameError\u001b[0m                                 Traceback (most recent call last)",
      "\u001b[0;32m<ipython-input-61-385fc70de736>\u001b[0m in \u001b[0;36m<module>\u001b[0;34m\u001b[0m\n\u001b[0;32m----> 1\u001b[0;31m \u001b[0mprint\u001b[0m\u001b[0;34m(\u001b[0m\u001b[0mbusqueda_random_100\u001b[0m\u001b[0;34m.\u001b[0m\u001b[0mbest_score_\u001b[0m\u001b[0;34m)\u001b[0m\u001b[0;34m\u001b[0m\u001b[0;34m\u001b[0m\u001b[0m\n\u001b[0m\u001b[1;32m      2\u001b[0m \u001b[0mprint\u001b[0m\u001b[0;34m(\u001b[0m\u001b[0mbusqueda_random_100\u001b[0m\u001b[0;34m.\u001b[0m\u001b[0mbest_estimator_\u001b[0m\u001b[0;34m)\u001b[0m\u001b[0;34m\u001b[0m\u001b[0;34m\u001b[0m\u001b[0m\n",
      "\u001b[0;31mNameError\u001b[0m: name 'busqueda_random_100' is not defined"
     ]
    }
   ],
   "source": [
    "print(busqueda_random_100.best_score_)\n",
    "print(busqueda_random_100.best_estimator_)"
   ]
  },
  {
   "cell_type": "markdown",
   "metadata": {
    "collapsed": true
   },
   "source": [
    "La búsqueda aleatoria con los nuevos parámetros ha tardado un tiempo similar a la busqueda en malla, pero ha obtenido una puntuación máxima ROC AUC de 0.91950285418 (versus 0.89726431782 de la busqueda en malla)"
   ]
  },
  {
   "cell_type": "code",
   "execution_count": 110,
   "metadata": {
    "collapsed": true
   },
   "outputs": [],
   "source": [
    "resultados[\"rf_randomizedsearch_100\"] = evaluar_modelo(busqueda_random_100.best_estimator_,\n",
    "                                                      censo_X_procesado, censo_y)"
   ]
  },
  {
   "cell_type": "markdown",
   "metadata": {},
   "source": [
    "Vemos que el estimador obtenido con la búsqueda aleatoria es el que mejor funciona.\n",
    "\n",
    "En general, salvo que el espacio de hiperparámetros que queramos explorar sea pequeño, es mejor el utilizar `RandomizedSearchCV` en vez de `GridSearchCV`. Esto es así por que en general no existe un unico conjunto de hiperparámetros que obtiene el mejor funcionamiento, sino que suelen existir multiples \"areas\" en el espacio dimensional de los hiperparámetros que funcionan de forma similar. Al hacer una búsqueda aleatoria podemos explorar las diversas areas en un tiempo más reducido."
   ]
  },
  {
   "cell_type": "markdown",
   "metadata": {},
   "source": [
    "# Optimización de parámetros dentro de un Pipeline"
   ]
  },
  {
   "cell_type": "markdown",
   "metadata": {},
   "source": [
    "Los algoritmos de busqueda de sklearn siguen la API de transformadores y estimadores. Esto significa que podemos crear un pipeline e incluir la optimización de hiperparámetros dentro."
   ]
  },
  {
   "cell_type": "code",
   "execution_count": 43,
   "metadata": {
    "collapsed": true
   },
   "outputs": [],
   "source": [
    "busqueda_random_10 = RandomizedSearchCV(estimator=estimador_rf, \n",
    "                    param_distributions=param_dist_random,\n",
    "                   scoring=\"roc_auc\", n_jobs=-1, n_iter=10)\n",
    "\n",
    "pipeline_estimador = Pipeline(\n",
    "    [\n",
    "     (\"procesado\", pipeline_procesado),\n",
    "     (\"estimador\", busqueda_random_10)   \n",
    "    ])"
   ]
  },
  {
   "cell_type": "markdown",
   "metadata": {},
   "source": [
    "Ahora podemos ajustar directamente en los datos originales sin tener que preprocesarlos."
   ]
  },
  {
   "cell_type": "code",
   "execution_count": 104,
   "metadata": {},
   "outputs": [
    {
     "data": {
      "text/plain": [
       "Pipeline(memory=None,\n",
       "     steps=[('procesado', FeatureUnion(n_jobs=1,\n",
       "       transformer_list=[('transformacion_numericas', Pipeline(memory=None,\n",
       "     steps=[('selector_numerico', <__main__.ColumnExtractor object at 0x7f0962060dd8>), ('imputador', Imputer(axis=0, copy=True, missing_values='NaN', strategy='mean', verbose=0)),...', random_state=None, refit=True,\n",
       "          return_train_score=True, scoring='roc_auc', verbose=0))])"
      ]
     },
     "execution_count": 104,
     "metadata": {},
     "output_type": "execute_result"
    }
   ],
   "source": [
    "pipeline_estimador.fit(censo_X, censo_y)"
   ]
  },
  {
   "cell_type": "code",
   "execution_count": 107,
   "metadata": {},
   "outputs": [
    {
     "data": {
      "text/plain": [
       "array([0, 0, 0, ..., 0, 0, 1])"
      ]
     },
     "execution_count": 107,
     "metadata": {},
     "output_type": "execute_result"
    }
   ],
   "source": [
    "pipeline_estimador.predict(censo_X)"
   ]
  },
  {
   "cell_type": "markdown",
   "metadata": {},
   "source": [
    "Hay varias librerias externas que permiten hacer optimización de parámetros de forma más flexible y/o compleja que las implementaciones que soporta scikit-learn por defecto."
   ]
  },
  {
   "cell_type": "markdown",
   "metadata": {},
   "source": [
    "\n",
    "# Scikit-optimize [(link)](https://scikit-optimize.github.io/)\n",
    "\n",
    "Scikit-Optimize, o skopt, es una librería que implementa multiples metodos para optimizar hiperparámetros de forma secuencial.\n",
    "\n",
    "Se instala con:\n",
    "\n",
    "`{sys.executable} -m pip install scikit-optimize` (existe una version en conda-forge pero solo de una version antigua)"
   ]
  },
  {
   "cell_type": "markdown",
   "metadata": {},
   "source": [
    "La api de scikit-optimize no es tan similar a la de sklearn como seria posible, no obstante es muy facil de usar. Permite usar diversos algoritmos para ayudar al proceso de optimización, por ejemplo procesos gausianos o Bosques aleatorios"
   ]
  },
  {
   "cell_type": "code",
   "execution_count": 46,
   "metadata": {
    "collapsed": true
   },
   "outputs": [],
   "source": [
    "import skopt"
   ]
  },
  {
   "cell_type": "code",
   "execution_count": 47,
   "metadata": {},
   "outputs": [
    {
     "data": {
      "text/plain": [
       "'0.4'"
      ]
     },
     "execution_count": 47,
     "metadata": {},
     "output_type": "execute_result"
    }
   ],
   "source": [
    "skopt.__version__"
   ]
  },
  {
   "cell_type": "code",
   "execution_count": 48,
   "metadata": {
    "collapsed": true
   },
   "outputs": [],
   "source": [
    "from skopt import gp_minimize "
   ]
  },
  {
   "cell_type": "markdown",
   "metadata": {},
   "source": [
    "En vez de usar un diccionario con el espacio de hiperparámetros que queremos buscar, scikit-optimize necesita pasarle una lista de parámetros.\n",
    "\n",
    "skopt es una libreria relativamente nueva, y tiene ciertas limitaciones comparada con scikitlearn. Por ejemplo, en vez de diccionarios con los nombres de los parámetros,  espera como inputs listas, no se pueden usar funciones de distribuciones (como scipy.randint)."
   ]
  },
  {
   "cell_type": "code",
   "execution_count": 128,
   "metadata": {
    "collapsed": true
   },
   "outputs": [],
   "source": [
    "from skopt import space\n",
    "\n",
    "param_espacio_skopt = [\n",
    "    space.Integer(3, 10), #max_depth\n",
    "    space.Integer(1, 11), #max_features\n",
    "    (0.001, 0.99, \"uniform\"), #min_samples_split\n",
    "    (0.001, 0.5, \"uniform\"), #min_samples_leaf\n",
    "    space.Integer(1, 1000), #n_estimators\n",
    "    space.Categorical([\"gini\", \"entropy\"]), #criterion,\n",
    "    space.Categorical([True, False]), #bootstrap\n",
    "]"
   ]
  },
  {
   "cell_type": "markdown",
   "metadata": {},
   "source": [
    "Scikit-optimize necesita que definamos la funcion objetivo, que ira variando en funcion de los parámetros elegidos. Dicha función tiene que crear el estimador y evaluarlo y devolver la evaluación."
   ]
  },
  {
   "cell_type": "code",
   "execution_count": 129,
   "metadata": {
    "collapsed": true
   },
   "outputs": [],
   "source": [
    "from sklearn.model_selection import cross_val_score\n",
    "\n",
    "estimador_rf = RandomForestClassifier()\n",
    "\n",
    "def funcion_optimizable(params):\n",
    "    #params es simplemente una selección especifica de hiperparámetros\n",
    "    max_depth, max_features, min_samples_split, min_samples_leaf,  n_estimators, criterion, bootstrap = params\n",
    "\n",
    "    estimador_rf.set_params(\n",
    "                   max_depth=max_depth,\n",
    "                   max_features=max_features,\n",
    "                   min_samples_split=min_samples_split, \n",
    "                   min_samples_leaf=min_samples_leaf,\n",
    "                   n_estimators=n_estimators,\n",
    "                   criterion=criterion\n",
    "                  )\n",
    "\n",
    "    return -np.mean(cross_val_score(estimador_rf, censo_X_procesado, censo_y, cv=5, n_jobs=-1,\n",
    "                                    scoring=\"roc_auc\"))"
   ]
  },
  {
   "cell_type": "markdown",
   "metadata": {},
   "source": [
    "Ahora podemos dejar que skopt optimize los outputs de la funcion `funcion_optimizable` mediante el uso de `gp_minimize`"
   ]
  },
  {
   "cell_type": "code",
   "execution_count": 130,
   "metadata": {},
   "outputs": [
    {
     "name": "stderr",
     "output_type": "stream",
     "text": [
      "/home/manuel/anaconda3/envs/data/lib/python3.6/site-packages/skopt/optimizer/optimizer.py:366: UserWarning: The objective has been evaluated at this point before.\n",
      "  warnings.warn(\"The objective has been evaluated \"\n",
      "/home/manuel/anaconda3/envs/data/lib/python3.6/site-packages/skopt/optimizer/optimizer.py:366: UserWarning: The objective has been evaluated at this point before.\n",
      "  warnings.warn(\"The objective has been evaluated \"\n",
      "/home/manuel/anaconda3/envs/data/lib/python3.6/site-packages/skopt/optimizer/optimizer.py:366: UserWarning: The objective has been evaluated at this point before.\n",
      "  warnings.warn(\"The objective has been evaluated \"\n",
      "/home/manuel/anaconda3/envs/data/lib/python3.6/site-packages/skopt/optimizer/optimizer.py:366: UserWarning: The objective has been evaluated at this point before.\n",
      "  warnings.warn(\"The objective has been evaluated \"\n"
     ]
    },
    {
     "name": "stdout",
     "output_type": "stream",
     "text": [
      "25min 31s ± 0 ns per loop (mean ± std. dev. of 1 run, 1 loop each)\n"
     ]
    }
   ],
   "source": [
    "%%timeit -n 1 -r 1\n",
    "resultado_gp = gp_minimize(funcion_optimizable, param_espacio_skopt, n_calls=100, random_state=42)"
   ]
  },
  {
   "cell_type": "markdown",
   "metadata": {},
   "source": [
    "este proceso ha tardado 25 minutos en mi maquina"
   ]
  },
  {
   "cell_type": "markdown",
   "metadata": {},
   "source": [
    "El parámetro `x` nos da el vector con los parámetros con mejor funcionamiento"
   ]
  },
  {
   "cell_type": "code",
   "execution_count": 134,
   "metadata": {},
   "outputs": [
    {
     "data": {
      "text/plain": [
       "[7, 10, 2, 3, 46, 'gini']"
      ]
     },
     "execution_count": 134,
     "metadata": {},
     "output_type": "execute_result"
    }
   ],
   "source": [
    "resultado_gp.x"
   ]
  },
  {
   "cell_type": "code",
   "execution_count": 132,
   "metadata": {
    "collapsed": true
   },
   "outputs": [],
   "source": [
    "estimador_skopt_gp_100 = RandomForestClassifier(\n",
    "    max_depth=resultado_gp.x[0],\n",
    "    max_features=resultado_gp.x[1],\n",
    "    min_samples_split=resultado_gp.x[2], \n",
    "    min_samples_leaf=resultado_gp.x[3],\n",
    "    n_estimators=resultado_gp.x[4],\n",
    "    criterion=resultado_gp.x[5]\n",
    ")"
   ]
  },
  {
   "cell_type": "code",
   "execution_count": 133,
   "metadata": {
    "collapsed": true
   },
   "outputs": [],
   "source": [
    "resultados[\"rf_skopt_gp_100\"] = evaluar_modelo(estimador_skopt_gp_100, censo_X_procesado, censo_y)"
   ]
  },
  {
   "cell_type": "markdown",
   "metadata": {},
   "source": [
    "skopt (version >0.4) tambien tiene una implementacion de `BayesSearchCV`, que es un reemplazo de GridSearchCV pero que usa optimización bayesiana (en vez de probar todas las posibilidades)."
   ]
  },
  {
   "cell_type": "code",
   "execution_count": 94,
   "metadata": {
    "collapsed": true
   },
   "outputs": [],
   "source": [
    "from skopt import BayesSearchCV \n",
    "\n",
    "param_espacio_skopt_bayesCV = {\n",
    "     \"max_depth\": space.Integer(3, 10), #\n",
    "    \"max_features\": space.Integer(1, 11), #\n",
    "    \"min_samples_split\": space.Real(0.001, 0.99, \"uniform\"), #\n",
    "    \"min_samples_leaf\": space.Real(0.001, 0.5, \"uniform\"), #\n",
    "    \"n_estimators\": space.Integer(1, 1000), #\n",
    "    \"criterion\": space.Categorical([\"gini\", \"entropy\"]),\n",
    "    \"boostrap\": space.Categorical([True, False])\n",
    "}\n",
    "\n",
    "busqueda_bayesiano_skopt_100 = BayesSearchCV(\n",
    "    estimator=estimador_rf, \n",
    "    search_spaces=param_espacio_skopt_bayesCV,\n",
    "    scoring=\"roc_auc\", n_jobs=-1, n_iter=100,\n",
    "    random_state=42\n",
    ")"
   ]
  },
  {
   "cell_type": "code",
   "execution_count": 95,
   "metadata": {},
   "outputs": [
    {
     "name": "stdout",
     "output_type": "stream",
     "text": [
      "10min 39s ± 0 ns per loop (mean ± std. dev. of 1 run, 1 loop each)\n"
     ]
    }
   ],
   "source": [
    "%%timeit -n 1 -r 1\n",
    "busqueda_bayesiano_skopt_100.fit(censo_X_procesado, censo_y)"
   ]
  },
  {
   "cell_type": "code",
   "execution_count": 106,
   "metadata": {},
   "outputs": [
    {
     "data": {
      "text/plain": [
       "{'bootstrap': True,\n",
       " 'class_weight': None,\n",
       " 'criterion': 'entropy',\n",
       " 'max_depth': 10,\n",
       " 'max_features': 11,\n",
       " 'max_leaf_nodes': None,\n",
       " 'min_impurity_decrease': 0.0,\n",
       " 'min_impurity_split': None,\n",
       " 'min_samples_leaf': 0.001,\n",
       " 'min_samples_split': 0.001,\n",
       " 'min_weight_fraction_leaf': 0.0,\n",
       " 'n_estimators': 212,\n",
       " 'n_jobs': 1,\n",
       " 'oob_score': False,\n",
       " 'random_state': None,\n",
       " 'verbose': 0,\n",
       " 'warm_start': False}"
      ]
     },
     "execution_count": 106,
     "metadata": {},
     "output_type": "execute_result"
    }
   ],
   "source": [
    "busqueda_bayesiano_skopt_100.best_estimator_.get_params()"
   ]
  },
  {
   "cell_type": "code",
   "execution_count": 98,
   "metadata": {
    "collapsed": true
   },
   "outputs": [],
   "source": [
    "resultados[\"rf_bayesiano_skopt_100\"] = evaluar_modelo(busqueda_bayesiano_skopt_100.best_estimator_,\n",
    "                                                      censo_X_procesado, censo_y)"
   ]
  },
  {
   "cell_type": "code",
   "execution_count": 135,
   "metadata": {},
   "outputs": [
    {
     "data": {
      "text/html": [
       "<div>\n",
       "<style>\n",
       "    .dataframe thead tr:only-child th {\n",
       "        text-align: right;\n",
       "    }\n",
       "\n",
       "    .dataframe thead th {\n",
       "        text-align: left;\n",
       "    }\n",
       "\n",
       "    .dataframe tbody tr th {\n",
       "        vertical-align: top;\n",
       "    }\n",
       "</style>\n",
       "<table border=\"1\" class=\"dataframe\">\n",
       "  <thead>\n",
       "    <tr style=\"text-align: right;\">\n",
       "      <th></th>\n",
       "      <th>fit_time</th>\n",
       "      <th>score_time</th>\n",
       "      <th>test_score</th>\n",
       "      <th>train_score</th>\n",
       "      <th>fit_time_idx</th>\n",
       "      <th>score_time_idx</th>\n",
       "      <th>test_score_idx</th>\n",
       "      <th>train_score_idx</th>\n",
       "    </tr>\n",
       "  </thead>\n",
       "  <tbody>\n",
       "    <tr>\n",
       "      <th>naive_bayes</th>\n",
       "      <td>0.066678</td>\n",
       "      <td>0.014363</td>\n",
       "      <td>0.781202</td>\n",
       "      <td>0.783341</td>\n",
       "      <td>0.001043</td>\n",
       "      <td>0.010738</td>\n",
       "      <td>0.849714</td>\n",
       "      <td>0.786865</td>\n",
       "    </tr>\n",
       "    <tr>\n",
       "      <th>reg_logistica</th>\n",
       "      <td>0.460645</td>\n",
       "      <td>0.018298</td>\n",
       "      <td>0.906715</td>\n",
       "      <td>0.908326</td>\n",
       "      <td>0.007205</td>\n",
       "      <td>0.013680</td>\n",
       "      <td>0.986234</td>\n",
       "      <td>0.912413</td>\n",
       "    </tr>\n",
       "    <tr>\n",
       "      <th>rf</th>\n",
       "      <td>0.395003</td>\n",
       "      <td>0.017742</td>\n",
       "      <td>0.874312</td>\n",
       "      <td>0.995521</td>\n",
       "      <td>0.006179</td>\n",
       "      <td>0.013264</td>\n",
       "      <td>0.950989</td>\n",
       "      <td>1.000000</td>\n",
       "    </tr>\n",
       "    <tr>\n",
       "      <th>rf_bayesiano_skopt_100</th>\n",
       "      <td>7.136472</td>\n",
       "      <td>0.193855</td>\n",
       "      <td>0.910383</td>\n",
       "      <td>0.914396</td>\n",
       "      <td>0.111627</td>\n",
       "      <td>0.144932</td>\n",
       "      <td>0.990223</td>\n",
       "      <td>0.918510</td>\n",
       "    </tr>\n",
       "    <tr>\n",
       "      <th>rf_gridsearch</th>\n",
       "      <td>3.986320</td>\n",
       "      <td>0.236890</td>\n",
       "      <td>0.848783</td>\n",
       "      <td>0.849026</td>\n",
       "      <td>0.062353</td>\n",
       "      <td>0.177107</td>\n",
       "      <td>0.923221</td>\n",
       "      <td>0.852846</td>\n",
       "    </tr>\n",
       "    <tr>\n",
       "      <th>rf_randomizedsearch</th>\n",
       "      <td>4.077757</td>\n",
       "      <td>0.253586</td>\n",
       "      <td>0.854896</td>\n",
       "      <td>0.855122</td>\n",
       "      <td>0.063783</td>\n",
       "      <td>0.189589</td>\n",
       "      <td>0.929870</td>\n",
       "      <td>0.858970</td>\n",
       "    </tr>\n",
       "    <tr>\n",
       "      <th>rf_randomizedsearch_100</th>\n",
       "      <td>63.931399</td>\n",
       "      <td>1.337555</td>\n",
       "      <td>0.919371</td>\n",
       "      <td>0.958161</td>\n",
       "      <td>1.000000</td>\n",
       "      <td>1.000000</td>\n",
       "      <td>1.000000</td>\n",
       "      <td>0.962472</td>\n",
       "    </tr>\n",
       "    <tr>\n",
       "      <th>rf_skopt_gp_100</th>\n",
       "      <td>1.557633</td>\n",
       "      <td>0.057794</td>\n",
       "      <td>0.906729</td>\n",
       "      <td>0.910607</td>\n",
       "      <td>0.024364</td>\n",
       "      <td>0.043208</td>\n",
       "      <td>0.986249</td>\n",
       "      <td>0.914704</td>\n",
       "    </tr>\n",
       "  </tbody>\n",
       "</table>\n",
       "</div>"
      ],
      "text/plain": [
       "                          fit_time  score_time  test_score  train_score  \\\n",
       "naive_bayes               0.066678    0.014363    0.781202     0.783341   \n",
       "reg_logistica             0.460645    0.018298    0.906715     0.908326   \n",
       "rf                        0.395003    0.017742    0.874312     0.995521   \n",
       "rf_bayesiano_skopt_100    7.136472    0.193855    0.910383     0.914396   \n",
       "rf_gridsearch             3.986320    0.236890    0.848783     0.849026   \n",
       "rf_randomizedsearch       4.077757    0.253586    0.854896     0.855122   \n",
       "rf_randomizedsearch_100  63.931399    1.337555    0.919371     0.958161   \n",
       "rf_skopt_gp_100           1.557633    0.057794    0.906729     0.910607   \n",
       "\n",
       "                         fit_time_idx  score_time_idx  test_score_idx  \\\n",
       "naive_bayes                  0.001043        0.010738        0.849714   \n",
       "reg_logistica                0.007205        0.013680        0.986234   \n",
       "rf                           0.006179        0.013264        0.950989   \n",
       "rf_bayesiano_skopt_100       0.111627        0.144932        0.990223   \n",
       "rf_gridsearch                0.062353        0.177107        0.923221   \n",
       "rf_randomizedsearch          0.063783        0.189589        0.929870   \n",
       "rf_randomizedsearch_100      1.000000        1.000000        1.000000   \n",
       "rf_skopt_gp_100              0.024364        0.043208        0.986249   \n",
       "\n",
       "                         train_score_idx  \n",
       "naive_bayes                     0.786865  \n",
       "reg_logistica                   0.912413  \n",
       "rf                              1.000000  \n",
       "rf_bayesiano_skopt_100          0.918510  \n",
       "rf_gridsearch                   0.852846  \n",
       "rf_randomizedsearch             0.858970  \n",
       "rf_randomizedsearch_100         0.962472  \n",
       "rf_skopt_gp_100                 0.914704  "
      ]
     },
     "execution_count": 135,
     "metadata": {},
     "output_type": "execute_result"
    }
   ],
   "source": [
    "ver_resultados()"
   ]
  },
  {
   "cell_type": "markdown",
   "metadata": {},
   "source": [
    "### Hyperopt-sklearn [(link)](https://github.com/hyperopt/hyperopt-sklearn)\n",
    "\n",
    "Hyperopt-sklearn es una implementación de Hyperopt, que es la librería más famosa para optimización de hiperparámetros) pero preparado para funcionar con scikit-learn"
   ]
  },
  {
   "cell_type": "code",
   "execution_count": 139,
   "metadata": {},
   "outputs": [
    {
     "name": "stdout",
     "output_type": "stream",
     "text": [
      "Collecting git+https://github.com/hyperopt/hyperopt-sklearn.git\n",
      "  Cloning https://github.com/hyperopt/hyperopt-sklearn.git to /tmp/pip-hw66qmw5-build\n",
      "Collecting hyperopt (from hpsklearn==0.0.3)\n",
      "  Downloading hyperopt-0.1.tar.gz (98kB)\n",
      "\u001b[K    100% |████████████████████████████████| 102kB 1.1MB/s a 0:00:01\n",
      "\u001b[?25hCollecting nose (from hpsklearn==0.0.3)\n",
      "  Using cached nose-1.3.7-py3-none-any.whl\n",
      "Requirement already satisfied: numpy in /home/manuel/anaconda3/envs/data/lib/python3.6/site-packages (from hpsklearn==0.0.3)\n",
      "Requirement already satisfied: scikit-learn in /home/manuel/anaconda3/envs/data/lib/python3.6/site-packages (from hpsklearn==0.0.3)\n",
      "Requirement already satisfied: scipy in /home/manuel/anaconda3/envs/data/lib/python3.6/site-packages (from hpsklearn==0.0.3)\n",
      "Collecting pymongo (from hyperopt->hpsklearn==0.0.3)\n",
      "  Downloading pymongo-3.6.0-cp36-cp36m-manylinux1_x86_64.whl (378kB)\n",
      "\u001b[K    100% |████████████████████████████████| 378kB 1.7MB/s ta 0:00:01\n",
      "\u001b[?25hRequirement already satisfied: six in /home/manuel/anaconda3/envs/data/lib/python3.6/site-packages (from hyperopt->hpsklearn==0.0.3)\n",
      "Collecting networkx (from hyperopt->hpsklearn==0.0.3)\n",
      "  Downloading networkx-2.0.zip (1.5MB)\n",
      "\u001b[K    100% |████████████████████████████████| 1.6MB 542kB/s eta 0:00:01\n",
      "\u001b[?25hRequirement already satisfied: future in /home/manuel/anaconda3/envs/data/lib/python3.6/site-packages (from hyperopt->hpsklearn==0.0.3)\n",
      "Collecting decorator>=4.1.0 (from networkx->hyperopt->hpsklearn==0.0.3)\n",
      "  Using cached decorator-4.1.2-py2.py3-none-any.whl\n",
      "Building wheels for collected packages: hyperopt, networkx\n",
      "  Running setup.py bdist_wheel for hyperopt ... \u001b[?25ldone\n",
      "\u001b[?25h  Stored in directory: /home/manuel/.cache/pip/wheels/4b/0f/9d/1166e48523d3bf7478800f250b0fceae31ac6a08b8a7cca820\n",
      "  Running setup.py bdist_wheel for networkx ... \u001b[?25ldone\n",
      "\u001b[?25h  Stored in directory: /home/manuel/.cache/pip/wheels/27/82/23/785d5d01de2271edf929ac2761cb5dafc0dfa76a0861bfd128\n",
      "Successfully built hyperopt networkx\n",
      "Installing collected packages: nose, pymongo, decorator, networkx, hyperopt, hpsklearn\n",
      "  Found existing installation: decorator 4.0.11\n",
      "    Uninstalling decorator-4.0.11:\n",
      "      Successfully uninstalled decorator-4.0.11\n",
      "  Running setup.py install for hpsklearn ... \u001b[?25ldone\n",
      "\u001b[?25hSuccessfully installed decorator-4.1.2 hpsklearn-0.0.3 hyperopt-0.1 networkx-2.0 nose-1.3.7 pymongo-3.6.0\n"
     ]
    }
   ],
   "source": [
    "import sys\n",
    "!{sys.executable} -m pip install git+https://github.com/hyperopt/hyperopt-sklearn.git"
   ]
  },
  {
   "cell_type": "code",
   "execution_count": 70,
   "metadata": {
    "collapsed": true
   },
   "outputs": [],
   "source": [
    "from sklearn.metrics import roc_auc_score\n",
    "from hpsklearn import HyperoptEstimator, random_forest\n",
    "\n",
    "optimizador_hpsklearn = HyperoptEstimator( classifier=random_forest('estimador_rf'),\n",
    "                                       seed=42, loss_fn=roc_auc_score, max_evals=100, trial_timeout=30)"
   ]
  },
  {
   "cell_type": "code",
   "execution_count": 71,
   "metadata": {},
   "outputs": [
    {
     "name": "stdout",
     "output_type": "stream",
     "text": [
      "25min 59s ± 0 ns per loop (mean ± std. dev. of 1 run, 1 loop each)\n"
     ]
    }
   ],
   "source": [
    "%%timeit -n 1 -r 1\n",
    "optimizador_hpsklearn.fit(censo_X_procesado, censo_y)"
   ]
  },
  {
   "cell_type": "markdown",
   "metadata": {},
   "source": [
    "`HyperoptEstimator` nos devuelve un estimador que podemos usar como cualquiera de los de sklearn"
   ]
  },
  {
   "cell_type": "code",
   "execution_count": 72,
   "metadata": {},
   "outputs": [
    {
     "data": {
      "text/plain": [
       "array([0, 0, 0, ..., 0, 0, 0])"
      ]
     },
     "execution_count": 72,
     "metadata": {},
     "output_type": "execute_result"
    }
   ],
   "source": [
    "optimizador_hpsklearn.predict(censo_X_procesado)"
   ]
  },
  {
   "cell_type": "markdown",
   "metadata": {},
   "source": [
    "con `best_model()` podemos ver el mejor modelo producido"
   ]
  },
  {
   "cell_type": "code",
   "execution_count": 74,
   "metadata": {},
   "outputs": [
    {
     "data": {
      "text/plain": [
       "{'ex_preprocs': (),\n",
       " 'learner': RandomForestClassifier(bootstrap=True, class_weight=None, criterion='gini',\n",
       "             max_depth=4, max_features=0.011994348367892704,\n",
       "             max_leaf_nodes=None, min_impurity_decrease=0.0,\n",
       "             min_impurity_split=None, min_samples_leaf=3,\n",
       "             min_samples_split=2, min_weight_fraction_leaf=0.0,\n",
       "             n_estimators=1841, n_jobs=1, oob_score=False, random_state=1,\n",
       "             verbose=False, warm_start=False),\n",
       " 'preprocs': ()}"
      ]
     },
     "execution_count": 74,
     "metadata": {},
     "output_type": "execute_result"
    }
   ],
   "source": [
    "estimador_hpsklearn.best_model()"
   ]
  },
  {
   "cell_type": "markdown",
   "metadata": {},
   "source": [
    "Vemos que el estimador de hyperopt-sklearn tambien puede añadir pasos de preprocesamiento automáticos"
   ]
  },
  {
   "cell_type": "code",
   "execution_count": 75,
   "metadata": {
    "collapsed": true
   },
   "outputs": [],
   "source": [
    "modelo_hpsklearn = estimador_hpsklearn.best_model()[\"learner\"]"
   ]
  },
  {
   "cell_type": "code",
   "execution_count": 76,
   "metadata": {
    "collapsed": true
   },
   "outputs": [],
   "source": [
    "resultados[\"rf_hpsklearn_10\"] = evaluar_modelo(modelo_hpsklearn, censo_X_procesado, censo_y)"
   ]
  },
  {
   "cell_type": "code",
   "execution_count": 78,
   "metadata": {},
   "outputs": [
    {
     "data": {
      "text/html": [
       "<div>\n",
       "<style>\n",
       "    .dataframe thead tr:only-child th {\n",
       "        text-align: right;\n",
       "    }\n",
       "\n",
       "    .dataframe thead th {\n",
       "        text-align: left;\n",
       "    }\n",
       "\n",
       "    .dataframe tbody tr th {\n",
       "        vertical-align: top;\n",
       "    }\n",
       "</style>\n",
       "<table border=\"1\" class=\"dataframe\">\n",
       "  <thead>\n",
       "    <tr style=\"text-align: right;\">\n",
       "      <th></th>\n",
       "      <th>fit_time</th>\n",
       "      <th>score_time</th>\n",
       "      <th>test_score</th>\n",
       "      <th>train_score</th>\n",
       "      <th>fit_time_idx</th>\n",
       "      <th>score_time_idx</th>\n",
       "      <th>test_score_idx</th>\n",
       "      <th>train_score_idx</th>\n",
       "    </tr>\n",
       "  </thead>\n",
       "  <tbody>\n",
       "    <tr>\n",
       "      <th>naive_bayes</th>\n",
       "      <td>0.066678</td>\n",
       "      <td>0.014363</td>\n",
       "      <td>0.781202</td>\n",
       "      <td>0.783341</td>\n",
       "      <td>0.001043</td>\n",
       "      <td>0.010738</td>\n",
       "      <td>0.849714</td>\n",
       "      <td>0.786865</td>\n",
       "    </tr>\n",
       "    <tr>\n",
       "      <th>reg_logistica</th>\n",
       "      <td>0.460645</td>\n",
       "      <td>0.018298</td>\n",
       "      <td>0.906715</td>\n",
       "      <td>0.908326</td>\n",
       "      <td>0.007205</td>\n",
       "      <td>0.013680</td>\n",
       "      <td>0.986234</td>\n",
       "      <td>0.912413</td>\n",
       "    </tr>\n",
       "    <tr>\n",
       "      <th>rf</th>\n",
       "      <td>0.395003</td>\n",
       "      <td>0.017742</td>\n",
       "      <td>0.874312</td>\n",
       "      <td>0.995521</td>\n",
       "      <td>0.006179</td>\n",
       "      <td>0.013264</td>\n",
       "      <td>0.950989</td>\n",
       "      <td>1.000000</td>\n",
       "    </tr>\n",
       "    <tr>\n",
       "      <th>rf_bayesiano_skopt_100</th>\n",
       "      <td>7.136472</td>\n",
       "      <td>0.193855</td>\n",
       "      <td>0.910383</td>\n",
       "      <td>0.914396</td>\n",
       "      <td>0.111627</td>\n",
       "      <td>0.144932</td>\n",
       "      <td>0.990223</td>\n",
       "      <td>0.918510</td>\n",
       "    </tr>\n",
       "    <tr>\n",
       "      <th>rf_gridsearch</th>\n",
       "      <td>3.986320</td>\n",
       "      <td>0.236890</td>\n",
       "      <td>0.848783</td>\n",
       "      <td>0.849026</td>\n",
       "      <td>0.062353</td>\n",
       "      <td>0.177107</td>\n",
       "      <td>0.923221</td>\n",
       "      <td>0.852846</td>\n",
       "    </tr>\n",
       "    <tr>\n",
       "      <th>rf_hpsklearn_10</th>\n",
       "      <td>11.909622</td>\n",
       "      <td>0.755976</td>\n",
       "      <td>0.889492</td>\n",
       "      <td>0.890850</td>\n",
       "      <td>0.186288</td>\n",
       "      <td>0.565193</td>\n",
       "      <td>0.967500</td>\n",
       "      <td>0.894859</td>\n",
       "    </tr>\n",
       "    <tr>\n",
       "      <th>rf_randomizedsearch</th>\n",
       "      <td>4.077757</td>\n",
       "      <td>0.253586</td>\n",
       "      <td>0.854896</td>\n",
       "      <td>0.855122</td>\n",
       "      <td>0.063783</td>\n",
       "      <td>0.189589</td>\n",
       "      <td>0.929870</td>\n",
       "      <td>0.858970</td>\n",
       "    </tr>\n",
       "    <tr>\n",
       "      <th>rf_randomizedsearch_100</th>\n",
       "      <td>63.931399</td>\n",
       "      <td>1.337555</td>\n",
       "      <td>0.919371</td>\n",
       "      <td>0.958161</td>\n",
       "      <td>1.000000</td>\n",
       "      <td>1.000000</td>\n",
       "      <td>1.000000</td>\n",
       "      <td>0.962472</td>\n",
       "    </tr>\n",
       "    <tr>\n",
       "      <th>rf_skopt_gp_100</th>\n",
       "      <td>1.329353</td>\n",
       "      <td>0.042163</td>\n",
       "      <td>0.905333</td>\n",
       "      <td>0.909874</td>\n",
       "      <td>0.020793</td>\n",
       "      <td>0.031522</td>\n",
       "      <td>0.984731</td>\n",
       "      <td>0.913968</td>\n",
       "    </tr>\n",
       "  </tbody>\n",
       "</table>\n",
       "</div>"
      ],
      "text/plain": [
       "                          fit_time  score_time  test_score  train_score  \\\n",
       "naive_bayes               0.066678    0.014363    0.781202     0.783341   \n",
       "reg_logistica             0.460645    0.018298    0.906715     0.908326   \n",
       "rf                        0.395003    0.017742    0.874312     0.995521   \n",
       "rf_bayesiano_skopt_100    7.136472    0.193855    0.910383     0.914396   \n",
       "rf_gridsearch             3.986320    0.236890    0.848783     0.849026   \n",
       "rf_hpsklearn_10          11.909622    0.755976    0.889492     0.890850   \n",
       "rf_randomizedsearch       4.077757    0.253586    0.854896     0.855122   \n",
       "rf_randomizedsearch_100  63.931399    1.337555    0.919371     0.958161   \n",
       "rf_skopt_gp_100           1.329353    0.042163    0.905333     0.909874   \n",
       "\n",
       "                         fit_time_idx  score_time_idx  test_score_idx  \\\n",
       "naive_bayes                  0.001043        0.010738        0.849714   \n",
       "reg_logistica                0.007205        0.013680        0.986234   \n",
       "rf                           0.006179        0.013264        0.950989   \n",
       "rf_bayesiano_skopt_100       0.111627        0.144932        0.990223   \n",
       "rf_gridsearch                0.062353        0.177107        0.923221   \n",
       "rf_hpsklearn_10              0.186288        0.565193        0.967500   \n",
       "rf_randomizedsearch          0.063783        0.189589        0.929870   \n",
       "rf_randomizedsearch_100      1.000000        1.000000        1.000000   \n",
       "rf_skopt_gp_100              0.020793        0.031522        0.984731   \n",
       "\n",
       "                         train_score_idx  \n",
       "naive_bayes                     0.786865  \n",
       "reg_logistica                   0.912413  \n",
       "rf                              1.000000  \n",
       "rf_bayesiano_skopt_100          0.918510  \n",
       "rf_gridsearch                   0.852846  \n",
       "rf_hpsklearn_10                 0.894859  \n",
       "rf_randomizedsearch             0.858970  \n",
       "rf_randomizedsearch_100         0.962472  \n",
       "rf_skopt_gp_100                 0.913968  "
      ]
     },
     "execution_count": 78,
     "metadata": {},
     "output_type": "execute_result"
    }
   ],
   "source": [
    "ver_resultados()"
   ]
  },
  {
   "cell_type": "markdown",
   "metadata": {},
   "source": [
    "A modo de prueba, he dejado el Optimizador de hyperopt-sklearn toda la noche corriendo. Lo bueno de este estimador es que en cualquier momento podemos parar el proceso (dandole en el notebook a `kernel->interrup` y el optimizador seguira conservando el modelo mejor."
   ]
  },
  {
   "cell_type": "code",
   "execution_count": 87,
   "metadata": {
    "collapsed": true
   },
   "outputs": [],
   "source": [
    "from hpsklearn import any_classifier, any_preprocessing\n",
    "\n",
    "estimador_final = HyperoptEstimator( classifier=any_classifier(\"clf\"), \n",
    "                                    preprocessing=any_preprocessing(\"preproc\"),\n",
    "                                    seed=42, loss_fn=roc_auc_score, max_evals=2000)"
   ]
  },
  {
   "cell_type": "code",
   "execution_count": null,
   "metadata": {
    "collapsed": true
   },
   "outputs": [],
   "source": [
    "estimador_final.fit(censo_X_procesado, censo_y)"
   ]
  },
  {
   "cell_type": "code",
   "execution_count": 90,
   "metadata": {},
   "outputs": [
    {
     "data": {
      "text/plain": [
       "{'ex_preprocs': (),\n",
       " 'learner': GradientBoostingClassifier(criterion='friedman_mse', init=None,\n",
       "               learning_rate=0.016925014519856875, loss='deviance',\n",
       "               max_depth=2, max_features=0.3243309842493083,\n",
       "               max_leaf_nodes=None, min_impurity_decrease=0.0,\n",
       "               min_impurity_split=None, min_samples_leaf=1,\n",
       "               min_samples_split=2, min_weight_fraction_leaf=0.0,\n",
       "               n_estimators=46, presort='auto', random_state=4,\n",
       "               subsample=1.0, verbose=0, warm_start=False),\n",
       " 'preprocs': (PCA(copy=True, iterated_power='auto', n_components=88, random_state=None,\n",
       "    svd_solver='auto', tol=0.0, whiten=False),)}"
      ]
     },
     "execution_count": 90,
     "metadata": {},
     "output_type": "execute_result"
    }
   ],
   "source": [
    "estimador_final.best_model()"
   ]
  },
  {
   "cell_type": "code",
   "execution_count": 96,
   "metadata": {
    "collapsed": true
   },
   "outputs": [],
   "source": [
    "modelo_hpsklearn_final = Pipeline([\n",
    "    (\"preprocs\", estimador_final.best_model()[\"preprocs\"][0]),\n",
    "    (\"learner\", estimador_final.best_model()[\"learner\"])\n",
    "])"
   ]
  },
  {
   "cell_type": "code",
   "execution_count": 97,
   "metadata": {
    "collapsed": true
   },
   "outputs": [],
   "source": [
    "resultados[\"rf_hpsklearn_final\"] = evaluar_modelo(modelo_hpsklearn_final, censo_X_procesado, censo_y)"
   ]
  },
  {
   "cell_type": "code",
   "execution_count": 99,
   "metadata": {},
   "outputs": [
    {
     "data": {
      "text/html": [
       "<div>\n",
       "<style>\n",
       "    .dataframe thead tr:only-child th {\n",
       "        text-align: right;\n",
       "    }\n",
       "\n",
       "    .dataframe thead th {\n",
       "        text-align: left;\n",
       "    }\n",
       "\n",
       "    .dataframe tbody tr th {\n",
       "        vertical-align: top;\n",
       "    }\n",
       "</style>\n",
       "<table border=\"1\" class=\"dataframe\">\n",
       "  <thead>\n",
       "    <tr style=\"text-align: right;\">\n",
       "      <th></th>\n",
       "      <th>fit_time</th>\n",
       "      <th>score_time</th>\n",
       "      <th>test_score</th>\n",
       "      <th>train_score</th>\n",
       "      <th>fit_time_idx</th>\n",
       "      <th>score_time_idx</th>\n",
       "      <th>test_score_idx</th>\n",
       "      <th>train_score_idx</th>\n",
       "    </tr>\n",
       "  </thead>\n",
       "  <tbody>\n",
       "    <tr>\n",
       "      <th>naive_bayes</th>\n",
       "      <td>0.066678</td>\n",
       "      <td>0.014363</td>\n",
       "      <td>0.781202</td>\n",
       "      <td>0.783341</td>\n",
       "      <td>0.001043</td>\n",
       "      <td>0.010738</td>\n",
       "      <td>0.849714</td>\n",
       "      <td>0.786865</td>\n",
       "    </tr>\n",
       "    <tr>\n",
       "      <th>reg_logistica</th>\n",
       "      <td>0.460645</td>\n",
       "      <td>0.018298</td>\n",
       "      <td>0.906715</td>\n",
       "      <td>0.908326</td>\n",
       "      <td>0.007205</td>\n",
       "      <td>0.013680</td>\n",
       "      <td>0.986234</td>\n",
       "      <td>0.912413</td>\n",
       "    </tr>\n",
       "    <tr>\n",
       "      <th>rf</th>\n",
       "      <td>0.395003</td>\n",
       "      <td>0.017742</td>\n",
       "      <td>0.874312</td>\n",
       "      <td>0.995521</td>\n",
       "      <td>0.006179</td>\n",
       "      <td>0.013264</td>\n",
       "      <td>0.950989</td>\n",
       "      <td>1.000000</td>\n",
       "    </tr>\n",
       "    <tr>\n",
       "      <th>rf_bayesiano_skopt_100</th>\n",
       "      <td>7.136472</td>\n",
       "      <td>0.193855</td>\n",
       "      <td>0.910383</td>\n",
       "      <td>0.914396</td>\n",
       "      <td>0.111627</td>\n",
       "      <td>0.144932</td>\n",
       "      <td>0.990223</td>\n",
       "      <td>0.918510</td>\n",
       "    </tr>\n",
       "    <tr>\n",
       "      <th>rf_gridsearch</th>\n",
       "      <td>3.986320</td>\n",
       "      <td>0.236890</td>\n",
       "      <td>0.848783</td>\n",
       "      <td>0.849026</td>\n",
       "      <td>0.062353</td>\n",
       "      <td>0.177107</td>\n",
       "      <td>0.923221</td>\n",
       "      <td>0.852846</td>\n",
       "    </tr>\n",
       "    <tr>\n",
       "      <th>rf_hpsklearn_10</th>\n",
       "      <td>11.909622</td>\n",
       "      <td>0.755976</td>\n",
       "      <td>0.889492</td>\n",
       "      <td>0.890850</td>\n",
       "      <td>0.186288</td>\n",
       "      <td>0.565193</td>\n",
       "      <td>0.967500</td>\n",
       "      <td>0.894859</td>\n",
       "    </tr>\n",
       "    <tr>\n",
       "      <th>rf_hpsklearn_final</th>\n",
       "      <td>4.160803</td>\n",
       "      <td>0.031582</td>\n",
       "      <td>0.877192</td>\n",
       "      <td>0.880618</td>\n",
       "      <td>0.065082</td>\n",
       "      <td>0.023612</td>\n",
       "      <td>0.954122</td>\n",
       "      <td>0.884580</td>\n",
       "    </tr>\n",
       "    <tr>\n",
       "      <th>rf_randomizedsearch</th>\n",
       "      <td>4.077757</td>\n",
       "      <td>0.253586</td>\n",
       "      <td>0.854896</td>\n",
       "      <td>0.855122</td>\n",
       "      <td>0.063783</td>\n",
       "      <td>0.189589</td>\n",
       "      <td>0.929870</td>\n",
       "      <td>0.858970</td>\n",
       "    </tr>\n",
       "    <tr>\n",
       "      <th>rf_randomizedsearch_100</th>\n",
       "      <td>63.931399</td>\n",
       "      <td>1.337555</td>\n",
       "      <td>0.919371</td>\n",
       "      <td>0.958161</td>\n",
       "      <td>1.000000</td>\n",
       "      <td>1.000000</td>\n",
       "      <td>1.000000</td>\n",
       "      <td>0.962472</td>\n",
       "    </tr>\n",
       "    <tr>\n",
       "      <th>rf_skopt_gp_100</th>\n",
       "      <td>1.329353</td>\n",
       "      <td>0.042163</td>\n",
       "      <td>0.905333</td>\n",
       "      <td>0.909874</td>\n",
       "      <td>0.020793</td>\n",
       "      <td>0.031522</td>\n",
       "      <td>0.984731</td>\n",
       "      <td>0.913968</td>\n",
       "    </tr>\n",
       "  </tbody>\n",
       "</table>\n",
       "</div>"
      ],
      "text/plain": [
       "                          fit_time  score_time  test_score  train_score  \\\n",
       "naive_bayes               0.066678    0.014363    0.781202     0.783341   \n",
       "reg_logistica             0.460645    0.018298    0.906715     0.908326   \n",
       "rf                        0.395003    0.017742    0.874312     0.995521   \n",
       "rf_bayesiano_skopt_100    7.136472    0.193855    0.910383     0.914396   \n",
       "rf_gridsearch             3.986320    0.236890    0.848783     0.849026   \n",
       "rf_hpsklearn_10          11.909622    0.755976    0.889492     0.890850   \n",
       "rf_hpsklearn_final        4.160803    0.031582    0.877192     0.880618   \n",
       "rf_randomizedsearch       4.077757    0.253586    0.854896     0.855122   \n",
       "rf_randomizedsearch_100  63.931399    1.337555    0.919371     0.958161   \n",
       "rf_skopt_gp_100           1.329353    0.042163    0.905333     0.909874   \n",
       "\n",
       "                         fit_time_idx  score_time_idx  test_score_idx  \\\n",
       "naive_bayes                  0.001043        0.010738        0.849714   \n",
       "reg_logistica                0.007205        0.013680        0.986234   \n",
       "rf                           0.006179        0.013264        0.950989   \n",
       "rf_bayesiano_skopt_100       0.111627        0.144932        0.990223   \n",
       "rf_gridsearch                0.062353        0.177107        0.923221   \n",
       "rf_hpsklearn_10              0.186288        0.565193        0.967500   \n",
       "rf_hpsklearn_final           0.065082        0.023612        0.954122   \n",
       "rf_randomizedsearch          0.063783        0.189589        0.929870   \n",
       "rf_randomizedsearch_100      1.000000        1.000000        1.000000   \n",
       "rf_skopt_gp_100              0.020793        0.031522        0.984731   \n",
       "\n",
       "                         train_score_idx  \n",
       "naive_bayes                     0.786865  \n",
       "reg_logistica                   0.912413  \n",
       "rf                              1.000000  \n",
       "rf_bayesiano_skopt_100          0.918510  \n",
       "rf_gridsearch                   0.852846  \n",
       "rf_hpsklearn_10                 0.894859  \n",
       "rf_hpsklearn_final              0.884580  \n",
       "rf_randomizedsearch             0.858970  \n",
       "rf_randomizedsearch_100         0.962472  \n",
       "rf_skopt_gp_100                 0.913968  "
      ]
     },
     "execution_count": 99,
     "metadata": {},
     "output_type": "execute_result"
    }
   ],
   "source": [
    "ver_resultados()"
   ]
  },
  {
   "cell_type": "code",
   "execution_count": null,
   "metadata": {
    "collapsed": true
   },
   "outputs": [],
   "source": []
  }
 ],
 "metadata": {
  "kernelspec": {
   "display_name": "Python 3",
   "language": "python",
   "name": "python3"
  },
  "language_info": {
   "codemirror_mode": {
    "name": "ipython",
    "version": 3
   },
   "file_extension": ".py",
   "mimetype": "text/x-python",
   "name": "python",
   "nbconvert_exporter": "python",
   "pygments_lexer": "ipython3",
   "version": "3.7.1"
  }
 },
 "nbformat": 4,
 "nbformat_minor": 2
}
