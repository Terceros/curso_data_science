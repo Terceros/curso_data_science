{
 "cells": [
  {
   "cell_type": "markdown",
   "metadata": {},
   "source": [
    "# Ejercicio - Regresión lineal\n",
    "\n",
    "Para prácticar el Análisis Exploratorio de Datos, vamos a usar una versión modificada del dataset [The Movies Dataset](https://www.kaggle.com/rounakbanik/the-movies-dataset) que contiene información sobre películas, información relacionada con el éxito de dichas películas en cuanto a popularidad y venta de entradas.\n",
    "\n",
    "El dataset se encuentra en el archivo `data/movies.csv`, y consta de las siguientes columnas:\n",
    "\n",
    "```\n",
    "    belongs_to_collection (franquicia): Nombre de la franquicia a la cual pertenece la película.\n",
    "    budget (presupuesto): Presupuesto de la película en dólares.\n",
    "    genres (genero): Género de la pelicula.\n",
    "    homepage (pagina_web): Página Web oficial de la película.\n",
    "    imdb_id: ID de la película en IMDB.\n",
    "    original_language (lenguaje): El lenguage original en el que se rodó la película.\n",
    "    overview: Descripción de la película.\n",
    "    popularity (popularidad): Puntuación de Popularidad.\n",
    "    poster_path (poster): url del poster de la película\n",
    "    production_companies (productores): Lista de compañias que produjeron la pelicula\n",
    "    production_countries (pais): Pais de produccion de la película\n",
    "    release_date (fecha_estreno): Fecha del estreno  de la película\n",
    "    revenue (ventas): Ventas de entradas en dólares de la película.\n",
    "    runtime (duracion): Duración en minutos de la película.\n",
    "    status (estado): Estado de la película (estrenada, en producción, etc).\n",
    "    tagline: Frase descriptiva de la película.\n",
    "    title (titulo): Título de la película.\n",
    "    vote_average (puntuacion): Puntuación media de la película.\n",
    "    vote_count (n_votos): Número de votos.\n",
    "```\n",
    "\n"
   ]
  },
  {
   "cell_type": "markdown",
   "metadata": {},
   "source": [
    "Para este ejercicio la variable objetivo es las ventas en taquilla de la película (la columna `venta`)"
   ]
  },
  {
   "cell_type": "code",
   "execution_count": 2,
   "metadata": {},
   "outputs": [],
   "source": [
    "import pandas as pd\n",
    "import numpy as np\n",
    "%matplotlib inline\n",
    "import matplotlib.pyplot as plt\n",
    "from sklearn import datasets\n",
    "from sklearn.linear_model import LinearRegression\n",
    "plt.rcParams['figure.figsize'] = (10,10)\n",
    "plt.rcParams['font.size'] = 16"
   ]
  },
  {
   "cell_type": "code",
   "execution_count": 3,
   "metadata": {},
   "outputs": [],
   "source": [
    "pelis = pd.read_csv(\"data/movies.csv\")"
   ]
  },
  {
   "cell_type": "code",
   "execution_count": 4,
   "metadata": {},
   "outputs": [
    {
     "data": {
      "text/html": [
       "<div>\n",
       "<style scoped>\n",
       "    .dataframe tbody tr th:only-of-type {\n",
       "        vertical-align: middle;\n",
       "    }\n",
       "\n",
       "    .dataframe tbody tr th {\n",
       "        vertical-align: top;\n",
       "    }\n",
       "\n",
       "    .dataframe thead th {\n",
       "        text-align: right;\n",
       "    }\n",
       "</style>\n",
       "<table border=\"1\" class=\"dataframe\">\n",
       "  <thead>\n",
       "    <tr style=\"text-align: right;\">\n",
       "      <th></th>\n",
       "      <th>franquicia</th>\n",
       "      <th>presupuesto</th>\n",
       "      <th>genero</th>\n",
       "      <th>pagina_web</th>\n",
       "      <th>imdb_id</th>\n",
       "      <th>lenguaje</th>\n",
       "      <th>popularidad</th>\n",
       "      <th>productores</th>\n",
       "      <th>pais</th>\n",
       "      <th>fecha_estreno</th>\n",
       "      <th>ventas</th>\n",
       "      <th>duracion</th>\n",
       "      <th>estado</th>\n",
       "      <th>titulo</th>\n",
       "      <th>puntuacion</th>\n",
       "      <th>n_votos</th>\n",
       "    </tr>\n",
       "  </thead>\n",
       "  <tbody>\n",
       "    <tr>\n",
       "      <th>0</th>\n",
       "      <td>Father of the Bride Collection</td>\n",
       "      <td>NaN</td>\n",
       "      <td>Comedy</td>\n",
       "      <td>NaN</td>\n",
       "      <td>tt0113041</td>\n",
       "      <td>en</td>\n",
       "      <td>8.387519</td>\n",
       "      <td>Sandollar Productions</td>\n",
       "      <td>United States of America</td>\n",
       "      <td>1995-02-10</td>\n",
       "      <td>76578911.0</td>\n",
       "      <td>106.0</td>\n",
       "      <td>Released</td>\n",
       "      <td>Father of the Bride Part II</td>\n",
       "      <td>5.7</td>\n",
       "      <td>173.0</td>\n",
       "    </tr>\n",
       "    <tr>\n",
       "      <th>1</th>\n",
       "      <td>NaN</td>\n",
       "      <td>NaN</td>\n",
       "      <td>Drama</td>\n",
       "      <td>NaN</td>\n",
       "      <td>tt0112749</td>\n",
       "      <td>en</td>\n",
       "      <td>0.894647</td>\n",
       "      <td>Miramax</td>\n",
       "      <td>South Africa</td>\n",
       "      <td>1995-12-15</td>\n",
       "      <td>676525.0</td>\n",
       "      <td>106.0</td>\n",
       "      <td>Released</td>\n",
       "      <td>Cry, the Beloved Country</td>\n",
       "      <td>6.7</td>\n",
       "      <td>13.0</td>\n",
       "    </tr>\n",
       "    <tr>\n",
       "      <th>2</th>\n",
       "      <td>Friday Collection</td>\n",
       "      <td>3500000.0</td>\n",
       "      <td>Comedy</td>\n",
       "      <td>http://www.newline.com/properties/friday.html</td>\n",
       "      <td>tt0113118</td>\n",
       "      <td>en</td>\n",
       "      <td>14.569650</td>\n",
       "      <td>New Line Cinema</td>\n",
       "      <td>United States of America</td>\n",
       "      <td>1995-04-26</td>\n",
       "      <td>28215918.0</td>\n",
       "      <td>91.0</td>\n",
       "      <td>Released</td>\n",
       "      <td>Friday</td>\n",
       "      <td>7.0</td>\n",
       "      <td>513.0</td>\n",
       "    </tr>\n",
       "    <tr>\n",
       "      <th>3</th>\n",
       "      <td>NaN</td>\n",
       "      <td>NaN</td>\n",
       "      <td>Comedy</td>\n",
       "      <td>NaN</td>\n",
       "      <td>tt0115697</td>\n",
       "      <td>en</td>\n",
       "      <td>8.963037</td>\n",
       "      <td>Paramount Pictures</td>\n",
       "      <td>United States of America</td>\n",
       "      <td>1996-02-01</td>\n",
       "      <td>32.0</td>\n",
       "      <td>87.0</td>\n",
       "      <td>Released</td>\n",
       "      <td>Black Sheep</td>\n",
       "      <td>6.0</td>\n",
       "      <td>124.0</td>\n",
       "    </tr>\n",
       "    <tr>\n",
       "      <th>4</th>\n",
       "      <td>NaN</td>\n",
       "      <td>12000000.0</td>\n",
       "      <td>Comedy</td>\n",
       "      <td>NaN</td>\n",
       "      <td>tt0116483</td>\n",
       "      <td>en</td>\n",
       "      <td>9.592265</td>\n",
       "      <td>Universal Pictures</td>\n",
       "      <td>United States of America</td>\n",
       "      <td>1996-02-16</td>\n",
       "      <td>41205099.0</td>\n",
       "      <td>92.0</td>\n",
       "      <td>Released</td>\n",
       "      <td>Happy Gilmore</td>\n",
       "      <td>6.5</td>\n",
       "      <td>767.0</td>\n",
       "    </tr>\n",
       "  </tbody>\n",
       "</table>\n",
       "</div>"
      ],
      "text/plain": [
       "                       franquicia  presupuesto  genero  \\\n",
       "0  Father of the Bride Collection          NaN  Comedy   \n",
       "1                             NaN          NaN   Drama   \n",
       "2               Friday Collection    3500000.0  Comedy   \n",
       "3                             NaN          NaN  Comedy   \n",
       "4                             NaN   12000000.0  Comedy   \n",
       "\n",
       "                                      pagina_web    imdb_id lenguaje  \\\n",
       "0                                            NaN  tt0113041       en   \n",
       "1                                            NaN  tt0112749       en   \n",
       "2  http://www.newline.com/properties/friday.html  tt0113118       en   \n",
       "3                                            NaN  tt0115697       en   \n",
       "4                                            NaN  tt0116483       en   \n",
       "\n",
       "   popularidad            productores                      pais fecha_estreno  \\\n",
       "0     8.387519  Sandollar Productions  United States of America    1995-02-10   \n",
       "1     0.894647                Miramax              South Africa    1995-12-15   \n",
       "2    14.569650        New Line Cinema  United States of America    1995-04-26   \n",
       "3     8.963037     Paramount Pictures  United States of America    1996-02-01   \n",
       "4     9.592265     Universal Pictures  United States of America    1996-02-16   \n",
       "\n",
       "       ventas  duracion    estado                       titulo  puntuacion  \\\n",
       "0  76578911.0     106.0  Released  Father of the Bride Part II         5.7   \n",
       "1    676525.0     106.0  Released     Cry, the Beloved Country         6.7   \n",
       "2  28215918.0      91.0  Released                       Friday         7.0   \n",
       "3        32.0      87.0  Released                  Black Sheep         6.0   \n",
       "4  41205099.0      92.0  Released                Happy Gilmore         6.5   \n",
       "\n",
       "   n_votos  \n",
       "0    173.0  \n",
       "1     13.0  \n",
       "2    513.0  \n",
       "3    124.0  \n",
       "4    767.0  "
      ]
     },
     "execution_count": 4,
     "metadata": {},
     "output_type": "execute_result"
    }
   ],
   "source": [
    "pelis.head()"
   ]
  },
  {
   "cell_type": "markdown",
   "metadata": {},
   "source": [
    "# Analisis de datos"
   ]
  },
  {
   "cell_type": "code",
   "execution_count": 5,
   "metadata": {},
   "outputs": [],
   "source": [
    "def valores_inexistentes_col(df):\n",
    "    n_records = len(df)\n",
    "    for columna in df:\n",
    "        print(\"{} | {} | {}\".format(\n",
    "            df[columna].name, len(df[df[columna].isnull()]) / (1.0*n_records), df[columna].dtype\n",
    "        ))"
   ]
  },
  {
   "cell_type": "code",
   "execution_count": 6,
   "metadata": {},
   "outputs": [],
   "source": [
    "def llenado(df):\n",
    "    categoricas = df.select_dtypes(['object'])\n",
    "    numericas = df.select_dtypes(['float','int'])\n",
    "    for columna in df:\n",
    "        if (df[columna].dtype == 'object'):\n",
    "            df[columna] = df[columna].fillna(df[columna].mode().values[0])\n",
    "        elif (df[columna].dtype == 'float' or df[columna].dtype == 'int'):\n",
    "            df[columna] = df[columna].fillna(df[columna].median())"
   ]
  },
  {
   "cell_type": "code",
   "execution_count": 7,
   "metadata": {},
   "outputs": [
    {
     "name": "stdout",
     "output_type": "stream",
     "text": [
      "franquicia | 0.85470719051149 | object\n",
      "presupuesto | 0.4381022979985174 | float64\n",
      "genero | 0.03780578206078577 | object\n",
      "pagina_web | 0.7168272794662713 | object\n",
      "imdb_id | 0.0 | object\n",
      "lenguaje | 0.0 | object\n",
      "popularidad | 0.0 | float64\n",
      "productores | 0.15715344699777614 | object\n",
      "pais | 0.07338769458858414 | object\n",
      "fecha_estreno | 0.0007412898443291327 | object\n",
      "ventas | 0.10452186805040771 | float64\n",
      "duracion | 0.005930318754633061 | float64\n",
      "estado | 0.0007412898443291327 | object\n",
      "titulo | 0.0 | object\n",
      "puntuacion | 0.0 | float64\n",
      "n_votos | 0.0 | float64\n"
     ]
    }
   ],
   "source": [
    "valores_inexistentes_col(pelis)"
   ]
  },
  {
   "cell_type": "markdown",
   "metadata": {},
   "source": [
    "### Seleccionar las columnas numéricas sólo. Eliminar los valores nulos y reemplazarlos con 0 \n",
    "\n",
    "*(pista, usar los metodos `select_dtypes` y `fillna`)*"
   ]
  },
  {
   "cell_type": "code",
   "execution_count": 8,
   "metadata": {},
   "outputs": [],
   "source": [
    "#pelis_no_null = pelis.dropna(subset = pelis.select_dtypes(['float','int']).columns)\n",
    "pelis_no_null = pelis.select_dtypes(['float','int']).fillna(0)"
   ]
  },
  {
   "cell_type": "code",
   "execution_count": 9,
   "metadata": {},
   "outputs": [
    {
     "data": {
      "text/plain": [
       "(1349, 6)"
      ]
     },
     "execution_count": 9,
     "metadata": {},
     "output_type": "execute_result"
    }
   ],
   "source": [
    "pelis_no_null.shape"
   ]
  },
  {
   "cell_type": "markdown",
   "metadata": {},
   "source": [
    "### Crear un modelo de regresion lineal (con scikit-learn) y entrenarlo en el dataset numéricos. La variable objetivo es `ventas`"
   ]
  },
  {
   "cell_type": "markdown",
   "metadata": {},
   "source": [
    "### Asignar una columna nueva con las predicciones al dataset original llamada `ventas_pred`"
   ]
  },
  {
   "cell_type": "code",
   "execution_count": 10,
   "metadata": {},
   "outputs": [],
   "source": [
    "pelis_frac = 0.8"
   ]
  },
  {
   "cell_type": "code",
   "execution_count": 11,
   "metadata": {},
   "outputs": [],
   "source": [
    "pelis_training = pelis_no_null.sample(frac=pelis_frac)\n",
    "pelis_test = pelis_no_null[~pelis_no_null.index.isin(pelis_training.index)]"
   ]
  },
  {
   "cell_type": "code",
   "execution_count": 12,
   "metadata": {},
   "outputs": [
    {
     "name": "stdout",
     "output_type": "stream",
     "text": [
      "DataSet: (1349, 16)\n",
      "Training: (1079, 6)\n",
      "Test: (270, 6)\n"
     ]
    },
    {
     "data": {
      "text/html": [
       "<div>\n",
       "<style scoped>\n",
       "    .dataframe tbody tr th:only-of-type {\n",
       "        vertical-align: middle;\n",
       "    }\n",
       "\n",
       "    .dataframe tbody tr th {\n",
       "        vertical-align: top;\n",
       "    }\n",
       "\n",
       "    .dataframe thead th {\n",
       "        text-align: right;\n",
       "    }\n",
       "</style>\n",
       "<table border=\"1\" class=\"dataframe\">\n",
       "  <thead>\n",
       "    <tr style=\"text-align: right;\">\n",
       "      <th></th>\n",
       "      <th>presupuesto</th>\n",
       "      <th>popularidad</th>\n",
       "      <th>ventas</th>\n",
       "      <th>duracion</th>\n",
       "      <th>puntuacion</th>\n",
       "      <th>n_votos</th>\n",
       "    </tr>\n",
       "  </thead>\n",
       "  <tbody>\n",
       "    <tr>\n",
       "      <th>count</th>\n",
       "      <td>1.079000e+03</td>\n",
       "      <td>1079.000000</td>\n",
       "      <td>1.079000e+03</td>\n",
       "      <td>1079.000000</td>\n",
       "      <td>1079.000000</td>\n",
       "      <td>1079.000000</td>\n",
       "    </tr>\n",
       "    <tr>\n",
       "      <th>mean</th>\n",
       "      <td>1.003390e+07</td>\n",
       "      <td>5.739743</td>\n",
       "      <td>3.198991e+07</td>\n",
       "      <td>100.509731</td>\n",
       "      <td>6.009453</td>\n",
       "      <td>254.356812</td>\n",
       "    </tr>\n",
       "    <tr>\n",
       "      <th>std</th>\n",
       "      <td>1.872140e+07</td>\n",
       "      <td>4.990113</td>\n",
       "      <td>6.257180e+07</td>\n",
       "      <td>26.247708</td>\n",
       "      <td>1.529737</td>\n",
       "      <td>476.509736</td>\n",
       "    </tr>\n",
       "    <tr>\n",
       "      <th>min</th>\n",
       "      <td>0.000000e+00</td>\n",
       "      <td>0.000464</td>\n",
       "      <td>0.000000e+00</td>\n",
       "      <td>0.000000</td>\n",
       "      <td>0.000000</td>\n",
       "      <td>0.000000</td>\n",
       "    </tr>\n",
       "    <tr>\n",
       "      <th>25%</th>\n",
       "      <td>0.000000e+00</td>\n",
       "      <td>1.412735</td>\n",
       "      <td>1.415610e+05</td>\n",
       "      <td>90.000000</td>\n",
       "      <td>5.500000</td>\n",
       "      <td>14.000000</td>\n",
       "    </tr>\n",
       "    <tr>\n",
       "      <th>50%</th>\n",
       "      <td>7.300000e+05</td>\n",
       "      <td>5.219214</td>\n",
       "      <td>5.000000e+06</td>\n",
       "      <td>99.000000</td>\n",
       "      <td>6.300000</td>\n",
       "      <td>62.000000</td>\n",
       "    </tr>\n",
       "    <tr>\n",
       "      <th>75%</th>\n",
       "      <td>1.250000e+07</td>\n",
       "      <td>8.569345</td>\n",
       "      <td>3.346342e+07</td>\n",
       "      <td>113.000000</td>\n",
       "      <td>7.000000</td>\n",
       "      <td>270.500000</td>\n",
       "    </tr>\n",
       "    <tr>\n",
       "      <th>max</th>\n",
       "      <td>1.780000e+08</td>\n",
       "      <td>42.061481</td>\n",
       "      <td>6.118994e+08</td>\n",
       "      <td>223.000000</td>\n",
       "      <td>9.000000</td>\n",
       "      <td>4831.000000</td>\n",
       "    </tr>\n",
       "  </tbody>\n",
       "</table>\n",
       "</div>"
      ],
      "text/plain": [
       "        presupuesto  popularidad        ventas     duracion   puntuacion  \\\n",
       "count  1.079000e+03  1079.000000  1.079000e+03  1079.000000  1079.000000   \n",
       "mean   1.003390e+07     5.739743  3.198991e+07   100.509731     6.009453   \n",
       "std    1.872140e+07     4.990113  6.257180e+07    26.247708     1.529737   \n",
       "min    0.000000e+00     0.000464  0.000000e+00     0.000000     0.000000   \n",
       "25%    0.000000e+00     1.412735  1.415610e+05    90.000000     5.500000   \n",
       "50%    7.300000e+05     5.219214  5.000000e+06    99.000000     6.300000   \n",
       "75%    1.250000e+07     8.569345  3.346342e+07   113.000000     7.000000   \n",
       "max    1.780000e+08    42.061481  6.118994e+08   223.000000     9.000000   \n",
       "\n",
       "           n_votos  \n",
       "count  1079.000000  \n",
       "mean    254.356812  \n",
       "std     476.509736  \n",
       "min       0.000000  \n",
       "25%      14.000000  \n",
       "50%      62.000000  \n",
       "75%     270.500000  \n",
       "max    4831.000000  "
      ]
     },
     "execution_count": 12,
     "metadata": {},
     "output_type": "execute_result"
    }
   ],
   "source": [
    "print(\"DataSet: {}\".format(pelis.shape))\n",
    "print(\"Training: {}\".format(pelis_training.shape))\n",
    "print(\"Test: {}\".format(pelis_test.shape))\n",
    "pelis_training.describe()"
   ]
  },
  {
   "cell_type": "code",
   "execution_count": 15,
   "metadata": {},
   "outputs": [],
   "source": [
    "nombre_var_independientes = ['presupuesto','popularidad','duracion','puntuacion','n_votos']\n",
    "nombre_var_objetivo = 'ventas'"
   ]
  },
  {
   "cell_type": "code",
   "execution_count": 16,
   "metadata": {},
   "outputs": [],
   "source": [
    "var_independientes = pelis_training[nombre_var_independientes].values\n",
    "var_objetivo =  pelis_training[nombre_var_objetivo].values"
   ]
  },
  {
   "cell_type": "code",
   "execution_count": 17,
   "metadata": {},
   "outputs": [
    {
     "name": "stdout",
     "output_type": "stream",
     "text": [
      "X: (1079, 5)\n",
      "y: (1079,)\n"
     ]
    }
   ],
   "source": [
    "print(\"X: {}\".format(var_independientes.shape))\n",
    "print(\"y: {}\".format(var_objetivo.shape))"
   ]
  },
  {
   "cell_type": "markdown",
   "metadata": {},
   "source": [
    "## Implementación del algoritmo"
   ]
  },
  {
   "cell_type": "code",
   "execution_count": 20,
   "metadata": {},
   "outputs": [],
   "source": [
    "modelo =  LinearRegression()"
   ]
  },
  {
   "cell_type": "code",
   "execution_count": 60,
   "metadata": {},
   "outputs": [
    {
     "data": {
      "text/plain": [
       "LinearRegression(copy_X=True, fit_intercept=True, n_jobs=1, normalize=False)"
      ]
     },
     "execution_count": 60,
     "metadata": {},
     "output_type": "execute_result"
    }
   ],
   "source": [
    "modelo.fit(X=var_independientes,y=var_objetivo)"
   ]
  },
  {
   "cell_type": "code",
   "execution_count": 61,
   "metadata": {},
   "outputs": [],
   "source": [
    "predicciones = modelo.predict(var_independientes)"
   ]
  },
  {
   "cell_type": "code",
   "execution_count": 67,
   "metadata": {},
   "outputs": [
    {
     "data": {
      "text/plain": [
       "array([5.31056591e+06, 1.13648823e+07, 1.33125471e+06, ...,\n",
       "       2.06571214e+06, 1.90479105e+08, 1.52710346e+07])"
      ]
     },
     "execution_count": 67,
     "metadata": {},
     "output_type": "execute_result"
    }
   ],
   "source": [
    "predicciones"
   ]
  },
  {
   "cell_type": "code",
   "execution_count": 88,
   "metadata": {},
   "outputs": [],
   "source": [
    "import matplotlib.pyplot as plt"
   ]
  },
  {
   "cell_type": "code",
   "execution_count": 90,
   "metadata": {},
   "outputs": [
    {
     "name": "stdout",
     "output_type": "stream",
     "text": [
      "Valor Real:\t$14155617.000 \tValor Estimado:\t$5310565.91258\n",
      "Valor Real:\t$1300000.000 \tValor Estimado:\t$11364882.28498\n",
      "Valor Real:\t$1221832.000 \tValor Estimado:\t$1331254.71494\n",
      "Valor Real:\t$367638.000 \tValor Estimado:\t$5754732.63230\n",
      "Valor Real:\t$25781.000 \tValor Estimado:\t$3659245.72747\n"
     ]
    }
   ],
   "source": [
    "for y, y_pred in list(zip(var_objetivo, predicciones))[:5]:\n",
    "    print(\"Valor Real:\\t${:.3f} \\tValor Estimado:\\t${:.5f}\".format(y, y_pred))"
   ]
  },
  {
   "cell_type": "code",
   "execution_count": 91,
   "metadata": {},
   "outputs": [],
   "source": [
    "df = pd.DataFrame(var_independientes,columns=nombre_var_independientes)"
   ]
  },
  {
   "cell_type": "code",
   "execution_count": 92,
   "metadata": {},
   "outputs": [
    {
     "data": {
      "text/html": [
       "<div>\n",
       "<style scoped>\n",
       "    .dataframe tbody tr th:only-of-type {\n",
       "        vertical-align: middle;\n",
       "    }\n",
       "\n",
       "    .dataframe tbody tr th {\n",
       "        vertical-align: top;\n",
       "    }\n",
       "\n",
       "    .dataframe thead th {\n",
       "        text-align: right;\n",
       "    }\n",
       "</style>\n",
       "<table border=\"1\" class=\"dataframe\">\n",
       "  <thead>\n",
       "    <tr style=\"text-align: right;\">\n",
       "      <th></th>\n",
       "      <th>presupuesto</th>\n",
       "      <th>popularidad</th>\n",
       "      <th>duracion</th>\n",
       "      <th>puntuacion</th>\n",
       "      <th>n_votos</th>\n",
       "    </tr>\n",
       "  </thead>\n",
       "  <tbody>\n",
       "    <tr>\n",
       "      <th>0</th>\n",
       "      <td>0.0</td>\n",
       "      <td>9.389486</td>\n",
       "      <td>103.0</td>\n",
       "      <td>4.9</td>\n",
       "      <td>10.0</td>\n",
       "    </tr>\n",
       "    <tr>\n",
       "      <th>1</th>\n",
       "      <td>6000000.0</td>\n",
       "      <td>2.002032</td>\n",
       "      <td>138.0</td>\n",
       "      <td>7.2</td>\n",
       "      <td>23.0</td>\n",
       "    </tr>\n",
       "    <tr>\n",
       "      <th>2</th>\n",
       "      <td>0.0</td>\n",
       "      <td>0.535028</td>\n",
       "      <td>97.0</td>\n",
       "      <td>4.3</td>\n",
       "      <td>3.0</td>\n",
       "    </tr>\n",
       "    <tr>\n",
       "      <th>3</th>\n",
       "      <td>0.0</td>\n",
       "      <td>3.376907</td>\n",
       "      <td>111.0</td>\n",
       "      <td>6.5</td>\n",
       "      <td>45.0</td>\n",
       "    </tr>\n",
       "    <tr>\n",
       "      <th>4</th>\n",
       "      <td>0.0</td>\n",
       "      <td>4.572751</td>\n",
       "      <td>92.0</td>\n",
       "      <td>6.1</td>\n",
       "      <td>16.0</td>\n",
       "    </tr>\n",
       "  </tbody>\n",
       "</table>\n",
       "</div>"
      ],
      "text/plain": [
       "   presupuesto  popularidad  duracion  puntuacion  n_votos\n",
       "0          0.0     9.389486     103.0         4.9     10.0\n",
       "1    6000000.0     2.002032     138.0         7.2     23.0\n",
       "2          0.0     0.535028      97.0         4.3      3.0\n",
       "3          0.0     3.376907     111.0         6.5     45.0\n",
       "4          0.0     4.572751      92.0         6.1     16.0"
      ]
     },
     "execution_count": 92,
     "metadata": {},
     "output_type": "execute_result"
    }
   ],
   "source": [
    "df.head()"
   ]
  },
  {
   "cell_type": "code",
   "execution_count": 93,
   "metadata": {},
   "outputs": [],
   "source": [
    "df[\"valor\"] = var_objetivo"
   ]
  },
  {
   "cell_type": "code",
   "execution_count": 95,
   "metadata": {},
   "outputs": [
    {
     "data": {
      "text/plain": [
       "LinearRegression(copy_X=True, fit_intercept=True, n_jobs=1, normalize=False)"
      ]
     },
     "execution_count": 95,
     "metadata": {},
     "output_type": "execute_result"
    }
   ],
   "source": [
    "modelo.fit(X=df[nombre_var_independientes],y=df.valor)"
   ]
  },
  {
   "cell_type": "code",
   "execution_count": 97,
   "metadata": {},
   "outputs": [],
   "source": [
    "df[\"valor_predecido\"] = modelo.predict(df[nombre_var_independientes])"
   ]
  },
  {
   "cell_type": "code",
   "execution_count": 98,
   "metadata": {},
   "outputs": [
    {
     "data": {
      "text/html": [
       "<div>\n",
       "<style scoped>\n",
       "    .dataframe tbody tr th:only-of-type {\n",
       "        vertical-align: middle;\n",
       "    }\n",
       "\n",
       "    .dataframe tbody tr th {\n",
       "        vertical-align: top;\n",
       "    }\n",
       "\n",
       "    .dataframe thead th {\n",
       "        text-align: right;\n",
       "    }\n",
       "</style>\n",
       "<table border=\"1\" class=\"dataframe\">\n",
       "  <thead>\n",
       "    <tr style=\"text-align: right;\">\n",
       "      <th></th>\n",
       "      <th>presupuesto</th>\n",
       "      <th>popularidad</th>\n",
       "      <th>duracion</th>\n",
       "      <th>puntuacion</th>\n",
       "      <th>n_votos</th>\n",
       "      <th>valor</th>\n",
       "      <th>valor_predecido</th>\n",
       "    </tr>\n",
       "  </thead>\n",
       "  <tbody>\n",
       "    <tr>\n",
       "      <th>0</th>\n",
       "      <td>0.0</td>\n",
       "      <td>9.389486</td>\n",
       "      <td>103.0</td>\n",
       "      <td>4.9</td>\n",
       "      <td>10.0</td>\n",
       "      <td>14155617.0</td>\n",
       "      <td>5.310566e+06</td>\n",
       "    </tr>\n",
       "    <tr>\n",
       "      <th>1</th>\n",
       "      <td>6000000.0</td>\n",
       "      <td>2.002032</td>\n",
       "      <td>138.0</td>\n",
       "      <td>7.2</td>\n",
       "      <td>23.0</td>\n",
       "      <td>1300000.0</td>\n",
       "      <td>1.136488e+07</td>\n",
       "    </tr>\n",
       "  </tbody>\n",
       "</table>\n",
       "</div>"
      ],
      "text/plain": [
       "   presupuesto  popularidad  duracion  puntuacion  n_votos       valor  \\\n",
       "0          0.0     9.389486     103.0         4.9     10.0  14155617.0   \n",
       "1    6000000.0     2.002032     138.0         7.2     23.0   1300000.0   \n",
       "\n",
       "   valor_predecido  \n",
       "0     5.310566e+06  \n",
       "1     1.136488e+07  "
      ]
     },
     "execution_count": 98,
     "metadata": {},
     "output_type": "execute_result"
    }
   ],
   "source": [
    "df.head(2)"
   ]
  },
  {
   "cell_type": "code",
   "execution_count": 99,
   "metadata": {},
   "outputs": [],
   "source": [
    "mod_normalizado = LinearRegression(normalize=True)"
   ]
  },
  {
   "cell_type": "code",
   "execution_count": 100,
   "metadata": {},
   "outputs": [
    {
     "data": {
      "text/plain": [
       "LinearRegression(copy_X=True, fit_intercept=True, n_jobs=1, normalize=True)"
      ]
     },
     "execution_count": 100,
     "metadata": {},
     "output_type": "execute_result"
    }
   ],
   "source": [
    "mod_normalizado.fit(X=df[nombre_var_independientes],y=df.valor)"
   ]
  },
  {
   "cell_type": "code",
   "execution_count": 101,
   "metadata": {},
   "outputs": [],
   "source": [
    "df[\"valor_predecido2\"] = mod_normalizado.predict(df[nombre_var_independientes])"
   ]
  },
  {
   "cell_type": "code",
   "execution_count": 102,
   "metadata": {},
   "outputs": [
    {
     "data": {
      "text/html": [
       "<div>\n",
       "<style scoped>\n",
       "    .dataframe tbody tr th:only-of-type {\n",
       "        vertical-align: middle;\n",
       "    }\n",
       "\n",
       "    .dataframe tbody tr th {\n",
       "        vertical-align: top;\n",
       "    }\n",
       "\n",
       "    .dataframe thead th {\n",
       "        text-align: right;\n",
       "    }\n",
       "</style>\n",
       "<table border=\"1\" class=\"dataframe\">\n",
       "  <thead>\n",
       "    <tr style=\"text-align: right;\">\n",
       "      <th></th>\n",
       "      <th>presupuesto</th>\n",
       "      <th>popularidad</th>\n",
       "      <th>duracion</th>\n",
       "      <th>puntuacion</th>\n",
       "      <th>n_votos</th>\n",
       "      <th>valor</th>\n",
       "      <th>valor_predecido</th>\n",
       "      <th>valor_predecido2</th>\n",
       "    </tr>\n",
       "  </thead>\n",
       "  <tbody>\n",
       "    <tr>\n",
       "      <th>0</th>\n",
       "      <td>0.0</td>\n",
       "      <td>9.389486</td>\n",
       "      <td>103.0</td>\n",
       "      <td>4.9</td>\n",
       "      <td>10.0</td>\n",
       "      <td>14155617.0</td>\n",
       "      <td>5.310566e+06</td>\n",
       "      <td>5.310566e+06</td>\n",
       "    </tr>\n",
       "    <tr>\n",
       "      <th>1</th>\n",
       "      <td>6000000.0</td>\n",
       "      <td>2.002032</td>\n",
       "      <td>138.0</td>\n",
       "      <td>7.2</td>\n",
       "      <td>23.0</td>\n",
       "      <td>1300000.0</td>\n",
       "      <td>1.136488e+07</td>\n",
       "      <td>1.136488e+07</td>\n",
       "    </tr>\n",
       "    <tr>\n",
       "      <th>2</th>\n",
       "      <td>0.0</td>\n",
       "      <td>0.535028</td>\n",
       "      <td>97.0</td>\n",
       "      <td>4.3</td>\n",
       "      <td>3.0</td>\n",
       "      <td>1221832.0</td>\n",
       "      <td>1.331255e+06</td>\n",
       "      <td>1.331255e+06</td>\n",
       "    </tr>\n",
       "    <tr>\n",
       "      <th>3</th>\n",
       "      <td>0.0</td>\n",
       "      <td>3.376907</td>\n",
       "      <td>111.0</td>\n",
       "      <td>6.5</td>\n",
       "      <td>45.0</td>\n",
       "      <td>367638.0</td>\n",
       "      <td>5.754733e+06</td>\n",
       "      <td>5.754733e+06</td>\n",
       "    </tr>\n",
       "    <tr>\n",
       "      <th>4</th>\n",
       "      <td>0.0</td>\n",
       "      <td>4.572751</td>\n",
       "      <td>92.0</td>\n",
       "      <td>6.1</td>\n",
       "      <td>16.0</td>\n",
       "      <td>25781.0</td>\n",
       "      <td>3.659246e+06</td>\n",
       "      <td>3.659246e+06</td>\n",
       "    </tr>\n",
       "  </tbody>\n",
       "</table>\n",
       "</div>"
      ],
      "text/plain": [
       "   presupuesto  popularidad  duracion  puntuacion  n_votos       valor  \\\n",
       "0          0.0     9.389486     103.0         4.9     10.0  14155617.0   \n",
       "1    6000000.0     2.002032     138.0         7.2     23.0   1300000.0   \n",
       "2          0.0     0.535028      97.0         4.3      3.0   1221832.0   \n",
       "3          0.0     3.376907     111.0         6.5     45.0    367638.0   \n",
       "4          0.0     4.572751      92.0         6.1     16.0     25781.0   \n",
       "\n",
       "   valor_predecido  valor_predecido2  \n",
       "0     5.310566e+06      5.310566e+06  \n",
       "1     1.136488e+07      1.136488e+07  \n",
       "2     1.331255e+06      1.331255e+06  \n",
       "3     5.754733e+06      5.754733e+06  \n",
       "4     3.659246e+06      3.659246e+06  "
      ]
     },
     "execution_count": 102,
     "metadata": {},
     "output_type": "execute_result"
    }
   ],
   "source": [
    "df.head()"
   ]
  },
  {
   "cell_type": "code",
   "execution_count": 103,
   "metadata": {},
   "outputs": [
    {
     "data": {
      "text/plain": [
       "<matplotlib.axes._subplots.AxesSubplot at 0x7f428a19ba20>"
      ]
     },
     "execution_count": 103,
     "metadata": {},
     "output_type": "execute_result"
    },
    {
     "data": {
      "image/png": "[encoded data removed]",
      "text/plain": [
       "<Figure size 720x720 with 1 Axes>"
      ]
     },
     "metadata": {
      "needs_background": "light"
     },
     "output_type": "display_data"
    }
   ],
   "source": [
    "df.plot()"
   ]
  },
  {
   "cell_type": "code",
   "execution_count": null,
   "metadata": {},
   "outputs": [
    {
     "data": {
      "text/plain": [
       "<matplotlib.axes._subplots.AxesSubplot at 0x7f4289f8c2e8>"
      ]
     },
     "execution_count": 106,
     "metadata": {},
     "output_type": "execute_result"
    }
   ],
   "source": [
    "df.plot.barh()"
   ]
  },
  {
   "cell_type": "code",
   "execution_count": null,
   "metadata": {},
   "outputs": [],
   "source": []
  }
 ],
 "metadata": {
  "kernelspec": {
   "display_name": "Python 3",
   "language": "python",
   "name": "python3"
  },
  "language_info": {
   "codemirror_mode": {
    "name": "ipython",
    "version": 3
   },
   "file_extension": ".py",
   "mimetype": "text/x-python",
   "name": "python",
   "nbconvert_exporter": "python",
   "pygments_lexer": "ipython3",
   "version": "3.7.1"
  }
 },
 "nbformat": 4,
 "nbformat_minor": 2
}
