{
 "cells": [
  {
   "cell_type": "markdown",
   "metadata": {},
   "source": [
    "# Ejercicio - Sistema de Recomendación usando SVD\n",
    "\n",
    "En este ejercicio vamos a usar una una porción del [Online Retail dataset](https://archive.ics.uci.edu/ml/datasets/Online+Retail), que contiene información sobre transacciones que ocurrieron en Noviembre 2011 en una tienda online basada en el Reino Unido (UK). Esta tienda vende artículos diversos de decoración y regalos, y muchos de sus clientes son tiendas físicas.\n",
    "\n",
    "El objetivo del ejercicio es crear un sistema de recomendación que, dado un cliente (cuyo identificador conocemos, no un nuevo cliente), recomiende productos que dicho cliente estaría interesado en comprar."
   ]
  },
  {
   "cell_type": "markdown",
   "metadata": {},
   "source": [
    "### Cargamos los datos"
   ]
  },
  {
   "cell_type": "code",
   "execution_count": 9,
   "metadata": {},
   "outputs": [
    {
     "data": {
      "text/html": [
       "<div>\n",
       "<style scoped>\n",
       "    .dataframe tbody tr th:only-of-type {\n",
       "        vertical-align: middle;\n",
       "    }\n",
       "\n",
       "    .dataframe tbody tr th {\n",
       "        vertical-align: top;\n",
       "    }\n",
       "\n",
       "    .dataframe thead th {\n",
       "        text-align: right;\n",
       "    }\n",
       "</style>\n",
       "<table border=\"1\" class=\"dataframe\">\n",
       "  <thead>\n",
       "    <tr style=\"text-align: right;\">\n",
       "      <th></th>\n",
       "      <th>InvoiceNo</th>\n",
       "      <th>StockCode</th>\n",
       "      <th>Description</th>\n",
       "      <th>Quantity</th>\n",
       "      <th>InvoiceDate</th>\n",
       "      <th>UnitPrice</th>\n",
       "      <th>CustomerID</th>\n",
       "      <th>Country</th>\n",
       "    </tr>\n",
       "  </thead>\n",
       "  <tbody>\n",
       "    <tr>\n",
       "      <th>0</th>\n",
       "      <td>573744</td>\n",
       "      <td>21314</td>\n",
       "      <td>SMALL GLASS HEART TRINKET POT</td>\n",
       "      <td>8</td>\n",
       "      <td>2011-11-01 08:16:00</td>\n",
       "      <td>2.10</td>\n",
       "      <td>17733.0</td>\n",
       "      <td>United Kingdom</td>\n",
       "    </tr>\n",
       "    <tr>\n",
       "      <th>1</th>\n",
       "      <td>573744</td>\n",
       "      <td>21704</td>\n",
       "      <td>BAG 250g SWIRLY MARBLES</td>\n",
       "      <td>12</td>\n",
       "      <td>2011-11-01 08:16:00</td>\n",
       "      <td>0.85</td>\n",
       "      <td>17733.0</td>\n",
       "      <td>United Kingdom</td>\n",
       "    </tr>\n",
       "    <tr>\n",
       "      <th>2</th>\n",
       "      <td>573744</td>\n",
       "      <td>21791</td>\n",
       "      <td>VINTAGE HEADS AND TAILS CARD GAME</td>\n",
       "      <td>12</td>\n",
       "      <td>2011-11-01 08:16:00</td>\n",
       "      <td>1.25</td>\n",
       "      <td>17733.0</td>\n",
       "      <td>United Kingdom</td>\n",
       "    </tr>\n",
       "    <tr>\n",
       "      <th>3</th>\n",
       "      <td>573744</td>\n",
       "      <td>21892</td>\n",
       "      <td>TRADITIONAL WOODEN CATCH CUP GAME</td>\n",
       "      <td>12</td>\n",
       "      <td>2011-11-01 08:16:00</td>\n",
       "      <td>1.25</td>\n",
       "      <td>17733.0</td>\n",
       "      <td>United Kingdom</td>\n",
       "    </tr>\n",
       "    <tr>\n",
       "      <th>4</th>\n",
       "      <td>573744</td>\n",
       "      <td>21915</td>\n",
       "      <td>RED  HARMONICA IN BOX</td>\n",
       "      <td>12</td>\n",
       "      <td>2011-11-01 08:16:00</td>\n",
       "      <td>1.25</td>\n",
       "      <td>17733.0</td>\n",
       "      <td>United Kingdom</td>\n",
       "    </tr>\n",
       "  </tbody>\n",
       "</table>\n",
       "</div>"
      ],
      "text/plain": [
       "  InvoiceNo StockCode                         Description  Quantity  \\\n",
       "0    573744     21314       SMALL GLASS HEART TRINKET POT         8   \n",
       "1    573744     21704             BAG 250g SWIRLY MARBLES        12   \n",
       "2    573744     21791  VINTAGE HEADS AND TAILS CARD GAME         12   \n",
       "3    573744     21892  TRADITIONAL WOODEN CATCH CUP GAME         12   \n",
       "4    573744     21915              RED  HARMONICA IN BOX         12   \n",
       "\n",
       "           InvoiceDate  UnitPrice  CustomerID         Country  \n",
       "0  2011-11-01 08:16:00       2.10     17733.0  United Kingdom  \n",
       "1  2011-11-01 08:16:00       0.85     17733.0  United Kingdom  \n",
       "2  2011-11-01 08:16:00       1.25     17733.0  United Kingdom  \n",
       "3  2011-11-01 08:16:00       1.25     17733.0  United Kingdom  \n",
       "4  2011-11-01 08:16:00       1.25     17733.0  United Kingdom  "
      ]
     },
     "execution_count": 9,
     "metadata": {},
     "output_type": "execute_result"
    }
   ],
   "source": [
    "import pandas as pd\n",
    "import numpy as np\n",
    "ventas = pd.read_csv(\"./data/retail.csv\")\n",
    "\n",
    "ventas.head()"
   ]
  },
  {
   "cell_type": "markdown",
   "metadata": {},
   "source": [
    "### Crear matriz de Cliente/Producto (CustomerID, StockID), donde la intersección sea el numero de veces que cada cliente ha comprado cada producto.\n",
    "\n",
    "Este dataset no está ordenado de la forma necesaria para poder aplicar SVD (matriz de clientes/productos), asi que parte del ejercicio consiste en manipular el dataset hasta obtener la forma deseada. El identificador de cliente es `CustomerID` y el identificador de producto es `StockCode`\n",
    "\n",
    "**Pista** Una forma de procesar el dataset para convertirlo a una matriz es con el método [`pandas.pivot_table()`](https://pandas.pydata.org/pandas-docs/stable/generated/pandas.pivot_table.html)"
   ]
  },
  {
   "cell_type": "code",
   "execution_count": 10,
   "metadata": {
    "scrolled": true
   },
   "outputs": [],
   "source": [
    "elementos = dict(zip(ventas.StockCode,ventas.Description))"
   ]
  },
  {
   "cell_type": "code",
   "execution_count": 175,
   "metadata": {},
   "outputs": [],
   "source": [
    "cliente_producto = ventas.pivot_table(\n",
    "    values=\"Quantity\",\n",
    "    index=\"CustomerID\",\n",
    "    columns=\"StockCode\",\n",
    "    aggfunc=\"sum\"\n",
    ")"
   ]
  },
  {
   "cell_type": "code",
   "execution_count": 17,
   "metadata": {},
   "outputs": [
    {
     "data": {
      "text/plain": [
       "(1711, 2704)"
      ]
     },
     "execution_count": 17,
     "metadata": {},
     "output_type": "execute_result"
    }
   ],
   "source": [
    "cliente_producto.shape"
   ]
  },
  {
   "cell_type": "code",
   "execution_count": 18,
   "metadata": {},
   "outputs": [],
   "source": [
    "from scipy.sparse import coo_matrix"
   ]
  },
  {
   "cell_type": "code",
   "execution_count": 26,
   "metadata": {},
   "outputs": [],
   "source": [
    "cliente_id_lista = np.array(cliente_producto.index.tolist())\n",
    "producto_id_lista = np.array(cliente_producto.columns.tolist())"
   ]
  },
  {
   "cell_type": "code",
   "execution_count": 28,
   "metadata": {},
   "outputs": [],
   "source": [
    "ventas_mtz = cliente_producto.fillna(0).values.copy()\n",
    "ventas_mtz_sparce = coo_matrix(ventas_mtz)"
   ]
  },
  {
   "cell_type": "markdown",
   "metadata": {},
   "source": [
    "## Hacer la descomposicion SVD sparse de la matriz original de cliente/producto, (podemos tomar k=10)"
   ]
  },
  {
   "cell_type": "code",
   "execution_count": 30,
   "metadata": {},
   "outputs": [],
   "source": [
    "from scipy.sparse.linalg import svds"
   ]
  },
  {
   "cell_type": "code",
   "execution_count": 31,
   "metadata": {},
   "outputs": [],
   "source": [
    "U,s,V = svds(ventas_mtz_sparce,k=10)"
   ]
  },
  {
   "cell_type": "code",
   "execution_count": 34,
   "metadata": {},
   "outputs": [
    {
     "name": "stdout",
     "output_type": "stream",
     "text": [
      "U: \t(1711, 10) \n",
      "s: \t(10,) \n",
      "V: \t(10, 2704)\n"
     ]
    }
   ],
   "source": [
    "print(f\"U: \\t{U.shape} \\ns: \\t{s.shape} \\nV: \\t{V.shape}\")"
   ]
  },
  {
   "cell_type": "markdown",
   "metadata": {},
   "source": [
    "# Reconstruir la matriz original de cliente/producto con SVD"
   ]
  },
  {
   "cell_type": "code",
   "execution_count": 36,
   "metadata": {},
   "outputs": [],
   "source": [
    "#Convertir array a matriz diagonal\n",
    "s_diag = np.diag(s)"
   ]
  },
  {
   "cell_type": "code",
   "execution_count": 37,
   "metadata": {},
   "outputs": [],
   "source": [
    "ventas_svd = U @ s_diag @ V"
   ]
  },
  {
   "cell_type": "code",
   "execution_count": 50,
   "metadata": {},
   "outputs": [],
   "source": [
    "from sklearn.preprocessing import MinMaxScaler"
   ]
  },
  {
   "cell_type": "code",
   "execution_count": 53,
   "metadata": {},
   "outputs": [],
   "source": [
    "def revisar_escala(escala):\n",
    "    print(f\"Min: {escala.min()} \\nMax: {escala.max()}\")"
   ]
  },
  {
   "cell_type": "code",
   "execution_count": 67,
   "metadata": {},
   "outputs": [],
   "source": [
    "escalador = MinMaxScaler(feature_range=(1,4))"
   ]
  },
  {
   "cell_type": "code",
   "execution_count": 68,
   "metadata": {},
   "outputs": [],
   "source": [
    "ventas_svd_escalada = escalador.fit_transform(ventas_svd)"
   ]
  },
  {
   "cell_type": "code",
   "execution_count": 69,
   "metadata": {},
   "outputs": [
    {
     "name": "stdout",
     "output_type": "stream",
     "text": [
      "Min: -213.4609869194147 \n",
      "Max: 12539.999999952573\n"
     ]
    }
   ],
   "source": [
    "revisar_escala(ventas_svd)"
   ]
  },
  {
   "cell_type": "code",
   "execution_count": 70,
   "metadata": {},
   "outputs": [
    {
     "name": "stdout",
     "output_type": "stream",
     "text": [
      "Min: 0.9999999999999998 \n",
      "Max: 4.000000000000001\n"
     ]
    }
   ],
   "source": [
    "revisar_escala(ventas_svd_escalada)"
   ]
  },
  {
   "cell_type": "markdown",
   "metadata": {},
   "source": [
    "### Crear función de recomendación.\n",
    "\n",
    "Hasta aquí hemos explicado todo en clase, ahora llega la parte adicional donde se proporciona valor a dicha decomposicion.\n",
    "\n",
    "Ahora tenemos una matriz con las \"puntuaciones\" que cada cliente daria a cada producto. Lo que tenemos que hacer es crear una funcion que dado un cliente, tome la fila que le corresponde en la matriz que hemos calculado con SVD. Para dicha fila, aquellos valores más altos serán aquellos con una puntuacion estimada más alta para dicho usuario. Asi que simplemente tomamos los productos (las columnas) con valores más altos **que no estuviesen en el dataset original para el usuario!**, ya que no le debemos recomendar productos que ya ha comprado, sino productos nuevos.\n",
    "\n",
    "Dicha función debe tomar como argumento una id de cliente y un número de recomendaciones y debe devolver las recomendaciones."
   ]
  },
  {
   "cell_type": "code",
   "execution_count": 100,
   "metadata": {},
   "outputs": [],
   "source": [
    "id_cliente = 12352"
   ]
  },
  {
   "cell_type": "code",
   "execution_count": 103,
   "metadata": {},
   "outputs": [],
   "source": [
    "cliente_index = np.where(cliente_id_lista == id_cliente)[0][0]"
   ]
  },
  {
   "cell_type": "code",
   "execution_count": 154,
   "metadata": {},
   "outputs": [
    {
     "name": "stdout",
     "output_type": "stream",
     "text": [
      "SKU \tDescripcion\n",
      "_____ \t______________________________\n",
      "22492 \tMINI PAINT SET VINTAGE \n",
      "85099B \tJUMBO BAG RED RETROSPOT\n",
      "22152 \tPLACE SETTING WHITE STAR\n",
      "21810 \tCHRISTMAS HANGING STAR WITH BELL\n",
      "22356 \tCHARLOTTE BAG PINK POLKADOT\n",
      "21787 \tRAIN PONCHO RETROSPOT\n",
      "20973 \t12 PENCIL SMALL TUBE WOODLAND\n",
      "23583 \tLUNCH BAG PAISLEY PARK  \n",
      "22629 \tSPACEBOY LUNCH BOX \n",
      "22382 \tLUNCH BAG SPACEBOY DESIGN \n"
     ]
    }
   ],
   "source": [
    "print(\"SKU \\tDescripcion\")\n",
    "print(\"_____ \\t______________________________\")\n",
    "for recomendacion in index_sort[:10]:\n",
    "    print(f\"{producto_id_lista[recomendacion]} \\t{elementos[producto_id_lista[recomendacion]]}\")"
   ]
  },
  {
   "cell_type": "code",
   "execution_count": 165,
   "metadata": {},
   "outputs": [],
   "source": [
    "def recomendar(id_cliente, num_recomendaciones=5):\n",
    "    # poner aqui la logica de recomendacion para un cliente\n",
    "    cliente_id = np.where(cliente_id_lista == id_cliente)[0][0]\n",
    "    \n",
    "    #Se ordena la lista de compras predichas para el cliente\n",
    "    index_sort = ventas_svd[cliente_index,:].argsort()[::-1]\n",
    "    \n",
    "    #Se crea la mascara para descartar elementos que ya ha comprado\n",
    "    productos_no_comprados = ventas_mtz[cliente_index,:][index_sort] == 0\n",
    "    \n",
    "    rec_index = index_sort[productos_no_comprados]\n",
    "    rec_ids = producto_id_lista[rec_index]\n",
    "    recomendaciones = rec_ids[:num_recomendaciones]\n",
    "    \n",
    "    return recomendaciones"
   ]
  },
  {
   "cell_type": "code",
   "execution_count": 170,
   "metadata": {},
   "outputs": [
    {
     "data": {
      "text/plain": [
       "['BLUE STRIPE CERAMIC DRAWER KNOB',\n",
       " 'VICTORIAN GLASS HANGING T-LIGHT',\n",
       " 'IVORY KITCHEN SCALES',\n",
       " 'MINT KITCHEN SCALES',\n",
       " 'CHILDS BREAKFAST SET DOLLY GIRL ',\n",
       " 'PINK BABY BUNTING',\n",
       " 'PANTRY ROLLING PIN',\n",
       " 'PANTRY PASTRY BRUSH',\n",
       " 'ZINC HEART FLOWER T-LIGHT HOLDER',\n",
       " 'GLASS BON BON JAR',\n",
       " 'PETIT TRAY CHIC',\n",
       " 'SET 12 COLOUR PENCILS SPACEBOY ',\n",
       " 'SET 12 COLOUR PENCILS DOLLY GIRL ',\n",
       " 'WOODLAND BUNNIES LOLLY MAKERS',\n",
       " 'POSTAGE']"
      ]
     },
     "execution_count": 170,
     "metadata": {},
     "output_type": "execute_result"
    }
   ],
   "source": [
    "d = cliente_producto.loc[id_cliente]\n",
    "[elementos[x] for x in d[d.notna()].index]"
   ]
  },
  {
   "cell_type": "code",
   "execution_count": 172,
   "metadata": {},
   "outputs": [
    {
     "name": "stdout",
     "output_type": "stream",
     "text": [
      "['22492' '85099B' '22152' '21810' '22356' '21787' '20973' '23583' '22629'\n",
      " '22382']\n"
     ]
    }
   ],
   "source": [
    "recomendaciones = recomendar(12352, 10)\n",
    "print(recomendaciones)"
   ]
  },
  {
   "cell_type": "code",
   "execution_count": 174,
   "metadata": {},
   "outputs": [
    {
     "data": {
      "text/plain": [
       "['MINI PAINT SET VINTAGE ',\n",
       " 'JUMBO BAG RED RETROSPOT',\n",
       " 'PLACE SETTING WHITE STAR',\n",
       " 'CHRISTMAS HANGING STAR WITH BELL',\n",
       " 'CHARLOTTE BAG PINK POLKADOT',\n",
       " 'RAIN PONCHO RETROSPOT',\n",
       " '12 PENCIL SMALL TUBE WOODLAND',\n",
       " 'LUNCH BAG PAISLEY PARK  ',\n",
       " 'SPACEBOY LUNCH BOX ',\n",
       " 'LUNCH BAG SPACEBOY DESIGN ']"
      ]
     },
     "execution_count": 174,
     "metadata": {},
     "output_type": "execute_result"
    }
   ],
   "source": [
    "[elementos[x] for x in recomendaciones]"
   ]
  },
  {
   "cell_type": "code",
   "execution_count": null,
   "metadata": {},
   "outputs": [],
   "source": []
  }
 ],
 "metadata": {
  "kernelspec": {
   "display_name": "Python 3",
   "language": "python",
   "name": "python3"
  },
  "language_info": {
   "codemirror_mode": {
    "name": "ipython",
    "version": 3
   },
   "file_extension": ".py",
   "mimetype": "text/x-python",
   "name": "python",
   "nbconvert_exporter": "python",
   "pygments_lexer": "ipython3",
   "version": "3.7.1"
  }
 },
 "nbformat": 4,
 "nbformat_minor": 2
}
